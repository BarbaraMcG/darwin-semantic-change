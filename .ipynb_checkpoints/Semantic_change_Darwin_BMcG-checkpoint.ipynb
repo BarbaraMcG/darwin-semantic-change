{
 "cells": [
  {
   "cell_type": "markdown",
   "metadata": {
    "colab_type": "text",
    "id": "view-in-github"
   },
   "source": [
    "<a href=\"https://colab.research.google.com/github/BarbaraMcG/darwin-semantic-change/blob/main/Semantic_change_Darwin_BMcG.ipynb\" target=\"_parent\"><img src=\"https://colab.research.google.com/assets/colab-badge.svg\" alt=\"Open In Colab\"/></a>"
   ]
  },
  {
   "cell_type": "markdown",
   "metadata": {
    "id": "B3i1zJ4BQ1pc"
   },
   "source": [
    "# Semantic change in Darwin letters\n",
    "##Corpus processing of Darwin letters\n",
    "\n",
    "Barbara McGillivray"
   ]
  },
  {
   "cell_type": "markdown",
   "metadata": {
    "id": "6NyL32TSUqyA"
   },
   "source": [
    "This notebook contains the code for pre-processing the corpus of Darwin letters and train the embeddings. As some of the steps can take a long time to run, it is advisable to only run the first part of this notebook at the beginning of the project."
   ]
  },
  {
   "cell_type": "markdown",
   "metadata": {
    "id": "tnSrHmLGGK9I"
   },
   "source": [
    "##License note on data"
   ]
  },
  {
   "cell_type": "markdown",
   "metadata": {
    "id": "XaDl4KOCHra1"
   },
   "source": [
    "We will use the letters from the Darwin Correspondence Project (https://www.darwinproject.ac.uk/). The letters have the following license statement: http://creativecommons.org/licenses/by-nc-nd/3.0/ . Many of the texts of the letters are still in copyright to the descendants of the authors. You cannot publish the derivatives of processing these letters nor the letters themselves. "
   ]
  },
  {
   "cell_type": "markdown",
   "metadata": {
    "id": "5pZcI50Z-0-m"
   },
   "source": [
    "##1. Initialisation"
   ]
  },
  {
   "cell_type": "markdown",
   "metadata": {
    "id": "s04rDpqBSg-y"
   },
   "source": [
    "I install version 4.0 of gensim, which is needed to train the word2vec models."
   ]
  },
  {
   "cell_type": "code",
   "execution_count": 10,
   "metadata": {
    "colab": {
     "base_uri": "https://localhost:8080/"
    },
    "id": "6eiPamUMSivf",
    "outputId": "0b4cb318-3893-4015-9c5f-dd0b0a07a345"
   },
   "outputs": [
    {
     "name": "stdout",
     "output_type": "stream",
     "text": [
      "Requirement already satisfied: gensim==4.0 in /Users/barbaramcgillivray/opt/anaconda3/lib/python3.8/site-packages (4.0.0)\n",
      "Requirement already satisfied: numpy>=1.11.3 in /Users/barbaramcgillivray/opt/anaconda3/lib/python3.8/site-packages (from gensim==4.0) (1.20.1)\n",
      "Requirement already satisfied: scipy>=0.18.1 in /Users/barbaramcgillivray/opt/anaconda3/lib/python3.8/site-packages (from gensim==4.0) (1.6.2)\n",
      "Requirement already satisfied: smart-open>=1.8.1 in /Users/barbaramcgillivray/opt/anaconda3/lib/python3.8/site-packages (from gensim==4.0) (5.2.1)\n",
      "\n",
      "\u001b[1m[\u001b[0m\u001b[34;49mnotice\u001b[0m\u001b[1;39;49m]\u001b[0m\u001b[39;49m A new release of pip available: \u001b[0m\u001b[31;49m22.1.2\u001b[0m\u001b[39;49m -> \u001b[0m\u001b[32;49m24.0\u001b[0m\n",
      "\u001b[1m[\u001b[0m\u001b[34;49mnotice\u001b[0m\u001b[1;39;49m]\u001b[0m\u001b[39;49m To update, run: \u001b[0m\u001b[32;49mpip install --upgrade pip\u001b[0m\n"
     ]
    }
   ],
   "source": [
    "!pip install gensim==4.0"
   ]
  },
  {
   "cell_type": "markdown",
   "metadata": {
    "id": "l2lH4MHg6jTg"
   },
   "source": [
    "I install the language detection module:"
   ]
  },
  {
   "cell_type": "code",
   "execution_count": 2,
   "metadata": {
    "colab": {
     "base_uri": "https://localhost:8080/"
    },
    "id": "33tnvmDn6lQ0",
    "outputId": "a60faf47-3dd2-43ce-a8e7-a72ebf8468a9"
   },
   "outputs": [
    {
     "name": "stdout",
     "output_type": "stream",
     "text": [
      "Collecting langdetect\n",
      "  Downloading langdetect-1.0.9.tar.gz (981 kB)\n",
      "\u001b[2K     \u001b[90m━━━━━━━━━━━━━━━━━━━━━━━━━━━━━━━━━━━━━━━\u001b[0m \u001b[32m981.5/981.5 kB\u001b[0m \u001b[31m3.7 MB/s\u001b[0m eta \u001b[36m0:00:00\u001b[0ma \u001b[36m0:00:01\u001b[0m\n",
      "\u001b[?25h  Preparing metadata (setup.py) ... \u001b[?25ldone\n",
      "\u001b[?25hRequirement already satisfied: six in /Users/barbaramcgillivray/opt/anaconda3/lib/python3.8/site-packages (from langdetect) (1.15.0)\n",
      "Building wheels for collected packages: langdetect\n",
      "  Building wheel for langdetect (setup.py) ... \u001b[?25ldone\n",
      "\u001b[?25h  Created wheel for langdetect: filename=langdetect-1.0.9-py3-none-any.whl size=993221 sha256=103e0500cb604800345ae8eb95209a3e4a72ed07af8a259fb8519d7aa14b3475\n",
      "  Stored in directory: /Users/barbaramcgillivray/Library/Caches/pip/wheels/13/c7/b0/79f66658626032e78fc1a83103690ef6797d551cb22e56e734\n",
      "Successfully built langdetect\n",
      "Installing collected packages: langdetect\n",
      "Successfully installed langdetect-1.0.9\n",
      "\n",
      "\u001b[1m[\u001b[0m\u001b[34;49mnotice\u001b[0m\u001b[1;39;49m]\u001b[0m\u001b[39;49m A new release of pip available: \u001b[0m\u001b[31;49m22.1.2\u001b[0m\u001b[39;49m -> \u001b[0m\u001b[32;49m24.0\u001b[0m\n",
      "\u001b[1m[\u001b[0m\u001b[34;49mnotice\u001b[0m\u001b[1;39;49m]\u001b[0m\u001b[39;49m To update, run: \u001b[0m\u001b[32;49mpip install --upgrade pip\u001b[0m\n"
     ]
    }
   ],
   "source": [
    "!pip install langdetect"
   ]
  },
  {
   "cell_type": "markdown",
   "metadata": {
    "id": "zTR6NVG2QOOC"
   },
   "source": [
    "Download Spacy's English language model:"
   ]
  },
  {
   "cell_type": "code",
   "execution_count": 3,
   "metadata": {
    "colab": {
     "base_uri": "https://localhost:8080/"
    },
    "id": "YSVSuhfWQN2y",
    "outputId": "308acdda-c14a-4bea-94f1-5f65cc14c9fa"
   },
   "outputs": [
    {
     "name": "stdout",
     "output_type": "stream",
     "text": [
      "\u001b[38;5;3m⚠ As of spaCy v3.0, shortcuts like 'en' are deprecated. Please use the\n",
      "full pipeline package name 'en_core_web_sm' instead.\u001b[0m\n",
      "Collecting en-core-web-sm==3.3.0\n",
      "  Downloading https://github.com/explosion/spacy-models/releases/download/en_core_web_sm-3.3.0/en_core_web_sm-3.3.0-py3-none-any.whl (12.8 MB)\n",
      "\u001b[2K     \u001b[90m━━━━━━━━━━━━━━━━━━━━━━━━━━━━━━━━━━━━━━━━\u001b[0m \u001b[32m12.8/12.8 MB\u001b[0m \u001b[31m33.2 MB/s\u001b[0m eta \u001b[36m0:00:00\u001b[0m00:01\u001b[0m00:01\u001b[0m\n",
      "\u001b[?25hRequirement already satisfied: spacy<3.4.0,>=3.3.0.dev0 in /Users/barbaramcgillivray/opt/anaconda3/lib/python3.8/site-packages (from en-core-web-sm==3.3.0) (3.3.0)\n",
      "Requirement already satisfied: jinja2 in /Users/barbaramcgillivray/opt/anaconda3/lib/python3.8/site-packages (from spacy<3.4.0,>=3.3.0.dev0->en-core-web-sm==3.3.0) (2.11.3)\n",
      "Requirement already satisfied: cymem<2.1.0,>=2.0.2 in /Users/barbaramcgillivray/opt/anaconda3/lib/python3.8/site-packages (from spacy<3.4.0,>=3.3.0.dev0->en-core-web-sm==3.3.0) (2.0.6)\n",
      "Requirement already satisfied: preshed<3.1.0,>=3.0.2 in /Users/barbaramcgillivray/opt/anaconda3/lib/python3.8/site-packages (from spacy<3.4.0,>=3.3.0.dev0->en-core-web-sm==3.3.0) (3.0.6)\n",
      "Requirement already satisfied: pydantic!=1.8,!=1.8.1,<1.9.0,>=1.7.4 in /Users/barbaramcgillivray/opt/anaconda3/lib/python3.8/site-packages (from spacy<3.4.0,>=3.3.0.dev0->en-core-web-sm==3.3.0) (1.8.2)\n",
      "Requirement already satisfied: blis<0.8.0,>=0.4.0 in /Users/barbaramcgillivray/opt/anaconda3/lib/python3.8/site-packages (from spacy<3.4.0,>=3.3.0.dev0->en-core-web-sm==3.3.0) (0.7.7)\n",
      "Requirement already satisfied: catalogue<2.1.0,>=2.0.6 in /Users/barbaramcgillivray/opt/anaconda3/lib/python3.8/site-packages (from spacy<3.4.0,>=3.3.0.dev0->en-core-web-sm==3.3.0) (2.0.7)\n",
      "Requirement already satisfied: wasabi<1.1.0,>=0.9.1 in /Users/barbaramcgillivray/opt/anaconda3/lib/python3.8/site-packages (from spacy<3.4.0,>=3.3.0.dev0->en-core-web-sm==3.3.0) (0.9.1)\n",
      "Requirement already satisfied: numpy>=1.15.0 in /Users/barbaramcgillivray/opt/anaconda3/lib/python3.8/site-packages (from spacy<3.4.0,>=3.3.0.dev0->en-core-web-sm==3.3.0) (1.20.1)\n",
      "Requirement already satisfied: spacy-legacy<3.1.0,>=3.0.9 in /Users/barbaramcgillivray/opt/anaconda3/lib/python3.8/site-packages (from spacy<3.4.0,>=3.3.0.dev0->en-core-web-sm==3.3.0) (3.0.9)\n",
      "Requirement already satisfied: pathy>=0.3.5 in /Users/barbaramcgillivray/opt/anaconda3/lib/python3.8/site-packages (from spacy<3.4.0,>=3.3.0.dev0->en-core-web-sm==3.3.0) (0.6.1)\n",
      "Requirement already satisfied: typer<0.5.0,>=0.3.0 in /Users/barbaramcgillivray/opt/anaconda3/lib/python3.8/site-packages (from spacy<3.4.0,>=3.3.0.dev0->en-core-web-sm==3.3.0) (0.4.0)\n",
      "Requirement already satisfied: tqdm<5.0.0,>=4.38.0 in /Users/barbaramcgillivray/opt/anaconda3/lib/python3.8/site-packages (from spacy<3.4.0,>=3.3.0.dev0->en-core-web-sm==3.3.0) (4.59.0)\n",
      "Requirement already satisfied: spacy-loggers<2.0.0,>=1.0.0 in /Users/barbaramcgillivray/opt/anaconda3/lib/python3.8/site-packages (from spacy<3.4.0,>=3.3.0.dev0->en-core-web-sm==3.3.0) (1.0.2)\n",
      "Requirement already satisfied: thinc<8.1.0,>=8.0.14 in /Users/barbaramcgillivray/opt/anaconda3/lib/python3.8/site-packages (from spacy<3.4.0,>=3.3.0.dev0->en-core-web-sm==3.3.0) (8.0.15)\n",
      "Requirement already satisfied: requests<3.0.0,>=2.13.0 in /Users/barbaramcgillivray/opt/anaconda3/lib/python3.8/site-packages (from spacy<3.4.0,>=3.3.0.dev0->en-core-web-sm==3.3.0) (2.25.1)\n",
      "Requirement already satisfied: setuptools in /Users/barbaramcgillivray/opt/anaconda3/lib/python3.8/site-packages (from spacy<3.4.0,>=3.3.0.dev0->en-core-web-sm==3.3.0) (52.0.0.post20210125)\n",
      "Requirement already satisfied: srsly<3.0.0,>=2.4.3 in /Users/barbaramcgillivray/opt/anaconda3/lib/python3.8/site-packages (from spacy<3.4.0,>=3.3.0.dev0->en-core-web-sm==3.3.0) (2.4.3)\n",
      "Requirement already satisfied: packaging>=20.0 in /Users/barbaramcgillivray/opt/anaconda3/lib/python3.8/site-packages (from spacy<3.4.0,>=3.3.0.dev0->en-core-web-sm==3.3.0) (20.9)\n",
      "Requirement already satisfied: murmurhash<1.1.0,>=0.28.0 in /Users/barbaramcgillivray/opt/anaconda3/lib/python3.8/site-packages (from spacy<3.4.0,>=3.3.0.dev0->en-core-web-sm==3.3.0) (1.0.7)\n",
      "Requirement already satisfied: langcodes<4.0.0,>=3.2.0 in /Users/barbaramcgillivray/opt/anaconda3/lib/python3.8/site-packages (from spacy<3.4.0,>=3.3.0.dev0->en-core-web-sm==3.3.0) (3.3.0)\n",
      "Requirement already satisfied: pyparsing>=2.0.2 in /Users/barbaramcgillivray/opt/anaconda3/lib/python3.8/site-packages (from packaging>=20.0->spacy<3.4.0,>=3.3.0.dev0->en-core-web-sm==3.3.0) (2.4.7)\n",
      "Requirement already satisfied: smart-open<6.0.0,>=5.0.0 in /Users/barbaramcgillivray/opt/anaconda3/lib/python3.8/site-packages (from pathy>=0.3.5->spacy<3.4.0,>=3.3.0.dev0->en-core-web-sm==3.3.0) (5.2.1)\n",
      "Requirement already satisfied: typing-extensions>=3.7.4.3 in /Users/barbaramcgillivray/opt/anaconda3/lib/python3.8/site-packages (from pydantic!=1.8,!=1.8.1,<1.9.0,>=1.7.4->spacy<3.4.0,>=3.3.0.dev0->en-core-web-sm==3.3.0) (3.7.4.3)\n",
      "Requirement already satisfied: chardet<5,>=3.0.2 in /Users/barbaramcgillivray/opt/anaconda3/lib/python3.8/site-packages (from requests<3.0.0,>=2.13.0->spacy<3.4.0,>=3.3.0.dev0->en-core-web-sm==3.3.0) (4.0.0)\n",
      "Requirement already satisfied: certifi>=2017.4.17 in /Users/barbaramcgillivray/opt/anaconda3/lib/python3.8/site-packages (from requests<3.0.0,>=2.13.0->spacy<3.4.0,>=3.3.0.dev0->en-core-web-sm==3.3.0) (2020.12.5)\n",
      "Requirement already satisfied: urllib3<1.27,>=1.21.1 in /Users/barbaramcgillivray/opt/anaconda3/lib/python3.8/site-packages (from requests<3.0.0,>=2.13.0->spacy<3.4.0,>=3.3.0.dev0->en-core-web-sm==3.3.0) (1.26.4)\n",
      "Requirement already satisfied: idna<3,>=2.5 in /Users/barbaramcgillivray/opt/anaconda3/lib/python3.8/site-packages (from requests<3.0.0,>=2.13.0->spacy<3.4.0,>=3.3.0.dev0->en-core-web-sm==3.3.0) (2.10)\n",
      "Requirement already satisfied: click<9.0.0,>=7.1.1 in /Users/barbaramcgillivray/opt/anaconda3/lib/python3.8/site-packages (from typer<0.5.0,>=0.3.0->spacy<3.4.0,>=3.3.0.dev0->en-core-web-sm==3.3.0) (7.1.2)\n",
      "Requirement already satisfied: MarkupSafe>=0.23 in /Users/barbaramcgillivray/opt/anaconda3/lib/python3.8/site-packages (from jinja2->spacy<3.4.0,>=3.3.0.dev0->en-core-web-sm==3.3.0) (1.1.1)\n",
      "Installing collected packages: en-core-web-sm\n",
      "Successfully installed en-core-web-sm-3.3.0\n",
      "\n",
      "\u001b[1m[\u001b[0m\u001b[34;49mnotice\u001b[0m\u001b[1;39;49m]\u001b[0m\u001b[39;49m A new release of pip available: \u001b[0m\u001b[31;49m22.1.2\u001b[0m\u001b[39;49m -> \u001b[0m\u001b[32;49m24.0\u001b[0m\n",
      "\u001b[1m[\u001b[0m\u001b[34;49mnotice\u001b[0m\u001b[1;39;49m]\u001b[0m\u001b[39;49m To update, run: \u001b[0m\u001b[32;49mpip install --upgrade pip\u001b[0m\n",
      "\u001b[38;5;2m✔ Download and installation successful\u001b[0m\n",
      "You can now load the package via spacy.load('en_core_web_sm')\n"
     ]
    }
   ],
   "source": [
    "!python -m spacy download en"
   ]
  },
  {
   "cell_type": "markdown",
   "metadata": {
    "id": "2EnttAvC_7Dg"
   },
   "source": [
    "Import libraries"
   ]
  },
  {
   "cell_type": "code",
   "execution_count": 13,
   "metadata": {
    "colab": {
     "base_uri": "https://localhost:8080/"
    },
    "id": "oCym1_NBADP6",
    "outputId": "f9fa567a-1127-402a-cc62-02469720b97d"
   },
   "outputs": [
    {
     "name": "stderr",
     "output_type": "stream",
     "text": [
      "[nltk_data] Downloading package punkt to\n",
      "[nltk_data]     /Users/barbaramcgillivray/nltk_data...\n",
      "[nltk_data]   Unzipping tokenizers/punkt.zip.\n",
      "[nltk_data] Downloading package stopwords to\n",
      "[nltk_data]     /Users/barbaramcgillivray/nltk_data...\n",
      "[nltk_data]   Unzipping corpora/stopwords.zip.\n",
      "/Users/barbaramcgillivray/opt/anaconda3/lib/python3.8/site-packages/gensim/similarities/__init__.py:15: UserWarning: The gensim.similarities.levenshtein submodule is disabled, because the optional Levenshtein package <https://pypi.org/project/python-Levenshtein/> is unavailable. Install Levenhstein (e.g. `pip install python-Levenshtein`) to suppress this warning.\n",
      "  warnings.warn(msg)\n"
     ]
    }
   ],
   "source": [
    "import os \n",
    "from bs4 import BeautifulSoup\n",
    "from google.colab import drive\n",
    "import csv\n",
    "import numpy as np\n",
    "import pandas as pd\n",
    "from nltk.tokenize import sent_tokenize, word_tokenize, RegexpTokenizer\n",
    "from nltk.corpus import stopwords\n",
    "import nltk\n",
    "nltk.download('punkt')\n",
    "nltk.download('stopwords')\n",
    "import gensim\n",
    "from scipy import spatial\n",
    "from sklearn.manifold import TSNE\n",
    "import matplotlib.pyplot as plt\n",
    "import time\n",
    "from sklearn.decomposition import PCA\n",
    "import spacy\n",
    "import re\n",
    "from statistics import mean\n",
    "from langdetect import detect\n",
    "# to make our plot outputs appear and be stored within the notebook:\n",
    "%matplotlib inline "
   ]
  },
  {
   "cell_type": "markdown",
   "metadata": {
    "id": "WpegLEpgAHxq"
   },
   "source": [
    "I mount the Google drive folder. You should change the path to your Google Drive path:"
   ]
  },
  {
   "cell_type": "code",
   "execution_count": null,
   "metadata": {
    "colab": {
     "base_uri": "https://localhost:8080/"
    },
    "id": "0-qFfo8r_27B",
    "outputId": "d21542d3-0b9e-4c3f-c364-1f73acf0d00f"
   },
   "outputs": [],
   "source": [
    "drive.mount('/content/drive', force_remount = True)\n",
    "%ls '/content/drive/MyDrive/2021/Darwin paper/Files/'"
   ]
  },
  {
   "cell_type": "markdown",
   "metadata": {
    "id": "hAk1QvSdQyOP"
   },
   "source": [
    "## 2. Reading the files"
   ]
  },
  {
   "cell_type": "markdown",
   "metadata": {
    "id": "tZJFDvOBSKze"
   },
   "source": [
    "I unzip the file containing all the letters. \n",
    "**This only needs to be done once** and you can skip this cell.\n"
   ]
  },
  {
   "cell_type": "code",
   "execution_count": null,
   "metadata": {
    "colab": {
     "base_uri": "https://localhost:8080/"
    },
    "id": "trHDXtlZRSvd",
    "outputId": "71b8b940-a580-40db-9415-d2414341e724"
   },
   "outputs": [
    {
     "name": "stdout",
     "output_type": "stream",
     "text": [
      "Archive:  /content/drive/MyDrive/2021/Darwin paper/Files/letters.zip\n",
      "checkdir:  cannot create extraction directory: /gdrive/My Drive/2021/Darwin paper/Files/Letters\n",
      "           No such file or directory\n"
     ]
    }
   ],
   "source": [
    "!unzip '/content/drive/MyDrive/2021/Darwin paper/Files/letters.zip' -d '/gdrive/My Drive/2021/Darwin paper/Files/Letters'"
   ]
  },
  {
   "cell_type": "markdown",
   "metadata": {
    "id": "4w7hFq6SSUAf"
   },
   "source": [
    "I define the name of the folder containing the unzipped files:"
   ]
  },
  {
   "cell_type": "code",
   "execution_count": null,
   "metadata": {
    "id": "sof23JqOSV3C"
   },
   "outputs": [],
   "source": [
    "folder = '/content/drive/MyDrive/2021/Darwin paper/Files/letters/' "
   ]
  },
  {
   "cell_type": "markdown",
   "metadata": {
    "id": "4O5Io99ySN4W"
   },
   "source": [
    "I define the list of all files:"
   ]
  },
  {
   "cell_type": "code",
   "execution_count": 6,
   "metadata": {
    "id": "-g1Ld6VxRWik"
   },
   "outputs": [],
   "source": [
    "files = os.listdir(folder)"
   ]
  },
  {
   "cell_type": "markdown",
   "metadata": {
    "id": "_F4SYzZKBiF8"
   },
   "source": [
    "We only want xml files:"
   ]
  },
  {
   "cell_type": "code",
   "execution_count": null,
   "metadata": {
    "colab": {
     "base_uri": "https://localhost:8080/"
    },
    "id": "yc0MF7UGBkEi",
    "outputId": "5a311754-8ef6-472e-a24b-72b75b77f705"
   },
   "outputs": [],
   "source": [
    "files = [f for f in files[:] if f.endswith(\".xml\")]"
   ]
  },
  {
   "cell_type": "markdown",
   "metadata": {
    "id": "wr6nNsB7TFAn"
   },
   "source": [
    "### Extracting the text of the letters"
   ]
  },
  {
   "cell_type": "markdown",
   "metadata": {
    "id": "sWLauQeWd9AR"
   },
   "source": [
    "I create the output folder:"
   ]
  },
  {
   "cell_type": "code",
   "execution_count": null,
   "metadata": {
    "id": "fIBjCferd6Fw"
   },
   "outputs": [],
   "source": [
    "out_folder = '/content/drive/My Drive/2021/Darwin paper/Files/Letters_text/' "
   ]
  },
  {
   "cell_type": "markdown",
   "metadata": {
    "id": "Hrj8BvcpBlQF"
   },
   "source": [
    "We extract the trascribed text from each letter and save it in an output file.  **You can skip this cell** and go straight to section 4."
   ]
  },
  {
   "cell_type": "code",
   "execution_count": null,
   "metadata": {
    "id": "2Z1g7u0Z_3ZK"
   },
   "outputs": [],
   "source": [
    "outfile = open(os.path.join(out_folder, 'transcription.csv'), 'w+')\n",
    "output_writer = csv.writer(outfile, delimiter = \"\\t\")\n",
    "\n",
    "# Write header row:\n",
    "output_writer.writerow([\"File\", \"Year\", \"Sender\", \"Receiver\", \"Transcription\"]) \n",
    "\n",
    "# I initialise the variable \"count\" to count the files that I'm reading one by one\n",
    "count = 0\n",
    "\n",
    "# I loop over each file in the \"files\" list\n",
    "for fname in files:\n",
    "  \n",
    "  # The variable \"count\" is incremented\n",
    "  count += 1\n",
    "  print(\"Reading file number\", str(count), fname)\n",
    "\n",
    "  # the following two lines can be commented out if we want all files\n",
    "  #if count > 200:\n",
    "  #  break\n",
    "    \n",
    "  # I open each file\n",
    "  with open(os.path.join(folder, fname), \"r\") as infile:\n",
    "\n",
    "    # I read the content of the file in the variable \"content\"\n",
    "    content = infile.read()\n",
    "\n",
    "    # Initialize the fields required (sender, receiver, date_sent, keywords, abstract, letter_text):\n",
    "    sender = \"\"\n",
    "    receiver = \"\"\n",
    "    date_sent = \"\" # the date in which the letter was sent\n",
    "    year = \"\"\n",
    "    letter_text = \"\" # transcription of the letter  \n",
    "\n",
    "    # I parse the XML of the file with BeautifulSoup\n",
    "    soup = BeautifulSoup(content,'xml')\n",
    "\n",
    "    # extract sender, receiver and date_sent:\n",
    "\n",
    "    corr_action = soup.find_all(\"correspAction\")\n",
    "    if corr_action:\n",
    "      # loop over all notes under \"correspAction\":\n",
    "      for s in corr_action:\n",
    "          \n",
    "        #extract receiver's name:\n",
    "        if s.get('type') == \"received\":\n",
    "          try:\n",
    "            receiver = s.persName.get_text()\n",
    "            #print(\"receiver:\", receiver)\n",
    "          except:\n",
    "            print(\"No receiver\")\n",
    "\n",
    "        # extract senders' name:\n",
    "        if s.get('type') == \"sent\":\n",
    "          try:\n",
    "            sender = s.persName.get_text()  \n",
    "            #print(\"sender:\", sender)\n",
    "          except:\n",
    "            print(\"No sender\")\n",
    "            \n",
    "          # extract date sent:                  \n",
    "          try:\n",
    "            date_sent = s.date[\"when\"]\n",
    "            # the year is the first four characters of the date:\n",
    "            year = date_sent[:4]\n",
    "          except:\n",
    "            print(\"No exact date\")\n",
    "            try:\n",
    "              date_sent_not_before = s.date[\"notBefore\"]\n",
    "              # the year is the first four characters of the date:\n",
    "              year_not_before = date_sent_not_before[:4]\n",
    "            except:\n",
    "              print(\"\\tNo notBefore date\")\n",
    "            try:\n",
    "              date_sent_not_after = s.date[\"notAfter\"]\n",
    "              year_not_after = date_sent_not_after[:4]\n",
    "            except:\n",
    "              print(\"\\tNo notAfter date\")\n",
    "            if date_sent_not_before and date_sent_not_after:\n",
    "              year = round(float((int(year_not_before)+int(year_not_after))/2))\n",
    "            elif date_sent_not_before:\n",
    "              year = year_not_before\n",
    "            elif date_sent_not_after:\n",
    "              year = year_not_after\n",
    "\n",
    "      # extract the transcription of the letters:\n",
    "      text = soup.find_all(\"div\")\n",
    "      # I loop over all children of nodes in \"div\":\n",
    "      for s in text:\n",
    "        # I save the text of the transcription in the variable \"letter_text\"\n",
    "        if s.get('type') == \"transcription\":\n",
    "          letter_text = s.get_text()  \n",
    "          # Remove newlines and tabs:\n",
    "          letter_text = letter_text.replace(\"\\n\", \" \").replace(\"\\r\", \" \").replace(\"\\t\", \" \").replace(\"  \", \" \")\n",
    "          # Remove leading and trailing spaces:\n",
    "          letter_text = letter_text.strip()\n",
    "          # test print statement:\n",
    "          #print(\"letter_text:\", letter_text)\n",
    "          \n",
    "      if letter_text == \"\":\n",
    "        # If the transcription is empty, I save the variable \"letter_text\" with the value \"TRANSCRIPTION MISSING\"\n",
    "        letter_text = \"TRANSCRIPTION MISSING\"\n",
    "        # test print statement:\n",
    "        #print(\"Tag_text:\", letter_text)\n",
    "\n",
    "      # I only select those letters for which we have a year and that were sent by or received by Charles Darwin:\n",
    "      if year is not \"\" and (sender == \"Darwin, C. R.\" or receiver == \"Darwin, C. R.\") and letter_text is not \"TRANSCRIPTION MISSING\":\n",
    "        # write to output file\n",
    "        output_writer.writerow([fname, year, sender, receiver, letter_text])\n",
    "      else:\n",
    "        print(\"missing corr_action\")                 \n",
    "      \n",
    "outfile.close()"
   ]
  },
  {
   "cell_type": "markdown",
   "metadata": {
    "id": "Sx4Y8R_DaHTV"
   },
   "source": [
    "I define a dataframe from the csv file:"
   ]
  },
  {
   "cell_type": "code",
   "execution_count": null,
   "metadata": {
    "id": "1CTee5CAXIZZ"
   },
   "outputs": [],
   "source": [
    "df = pd.read_csv(os.path.join(out_folder, 'transcription.csv'), sep = \"\\t\")"
   ]
  },
  {
   "cell_type": "code",
   "execution_count": null,
   "metadata": {
    "colab": {
     "base_uri": "https://localhost:8080/"
    },
    "id": "nhZpiNQS4-e-",
    "outputId": "076277dd-fd2a-4d8a-fbd2-cfc27ee88c9d"
   },
   "outputs": [
    {
     "data": {
      "text/plain": [
       "(14915, 5)"
      ]
     },
     "execution_count": 18,
     "metadata": {},
     "output_type": "execute_result"
    }
   ],
   "source": [
    "df.shape"
   ]
  },
  {
   "cell_type": "markdown",
   "metadata": {
    "id": "oXZIYRhGYgHk"
   },
   "source": [
    "Number of letters per year"
   ]
  },
  {
   "cell_type": "code",
   "execution_count": null,
   "metadata": {
    "colab": {
     "base_uri": "https://localhost:8080/"
    },
    "id": "rNyNLraB-imV",
    "outputId": "6fdd9486-2f12-4880-d566-393957afa2ab"
   },
   "outputs": [
    {
     "data": {
      "text/plain": [
       "Year\n",
       "1821    1  \n",
       "1822    9  \n",
       "1823    3  \n",
       "1824    2  \n",
       "1825    11 \n",
       "        .. \n",
       "1878    561\n",
       "1879    616\n",
       "1880    634\n",
       "1881    711\n",
       "1882    220\n",
       "Name: File, Length: 62, dtype: int64"
      ]
     },
     "execution_count": 19,
     "metadata": {},
     "output_type": "execute_result"
    }
   ],
   "source": [
    "df0 = df.groupby(['Year']).count()\n",
    "df0 = df0['File']\n",
    "df0"
   ]
  },
  {
   "cell_type": "markdown",
   "metadata": {
    "id": "bxHIJB0fYqJ_"
   },
   "source": [
    "Visualize number of letters per year with a bar plot:"
   ]
  },
  {
   "cell_type": "code",
   "execution_count": null,
   "metadata": {
    "colab": {
     "base_uri": "https://localhost:8080/",
     "height": 428
    },
    "id": "BGdacw4X-9nw",
    "outputId": "faa160f2-1800-41e6-8113-ea200ca0fc29"
   },
   "outputs": [
    {
     "data": {
      "image/png": "[encoded data removed]",
      "text/plain": [
       "<Figure size 720x432 with 1 Axes>"
      ]
     },
     "metadata": {},
     "output_type": "display_data"
    }
   ],
   "source": [
    "ax = df0.plot(kind='bar', figsize=(10,6), color=\"indigo\", fontsize=11);\n",
    "#ax.set_alpha(0.5)\n",
    "ax.set_title(\"How many letters per year\", fontsize=22)\n",
    "plt.show()"
   ]
  },
  {
   "cell_type": "markdown",
   "metadata": {
    "id": "q_rsT1G4QnSS"
   },
   "source": [
    "## 3. Linguistic pre-processing"
   ]
  },
  {
   "cell_type": "markdown",
   "metadata": {
    "id": "XK7Zrs_oNYs4"
   },
   "source": [
    "From here you can **skip** to the code line \"df = pd.read_csv(os.path.join(out_folder, 'transcription_tokens.csv'), sep = \"\\t\")\""
   ]
  },
  {
   "cell_type": "markdown",
   "metadata": {
    "id": "jUPc5VnWPgbz"
   },
   "source": [
    "Add a space before and after every m-dash:"
   ]
  },
  {
   "cell_type": "code",
   "execution_count": null,
   "metadata": {
    "colab": {
     "base_uri": "https://localhost:8080/",
     "height": 35
    },
    "id": "9UK_MbpdyNLg",
    "outputId": "c0e67aab-5ffc-41d9-817b-38b72a9498ff"
   },
   "outputs": [
    {
     "data": {
      "application/vnd.google.colaboratory.intrinsic+json": {
       "type": "string"
      },
      "text/plain": [
       "' –  –  – Museum three — one from'"
      ]
     },
     "execution_count": 21,
     "metadata": {},
     "output_type": "execute_result"
    }
   ],
   "source": [
    "s = \"– – –Museum three — one from\"\n",
    "pat = re.compile(r\"(\\u2014)\")\n",
    "s = pat.sub(\" \\\\1 \", s)\n",
    "pat1 = re.compile(r\"(\\u2013)\")\n",
    "s = pat1.sub(\" \\\\1 \", s)\n",
    "s = s.replace(\"  \", \" \")\n",
    "s"
   ]
  },
  {
   "cell_type": "code",
   "execution_count": null,
   "metadata": {
    "colab": {
     "base_uri": "https://localhost:8080/",
     "height": 35
    },
    "id": "OGc30EO-zR_9",
    "outputId": "d6d6070c-4eec-4804-d8e9-b47df9f29854"
   },
   "outputs": [
    {
     "data": {
      "application/vnd.google.colaboratory.intrinsic+json": {
       "type": "string"
      },
      "text/plain": [
       "' –  –  – Museum three — one from'"
      ]
     },
     "execution_count": 22,
     "metadata": {},
     "output_type": "execute_result"
    }
   ],
   "source": [
    "s = \"– – –Museum three — one from\"\n",
    "pat = re.compile(r\"(\\u2014)\")\n",
    "pat1 = re.compile(r\"(\\u2013)\")\n",
    "s = pat.sub(\" \\\\1 \", pat1.sub(\" \\\\1 \", s)).replace(\"  \", \" \")\n",
    "s"
   ]
  },
  {
   "cell_type": "code",
   "execution_count": null,
   "metadata": {
    "colab": {
     "base_uri": "https://localhost:8080/",
     "height": 1000
    },
    "id": "CBgGBFs-Pg-m",
    "outputId": "d5e863e1-cdab-4a3c-9358-c4c70e8f8a1e"
   },
   "outputs": [
    {
     "data": {
      "text/html": [
       "<div>\n",
       "<style scoped>\n",
       "    .dataframe tbody tr th:only-of-type {\n",
       "        vertical-align: middle;\n",
       "    }\n",
       "\n",
       "    .dataframe tbody tr th {\n",
       "        vertical-align: top;\n",
       "    }\n",
       "\n",
       "    .dataframe thead th {\n",
       "        text-align: right;\n",
       "    }\n",
       "</style>\n",
       "<table border=\"1\" class=\"dataframe\">\n",
       "  <thead>\n",
       "    <tr style=\"text-align: right;\">\n",
       "      <th></th>\n",
       "      <th>File</th>\n",
       "      <th>Year</th>\n",
       "      <th>Sender</th>\n",
       "      <th>Receiver</th>\n",
       "      <th>Transcription</th>\n",
       "    </tr>\n",
       "  </thead>\n",
       "  <tbody>\n",
       "    <tr>\n",
       "      <th>0</th>\n",
       "      <td>DCP-LETT-13876.xml</td>\n",
       "      <td>1871</td>\n",
       "      <td>Darwin, C. R.</td>\n",
       "      <td>Unidentified</td>\n",
       "      <td>Charles Darwin My health keeps much as it was; I never escape for a whole day without much discomfort, of course as I grow older I become much weaker. —</td>\n",
       "    </tr>\n",
       "    <tr>\n",
       "      <th>1</th>\n",
       "      <td>DCP-LETT-10515F.xml</td>\n",
       "      <td>1876</td>\n",
       "      <td>Darwin, C. R.</td>\n",
       "      <td>Zincke, F. B.</td>\n",
       "      <td>I am very much obliged for your interesting letter. The case of the white chickens surprises me much, but nothing can be more perplexing than the ‘laws causes of variability inheritance. I am glad that any of my books should have at all interested you, as some return for the pleasure which I have derived from yours. I am writing this away from home, which I have left for some rest, so I beg you to excuse brevity. — Dear Sir | Yours faithfully | Ch. Darwin</td>\n",
       "    </tr>\n",
       "    <tr>\n",
       "      <th>2</th>\n",
       "      <td>DCP-LETT-5961.xml</td>\n",
       "      <td>1868</td>\n",
       "      <td>Darwin, C. R.</td>\n",
       "      <td>Bush, John</td>\n",
       "      <td>Mr Buckland has told me that you would excuse the liberty which I take in writing to you. — I am anxious for any information in regard to the proportional numbers of males females born to any animals; but this can hardly be told except with domestic or semi-domestic animals. — Mr. B. says that you have bred many rats, if you have kept any Memoranda, or have a decided impression on the relative numbers of the two sexes, I shd be grateful for information. — Perhaps you can also tell me whether male rats fight for the possession of the female, whether an old powerful rat is polygamous will keep several wifes. — Hoping that you will excuse my troubling you, I remain | Dear Sir | Yours very faithfully | Ch. Darwin My address for next 3 or 4 weeks will be 6. Queen Anne St Cavendish Sqe London W.</td>\n",
       "    </tr>\n",
       "    <tr>\n",
       "      <th>3</th>\n",
       "      <td>DCP-LETT-2753F.xml</td>\n",
       "      <td>1860</td>\n",
       "      <td>Darwin, C. R.</td>\n",
       "      <td>Bookseller</td>\n",
       "      <td>Please procure send me by Post, Mr Pat. Matthew’s work on “Naval Timber Arboriculture” 1831. Adam Black Edinburgh Longman London. — Dear Sir, | Yours faithfully | C. Darwin</td>\n",
       "    </tr>\n",
       "    <tr>\n",
       "      <th>4</th>\n",
       "      <td>DCP-LETT-8607A.xml</td>\n",
       "      <td>1872</td>\n",
       "      <td>Darwin, C. R.</td>\n",
       "      <td>Murray, John (b)</td>\n",
       "      <td>I have by this same post sent off the few trifling errata to Mr Clowes. — Have you given orders about the Heliotypes? I am very glad of your news. — Let me hear sale of all my books, — In Haste | C. Darwin</td>\n",
       "    </tr>\n",
       "    <tr>\n",
       "      <th>...</th>\n",
       "      <td>...</td>\n",
       "      <td>...</td>\n",
       "      <td>...</td>\n",
       "      <td>...</td>\n",
       "      <td>...</td>\n",
       "    </tr>\n",
       "    <tr>\n",
       "      <th>14910</th>\n",
       "      <td>DCP-LETT-10624.xml</td>\n",
       "      <td>1876</td>\n",
       "      <td>Darwin, C. R.</td>\n",
       "      <td>Marshall, W. C.</td>\n",
       "      <td>Mr. L. will meet you here on Tuesday. — You had better write direct to him, appointing hour, address him “Mr. Laslett Builder Farnborough Kent.” We leave home early on Wednesday morning therefore we cannot ask you to sleep here, as you seem so busy I daresay it wd be inconvenient for you to do so. Yours very sincerely | Ch. Darwin</td>\n",
       "    </tr>\n",
       "    <tr>\n",
       "      <th>14911</th>\n",
       "      <td>DCP-LETT-10410.xml</td>\n",
       "      <td>1876</td>\n",
       "      <td>Darwin, C. R.</td>\n",
       "      <td>Unidentified</td>\n",
       "      <td>I have the pleasure to send some autographs as you desire Yours very faithfully | Ch. Darwin Charles Darwin | Down Kent | Feb. 25th 1876 | Charles Darwin</td>\n",
       "    </tr>\n",
       "    <tr>\n",
       "      <th>14912</th>\n",
       "      <td>DCP-LETT-10604.xml</td>\n",
       "      <td>1876</td>\n",
       "      <td>Darwin, C. R.</td>\n",
       "      <td>Darwin, Francis</td>\n",
       "      <td>I send by this post Chapt IX, but I earnestly beg you not to strain your mind return the sheets marked “uncorrected” if, as I expect, you find it too much for you. — It will give me only a little additional trouble. The figures have not been compared. As I had Chapt VIII almost finished a week ago, I despatched it then to the Printers: it had no figures related to the constitutional vigour of the crossed Plants. Some of the present sheets are so heavily corrected that they will be difficult for you to read. I have put your tools c up-stairs in order so far as not to be injured; but I cannot find your compound microscope to protect from dust. — I have made a few notes on the state of your plants in the Hot-house. My dearest son, your little note yesterday to mother, in which you say that you love me was the greatest possible comfort to me. I have been thinking much about you during your whole life, I am sure that you have deserved the love of your poor dear sweet darling. I am so deeply glad that she did not suffer at last, — it is my only poor consolation. God bless you my dearest son. Give my best love to Mrs. Ruck: I never in my life saw her equal for goodness kindness of heart. I was much affected by Dicky’s letter to George: he was a great comfort to us all. My dear son | Your affectionate Father | C. Darwin</td>\n",
       "    </tr>\n",
       "    <tr>\n",
       "      <th>14913</th>\n",
       "      <td>DCP-LETT-12856.xml</td>\n",
       "      <td>1880</td>\n",
       "      <td>Pfeffer, W. F. P.</td>\n",
       "      <td>Darwin, C. R.</td>\n",
       "      <td>Although I have so far been able merely to leaf through your book “The power of movements etc”, this was still enough to gain an insight into the wealth of observations and ingenious deductions you have again set down here. In any case I feel compelled to immediately express my best thanks to you for sending me your work. I hope I will be able to return the favour in about 12 a year from now, for tomorrow the manuscript of the first volume of a handbook of physiology of metabolism and energy exchange will go to the printers. For the 2d volume, too, all preliminary work is complete to such a degree that I hope to also get this ready for press in 12 a year. Unfortunately, this work left me no time to undertake any other investigations of an extensive nature, but in the not too distant future I hope a collection of physiological works by pupils will appear. Incidentally, I have gradually equipped the botanical institute here, whose rooms are superb, with a most complete physiological apparatus. With the highest respect | Yours | devoted | Dr. W. Pfeffer.</td>\n",
       "    </tr>\n",
       "    <tr>\n",
       "      <th>14914</th>\n",
       "      <td>DCP-LETT-12199.xml</td>\n",
       "      <td>1879</td>\n",
       "      <td>Darwin, C. R.</td>\n",
       "      <td>Marshall, V. A. E. G.</td>\n",
       "      <td>I cannot leave tomorrow morning this delightful place without thanking you cordially for all your kindness. Your permission for me to wander over your estate grounds has made all the difference in my enjoyment, in the good which the visit has done me. I can call your garden nothing less than paradise. — We have used your carriage several times your coachman has been most obliging. — We went one very long expedition to Grasmere, home by Ambleside. The three miles between these two places is the most splendid drive which I ever took. Nevertheless I am a staunch Conistonite feel indignant if anyone prefers Grassmere or Ambleside to Coniston. — Pray tell Mrs. Marshall that we disobeyed orders went to Furness; we were punished, for the day was dark gloomy. On our return we said that a walk along your Terrace was worth half-a-dozen Furness Abbeys; in the afternoon I proved the truth of this by taking 2 or 3 turns along the Terrace, though the afternoon was dull they gave me intense pleasure. — Now I am going to be impertinent: when you return I beseech you to look at four clumps of young unhealthy fir-trees ( which I cannot think will ever grow vigorously from not growing on a slope) in the field in front of the verandah of the hotel; they sadly spoil the view, if universal maledictions would have killed them, the poor things would now all stand withered skeletons. Forgive me scribbling at such length. Everyone here joins me in thanking you Mrs. Marshall most truly. When you come to London, if you Mrs. Marshall can spare the time, pray pay us a visit at Down. In case we shd. not hear when you are in London, I hope that you will be so good as to inform us. Believe me my dear Mr. Marshall | Yours sincerely | Charles Darwin</td>\n",
       "    </tr>\n",
       "  </tbody>\n",
       "</table>\n",
       "<p>14915 rows × 5 columns</p>\n",
       "</div>"
      ],
      "text/plain": [
       "                      File  ...                                                                                                                                                                                                                                                                                                                                                                                                                                                                                                                                                                                                                                                                                                                                                                                                                                                                                                                                                                                                                                                                                                                                                                                                                                                                                                                                                                                                                                                                                                                                                                                                                                                                                                                                                                                                     Transcription\n",
       "0      DCP-LETT-13876.xml   ...  Charles Darwin My health keeps much as it was; I never escape for a whole day without much discomfort, of course as I grow older I become much weaker. —                                                                                                                                                                                                                                                                                                                                                                                                                                                                                                                                                                                                                                                                                                                                                                                                                                                                                                                                                                                                                                                                                                                                                                                                                                                                                                                                                                                                                                                                                                                                                                                                                                                        \n",
       "1      DCP-LETT-10515F.xml  ...  I am very much obliged for your interesting letter. The case of the white chickens surprises me much, but nothing can be more perplexing than the ‘laws causes of variability inheritance. I am glad that any of my books should have at all interested you, as some return for the pleasure which I have derived from yours. I am writing this away from home, which I have left for some rest, so I beg you to excuse brevity. — Dear Sir | Yours faithfully | Ch. Darwin                                                                                                                                                                                                                                                                                                                                                                                                                                                                                                                                                                                                                                                                                                                                                                                                                                                                                                                                                                                                                                                                                                                                                                                                                                                                                                                                     \n",
       "2      DCP-LETT-5961.xml    ...  Mr Buckland has told me that you would excuse the liberty which I take in writing to you. — I am anxious for any information in regard to the proportional numbers of males females born to any animals; but this can hardly be told except with domestic or semi-domestic animals. — Mr. B. says that you have bred many rats, if you have kept any Memoranda, or have a decided impression on the relative numbers of the two sexes, I shd be grateful for information. — Perhaps you can also tell me whether male rats fight for the possession of the female, whether an old powerful rat is polygamous will keep several wifes. — Hoping that you will excuse my troubling you, I remain | Dear Sir | Yours very faithfully | Ch. Darwin My address for next 3 or 4 weeks will be 6. Queen Anne St Cavendish Sqe London W.                                                                                                                                                                                                                                                                                                                                                                                                                                                                                                                                                                                                                                                                                                                                                                                                                                                                                                                                                                                \n",
       "3      DCP-LETT-2753F.xml   ...  Please procure send me by Post, Mr Pat. Matthew’s work on “Naval Timber Arboriculture” 1831. Adam Black Edinburgh Longman London. — Dear Sir, | Yours faithfully | C. Darwin                                                                                                                                                                                                                                                                                                                                                                                                                                                                                                                                                                                                                                                                                                                                                                                                                                                                                                                                                                                                                                                                                                                                                                                                                                                                                                                                                                                                                                                                                                                                                                                                                                    \n",
       "4      DCP-LETT-8607A.xml   ...  I have by this same post sent off the few trifling errata to Mr Clowes. — Have you given orders about the Heliotypes? I am very glad of your news. — Let me hear sale of all my books, — In Haste | C. Darwin                                                                                                                                                                                                                                                                                                                                                                                                                                                                                                                                                                                                                                                                                                                                                                                                                                                                                                                                                                                                                                                                                                                                                                                                                                                                                                                                                                                                                                                                                                                                                                                                   \n",
       "...                   ...   ...                                                                                                                                                                                                            ...                                                                                                                                                                                                                                                                                                                                                                                                                                                                                                                                                                                                                                                                                                                                                                                                                                                                                                                                                                                                                                                                                                                                                                                                                                                                                                                                                                                                                                                                                                                                                                                                   \n",
       "14910  DCP-LETT-10624.xml   ...  Mr. L. will meet you here on Tuesday. — You had better write direct to him, appointing hour, address him “Mr. Laslett Builder Farnborough Kent.” We leave home early on Wednesday morning therefore we cannot ask you to sleep here, as you seem so busy I daresay it wd be inconvenient for you to do so. Yours very sincerely | Ch. Darwin                                                                                                                                                                                                                                                                                                                                                                                                                                                                                                                                                                                                                                                                                                                                                                                                                                                                                                                                                                                                                                                                                                                                                                                                                                                                                                                                                                                                                                                                    \n",
       "14911  DCP-LETT-10410.xml   ...  I have the pleasure to send some autographs as you desire Yours very faithfully | Ch. Darwin Charles Darwin | Down Kent | Feb. 25th 1876 | Charles Darwin                                                                                                                                                                                                                                                                                                                                                                                                                                                                                                                                                                                                                                                                                                                                                                                                                                                                                                                                                                                                                                                                                                                                                                                                                                                                                                                                                                                                                                                                                                                                                                                                                                                       \n",
       "14912  DCP-LETT-10604.xml   ...  I send by this post Chapt IX, but I earnestly beg you not to strain your mind return the sheets marked “uncorrected” if, as I expect, you find it too much for you. — It will give me only a little additional trouble. The figures have not been compared. As I had Chapt VIII almost finished a week ago, I despatched it then to the Printers: it had no figures related to the constitutional vigour of the crossed Plants. Some of the present sheets are so heavily corrected that they will be difficult for you to read. I have put your tools c up-stairs in order so far as not to be injured; but I cannot find your compound microscope to protect from dust. — I have made a few notes on the state of your plants in the Hot-house. My dearest son, your little note yesterday to mother, in which you say that you love me was the greatest possible comfort to me. I have been thinking much about you during your whole life, I am sure that you have deserved the love of your poor dear sweet darling. I am so deeply glad that she did not suffer at last, — it is my only poor consolation. God bless you my dearest son. Give my best love to Mrs. Ruck: I never in my life saw her equal for goodness kindness of heart. I was much affected by Dicky’s letter to George: he was a great comfort to us all. My dear son | Your affectionate Father | C. Darwin                                                                                                                                                                                                                                                                                                                                                                                                                           \n",
       "14913  DCP-LETT-12856.xml   ...  Although I have so far been able merely to leaf through your book “The power of movements etc”, this was still enough to gain an insight into the wealth of observations and ingenious deductions you have again set down here. In any case I feel compelled to immediately express my best thanks to you for sending me your work. I hope I will be able to return the favour in about 12 a year from now, for tomorrow the manuscript of the first volume of a handbook of physiology of metabolism and energy exchange will go to the printers. For the 2d volume, too, all preliminary work is complete to such a degree that I hope to also get this ready for press in 12 a year. Unfortunately, this work left me no time to undertake any other investigations of an extensive nature, but in the not too distant future I hope a collection of physiological works by pupils will appear. Incidentally, I have gradually equipped the botanical institute here, whose rooms are superb, with a most complete physiological apparatus. With the highest respect | Yours | devoted | Dr. W. Pfeffer.                                                                                                                                                                                                                                                                                                                                                                                                                                                                                                                                                                                                                                                                                                     \n",
       "14914  DCP-LETT-12199.xml   ...  I cannot leave tomorrow morning this delightful place without thanking you cordially for all your kindness. Your permission for me to wander over your estate grounds has made all the difference in my enjoyment, in the good which the visit has done me. I can call your garden nothing less than paradise. — We have used your carriage several times your coachman has been most obliging. — We went one very long expedition to Grasmere, home by Ambleside. The three miles between these two places is the most splendid drive which I ever took. Nevertheless I am a staunch Conistonite feel indignant if anyone prefers Grassmere or Ambleside to Coniston. — Pray tell Mrs. Marshall that we disobeyed orders went to Furness; we were punished, for the day was dark gloomy. On our return we said that a walk along your Terrace was worth half-a-dozen Furness Abbeys; in the afternoon I proved the truth of this by taking 2 or 3 turns along the Terrace, though the afternoon was dull they gave me intense pleasure. — Now I am going to be impertinent: when you return I beseech you to look at four clumps of young unhealthy fir-trees ( which I cannot think will ever grow vigorously from not growing on a slope) in the field in front of the verandah of the hotel; they sadly spoil the view, if universal maledictions would have killed them, the poor things would now all stand withered skeletons. Forgive me scribbling at such length. Everyone here joins me in thanking you Mrs. Marshall most truly. When you come to London, if you Mrs. Marshall can spare the time, pray pay us a visit at Down. In case we shd. not hear when you are in London, I hope that you will be so good as to inform us. Believe me my dear Mr. Marshall | Yours sincerely | Charles Darwin\n",
       "\n",
       "[14915 rows x 5 columns]"
      ]
     },
     "execution_count": 23,
     "metadata": {},
     "output_type": "execute_result"
    }
   ],
   "source": [
    "pat = re.compile(r\"(\\u2014)\")\n",
    "pat1 = re.compile(r\"(\\u2013)\")\n",
    "df['Transcription'] = [pat.sub(\" \\\\1 \", pat1.sub(\" \\\\1 \", df['Transcription'].iloc[i])).replace(\"  \", \" \") for i in range(df.shape[0])]\n",
    "df"
   ]
  },
  {
   "cell_type": "code",
   "execution_count": null,
   "metadata": {
    "colab": {
     "base_uri": "https://localhost:8080/",
     "height": 556
    },
    "id": "yi4zhLv7yEaD",
    "outputId": "2bad57a4-e86d-47da-ffe7-bceb90a48b5b"
   },
   "outputs": [
    {
     "data": {
      "text/html": [
       "<div>\n",
       "<style scoped>\n",
       "    .dataframe tbody tr th:only-of-type {\n",
       "        vertical-align: middle;\n",
       "    }\n",
       "\n",
       "    .dataframe tbody tr th {\n",
       "        vertical-align: top;\n",
       "    }\n",
       "\n",
       "    .dataframe thead th {\n",
       "        text-align: right;\n",
       "    }\n",
       "</style>\n",
       "<table border=\"1\" class=\"dataframe\">\n",
       "  <thead>\n",
       "    <tr style=\"text-align: right;\">\n",
       "      <th></th>\n",
       "      <th>File</th>\n",
       "      <th>Year</th>\n",
       "      <th>Sender</th>\n",
       "      <th>Receiver</th>\n",
       "      <th>Transcription</th>\n",
       "    </tr>\n",
       "  </thead>\n",
       "  <tbody>\n",
       "    <tr>\n",
       "      <th>4883</th>\n",
       "      <td>DCP-LETT-686.xml</td>\n",
       "      <td>1843</td>\n",
       "      <td>Waterhouse, G. R.</td>\n",
       "      <td>Darwin, C. R.</td>\n",
       "      <td>–  –  – Museum three — one from Dr. Richardson who is well known there having worked much in the collection; one from Mr Yarrell one from Mr. Bowerbank — I will make it a point to borrow Whewell’s book from Owen to read it the moment he returns — As regards Classification of animals some conclusions I have come to are as follows — That species of animals belonging to the same genus may have an affinity to each other; genera of the same family may have a mutual affinity; relationship of affinity may likewise exist between orders of the same class, but the degree of affinity is different in the different cases — The affinity between species of the same genus may be called an affinity of the first degree; that of genera to genera, of the same family, of the second, or more remote, degree; and, that of families of the third degree so on — Then species of one family have affinity with species of other families of the same order an affinity of the third degree only, and species of different orders of the fourth degree only — That some such feeling as this is impressed upon Naturalists may be inferred from the pains that is taken to place prominently the points of resemblance between animals of different groups of high value — as in the case of the affinity of the ornithrhynchus, or the Echidna, to the Reptiles — the differences here I do not find are dwelt upon with the same ‘gout’ as the points of resemblance — The affinity of the Ornithorhynchus to the Echidna in very much closer than that of either of these animals to the Classes Reptilia, or Aves, — of a different nature as I will undertake to show — That other, and closer links between the Classes may hereafter be found would be stupid to deny, but as a matter of feeling — reasoning from analogies — I do not expect it. There is much to be said on this subject which I will trouble you with hereafter — I have been hard at work at brains for some time past immensely interested with my studies because in some respects I find the result so very different from what I expected. The Whales for instance are placed by Cuvier many Naturalists at the end of the Class Mammalia, yet they have a most highly organized brain — I have puzzled myself much about this matter, for although from all I can learn of the Whales they appear to enjoy a considerable stock of intelligence it does not at all come up to what would be inferred from the consideration of the brain alone — and, it has occurred to me that as the brain is a thing to be educated from without it does not follow that what would be termed a highly organized brain is necessarily followed by corresponding intelligence in the animal — The whales have many of them no olfactory nerves in the others they are in a most rudimentary condition — Their organ of vision does not appear to be particularly good — Of legs they have none their hands most unfitted for touch — and yet this animal has to suckle its young c — he ought to have a good brain to recompense him for the imperfections of the educatory media — Among the Carnivora, the brain of the seal is perhaps one of the highest this poor brute is likewise in a bad school — I mention this as having connexion with “The physiological importance to life of different structures” — I may add that in animals of the same group (in the Quadrumana for instance) there is immense difference in the structure of the brain — species of many groups have a much higher brain than the lowest Quadrumana but none have so good a brain as the highest of that order — as a general rule each group begins as it were lower than its predecessor (beginning at the bottom) terminates higher — each at the same time seems to perfect something — in the organs of respiration, circulation locomotion the bird is higher than Man — Having had my bit of chat I will go to bed — so good night | Always sincerely yours | Geo. R. Waterhouse</td>\n",
       "    </tr>\n",
       "  </tbody>\n",
       "</table>\n",
       "</div>"
      ],
      "text/plain": [
       "                  File  ...                                                                                                                                                                                                                                                                                                                                                                                                                                                                                                                                                                                                                                                                                                                                                                                                                                                                                                                                                                                                                                                                                                                                                                                                                                                                                                                                                                                                                                                                                                                                                                                                                                                                                                                                                                                                                                                                                                                                                                                                                                                                                                                                                                                                                                                                                                                                                                                                                                                                                                                                                                                                                                                                                                                                                                                                                                                                                                                                                                                                                                                                                                                                                                                                                                                                                                                                                                                                                                                                                                                                                                                                                                                                                                                                                                                                                                                                                                                                                                                                                                                  Transcription\n",
       "4883  DCP-LETT-686.xml  ...   –  –  – Museum three — one from Dr. Richardson who is well known there having worked much in the collection; one from Mr Yarrell one from Mr. Bowerbank — I will make it a point to borrow Whewell’s book from Owen to read it the moment he returns — As regards Classification of animals some conclusions I have come to are as follows — That species of animals belonging to the same genus may have an affinity to each other; genera of the same family may have a mutual affinity; relationship of affinity may likewise exist between orders of the same class, but the degree of affinity is different in the different cases — The affinity between species of the same genus may be called an affinity of the first degree; that of genera to genera, of the same family, of the second, or more remote, degree; and, that of families of the third degree so on — Then species of one family have affinity with species of other families of the same order an affinity of the third degree only, and species of different orders of the fourth degree only — That some such feeling as this is impressed upon Naturalists may be inferred from the pains that is taken to place prominently the points of resemblance between animals of different groups of high value — as in the case of the affinity of the ornithrhynchus, or the Echidna, to the Reptiles — the differences here I do not find are dwelt upon with the same ‘gout’ as the points of resemblance — The affinity of the Ornithorhynchus to the Echidna in very much closer than that of either of these animals to the Classes Reptilia, or Aves, — of a different nature as I will undertake to show — That other, and closer links between the Classes may hereafter be found would be stupid to deny, but as a matter of feeling — reasoning from analogies — I do not expect it. There is much to be said on this subject which I will trouble you with hereafter — I have been hard at work at brains for some time past immensely interested with my studies because in some respects I find the result so very different from what I expected. The Whales for instance are placed by Cuvier many Naturalists at the end of the Class Mammalia, yet they have a most highly organized brain — I have puzzled myself much about this matter, for although from all I can learn of the Whales they appear to enjoy a considerable stock of intelligence it does not at all come up to what would be inferred from the consideration of the brain alone — and, it has occurred to me that as the brain is a thing to be educated from without it does not follow that what would be termed a highly organized brain is necessarily followed by corresponding intelligence in the animal — The whales have many of them no olfactory nerves in the others they are in a most rudimentary condition — Their organ of vision does not appear to be particularly good — Of legs they have none their hands most unfitted for touch — and yet this animal has to suckle its young c — he ought to have a good brain to recompense him for the imperfections of the educatory media — Among the Carnivora, the brain of the seal is perhaps one of the highest this poor brute is likewise in a bad school — I mention this as having connexion with “The physiological importance to life of different structures” — I may add that in animals of the same group (in the Quadrumana for instance) there is immense difference in the structure of the brain — species of many groups have a much higher brain than the lowest Quadrumana but none have so good a brain as the highest of that order — as a general rule each group begins as it were lower than its predecessor (beginning at the bottom) terminates higher — each at the same time seems to perfect something — in the organs of respiration, circulation locomotion the bird is higher than Man — Having had my bit of chat I will go to bed — so good night | Always sincerely yours | Geo. R. Waterhouse\n",
       "\n",
       "[1 rows x 5 columns]"
      ]
     },
     "execution_count": 24,
     "metadata": {},
     "output_type": "execute_result"
    }
   ],
   "source": [
    "df[df['File'] == \"DCP-LETT-686.xml\"]"
   ]
  },
  {
   "cell_type": "markdown",
   "metadata": {
    "id": "O_JmxiPCRKjr"
   },
   "source": [
    "load the spaCy language model:"
   ]
  },
  {
   "cell_type": "code",
   "execution_count": null,
   "metadata": {
    "id": "DvFrnrF_RMSW"
   },
   "outputs": [],
   "source": [
    "sp = spacy.load(\"en_core_web_sm\")"
   ]
  },
  {
   "cell_type": "markdown",
   "metadata": {
    "id": "48zmwHgR_3GC"
   },
   "source": [
    "I split the letters into sentences, although this step may not be needed in the end. **NB** This can take about 10 minutes."
   ]
  },
  {
   "cell_type": "code",
   "execution_count": null,
   "metadata": {
    "colab": {
     "base_uri": "https://localhost:8080/",
     "height": 1000
    },
    "id": "VUpyDjaNLU3y",
    "outputId": "ff7ed2c0-4438-4ff5-c0c5-883de1d7d0fc"
   },
   "outputs": [
    {
     "data": {
      "text/html": [
       "<div>\n",
       "<style scoped>\n",
       "    .dataframe tbody tr th:only-of-type {\n",
       "        vertical-align: middle;\n",
       "    }\n",
       "\n",
       "    .dataframe tbody tr th {\n",
       "        vertical-align: top;\n",
       "    }\n",
       "\n",
       "    .dataframe thead th {\n",
       "        text-align: right;\n",
       "    }\n",
       "</style>\n",
       "<table border=\"1\" class=\"dataframe\">\n",
       "  <thead>\n",
       "    <tr style=\"text-align: right;\">\n",
       "      <th></th>\n",
       "      <th>File</th>\n",
       "      <th>Year</th>\n",
       "      <th>Sender</th>\n",
       "      <th>Receiver</th>\n",
       "      <th>Transcription</th>\n",
       "      <th>Transcription_spacy</th>\n",
       "    </tr>\n",
       "  </thead>\n",
       "  <tbody>\n",
       "    <tr>\n",
       "      <th>0</th>\n",
       "      <td>DCP-LETT-13876.xml</td>\n",
       "      <td>1871</td>\n",
       "      <td>Darwin, C. R.</td>\n",
       "      <td>Unidentified</td>\n",
       "      <td>Charles Darwin My health keeps much as it was; I never escape for a whole day without much discomfort, of course as I grow older I become much weaker. —</td>\n",
       "      <td>(Charles, Darwin, My, health, keeps, much, as, it, was, ;, I, never, escape, for, a, whole, day, without, much, discomfort, ,, of, course, as, I, grow, older, I, become, much, weaker, ., —)</td>\n",
       "    </tr>\n",
       "    <tr>\n",
       "      <th>1</th>\n",
       "      <td>DCP-LETT-10515F.xml</td>\n",
       "      <td>1876</td>\n",
       "      <td>Darwin, C. R.</td>\n",
       "      <td>Zincke, F. B.</td>\n",
       "      <td>I am very much obliged for your interesting letter. The case of the white chickens surprises me much, but nothing can be more perplexing than the ‘laws causes of variability inheritance. I am glad that any of my books should have at all interested you, as some return for the pleasure which I have derived from yours. I am writing this away from home, which I have left for some rest, so I beg you to excuse brevity. — Dear Sir | Yours faithfully | Ch. Darwin</td>\n",
       "      <td>(I, am, very, much, obliged, for, your, interesting, letter, ., The, case, of, the, white, chickens, surprises, me, much, ,, but, nothing, can, be, more, perplexing, than, the, ‘, laws, causes, of, variability, inheritance, ., I, am, glad, that, any, of, my, books, should, have, at, all, interested, you, ,, as, some, return, for, the, pleasure, which, I, have, derived, from, yours, ., I, am, writing, this, away, from, home, ,, which, I, have, left, for, some, rest, ,, so, I, beg, you, to, excuse, brevity, ., —, Dear, Sir, |, Yours, faithfully, |, Ch, ., Darwin)</td>\n",
       "    </tr>\n",
       "    <tr>\n",
       "      <th>2</th>\n",
       "      <td>DCP-LETT-5961.xml</td>\n",
       "      <td>1868</td>\n",
       "      <td>Darwin, C. R.</td>\n",
       "      <td>Bush, John</td>\n",
       "      <td>Mr Buckland has told me that you would excuse the liberty which I take in writing to you. — I am anxious for any information in regard to the proportional numbers of males females born to any animals; but this can hardly be told except with domestic or semi-domestic animals. — Mr. B. says that you have bred many rats, if you have kept any Memoranda, or have a decided impression on the relative numbers of the two sexes, I shd be grateful for information. — Perhaps you can also tell me whether male rats fight for the possession of the female, whether an old powerful rat is polygamous will keep several wifes. — Hoping that you will excuse my troubling you, I remain | Dear Sir | Yours very faithfully | Ch. Darwin My address for next 3 or 4 weeks will be 6. Queen Anne St Cavendish Sqe London W.</td>\n",
       "      <td>(Mr, Buckland, has, told, me, that, you, would, excuse, the, liberty, which, I, take, in, writing, to, you, ., —, I, am, anxious, for, any, information, in, regard, to, the, proportional, numbers, of, males, females, born, to, any, animals, ;, but, this, can, hardly, be, told, except, with, domestic, or, semi, -, domestic, animals, ., —, Mr., B.,  , says, that, you, have, bred, many, rats, ,, if, you, have, kept, any, Memoranda, ,, or, have, a, decided, impression, on, the, relative, numbers, of, the, two, sexes, ,, I, shd, be, grateful, for, information, ., —, Perhaps, you, can, also, ...)</td>\n",
       "    </tr>\n",
       "    <tr>\n",
       "      <th>3</th>\n",
       "      <td>DCP-LETT-2753F.xml</td>\n",
       "      <td>1860</td>\n",
       "      <td>Darwin, C. R.</td>\n",
       "      <td>Bookseller</td>\n",
       "      <td>Please procure send me by Post, Mr Pat. Matthew’s work on “Naval Timber Arboriculture” 1831. Adam Black Edinburgh Longman London. — Dear Sir, | Yours faithfully | C. Darwin</td>\n",
       "      <td>(Please, procure, send, me, by, Post, ,, Mr, Pat, ., Matthew, ’s, work, on, “, Naval, Timber, Arboriculture, ”, 1831, ., Adam, Black, Edinburgh, Longman, London, ., —, Dear, Sir, ,, |, Yours, faithfully, |, C.,  , Darwin)</td>\n",
       "    </tr>\n",
       "    <tr>\n",
       "      <th>4</th>\n",
       "      <td>DCP-LETT-8607A.xml</td>\n",
       "      <td>1872</td>\n",
       "      <td>Darwin, C. R.</td>\n",
       "      <td>Murray, John (b)</td>\n",
       "      <td>I have by this same post sent off the few trifling errata to Mr Clowes. — Have you given orders about the Heliotypes? I am very glad of your news. — Let me hear sale of all my books, — In Haste | C. Darwin</td>\n",
       "      <td>(I, have, by, this, same, post, sent, off, the, few, trifling, errata, to, Mr, Clowes, ., —, Have, you, given, orders, about, the, Heliotypes, ?, I, am, very, glad, of, your, news, ., —, Let, me, hear, sale, of, all, my, books, ,, —, In, Haste, |, C.,  , Darwin)</td>\n",
       "    </tr>\n",
       "    <tr>\n",
       "      <th>...</th>\n",
       "      <td>...</td>\n",
       "      <td>...</td>\n",
       "      <td>...</td>\n",
       "      <td>...</td>\n",
       "      <td>...</td>\n",
       "      <td>...</td>\n",
       "    </tr>\n",
       "    <tr>\n",
       "      <th>14910</th>\n",
       "      <td>DCP-LETT-10624.xml</td>\n",
       "      <td>1876</td>\n",
       "      <td>Darwin, C. R.</td>\n",
       "      <td>Marshall, W. C.</td>\n",
       "      <td>Mr. L. will meet you here on Tuesday. — You had better write direct to him, appointing hour, address him “Mr. Laslett Builder Farnborough Kent.” We leave home early on Wednesday morning therefore we cannot ask you to sleep here, as you seem so busy I daresay it wd be inconvenient for you to do so. Yours very sincerely | Ch. Darwin</td>\n",
       "      <td>(Mr., L.,  , will, meet, you, here, on, Tuesday, ., —, You, had, better, write, direct, to, him, ,, appointing, hour, ,, address, him, “, Mr., Laslett, Builder, Farnborough, Kent, ., ”, We, leave, home, early, on, Wednesday, morning, therefore, we, can, not, ask, you, to, sleep, here, ,, as, you, seem, so, busy, I, daresay, it, wd, be, inconvenient, for, you, to, do, so, ., Yours, very, sincerely, |, Ch, ., Darwin)</td>\n",
       "    </tr>\n",
       "    <tr>\n",
       "      <th>14911</th>\n",
       "      <td>DCP-LETT-10410.xml</td>\n",
       "      <td>1876</td>\n",
       "      <td>Darwin, C. R.</td>\n",
       "      <td>Unidentified</td>\n",
       "      <td>I have the pleasure to send some autographs as you desire Yours very faithfully | Ch. Darwin Charles Darwin | Down Kent | Feb. 25th 1876 | Charles Darwin</td>\n",
       "      <td>(I, have, the, pleasure, to, send, some, autographs, as, you, desire, Yours, very, faithfully, |, Ch, ., Darwin, Charles, Darwin, |, Down, Kent, |, Feb.,  , 25th, 1876, |, Charles, Darwin)</td>\n",
       "    </tr>\n",
       "    <tr>\n",
       "      <th>14912</th>\n",
       "      <td>DCP-LETT-10604.xml</td>\n",
       "      <td>1876</td>\n",
       "      <td>Darwin, C. R.</td>\n",
       "      <td>Darwin, Francis</td>\n",
       "      <td>I send by this post Chapt IX, but I earnestly beg you not to strain your mind return the sheets marked “uncorrected” if, as I expect, you find it too much for you. — It will give me only a little additional trouble. The figures have not been compared. As I had Chapt VIII almost finished a week ago, I despatched it then to the Printers: it had no figures related to the constitutional vigour of the crossed Plants. Some of the present sheets are so heavily corrected that they will be difficult for you to read. I have put your tools c up-stairs in order so far as not to be injured; but I cannot find your compound microscope to protect from dust. — I have made a few notes on the state of your plants in the Hot-house. My dearest son, your little note yesterday to mother, in which you say that you love me was the greatest possible comfort to me. I have been thinking much about you during your whole life, I am sure that you have deserved the love of your poor dear sweet darling. I am so deeply glad that she did not suffer at last, — it is my only poor consolation. God bless you my dearest son. Give my best love to Mrs. Ruck: I never in my life saw her equal for goodness kindness of heart. I was much affected by Dicky’s letter to George: he was a great comfort to us all. My dear son | Your affectionate Father | C. Darwin</td>\n",
       "      <td>(I, send, by, this, post, Chapt, IX, ,, but, I, earnestly, beg, you, not, to, strain, your, mind, return, the, sheets, marked, “, uncorrected, ”, if, ,, as, I, expect, ,, you, find, it, too, much, for, you, ., —, It, will, give, me, only, a, little, additional, trouble, ., The, figures, have, not, been, compared, ., As, I, had, Chapt, VIII, almost, finished, a, week, ago, ,, I, despatched, it, then, to, the, Printers, :, it, had, no, figures, related, to, the, constitutional, vigour, of, the, crossed, Plants, ., Some, of, the, present, sheets, are, so, heavily, corrected, that, ...)</td>\n",
       "    </tr>\n",
       "    <tr>\n",
       "      <th>14913</th>\n",
       "      <td>DCP-LETT-12856.xml</td>\n",
       "      <td>1880</td>\n",
       "      <td>Pfeffer, W. F. P.</td>\n",
       "      <td>Darwin, C. R.</td>\n",
       "      <td>Although I have so far been able merely to leaf through your book “The power of movements etc”, this was still enough to gain an insight into the wealth of observations and ingenious deductions you have again set down here. In any case I feel compelled to immediately express my best thanks to you for sending me your work. I hope I will be able to return the favour in about 12 a year from now, for tomorrow the manuscript of the first volume of a handbook of physiology of metabolism and energy exchange will go to the printers. For the 2d volume, too, all preliminary work is complete to such a degree that I hope to also get this ready for press in 12 a year. Unfortunately, this work left me no time to undertake any other investigations of an extensive nature, but in the not too distant future I hope a collection of physiological works by pupils will appear. Incidentally, I have gradually equipped the botanical institute here, whose rooms are superb, with a most complete physiological apparatus. With the highest respect | Yours | devoted | Dr. W. Pfeffer.</td>\n",
       "      <td>(Although, I, have, so, far, been, able, merely, to, leaf, through, your, book, “, The, power, of, movements, etc, ”, ,, this, was, still, enough, to, gain, an, insight, into, the, wealth, of, observations, and, ingenious, deductions, you, have, again, set, down, here, ., In, any, case, I, feel, compelled, to, immediately, express, my, best, thanks, to, you, for, sending, me, your, work, ., I, hope, I, will, be, able, to, return, the, favour, in, about, 12, a, year, from, now, ,, for, tomorrow, the, manuscript, of, the, first, volume, of, a, handbook, of, physiology, of, metabolism, and, energy, exchange, ...)</td>\n",
       "    </tr>\n",
       "    <tr>\n",
       "      <th>14914</th>\n",
       "      <td>DCP-LETT-12199.xml</td>\n",
       "      <td>1879</td>\n",
       "      <td>Darwin, C. R.</td>\n",
       "      <td>Marshall, V. A. E. G.</td>\n",
       "      <td>I cannot leave tomorrow morning this delightful place without thanking you cordially for all your kindness. Your permission for me to wander over your estate grounds has made all the difference in my enjoyment, in the good which the visit has done me. I can call your garden nothing less than paradise. — We have used your carriage several times your coachman has been most obliging. — We went one very long expedition to Grasmere, home by Ambleside. The three miles between these two places is the most splendid drive which I ever took. Nevertheless I am a staunch Conistonite feel indignant if anyone prefers Grassmere or Ambleside to Coniston. — Pray tell Mrs. Marshall that we disobeyed orders went to Furness; we were punished, for the day was dark gloomy. On our return we said that a walk along your Terrace was worth half-a-dozen Furness Abbeys; in the afternoon I proved the truth of this by taking 2 or 3 turns along the Terrace, though the afternoon was dull they gave me intense pleasure. — Now I am going to be impertinent: when you return I beseech you to look at four clumps of young unhealthy fir-trees ( which I cannot think will ever grow vigorously from not growing on a slope) in the field in front of the verandah of the hotel; they sadly spoil the view, if universal maledictions would have killed them, the poor things would now all stand withered skeletons. Forgive me scribbling at such length. Everyone here joins me in thanking you Mrs. Marshall most truly. When you come to London, if you Mrs. Marshall can spare the time, pray pay us a visit at Down. In case we shd. not hear when you are in London, I hope that you will be so good as to inform us. Believe me my dear Mr. Marshall | Yours sincerely | Charles Darwin</td>\n",
       "      <td>(I, can, not, leave, tomorrow, morning, this, delightful, place, without, thanking, you, cordially, for, all, your, kindness, ., Your, permission, for, me, to, wander, over, your, estate, grounds, has, made, all, the, difference, in, my, enjoyment, ,, in, the, good, which, the, visit, has, done, me, ., I, can, call, your, garden, nothing, less, than, paradise, ., —, We, have, used, your, carriage, several, times, your, coachman, has, been, most, obliging, ., —, We, went, one, very, long, expedition, to, Grasmere, ,, home, by, Ambleside, ., The, three, miles, between, these, two, places, is, the, most, splendid, drive, which, I, ...)</td>\n",
       "    </tr>\n",
       "  </tbody>\n",
       "</table>\n",
       "<p>14915 rows × 6 columns</p>\n",
       "</div>"
      ],
      "text/plain": [
       "                      File  ...                                                                                                                                                                                                                                                                                                                                                                                                                                                                                                                                                                                                                                               Transcription_spacy\n",
       "0      DCP-LETT-13876.xml   ...  (Charles, Darwin, My, health, keeps, much, as, it, was, ;, I, never, escape, for, a, whole, day, without, much, discomfort, ,, of, course, as, I, grow, older, I, become, much, weaker, ., —)                                                                                                                                                                                                                                                                                                                                                                                                                                                                   \n",
       "1      DCP-LETT-10515F.xml  ...  (I, am, very, much, obliged, for, your, interesting, letter, ., The, case, of, the, white, chickens, surprises, me, much, ,, but, nothing, can, be, more, perplexing, than, the, ‘, laws, causes, of, variability, inheritance, ., I, am, glad, that, any, of, my, books, should, have, at, all, interested, you, ,, as, some, return, for, the, pleasure, which, I, have, derived, from, yours, ., I, am, writing, this, away, from, home, ,, which, I, have, left, for, some, rest, ,, so, I, beg, you, to, excuse, brevity, ., —, Dear, Sir, |, Yours, faithfully, |, Ch, ., Darwin)                                                                         \n",
       "2      DCP-LETT-5961.xml    ...  (Mr, Buckland, has, told, me, that, you, would, excuse, the, liberty, which, I, take, in, writing, to, you, ., —, I, am, anxious, for, any, information, in, regard, to, the, proportional, numbers, of, males, females, born, to, any, animals, ;, but, this, can, hardly, be, told, except, with, domestic, or, semi, -, domestic, animals, ., —, Mr., B.,  , says, that, you, have, bred, many, rats, ,, if, you, have, kept, any, Memoranda, ,, or, have, a, decided, impression, on, the, relative, numbers, of, the, two, sexes, ,, I, shd, be, grateful, for, information, ., —, Perhaps, you, can, also, ...)                                           \n",
       "3      DCP-LETT-2753F.xml   ...  (Please, procure, send, me, by, Post, ,, Mr, Pat, ., Matthew, ’s, work, on, “, Naval, Timber, Arboriculture, ”, 1831, ., Adam, Black, Edinburgh, Longman, London, ., —, Dear, Sir, ,, |, Yours, faithfully, |, C.,  , Darwin)                                                                                                                                                                                                                                                                                                                                                                                                                                   \n",
       "4      DCP-LETT-8607A.xml   ...  (I, have, by, this, same, post, sent, off, the, few, trifling, errata, to, Mr, Clowes, ., —, Have, you, given, orders, about, the, Heliotypes, ?, I, am, very, glad, of, your, news, ., —, Let, me, hear, sale, of, all, my, books, ,, —, In, Haste, |, C.,  , Darwin)                                                                                                                                                                                                                                                                                                                                                                                          \n",
       "...                   ...   ...                                                                                                                                                                                                                                                                     ...                                                                                                                                                                                                                                                                                                                                                                                          \n",
       "14910  DCP-LETT-10624.xml   ...  (Mr., L.,  , will, meet, you, here, on, Tuesday, ., —, You, had, better, write, direct, to, him, ,, appointing, hour, ,, address, him, “, Mr., Laslett, Builder, Farnborough, Kent, ., ”, We, leave, home, early, on, Wednesday, morning, therefore, we, can, not, ask, you, to, sleep, here, ,, as, you, seem, so, busy, I, daresay, it, wd, be, inconvenient, for, you, to, do, so, ., Yours, very, sincerely, |, Ch, ., Darwin)                                                                                                                                                                                                                              \n",
       "14911  DCP-LETT-10410.xml   ...  (I, have, the, pleasure, to, send, some, autographs, as, you, desire, Yours, very, faithfully, |, Ch, ., Darwin, Charles, Darwin, |, Down, Kent, |, Feb.,  , 25th, 1876, |, Charles, Darwin)                                                                                                                                                                                                                                                                                                                                                                                                                                                                    \n",
       "14912  DCP-LETT-10604.xml   ...  (I, send, by, this, post, Chapt, IX, ,, but, I, earnestly, beg, you, not, to, strain, your, mind, return, the, sheets, marked, “, uncorrected, ”, if, ,, as, I, expect, ,, you, find, it, too, much, for, you, ., —, It, will, give, me, only, a, little, additional, trouble, ., The, figures, have, not, been, compared, ., As, I, had, Chapt, VIII, almost, finished, a, week, ago, ,, I, despatched, it, then, to, the, Printers, :, it, had, no, figures, related, to, the, constitutional, vigour, of, the, crossed, Plants, ., Some, of, the, present, sheets, are, so, heavily, corrected, that, ...)                                                   \n",
       "14913  DCP-LETT-12856.xml   ...  (Although, I, have, so, far, been, able, merely, to, leaf, through, your, book, “, The, power, of, movements, etc, ”, ,, this, was, still, enough, to, gain, an, insight, into, the, wealth, of, observations, and, ingenious, deductions, you, have, again, set, down, here, ., In, any, case, I, feel, compelled, to, immediately, express, my, best, thanks, to, you, for, sending, me, your, work, ., I, hope, I, will, be, able, to, return, the, favour, in, about, 12, a, year, from, now, ,, for, tomorrow, the, manuscript, of, the, first, volume, of, a, handbook, of, physiology, of, metabolism, and, energy, exchange, ...)                       \n",
       "14914  DCP-LETT-12199.xml   ...  (I, can, not, leave, tomorrow, morning, this, delightful, place, without, thanking, you, cordially, for, all, your, kindness, ., Your, permission, for, me, to, wander, over, your, estate, grounds, has, made, all, the, difference, in, my, enjoyment, ,, in, the, good, which, the, visit, has, done, me, ., I, can, call, your, garden, nothing, less, than, paradise, ., —, We, have, used, your, carriage, several, times, your, coachman, has, been, most, obliging, ., —, We, went, one, very, long, expedition, to, Grasmere, ,, home, by, Ambleside, ., The, three, miles, between, these, two, places, is, the, most, splendid, drive, which, I, ...)\n",
       "\n",
       "[14915 rows x 6 columns]"
      ]
     },
     "execution_count": 27,
     "metadata": {},
     "output_type": "execute_result"
    }
   ],
   "source": [
    "#df['Transcription_sentences'] = [sp(df['Transcription'].iloc[i]) for i in range(df.shape[0])]\n",
    "df['Transcription_spacy'] = [sp(df['Transcription'].iloc[i]) for i in range(df.shape[0])]\n",
    "#df['Transcription_sentences'] = [ sentence for sentence in (df['Transcription'].iloc[i]).sents for i in range(df.shape[0])]\n",
    "df"
   ]
  },
  {
   "cell_type": "markdown",
   "metadata": {
    "id": "HNS5N6w9_7i2"
   },
   "source": [
    "A token simply refers to an individual part of a sentence having some semantic value. Let's see what tokens we have in our document. **NB This takes about 12 minutes**."
   ]
  },
  {
   "cell_type": "code",
   "execution_count": null,
   "metadata": {
    "colab": {
     "base_uri": "https://localhost:8080/",
     "height": 1000
    },
    "id": "V1vAbcsZt0C_",
    "outputId": "7c0d8e2f-dbc1-4ec1-e418-5ae31f74346a"
   },
   "outputs": [
    {
     "data": {
      "text/html": [
       "<div>\n",
       "<style scoped>\n",
       "    .dataframe tbody tr th:only-of-type {\n",
       "        vertical-align: middle;\n",
       "    }\n",
       "\n",
       "    .dataframe tbody tr th {\n",
       "        vertical-align: top;\n",
       "    }\n",
       "\n",
       "    .dataframe thead th {\n",
       "        text-align: right;\n",
       "    }\n",
       "</style>\n",
       "<table border=\"1\" class=\"dataframe\">\n",
       "  <thead>\n",
       "    <tr style=\"text-align: right;\">\n",
       "      <th></th>\n",
       "      <th>File</th>\n",
       "      <th>Year</th>\n",
       "      <th>Sender</th>\n",
       "      <th>Receiver</th>\n",
       "      <th>Transcription</th>\n",
       "      <th>Transcription_spacy</th>\n",
       "      <th>Tokens</th>\n",
       "    </tr>\n",
       "  </thead>\n",
       "  <tbody>\n",
       "    <tr>\n",
       "      <th>0</th>\n",
       "      <td>DCP-LETT-13876.xml</td>\n",
       "      <td>1871</td>\n",
       "      <td>Darwin, C. R.</td>\n",
       "      <td>Unidentified</td>\n",
       "      <td>Charles Darwin My health keeps much as it was; I never escape for a whole day without much discomfort, of course as I grow older I become much weaker. —</td>\n",
       "      <td>(Charles, Darwin, My, health, keeps, much, as, it, was, ;, I, never, escape, for, a, whole, day, without, much, discomfort, ,, of, course, as, I, grow, older, I, become, much, weaker, ., —)</td>\n",
       "      <td>[Charles, Darwin, My, health, keeps, much, as, it, was, ;, I, never, escape, for, a, whole, day, without, much, discomfort, ,, of, course, as, I, grow, older, I, become, much, weaker, ., —]</td>\n",
       "    </tr>\n",
       "    <tr>\n",
       "      <th>1</th>\n",
       "      <td>DCP-LETT-10515F.xml</td>\n",
       "      <td>1876</td>\n",
       "      <td>Darwin, C. R.</td>\n",
       "      <td>Zincke, F. B.</td>\n",
       "      <td>I am very much obliged for your interesting letter. The case of the white chickens surprises me much, but nothing can be more perplexing than the ‘laws causes of variability inheritance. I am glad that any of my books should have at all interested you, as some return for the pleasure which I have derived from yours. I am writing this away from home, which I have left for some rest, so I beg you to excuse brevity. — Dear Sir | Yours faithfully | Ch. Darwin</td>\n",
       "      <td>(I, am, very, much, obliged, for, your, interesting, letter, ., The, case, of, the, white, chickens, surprises, me, much, ,, but, nothing, can, be, more, perplexing, than, the, ‘, laws, causes, of, variability, inheritance, ., I, am, glad, that, any, of, my, books, should, have, at, all, interested, you, ,, as, some, return, for, the, pleasure, which, I, have, derived, from, yours, ., I, am, writing, this, away, from, home, ,, which, I, have, left, for, some, rest, ,, so, I, beg, you, to, excuse, brevity, ., —, Dear, Sir, |, Yours, faithfully, |, Ch, ., Darwin)</td>\n",
       "      <td>[I, am, very, much, obliged, for, your, interesting, letter, ., The, case, of, the, white, chickens, surprises, me, much, ,, but, nothing, can, be, more, perplexing, than, the, ‘, laws, causes, of, variability, inheritance, ., I, am, glad, that, any, of, my, books, should, have, at, all, interested, you, ,, as, some, return, for, the, pleasure, which, I, have, derived, from, yours, ., I, am, writing, this, away, from, home, ,, which, I, have, left, for, some, rest, ,, so, I, beg, you, to, excuse, brevity, ., —, Dear, Sir, |, Yours, faithfully, |, Ch, ., Darwin]</td>\n",
       "    </tr>\n",
       "    <tr>\n",
       "      <th>2</th>\n",
       "      <td>DCP-LETT-5961.xml</td>\n",
       "      <td>1868</td>\n",
       "      <td>Darwin, C. R.</td>\n",
       "      <td>Bush, John</td>\n",
       "      <td>Mr Buckland has told me that you would excuse the liberty which I take in writing to you. — I am anxious for any information in regard to the proportional numbers of males females born to any animals; but this can hardly be told except with domestic or semi-domestic animals. — Mr. B. says that you have bred many rats, if you have kept any Memoranda, or have a decided impression on the relative numbers of the two sexes, I shd be grateful for information. — Perhaps you can also tell me whether male rats fight for the possession of the female, whether an old powerful rat is polygamous will keep several wifes. — Hoping that you will excuse my troubling you, I remain | Dear Sir | Yours very faithfully | Ch. Darwin My address for next 3 or 4 weeks will be 6. Queen Anne St Cavendish Sqe London W.</td>\n",
       "      <td>(Mr, Buckland, has, told, me, that, you, would, excuse, the, liberty, which, I, take, in, writing, to, you, ., —, I, am, anxious, for, any, information, in, regard, to, the, proportional, numbers, of, males, females, born, to, any, animals, ;, but, this, can, hardly, be, told, except, with, domestic, or, semi, -, domestic, animals, ., —, Mr., B.,  , says, that, you, have, bred, many, rats, ,, if, you, have, kept, any, Memoranda, ,, or, have, a, decided, impression, on, the, relative, numbers, of, the, two, sexes, ,, I, shd, be, grateful, for, information, ., —, Perhaps, you, can, also, ...)</td>\n",
       "      <td>[Mr, Buckland, has, told, me, that, you, would, excuse, the, liberty, which, I, take, in, writing, to, you, ., —, I, am, anxious, for, any, information, in, regard, to, the, proportional, numbers, of, males, females, born, to, any, animals, ;, but, this, can, hardly, be, told, except, with, domestic, or, semi, -, domestic, animals, ., —, Mr., B.,  , says, that, you, have, bred, many, rats, ,, if, you, have, kept, any, Memoranda, ,, or, have, a, decided, impression, on, the, relative, numbers, of, the, two, sexes, ,, I, shd, be, grateful, for, information, ., —, Perhaps, you, can, also, ...]</td>\n",
       "    </tr>\n",
       "    <tr>\n",
       "      <th>3</th>\n",
       "      <td>DCP-LETT-2753F.xml</td>\n",
       "      <td>1860</td>\n",
       "      <td>Darwin, C. R.</td>\n",
       "      <td>Bookseller</td>\n",
       "      <td>Please procure send me by Post, Mr Pat. Matthew’s work on “Naval Timber Arboriculture” 1831. Adam Black Edinburgh Longman London. — Dear Sir, | Yours faithfully | C. Darwin</td>\n",
       "      <td>(Please, procure, send, me, by, Post, ,, Mr, Pat, ., Matthew, ’s, work, on, “, Naval, Timber, Arboriculture, ”, 1831, ., Adam, Black, Edinburgh, Longman, London, ., —, Dear, Sir, ,, |, Yours, faithfully, |, C.,  , Darwin)</td>\n",
       "      <td>[Please, procure, send, me, by, Post, ,, Mr, Pat, ., Matthew, ’s, work, on, “, Naval, Timber, Arboriculture, ”, 1831, ., Adam, Black, Edinburgh, Longman, London, ., —, Dear, Sir, ,, |, Yours, faithfully, |, C.,  , Darwin]</td>\n",
       "    </tr>\n",
       "    <tr>\n",
       "      <th>4</th>\n",
       "      <td>DCP-LETT-8607A.xml</td>\n",
       "      <td>1872</td>\n",
       "      <td>Darwin, C. R.</td>\n",
       "      <td>Murray, John (b)</td>\n",
       "      <td>I have by this same post sent off the few trifling errata to Mr Clowes. — Have you given orders about the Heliotypes? I am very glad of your news. — Let me hear sale of all my books, — In Haste | C. Darwin</td>\n",
       "      <td>(I, have, by, this, same, post, sent, off, the, few, trifling, errata, to, Mr, Clowes, ., —, Have, you, given, orders, about, the, Heliotypes, ?, I, am, very, glad, of, your, news, ., —, Let, me, hear, sale, of, all, my, books, ,, —, In, Haste, |, C.,  , Darwin)</td>\n",
       "      <td>[I, have, by, this, same, post, sent, off, the, few, trifling, errata, to, Mr, Clowes, ., —, Have, you, given, orders, about, the, Heliotypes, ?, I, am, very, glad, of, your, news, ., —, Let, me, hear, sale, of, all, my, books, ,, —, In, Haste, |, C.,  , Darwin]</td>\n",
       "    </tr>\n",
       "    <tr>\n",
       "      <th>...</th>\n",
       "      <td>...</td>\n",
       "      <td>...</td>\n",
       "      <td>...</td>\n",
       "      <td>...</td>\n",
       "      <td>...</td>\n",
       "      <td>...</td>\n",
       "      <td>...</td>\n",
       "    </tr>\n",
       "    <tr>\n",
       "      <th>14910</th>\n",
       "      <td>DCP-LETT-10624.xml</td>\n",
       "      <td>1876</td>\n",
       "      <td>Darwin, C. R.</td>\n",
       "      <td>Marshall, W. C.</td>\n",
       "      <td>Mr. L. will meet you here on Tuesday. — You had better write direct to him, appointing hour, address him “Mr. Laslett Builder Farnborough Kent.” We leave home early on Wednesday morning therefore we cannot ask you to sleep here, as you seem so busy I daresay it wd be inconvenient for you to do so. Yours very sincerely | Ch. Darwin</td>\n",
       "      <td>(Mr., L.,  , will, meet, you, here, on, Tuesday, ., —, You, had, better, write, direct, to, him, ,, appointing, hour, ,, address, him, “, Mr., Laslett, Builder, Farnborough, Kent, ., ”, We, leave, home, early, on, Wednesday, morning, therefore, we, can, not, ask, you, to, sleep, here, ,, as, you, seem, so, busy, I, daresay, it, wd, be, inconvenient, for, you, to, do, so, ., Yours, very, sincerely, |, Ch, ., Darwin)</td>\n",
       "      <td>[Mr., L.,  , will, meet, you, here, on, Tuesday, ., —, You, had, better, write, direct, to, him, ,, appointing, hour, ,, address, him, “, Mr., Laslett, Builder, Farnborough, Kent, ., ”, We, leave, home, early, on, Wednesday, morning, therefore, we, can, not, ask, you, to, sleep, here, ,, as, you, seem, so, busy, I, daresay, it, wd, be, inconvenient, for, you, to, do, so, ., Yours, very, sincerely, |, Ch, ., Darwin]</td>\n",
       "    </tr>\n",
       "    <tr>\n",
       "      <th>14911</th>\n",
       "      <td>DCP-LETT-10410.xml</td>\n",
       "      <td>1876</td>\n",
       "      <td>Darwin, C. R.</td>\n",
       "      <td>Unidentified</td>\n",
       "      <td>I have the pleasure to send some autographs as you desire Yours very faithfully | Ch. Darwin Charles Darwin | Down Kent | Feb. 25th 1876 | Charles Darwin</td>\n",
       "      <td>(I, have, the, pleasure, to, send, some, autographs, as, you, desire, Yours, very, faithfully, |, Ch, ., Darwin, Charles, Darwin, |, Down, Kent, |, Feb.,  , 25th, 1876, |, Charles, Darwin)</td>\n",
       "      <td>[I, have, the, pleasure, to, send, some, autographs, as, you, desire, Yours, very, faithfully, |, Ch, ., Darwin, Charles, Darwin, |, Down, Kent, |, Feb.,  , 25th, 1876, |, Charles, Darwin]</td>\n",
       "    </tr>\n",
       "    <tr>\n",
       "      <th>14912</th>\n",
       "      <td>DCP-LETT-10604.xml</td>\n",
       "      <td>1876</td>\n",
       "      <td>Darwin, C. R.</td>\n",
       "      <td>Darwin, Francis</td>\n",
       "      <td>I send by this post Chapt IX, but I earnestly beg you not to strain your mind return the sheets marked “uncorrected” if, as I expect, you find it too much for you. — It will give me only a little additional trouble. The figures have not been compared. As I had Chapt VIII almost finished a week ago, I despatched it then to the Printers: it had no figures related to the constitutional vigour of the crossed Plants. Some of the present sheets are so heavily corrected that they will be difficult for you to read. I have put your tools c up-stairs in order so far as not to be injured; but I cannot find your compound microscope to protect from dust. — I have made a few notes on the state of your plants in the Hot-house. My dearest son, your little note yesterday to mother, in which you say that you love me was the greatest possible comfort to me. I have been thinking much about you during your whole life, I am sure that you have deserved the love of your poor dear sweet darling. I am so deeply glad that she did not suffer at last, — it is my only poor consolation. God bless you my dearest son. Give my best love to Mrs. Ruck: I never in my life saw her equal for goodness kindness of heart. I was much affected by Dicky’s letter to George: he was a great comfort to us all. My dear son | Your affectionate Father | C. Darwin</td>\n",
       "      <td>(I, send, by, this, post, Chapt, IX, ,, but, I, earnestly, beg, you, not, to, strain, your, mind, return, the, sheets, marked, “, uncorrected, ”, if, ,, as, I, expect, ,, you, find, it, too, much, for, you, ., —, It, will, give, me, only, a, little, additional, trouble, ., The, figures, have, not, been, compared, ., As, I, had, Chapt, VIII, almost, finished, a, week, ago, ,, I, despatched, it, then, to, the, Printers, :, it, had, no, figures, related, to, the, constitutional, vigour, of, the, crossed, Plants, ., Some, of, the, present, sheets, are, so, heavily, corrected, that, ...)</td>\n",
       "      <td>[I, send, by, this, post, Chapt, IX, ,, but, I, earnestly, beg, you, not, to, strain, your, mind, return, the, sheets, marked, “, uncorrected, ”, if, ,, as, I, expect, ,, you, find, it, too, much, for, you, ., —, It, will, give, me, only, a, little, additional, trouble, ., The, figures, have, not, been, compared, ., As, I, had, Chapt, VIII, almost, finished, a, week, ago, ,, I, despatched, it, then, to, the, Printers, :, it, had, no, figures, related, to, the, constitutional, vigour, of, the, crossed, Plants, ., Some, of, the, present, sheets, are, so, heavily, corrected, that, ...]</td>\n",
       "    </tr>\n",
       "    <tr>\n",
       "      <th>14913</th>\n",
       "      <td>DCP-LETT-12856.xml</td>\n",
       "      <td>1880</td>\n",
       "      <td>Pfeffer, W. F. P.</td>\n",
       "      <td>Darwin, C. R.</td>\n",
       "      <td>Although I have so far been able merely to leaf through your book “The power of movements etc”, this was still enough to gain an insight into the wealth of observations and ingenious deductions you have again set down here. In any case I feel compelled to immediately express my best thanks to you for sending me your work. I hope I will be able to return the favour in about 12 a year from now, for tomorrow the manuscript of the first volume of a handbook of physiology of metabolism and energy exchange will go to the printers. For the 2d volume, too, all preliminary work is complete to such a degree that I hope to also get this ready for press in 12 a year. Unfortunately, this work left me no time to undertake any other investigations of an extensive nature, but in the not too distant future I hope a collection of physiological works by pupils will appear. Incidentally, I have gradually equipped the botanical institute here, whose rooms are superb, with a most complete physiological apparatus. With the highest respect | Yours | devoted | Dr. W. Pfeffer.</td>\n",
       "      <td>(Although, I, have, so, far, been, able, merely, to, leaf, through, your, book, “, The, power, of, movements, etc, ”, ,, this, was, still, enough, to, gain, an, insight, into, the, wealth, of, observations, and, ingenious, deductions, you, have, again, set, down, here, ., In, any, case, I, feel, compelled, to, immediately, express, my, best, thanks, to, you, for, sending, me, your, work, ., I, hope, I, will, be, able, to, return, the, favour, in, about, 12, a, year, from, now, ,, for, tomorrow, the, manuscript, of, the, first, volume, of, a, handbook, of, physiology, of, metabolism, and, energy, exchange, ...)</td>\n",
       "      <td>[Although, I, have, so, far, been, able, merely, to, leaf, through, your, book, “, The, power, of, movements, etc, ”, ,, this, was, still, enough, to, gain, an, insight, into, the, wealth, of, observations, and, ingenious, deductions, you, have, again, set, down, here, ., In, any, case, I, feel, compelled, to, immediately, express, my, best, thanks, to, you, for, sending, me, your, work, ., I, hope, I, will, be, able, to, return, the, favour, in, about, 12, a, year, from, now, ,, for, tomorrow, the, manuscript, of, the, first, volume, of, a, handbook, of, physiology, of, metabolism, and, energy, exchange, ...]</td>\n",
       "    </tr>\n",
       "    <tr>\n",
       "      <th>14914</th>\n",
       "      <td>DCP-LETT-12199.xml</td>\n",
       "      <td>1879</td>\n",
       "      <td>Darwin, C. R.</td>\n",
       "      <td>Marshall, V. A. E. G.</td>\n",
       "      <td>I cannot leave tomorrow morning this delightful place without thanking you cordially for all your kindness. Your permission for me to wander over your estate grounds has made all the difference in my enjoyment, in the good which the visit has done me. I can call your garden nothing less than paradise. — We have used your carriage several times your coachman has been most obliging. — We went one very long expedition to Grasmere, home by Ambleside. The three miles between these two places is the most splendid drive which I ever took. Nevertheless I am a staunch Conistonite feel indignant if anyone prefers Grassmere or Ambleside to Coniston. — Pray tell Mrs. Marshall that we disobeyed orders went to Furness; we were punished, for the day was dark gloomy. On our return we said that a walk along your Terrace was worth half-a-dozen Furness Abbeys; in the afternoon I proved the truth of this by taking 2 or 3 turns along the Terrace, though the afternoon was dull they gave me intense pleasure. — Now I am going to be impertinent: when you return I beseech you to look at four clumps of young unhealthy fir-trees ( which I cannot think will ever grow vigorously from not growing on a slope) in the field in front of the verandah of the hotel; they sadly spoil the view, if universal maledictions would have killed them, the poor things would now all stand withered skeletons. Forgive me scribbling at such length. Everyone here joins me in thanking you Mrs. Marshall most truly. When you come to London, if you Mrs. Marshall can spare the time, pray pay us a visit at Down. In case we shd. not hear when you are in London, I hope that you will be so good as to inform us. Believe me my dear Mr. Marshall | Yours sincerely | Charles Darwin</td>\n",
       "      <td>(I, can, not, leave, tomorrow, morning, this, delightful, place, without, thanking, you, cordially, for, all, your, kindness, ., Your, permission, for, me, to, wander, over, your, estate, grounds, has, made, all, the, difference, in, my, enjoyment, ,, in, the, good, which, the, visit, has, done, me, ., I, can, call, your, garden, nothing, less, than, paradise, ., —, We, have, used, your, carriage, several, times, your, coachman, has, been, most, obliging, ., —, We, went, one, very, long, expedition, to, Grasmere, ,, home, by, Ambleside, ., The, three, miles, between, these, two, places, is, the, most, splendid, drive, which, I, ...)</td>\n",
       "      <td>[I, can, not, leave, tomorrow, morning, this, delightful, place, without, thanking, you, cordially, for, all, your, kindness, ., Your, permission, for, me, to, wander, over, your, estate, grounds, has, made, all, the, difference, in, my, enjoyment, ,, in, the, good, which, the, visit, has, done, me, ., I, can, call, your, garden, nothing, less, than, paradise, ., —, We, have, used, your, carriage, several, times, your, coachman, has, been, most, obliging, ., —, We, went, one, very, long, expedition, to, Grasmere, ,, home, by, Ambleside, ., The, three, miles, between, these, two, places, is, the, most, splendid, drive, which, I, ...]</td>\n",
       "    </tr>\n",
       "  </tbody>\n",
       "</table>\n",
       "<p>14915 rows × 7 columns</p>\n",
       "</div>"
      ],
      "text/plain": [
       "                      File  ...                                                                                                                                                                                                                                                                                                                                                                                                                                                                                                                                                                                                                                                            Tokens\n",
       "0      DCP-LETT-13876.xml   ...  [Charles, Darwin, My, health, keeps, much, as, it, was, ;, I, never, escape, for, a, whole, day, without, much, discomfort, ,, of, course, as, I, grow, older, I, become, much, weaker, ., —]                                                                                                                                                                                                                                                                                                                                                                                                                                                                   \n",
       "1      DCP-LETT-10515F.xml  ...  [I, am, very, much, obliged, for, your, interesting, letter, ., The, case, of, the, white, chickens, surprises, me, much, ,, but, nothing, can, be, more, perplexing, than, the, ‘, laws, causes, of, variability, inheritance, ., I, am, glad, that, any, of, my, books, should, have, at, all, interested, you, ,, as, some, return, for, the, pleasure, which, I, have, derived, from, yours, ., I, am, writing, this, away, from, home, ,, which, I, have, left, for, some, rest, ,, so, I, beg, you, to, excuse, brevity, ., —, Dear, Sir, |, Yours, faithfully, |, Ch, ., Darwin]                                                                         \n",
       "2      DCP-LETT-5961.xml    ...  [Mr, Buckland, has, told, me, that, you, would, excuse, the, liberty, which, I, take, in, writing, to, you, ., —, I, am, anxious, for, any, information, in, regard, to, the, proportional, numbers, of, males, females, born, to, any, animals, ;, but, this, can, hardly, be, told, except, with, domestic, or, semi, -, domestic, animals, ., —, Mr., B.,  , says, that, you, have, bred, many, rats, ,, if, you, have, kept, any, Memoranda, ,, or, have, a, decided, impression, on, the, relative, numbers, of, the, two, sexes, ,, I, shd, be, grateful, for, information, ., —, Perhaps, you, can, also, ...]                                           \n",
       "3      DCP-LETT-2753F.xml   ...  [Please, procure, send, me, by, Post, ,, Mr, Pat, ., Matthew, ’s, work, on, “, Naval, Timber, Arboriculture, ”, 1831, ., Adam, Black, Edinburgh, Longman, London, ., —, Dear, Sir, ,, |, Yours, faithfully, |, C.,  , Darwin]                                                                                                                                                                                                                                                                                                                                                                                                                                   \n",
       "4      DCP-LETT-8607A.xml   ...  [I, have, by, this, same, post, sent, off, the, few, trifling, errata, to, Mr, Clowes, ., —, Have, you, given, orders, about, the, Heliotypes, ?, I, am, very, glad, of, your, news, ., —, Let, me, hear, sale, of, all, my, books, ,, —, In, Haste, |, C.,  , Darwin]                                                                                                                                                                                                                                                                                                                                                                                          \n",
       "...                   ...   ...                                                                                                                                                                                                                                                                     ...                                                                                                                                                                                                                                                                                                                                                                                          \n",
       "14910  DCP-LETT-10624.xml   ...  [Mr., L.,  , will, meet, you, here, on, Tuesday, ., —, You, had, better, write, direct, to, him, ,, appointing, hour, ,, address, him, “, Mr., Laslett, Builder, Farnborough, Kent, ., ”, We, leave, home, early, on, Wednesday, morning, therefore, we, can, not, ask, you, to, sleep, here, ,, as, you, seem, so, busy, I, daresay, it, wd, be, inconvenient, for, you, to, do, so, ., Yours, very, sincerely, |, Ch, ., Darwin]                                                                                                                                                                                                                              \n",
       "14911  DCP-LETT-10410.xml   ...  [I, have, the, pleasure, to, send, some, autographs, as, you, desire, Yours, very, faithfully, |, Ch, ., Darwin, Charles, Darwin, |, Down, Kent, |, Feb.,  , 25th, 1876, |, Charles, Darwin]                                                                                                                                                                                                                                                                                                                                                                                                                                                                    \n",
       "14912  DCP-LETT-10604.xml   ...  [I, send, by, this, post, Chapt, IX, ,, but, I, earnestly, beg, you, not, to, strain, your, mind, return, the, sheets, marked, “, uncorrected, ”, if, ,, as, I, expect, ,, you, find, it, too, much, for, you, ., —, It, will, give, me, only, a, little, additional, trouble, ., The, figures, have, not, been, compared, ., As, I, had, Chapt, VIII, almost, finished, a, week, ago, ,, I, despatched, it, then, to, the, Printers, :, it, had, no, figures, related, to, the, constitutional, vigour, of, the, crossed, Plants, ., Some, of, the, present, sheets, are, so, heavily, corrected, that, ...]                                                   \n",
       "14913  DCP-LETT-12856.xml   ...  [Although, I, have, so, far, been, able, merely, to, leaf, through, your, book, “, The, power, of, movements, etc, ”, ,, this, was, still, enough, to, gain, an, insight, into, the, wealth, of, observations, and, ingenious, deductions, you, have, again, set, down, here, ., In, any, case, I, feel, compelled, to, immediately, express, my, best, thanks, to, you, for, sending, me, your, work, ., I, hope, I, will, be, able, to, return, the, favour, in, about, 12, a, year, from, now, ,, for, tomorrow, the, manuscript, of, the, first, volume, of, a, handbook, of, physiology, of, metabolism, and, energy, exchange, ...]                       \n",
       "14914  DCP-LETT-12199.xml   ...  [I, can, not, leave, tomorrow, morning, this, delightful, place, without, thanking, you, cordially, for, all, your, kindness, ., Your, permission, for, me, to, wander, over, your, estate, grounds, has, made, all, the, difference, in, my, enjoyment, ,, in, the, good, which, the, visit, has, done, me, ., I, can, call, your, garden, nothing, less, than, paradise, ., —, We, have, used, your, carriage, several, times, your, coachman, has, been, most, obliging, ., —, We, went, one, very, long, expedition, to, Grasmere, ,, home, by, Ambleside, ., The, three, miles, between, these, two, places, is, the, most, splendid, drive, which, I, ...]\n",
       "\n",
       "[14915 rows x 7 columns]"
      ]
     },
     "execution_count": 32,
     "metadata": {},
     "output_type": "execute_result"
    }
   ],
   "source": [
    "df['Tokens'] = [[word.text for word in sp(df['Transcription'].iloc[i])] for i in range(df.shape[0])]\n",
    "df"
   ]
  },
  {
   "cell_type": "code",
   "execution_count": null,
   "metadata": {
    "colab": {
     "base_uri": "https://localhost:8080/",
     "height": 947
    },
    "id": "JrfEu4LO5caW",
    "outputId": "e3b6b215-a22b-427d-c4fd-f46b641e5ba6"
   },
   "outputs": [
    {
     "data": {
      "text/html": [
       "<div>\n",
       "<style scoped>\n",
       "    .dataframe tbody tr th:only-of-type {\n",
       "        vertical-align: middle;\n",
       "    }\n",
       "\n",
       "    .dataframe tbody tr th {\n",
       "        vertical-align: top;\n",
       "    }\n",
       "\n",
       "    .dataframe thead th {\n",
       "        text-align: right;\n",
       "    }\n",
       "</style>\n",
       "<table border=\"1\" class=\"dataframe\">\n",
       "  <thead>\n",
       "    <tr style=\"text-align: right;\">\n",
       "      <th></th>\n",
       "      <th>File</th>\n",
       "      <th>Year</th>\n",
       "      <th>Sender</th>\n",
       "      <th>Receiver</th>\n",
       "      <th>Transcription</th>\n",
       "      <th>Transcription_spacy</th>\n",
       "      <th>Tokens</th>\n",
       "    </tr>\n",
       "  </thead>\n",
       "  <tbody>\n",
       "    <tr>\n",
       "      <th>4883</th>\n",
       "      <td>DCP-LETT-686.xml</td>\n",
       "      <td>1843</td>\n",
       "      <td>Waterhouse, G. R.</td>\n",
       "      <td>Darwin, C. R.</td>\n",
       "      <td>–  –  – Museum three — one from Dr. Richardson who is well known there having worked much in the collection; one from Mr Yarrell one from Mr. Bowerbank — I will make it a point to borrow Whewell’s book from Owen to read it the moment he returns — As regards Classification of animals some conclusions I have come to are as follows — That species of animals belonging to the same genus may have an affinity to each other; genera of the same family may have a mutual affinity; relationship of affinity may likewise exist between orders of the same class, but the degree of affinity is different in the different cases — The affinity between species of the same genus may be called an affinity of the first degree; that of genera to genera, of the same family, of the second, or more remote, degree; and, that of families of the third degree so on — Then species of one family have affinity with species of other families of the same order an affinity of the third degree only, and species of different orders of the fourth degree only — That some such feeling as this is impressed upon Naturalists may be inferred from the pains that is taken to place prominently the points of resemblance between animals of different groups of high value — as in the case of the affinity of the ornithrhynchus, or the Echidna, to the Reptiles — the differences here I do not find are dwelt upon with the same ‘gout’ as the points of resemblance — The affinity of the Ornithorhynchus to the Echidna in very much closer than that of either of these animals to the Classes Reptilia, or Aves, — of a different nature as I will undertake to show — That other, and closer links between the Classes may hereafter be found would be stupid to deny, but as a matter of feeling — reasoning from analogies — I do not expect it. There is much to be said on this subject which I will trouble you with hereafter — I have been hard at work at brains for some time past immensely interested with my studies because in some respects I find the result so very different from what I expected. The Whales for instance are placed by Cuvier many Naturalists at the end of the Class Mammalia, yet they have a most highly organized brain — I have puzzled myself much about this matter, for although from all I can learn of the Whales they appear to enjoy a considerable stock of intelligence it does not at all come up to what would be inferred from the consideration of the brain alone — and, it has occurred to me that as the brain is a thing to be educated from without it does not follow that what would be termed a highly organized brain is necessarily followed by corresponding intelligence in the animal — The whales have many of them no olfactory nerves in the others they are in a most rudimentary condition — Their organ of vision does not appear to be particularly good — Of legs they have none their hands most unfitted for touch — and yet this animal has to suckle its young c — he ought to have a good brain to recompense him for the imperfections of the educatory media — Among the Carnivora, the brain of the seal is perhaps one of the highest this poor brute is likewise in a bad school — I mention this as having connexion with “The physiological importance to life of different structures” — I may add that in animals of the same group (in the Quadrumana for instance) there is immense difference in the structure of the brain — species of many groups have a much higher brain than the lowest Quadrumana but none have so good a brain as the highest of that order — as a general rule each group begins as it were lower than its predecessor (beginning at the bottom) terminates higher — each at the same time seems to perfect something — in the organs of respiration, circulation locomotion the bird is higher than Man — Having had my bit of chat I will go to bed — so good night | Always sincerely yours | Geo. R. Waterhouse</td>\n",
       "      <td>( , –,  , –,  , –, Museum, three, —, one, from, Dr., Richardson, who, is, well, known, there, having, worked, much, in, the, collection, ;, one, from, Mr, Yarrell, one, from, Mr., Bowerbank, —, I, will, make, it, a, point, to, borrow, Whewell, ’s, book, from, Owen, to, read, it, the, moment, he, returns, —, As, regards, Classification, of, animals, some, conclusions, I, have, come, to, are, as, follows, —, That, species, of, animals, belonging, to, the, same, genus, may, have, an, affinity, to, each, other, ;, genera, of, the, same, family, may, have, a, mutual, affinity, ;, relationship, of, ...)</td>\n",
       "      <td>[ , –,  , –,  , –, Museum, three, —, one, from, Dr., Richardson, who, is, well, known, there, having, worked, much, in, the, collection, ;, one, from, Mr, Yarrell, one, from, Mr., Bowerbank, —, I, will, make, it, a, point, to, borrow, Whewell, ’s, book, from, Owen, to, read, it, the, moment, he, returns, —, As, regards, Classification, of, animals, some, conclusions, I, have, come, to, are, as, follows, —, That, species, of, animals, belonging, to, the, same, genus, may, have, an, affinity, to, each, other, ;, genera, of, the, same, family, may, have, a, mutual, affinity, ;, relationship, of, ...]</td>\n",
       "    </tr>\n",
       "  </tbody>\n",
       "</table>\n",
       "</div>"
      ],
      "text/plain": [
       "                  File  ...                                                                                                                                                                                                                                                                                                                                                                                                                                                                                                                                                                                                                        Tokens\n",
       "4883  DCP-LETT-686.xml  ...  [ , –,  , –,  , –, Museum, three, —, one, from, Dr., Richardson, who, is, well, known, there, having, worked, much, in, the, collection, ;, one, from, Mr, Yarrell, one, from, Mr., Bowerbank, —, I, will, make, it, a, point, to, borrow, Whewell, ’s, book, from, Owen, to, read, it, the, moment, he, returns, —, As, regards, Classification, of, animals, some, conclusions, I, have, come, to, are, as, follows, —, That, species, of, animals, belonging, to, the, same, genus, may, have, an, affinity, to, each, other, ;, genera, of, the, same, family, may, have, a, mutual, affinity, ;, relationship, of, ...]\n",
       "\n",
       "[1 rows x 7 columns]"
      ]
     },
     "execution_count": 33,
     "metadata": {},
     "output_type": "execute_result"
    }
   ],
   "source": [
    "df[df['File'] == \"DCP-LETT-686.xml\"]"
   ]
  },
  {
   "cell_type": "markdown",
   "metadata": {
    "id": "QD1GoLRSUMvO"
   },
   "source": [
    "### Lemmatisation"
   ]
  },
  {
   "cell_type": "markdown",
   "metadata": {
    "id": "5EA3tiePkvth"
   },
   "source": [
    "I lemmatise the letters. **NB this can take about 12 minutes.**"
   ]
  },
  {
   "cell_type": "code",
   "execution_count": null,
   "metadata": {
    "colab": {
     "background_save": true
    },
    "id": "vUWDjefPUOTJ",
    "outputId": "df70da7d-8653-4a2e-82b3-8598677f5b2a"
   },
   "outputs": [
    {
     "data": {
      "text/html": [
       "<div>\n",
       "<style scoped>\n",
       "    .dataframe tbody tr th:only-of-type {\n",
       "        vertical-align: middle;\n",
       "    }\n",
       "\n",
       "    .dataframe tbody tr th {\n",
       "        vertical-align: top;\n",
       "    }\n",
       "\n",
       "    .dataframe thead th {\n",
       "        text-align: right;\n",
       "    }\n",
       "</style>\n",
       "<table border=\"1\" class=\"dataframe\">\n",
       "  <thead>\n",
       "    <tr style=\"text-align: right;\">\n",
       "      <th></th>\n",
       "      <th>File</th>\n",
       "      <th>Year</th>\n",
       "      <th>Sender</th>\n",
       "      <th>Receiver</th>\n",
       "      <th>Transcription</th>\n",
       "      <th>Transcription_spacy</th>\n",
       "      <th>Tokens</th>\n",
       "      <th>Lemmas</th>\n",
       "    </tr>\n",
       "  </thead>\n",
       "  <tbody>\n",
       "    <tr>\n",
       "      <th>0</th>\n",
       "      <td>DCP-LETT-13876.xml</td>\n",
       "      <td>1871</td>\n",
       "      <td>Darwin, C. R.</td>\n",
       "      <td>Unidentified</td>\n",
       "      <td>Charles Darwin My health keeps much as it was; I never escape for a whole day without much discomfort, of course as I grow older I become much weaker. —</td>\n",
       "      <td>(Charles, Darwin, My, health, keeps, much, as, it, was, ;, I, never, escape, for, a, whole, day, without, much, discomfort, ,, of, course, as, I, grow, older, I, become, much, weaker, ., —)</td>\n",
       "      <td>[Charles, Darwin, My, health, keeps, much, as, it, was, ;, I, never, escape, for, a, whole, day, without, much, discomfort, ,, of, course, as, I, grow, older, I, become, much, weaker, ., —]</td>\n",
       "      <td>[Charles, Darwin, -PRON-, health, keep, much, as, -PRON-, be, ;, -PRON-, never, escape, for, a, whole, day, without, much, discomfort, ,, of, course, as, -PRON-, grow, old, -PRON-, become, much, weak, ., —]</td>\n",
       "    </tr>\n",
       "    <tr>\n",
       "      <th>1</th>\n",
       "      <td>DCP-LETT-10515F.xml</td>\n",
       "      <td>1876</td>\n",
       "      <td>Darwin, C. R.</td>\n",
       "      <td>Zincke, F. B.</td>\n",
       "      <td>I am very much obliged for your interesting letter. The case of the white chickens surprises me much, but nothing can be more perplexing than the ‘laws causes of variability inheritance. I am glad that any of my books should have at all interested you, as some return for the pleasure which I have derived from yours. I am writing this away from home, which I have left for some rest, so I beg you to excuse brevity. — Dear Sir | Yours faithfully | Ch. Darwin</td>\n",
       "      <td>(I, am, very, much, obliged, for, your, interesting, letter, ., The, case, of, the, white, chickens, surprises, me, much, ,, but, nothing, can, be, more, perplexing, than, the, ‘, laws, causes, of, variability, inheritance, ., I, am, glad, that, any, of, my, books, should, have, at, all, interested, you, ,, as, some, return, for, the, pleasure, which, I, have, derived, from, yours, ., I, am, writing, this, away, from, home, ,, which, I, have, left, for, some, rest, ,, so, I, beg, you, to, excuse, brevity, ., —, Dear, Sir, |, Yours, faithfully, |, Ch, ., Darwin)</td>\n",
       "      <td>[I, am, very, much, obliged, for, your, interesting, letter, ., The, case, of, the, white, chickens, surprises, me, much, ,, but, nothing, can, be, more, perplexing, than, the, ‘, laws, causes, of, variability, inheritance, ., I, am, glad, that, any, of, my, books, should, have, at, all, interested, you, ,, as, some, return, for, the, pleasure, which, I, have, derived, from, yours, ., I, am, writing, this, away, from, home, ,, which, I, have, left, for, some, rest, ,, so, I, beg, you, to, excuse, brevity, ., —, Dear, Sir, |, Yours, faithfully, |, Ch, ., Darwin]</td>\n",
       "      <td>[-PRON-, be, very, much, oblige, for, -PRON-, interesting, letter, ., the, case, of, the, white, chicken, surprise, -PRON-, much, ,, but, nothing, can, be, more, perplexing, than, the, ', law, cause, of, variability, inheritance, ., -PRON-, be, glad, that, any, of, -PRON-, book, should, have, at, all, interest, -PRON-, ,, as, some, return, for, the, pleasure, which, -PRON-, have, derive, from, your, ., -PRON-, be, write, this, away, from, home, ,, which, -PRON-, have, leave, for, some, rest, ,, so, -PRON-, beg, -PRON-, to, excuse, brevity, ., —, Dear, Sir, |, Yours, faithfully, |, Ch, ., Darwin]</td>\n",
       "    </tr>\n",
       "    <tr>\n",
       "      <th>2</th>\n",
       "      <td>DCP-LETT-5961.xml</td>\n",
       "      <td>1868</td>\n",
       "      <td>Darwin, C. R.</td>\n",
       "      <td>Bush, John</td>\n",
       "      <td>Mr Buckland has told me that you would excuse the liberty which I take in writing to you. — I am anxious for any information in regard to the proportional numbers of males females born to any animals; but this can hardly be told except with domestic or semi-domestic animals. — Mr. B. says that you have bred many rats, if you have kept any Memoranda, or have a decided impression on the relative numbers of the two sexes, I shd be grateful for information. — Perhaps you can also tell me whether male rats fight for the possession of the female, whether an old powerful rat is polygamous will keep several wifes. — Hoping that you will excuse my troubling you, I remain | Dear Sir | Yours very faithfully | Ch. Darwin My address for next 3 or 4 weeks will be 6. Queen Anne St Cavendish Sqe London W.</td>\n",
       "      <td>(Mr, Buckland, has, told, me, that, you, would, excuse, the, liberty, which, I, take, in, writing, to, you, ., —, I, am, anxious, for, any, information, in, regard, to, the, proportional, numbers, of, males, females, born, to, any, animals, ;, but, this, can, hardly, be, told, except, with, domestic, or, semi, -, domestic, animals, ., —, Mr., B.,  , says, that, you, have, bred, many, rats, ,, if, you, have, kept, any, Memoranda, ,, or, have, a, decided, impression, on, the, relative, numbers, of, the, two, sexes, ,, I, shd, be, grateful, for, information, ., —, Perhaps, you, can, also, ...)</td>\n",
       "      <td>[Mr, Buckland, has, told, me, that, you, would, excuse, the, liberty, which, I, take, in, writing, to, you, ., —, I, am, anxious, for, any, information, in, regard, to, the, proportional, numbers, of, males, females, born, to, any, animals, ;, but, this, can, hardly, be, told, except, with, domestic, or, semi, -, domestic, animals, ., —, Mr., B.,  , says, that, you, have, bred, many, rats, ,, if, you, have, kept, any, Memoranda, ,, or, have, a, decided, impression, on, the, relative, numbers, of, the, two, sexes, ,, I, shd, be, grateful, for, information, ., —, Perhaps, you, can, also, ...]</td>\n",
       "      <td>[Mr, Buckland, have, tell, -PRON-, that, -PRON-, would, excuse, the, liberty, which, -PRON-, take, in, write, to, -PRON-, ., —, -PRON-, be, anxious, for, any, information, in, regard, to, the, proportional, number, of, male, female, bear, to, any, animal, ;, but, this, can, hardly, be, tell, except, with, domestic, or, semi, -, domestic, animal, ., —, Mr., B.,   , say, that, -PRON-, have, breed, many, rat, ,, if, -PRON-, have, keep, any, Memoranda, ,, or, have, a, decide, impression, on, the, relative, number, of, the, two, sex, ,, -PRON-, shd, be, grateful, for, information, ., —, perhaps, -PRON-, can, also, ...]</td>\n",
       "    </tr>\n",
       "    <tr>\n",
       "      <th>3</th>\n",
       "      <td>DCP-LETT-2753F.xml</td>\n",
       "      <td>1860</td>\n",
       "      <td>Darwin, C. R.</td>\n",
       "      <td>Bookseller</td>\n",
       "      <td>Please procure send me by Post, Mr Pat. Matthew’s work on “Naval Timber Arboriculture” 1831. Adam Black Edinburgh Longman London. — Dear Sir, | Yours faithfully | C. Darwin</td>\n",
       "      <td>(Please, procure, send, me, by, Post, ,, Mr, Pat, ., Matthew, ’s, work, on, “, Naval, Timber, Arboriculture, ”, 1831, ., Adam, Black, Edinburgh, Longman, London, ., —, Dear, Sir, ,, |, Yours, faithfully, |, C.,  , Darwin)</td>\n",
       "      <td>[Please, procure, send, me, by, Post, ,, Mr, Pat, ., Matthew, ’s, work, on, “, Naval, Timber, Arboriculture, ”, 1831, ., Adam, Black, Edinburgh, Longman, London, ., —, Dear, Sir, ,, |, Yours, faithfully, |, C.,  , Darwin]</td>\n",
       "      <td>[please, procure, send, -PRON-, by, Post, ,, Mr, Pat, ., Matthew, ’s, work, on, \", Naval, Timber, Arboriculture, \", 1831, ., Adam, Black, Edinburgh, Longman, London, ., —, Dear, Sir, ,, |, Yours, faithfully, |, C.,   , Darwin]</td>\n",
       "    </tr>\n",
       "    <tr>\n",
       "      <th>4</th>\n",
       "      <td>DCP-LETT-8607A.xml</td>\n",
       "      <td>1872</td>\n",
       "      <td>Darwin, C. R.</td>\n",
       "      <td>Murray, John (b)</td>\n",
       "      <td>I have by this same post sent off the few trifling errata to Mr Clowes. — Have you given orders about the Heliotypes? I am very glad of your news. — Let me hear sale of all my books, — In Haste | C. Darwin</td>\n",
       "      <td>(I, have, by, this, same, post, sent, off, the, few, trifling, errata, to, Mr, Clowes, ., —, Have, you, given, orders, about, the, Heliotypes, ?, I, am, very, glad, of, your, news, ., —, Let, me, hear, sale, of, all, my, books, ,, —, In, Haste, |, C.,  , Darwin)</td>\n",
       "      <td>[I, have, by, this, same, post, sent, off, the, few, trifling, errata, to, Mr, Clowes, ., —, Have, you, given, orders, about, the, Heliotypes, ?, I, am, very, glad, of, your, news, ., —, Let, me, hear, sale, of, all, my, books, ,, —, In, Haste, |, C.,  , Darwin]</td>\n",
       "      <td>[-PRON-, have, by, this, same, post, send, off, the, few, trifling, erratum, to, Mr, Clowes, ., —, have, -PRON-, give, order, about, the, Heliotypes, ?, -PRON-, be, very, glad, of, -PRON-, news, ., —, let, -PRON-, hear, sale, of, all, -PRON-, book, ,, —, in, Haste, |, C.,   , Darwin]</td>\n",
       "    </tr>\n",
       "    <tr>\n",
       "      <th>...</th>\n",
       "      <td>...</td>\n",
       "      <td>...</td>\n",
       "      <td>...</td>\n",
       "      <td>...</td>\n",
       "      <td>...</td>\n",
       "      <td>...</td>\n",
       "      <td>...</td>\n",
       "      <td>...</td>\n",
       "    </tr>\n",
       "    <tr>\n",
       "      <th>14910</th>\n",
       "      <td>DCP-LETT-10624.xml</td>\n",
       "      <td>1876</td>\n",
       "      <td>Darwin, C. R.</td>\n",
       "      <td>Marshall, W. C.</td>\n",
       "      <td>Mr. L. will meet you here on Tuesday. — You had better write direct to him, appointing hour, address him “Mr. Laslett Builder Farnborough Kent.” We leave home early on Wednesday morning therefore we cannot ask you to sleep here, as you seem so busy I daresay it wd be inconvenient for you to do so. Yours very sincerely | Ch. Darwin</td>\n",
       "      <td>(Mr., L.,  , will, meet, you, here, on, Tuesday, ., —, You, had, better, write, direct, to, him, ,, appointing, hour, ,, address, him, “, Mr., Laslett, Builder, Farnborough, Kent, ., ”, We, leave, home, early, on, Wednesday, morning, therefore, we, can, not, ask, you, to, sleep, here, ,, as, you, seem, so, busy, I, daresay, it, wd, be, inconvenient, for, you, to, do, so, ., Yours, very, sincerely, |, Ch, ., Darwin)</td>\n",
       "      <td>[Mr., L.,  , will, meet, you, here, on, Tuesday, ., —, You, had, better, write, direct, to, him, ,, appointing, hour, ,, address, him, “, Mr., Laslett, Builder, Farnborough, Kent, ., ”, We, leave, home, early, on, Wednesday, morning, therefore, we, can, not, ask, you, to, sleep, here, ,, as, you, seem, so, busy, I, daresay, it, wd, be, inconvenient, for, you, to, do, so, ., Yours, very, sincerely, |, Ch, ., Darwin]</td>\n",
       "      <td>[Mr., L.,   , will, meet, -PRON-, here, on, Tuesday, ., —, -PRON-, have, better, write, direct, to, -PRON-, ,, appoint, hour, ,, address, -PRON-, \", Mr., Laslett, Builder, Farnborough, Kent, ., \", -PRON-, leave, home, early, on, Wednesday, morning, therefore, -PRON-, can, not, ask, -PRON-, to, sleep, here, ,, as, -PRON-, seem, so, busy, -PRON-, daresay, -PRON-, wd, be, inconvenient, for, -PRON-, to, do, so, ., yours, very, sincerely, |, Ch, ., Darwin]</td>\n",
       "    </tr>\n",
       "    <tr>\n",
       "      <th>14911</th>\n",
       "      <td>DCP-LETT-10410.xml</td>\n",
       "      <td>1876</td>\n",
       "      <td>Darwin, C. R.</td>\n",
       "      <td>Unidentified</td>\n",
       "      <td>I have the pleasure to send some autographs as you desire Yours very faithfully | Ch. Darwin Charles Darwin | Down Kent | Feb. 25th 1876 | Charles Darwin</td>\n",
       "      <td>(I, have, the, pleasure, to, send, some, autographs, as, you, desire, Yours, very, faithfully, |, Ch, ., Darwin, Charles, Darwin, |, Down, Kent, |, Feb.,  , 25th, 1876, |, Charles, Darwin)</td>\n",
       "      <td>[I, have, the, pleasure, to, send, some, autographs, as, you, desire, Yours, very, faithfully, |, Ch, ., Darwin, Charles, Darwin, |, Down, Kent, |, Feb.,  , 25th, 1876, |, Charles, Darwin]</td>\n",
       "      <td>[-PRON-, have, the, pleasure, to, send, some, autograph, as, -PRON-, desire, -PRON-, very, faithfully, |, Ch, ., Darwin, Charles, Darwin, |, Down, Kent, |, February,   , 25th, 1876, |, Charles, Darwin]</td>\n",
       "    </tr>\n",
       "    <tr>\n",
       "      <th>14912</th>\n",
       "      <td>DCP-LETT-10604.xml</td>\n",
       "      <td>1876</td>\n",
       "      <td>Darwin, C. R.</td>\n",
       "      <td>Darwin, Francis</td>\n",
       "      <td>I send by this post Chapt IX, but I earnestly beg you not to strain your mind return the sheets marked “uncorrected” if, as I expect, you find it too much for you. — It will give me only a little additional trouble. The figures have not been compared. As I had Chapt VIII almost finished a week ago, I despatched it then to the Printers: it had no figures related to the constitutional vigour of the crossed Plants. Some of the present sheets are so heavily corrected that they will be difficult for you to read. I have put your tools c up-stairs in order so far as not to be injured; but I cannot find your compound microscope to protect from dust. — I have made a few notes on the state of your plants in the Hot-house. My dearest son, your little note yesterday to mother, in which you say that you love me was the greatest possible comfort to me. I have been thinking much about you during your whole life, I am sure that you have deserved the love of your poor dear sweet darling. I am so deeply glad that she did not suffer at last, — it is my only poor consolation. God bless you my dearest son. Give my best love to Mrs. Ruck: I never in my life saw her equal for goodness kindness of heart. I was much affected by Dicky’s letter to George: he was a great comfort to us all. My dear son | Your affectionate Father | C. Darwin</td>\n",
       "      <td>(I, send, by, this, post, Chapt, IX, ,, but, I, earnestly, beg, you, not, to, strain, your, mind, return, the, sheets, marked, “, uncorrected, ”, if, ,, as, I, expect, ,, you, find, it, too, much, for, you, ., —, It, will, give, me, only, a, little, additional, trouble, ., The, figures, have, not, been, compared, ., As, I, had, Chapt, VIII, almost, finished, a, week, ago, ,, I, despatched, it, then, to, the, Printers, :, it, had, no, figures, related, to, the, constitutional, vigour, of, the, crossed, Plants, ., Some, of, the, present, sheets, are, so, heavily, corrected, that, ...)</td>\n",
       "      <td>[I, send, by, this, post, Chapt, IX, ,, but, I, earnestly, beg, you, not, to, strain, your, mind, return, the, sheets, marked, “, uncorrected, ”, if, ,, as, I, expect, ,, you, find, it, too, much, for, you, ., —, It, will, give, me, only, a, little, additional, trouble, ., The, figures, have, not, been, compared, ., As, I, had, Chapt, VIII, almost, finished, a, week, ago, ,, I, despatched, it, then, to, the, Printers, :, it, had, no, figures, related, to, the, constitutional, vigour, of, the, crossed, Plants, ., Some, of, the, present, sheets, are, so, heavily, corrected, that, ...]</td>\n",
       "      <td>[-PRON-, send, by, this, post, Chapt, IX, ,, but, -PRON-, earnestly, beg, -PRON-, not, to, strain, -PRON-, mind, return, the, sheet, mark, \", uncorrected, \", if, ,, as, -PRON-, expect, ,, -PRON-, find, -PRON-, too, much, for, -PRON-, ., —, -PRON-, will, give, -PRON-, only, a, little, additional, trouble, ., the, figure, have, not, be, compare, ., as, -PRON-, have, chapt, VIII, almost, finish, a, week, ago, ,, -PRON-, despatch, -PRON-, then, to, the, Printers, :, -PRON-, have, no, figure, relate, to, the, constitutional, vigour, of, the, cross, plant, ., some, of, the, present, sheet, be, so, heavily, correct, that, ...]</td>\n",
       "    </tr>\n",
       "    <tr>\n",
       "      <th>14913</th>\n",
       "      <td>DCP-LETT-12856.xml</td>\n",
       "      <td>1880</td>\n",
       "      <td>Pfeffer, W. F. P.</td>\n",
       "      <td>Darwin, C. R.</td>\n",
       "      <td>Although I have so far been able merely to leaf through your book “The power of movements etc”, this was still enough to gain an insight into the wealth of observations and ingenious deductions you have again set down here. In any case I feel compelled to immediately express my best thanks to you for sending me your work. I hope I will be able to return the favour in about 12 a year from now, for tomorrow the manuscript of the first volume of a handbook of physiology of metabolism and energy exchange will go to the printers. For the 2d volume, too, all preliminary work is complete to such a degree that I hope to also get this ready for press in 12 a year. Unfortunately, this work left me no time to undertake any other investigations of an extensive nature, but in the not too distant future I hope a collection of physiological works by pupils will appear. Incidentally, I have gradually equipped the botanical institute here, whose rooms are superb, with a most complete physiological apparatus. With the highest respect | Yours | devoted | Dr. W. Pfeffer.</td>\n",
       "      <td>(Although, I, have, so, far, been, able, merely, to, leaf, through, your, book, “, The, power, of, movements, etc, ”, ,, this, was, still, enough, to, gain, an, insight, into, the, wealth, of, observations, and, ingenious, deductions, you, have, again, set, down, here, ., In, any, case, I, feel, compelled, to, immediately, express, my, best, thanks, to, you, for, sending, me, your, work, ., I, hope, I, will, be, able, to, return, the, favour, in, about, 12, a, year, from, now, ,, for, tomorrow, the, manuscript, of, the, first, volume, of, a, handbook, of, physiology, of, metabolism, and, energy, exchange, ...)</td>\n",
       "      <td>[Although, I, have, so, far, been, able, merely, to, leaf, through, your, book, “, The, power, of, movements, etc, ”, ,, this, was, still, enough, to, gain, an, insight, into, the, wealth, of, observations, and, ingenious, deductions, you, have, again, set, down, here, ., In, any, case, I, feel, compelled, to, immediately, express, my, best, thanks, to, you, for, sending, me, your, work, ., I, hope, I, will, be, able, to, return, the, favour, in, about, 12, a, year, from, now, ,, for, tomorrow, the, manuscript, of, the, first, volume, of, a, handbook, of, physiology, of, metabolism, and, energy, exchange, ...]</td>\n",
       "      <td>[although, -PRON-, have, so, far, be, able, merely, to, leaf, through, -PRON-, book, \", the, power, of, movement, etc, \", ,, this, be, still, enough, to, gain, an, insight, into, the, wealth, of, observation, and, ingenious, deduction, -PRON-, have, again, set, down, here, ., in, any, case, -PRON-, feel, compel, to, immediately, express, -PRON-, good, thank, to, -PRON-, for, send, -PRON-, -PRON-, work, ., -PRON-, hope, -PRON-, will, be, able, to, return, the, favour, in, about, 12, a, year, from, now, ,, for, tomorrow, the, manuscript, of, the, first, volume, of, a, handbook, of, physiology, of, metabolism, and, energy, exchange, ...]</td>\n",
       "    </tr>\n",
       "    <tr>\n",
       "      <th>14914</th>\n",
       "      <td>DCP-LETT-12199.xml</td>\n",
       "      <td>1879</td>\n",
       "      <td>Darwin, C. R.</td>\n",
       "      <td>Marshall, V. A. E. G.</td>\n",
       "      <td>I cannot leave tomorrow morning this delightful place without thanking you cordially for all your kindness. Your permission for me to wander over your estate grounds has made all the difference in my enjoyment, in the good which the visit has done me. I can call your garden nothing less than paradise. — We have used your carriage several times your coachman has been most obliging. — We went one very long expedition to Grasmere, home by Ambleside. The three miles between these two places is the most splendid drive which I ever took. Nevertheless I am a staunch Conistonite feel indignant if anyone prefers Grassmere or Ambleside to Coniston. — Pray tell Mrs. Marshall that we disobeyed orders went to Furness; we were punished, for the day was dark gloomy. On our return we said that a walk along your Terrace was worth half-a-dozen Furness Abbeys; in the afternoon I proved the truth of this by taking 2 or 3 turns along the Terrace, though the afternoon was dull they gave me intense pleasure. — Now I am going to be impertinent: when you return I beseech you to look at four clumps of young unhealthy fir-trees ( which I cannot think will ever grow vigorously from not growing on a slope) in the field in front of the verandah of the hotel; they sadly spoil the view, if universal maledictions would have killed them, the poor things would now all stand withered skeletons. Forgive me scribbling at such length. Everyone here joins me in thanking you Mrs. Marshall most truly. When you come to London, if you Mrs. Marshall can spare the time, pray pay us a visit at Down. In case we shd. not hear when you are in London, I hope that you will be so good as to inform us. Believe me my dear Mr. Marshall | Yours sincerely | Charles Darwin</td>\n",
       "      <td>(I, can, not, leave, tomorrow, morning, this, delightful, place, without, thanking, you, cordially, for, all, your, kindness, ., Your, permission, for, me, to, wander, over, your, estate, grounds, has, made, all, the, difference, in, my, enjoyment, ,, in, the, good, which, the, visit, has, done, me, ., I, can, call, your, garden, nothing, less, than, paradise, ., —, We, have, used, your, carriage, several, times, your, coachman, has, been, most, obliging, ., —, We, went, one, very, long, expedition, to, Grasmere, ,, home, by, Ambleside, ., The, three, miles, between, these, two, places, is, the, most, splendid, drive, which, I, ...)</td>\n",
       "      <td>[I, can, not, leave, tomorrow, morning, this, delightful, place, without, thanking, you, cordially, for, all, your, kindness, ., Your, permission, for, me, to, wander, over, your, estate, grounds, has, made, all, the, difference, in, my, enjoyment, ,, in, the, good, which, the, visit, has, done, me, ., I, can, call, your, garden, nothing, less, than, paradise, ., —, We, have, used, your, carriage, several, times, your, coachman, has, been, most, obliging, ., —, We, went, one, very, long, expedition, to, Grasmere, ,, home, by, Ambleside, ., The, three, miles, between, these, two, places, is, the, most, splendid, drive, which, I, ...]</td>\n",
       "      <td>[-PRON-, can, not, leave, tomorrow, morning, this, delightful, place, without, thank, -PRON-, cordially, for, all, -PRON-, kindness, ., -PRON-, permission, for, -PRON-, to, wander, over, -PRON-, estate, ground, have, make, all, the, difference, in, -PRON-, enjoyment, ,, in, the, good, which, the, visit, have, do, -PRON-, ., -PRON-, can, call, -PRON-, garden, nothing, less, than, paradise, ., —, -PRON-, have, use, -PRON-, carriage, several, time, -PRON-, coachman, have, be, most, obliging, ., —, -PRON-, go, one, very, long, expedition, to, Grasmere, ,, home, by, Ambleside, ., the, three, mile, between, these, two, place, be, the, most, splendid, drive, which, -PRON-, ...]</td>\n",
       "    </tr>\n",
       "  </tbody>\n",
       "</table>\n",
       "<p>14915 rows × 8 columns</p>\n",
       "</div>"
      ],
      "text/plain": [
       "                      File  ...                                                                                                                                                                                                                                                                                                                                                                                                                                                                                                                                                                                                                                                                                                   Lemmas\n",
       "0      DCP-LETT-13876.xml   ...  [Charles, Darwin, -PRON-, health, keep, much, as, -PRON-, be, ;, -PRON-, never, escape, for, a, whole, day, without, much, discomfort, ,, of, course, as, -PRON-, grow, old, -PRON-, become, much, weak, ., —]                                                                                                                                                                                                                                                                                                                                                                                                                                                                                         \n",
       "1      DCP-LETT-10515F.xml  ...  [-PRON-, be, very, much, oblige, for, -PRON-, interesting, letter, ., the, case, of, the, white, chicken, surprise, -PRON-, much, ,, but, nothing, can, be, more, perplexing, than, the, ', law, cause, of, variability, inheritance, ., -PRON-, be, glad, that, any, of, -PRON-, book, should, have, at, all, interest, -PRON-, ,, as, some, return, for, the, pleasure, which, -PRON-, have, derive, from, your, ., -PRON-, be, write, this, away, from, home, ,, which, -PRON-, have, leave, for, some, rest, ,, so, -PRON-, beg, -PRON-, to, excuse, brevity, ., —, Dear, Sir, |, Yours, faithfully, |, Ch, ., Darwin]                                                                             \n",
       "2      DCP-LETT-5961.xml    ...  [Mr, Buckland, have, tell, -PRON-, that, -PRON-, would, excuse, the, liberty, which, -PRON-, take, in, write, to, -PRON-, ., —, -PRON-, be, anxious, for, any, information, in, regard, to, the, proportional, number, of, male, female, bear, to, any, animal, ;, but, this, can, hardly, be, tell, except, with, domestic, or, semi, -, domestic, animal, ., —, Mr., B.,   , say, that, -PRON-, have, breed, many, rat, ,, if, -PRON-, have, keep, any, Memoranda, ,, or, have, a, decide, impression, on, the, relative, number, of, the, two, sex, ,, -PRON-, shd, be, grateful, for, information, ., —, perhaps, -PRON-, can, also, ...]                                                          \n",
       "3      DCP-LETT-2753F.xml   ...  [please, procure, send, -PRON-, by, Post, ,, Mr, Pat, ., Matthew, ’s, work, on, \", Naval, Timber, Arboriculture, \", 1831, ., Adam, Black, Edinburgh, Longman, London, ., —, Dear, Sir, ,, |, Yours, faithfully, |, C.,   , Darwin]                                                                                                                                                                                                                                                                                                                                                                                                                                                                     \n",
       "4      DCP-LETT-8607A.xml   ...  [-PRON-, have, by, this, same, post, send, off, the, few, trifling, erratum, to, Mr, Clowes, ., —, have, -PRON-, give, order, about, the, Heliotypes, ?, -PRON-, be, very, glad, of, -PRON-, news, ., —, let, -PRON-, hear, sale, of, all, -PRON-, book, ,, —, in, Haste, |, C.,   , Darwin]                                                                                                                                                                                                                                                                                                                                                                                                           \n",
       "...                   ...   ...                                                                                                                                                                                                                                                                                           ...                                                                                                                                                                                                                                                                                                                                                                                                           \n",
       "14910  DCP-LETT-10624.xml   ...  [Mr., L.,   , will, meet, -PRON-, here, on, Tuesday, ., —, -PRON-, have, better, write, direct, to, -PRON-, ,, appoint, hour, ,, address, -PRON-, \", Mr., Laslett, Builder, Farnborough, Kent, ., \", -PRON-, leave, home, early, on, Wednesday, morning, therefore, -PRON-, can, not, ask, -PRON-, to, sleep, here, ,, as, -PRON-, seem, so, busy, -PRON-, daresay, -PRON-, wd, be, inconvenient, for, -PRON-, to, do, so, ., yours, very, sincerely, |, Ch, ., Darwin]                                                                                                                                                                                                                                \n",
       "14911  DCP-LETT-10410.xml   ...  [-PRON-, have, the, pleasure, to, send, some, autograph, as, -PRON-, desire, -PRON-, very, faithfully, |, Ch, ., Darwin, Charles, Darwin, |, Down, Kent, |, February,   , 25th, 1876, |, Charles, Darwin]                                                                                                                                                                                                                                                                                                                                                                                                                                                                                              \n",
       "14912  DCP-LETT-10604.xml   ...  [-PRON-, send, by, this, post, Chapt, IX, ,, but, -PRON-, earnestly, beg, -PRON-, not, to, strain, -PRON-, mind, return, the, sheet, mark, \", uncorrected, \", if, ,, as, -PRON-, expect, ,, -PRON-, find, -PRON-, too, much, for, -PRON-, ., —, -PRON-, will, give, -PRON-, only, a, little, additional, trouble, ., the, figure, have, not, be, compare, ., as, -PRON-, have, chapt, VIII, almost, finish, a, week, ago, ,, -PRON-, despatch, -PRON-, then, to, the, Printers, :, -PRON-, have, no, figure, relate, to, the, constitutional, vigour, of, the, cross, plant, ., some, of, the, present, sheet, be, so, heavily, correct, that, ...]                                                    \n",
       "14913  DCP-LETT-12856.xml   ...  [although, -PRON-, have, so, far, be, able, merely, to, leaf, through, -PRON-, book, \", the, power, of, movement, etc, \", ,, this, be, still, enough, to, gain, an, insight, into, the, wealth, of, observation, and, ingenious, deduction, -PRON-, have, again, set, down, here, ., in, any, case, -PRON-, feel, compel, to, immediately, express, -PRON-, good, thank, to, -PRON-, for, send, -PRON-, -PRON-, work, ., -PRON-, hope, -PRON-, will, be, able, to, return, the, favour, in, about, 12, a, year, from, now, ,, for, tomorrow, the, manuscript, of, the, first, volume, of, a, handbook, of, physiology, of, metabolism, and, energy, exchange, ...]                                     \n",
       "14914  DCP-LETT-12199.xml   ...  [-PRON-, can, not, leave, tomorrow, morning, this, delightful, place, without, thank, -PRON-, cordially, for, all, -PRON-, kindness, ., -PRON-, permission, for, -PRON-, to, wander, over, -PRON-, estate, ground, have, make, all, the, difference, in, -PRON-, enjoyment, ,, in, the, good, which, the, visit, have, do, -PRON-, ., -PRON-, can, call, -PRON-, garden, nothing, less, than, paradise, ., —, -PRON-, have, use, -PRON-, carriage, several, time, -PRON-, coachman, have, be, most, obliging, ., —, -PRON-, go, one, very, long, expedition, to, Grasmere, ,, home, by, Ambleside, ., the, three, mile, between, these, two, place, be, the, most, splendid, drive, which, -PRON-, ...]\n",
       "\n",
       "[14915 rows x 8 columns]"
      ]
     },
     "execution_count": null,
     "metadata": {},
     "output_type": "execute_result"
    }
   ],
   "source": [
    "df['Lemmas'] = [[word.lemma_ for word in sp(df['Transcription'].iloc[i])] for i in range(df.shape[0])]\n",
    "df"
   ]
  },
  {
   "cell_type": "markdown",
   "metadata": {
    "id": "NkUJ4O9kuiYi"
   },
   "source": [
    "#### Stopwords exclusion and further filtering\n",
    "I exclude non-alphabetical characters:"
   ]
  },
  {
   "cell_type": "code",
   "execution_count": null,
   "metadata": {
    "colab": {
     "base_uri": "https://localhost:8080/",
     "height": 1000
    },
    "id": "CSlzB7GVumyK",
    "outputId": "915c5b4c-82ee-4064-f1f6-4b9c16da7526"
   },
   "outputs": [
    {
     "name": "stderr",
     "output_type": "stream",
     "text": [
      "/usr/local/lib/python3.7/dist-packages/pandas/core/indexing.py:670: SettingWithCopyWarning: \n",
      "A value is trying to be set on a copy of a slice from a DataFrame\n",
      "\n",
      "See the caveats in the documentation: https://pandas.pydata.org/pandas-docs/stable/user_guide/indexing.html#returning-a-view-versus-a-copy\n",
      "  iloc._setitem_with_indexer(indexer, value)\n"
     ]
    },
    {
     "data": {
      "text/html": [
       "<div>\n",
       "<style scoped>\n",
       "    .dataframe tbody tr th:only-of-type {\n",
       "        vertical-align: middle;\n",
       "    }\n",
       "\n",
       "    .dataframe tbody tr th {\n",
       "        vertical-align: top;\n",
       "    }\n",
       "\n",
       "    .dataframe thead th {\n",
       "        text-align: right;\n",
       "    }\n",
       "</style>\n",
       "<table border=\"1\" class=\"dataframe\">\n",
       "  <thead>\n",
       "    <tr style=\"text-align: right;\">\n",
       "      <th></th>\n",
       "      <th>File</th>\n",
       "      <th>Year</th>\n",
       "      <th>Sender</th>\n",
       "      <th>Receiver</th>\n",
       "      <th>Transcription</th>\n",
       "      <th>Transcription_spacy</th>\n",
       "      <th>Tokens</th>\n",
       "      <th>Lemmas</th>\n",
       "      <th>Lemmas_clean</th>\n",
       "    </tr>\n",
       "  </thead>\n",
       "  <tbody>\n",
       "    <tr>\n",
       "      <th>0</th>\n",
       "      <td>DCP-LETT-13876.xml</td>\n",
       "      <td>1871</td>\n",
       "      <td>Darwin, C. R.</td>\n",
       "      <td>Unidentified</td>\n",
       "      <td>Charles Darwin My health keeps much as it was; I never escape for a whole day without much discomfort, of course as I grow older I become much weaker. —</td>\n",
       "      <td>(Charles, Darwin, My, health, keeps, much, as, it, was, ;, I, never, escape, for, a, whole, day, without, much, discomfort, ,, of, course, as, I, grow, older, I, become, much, weaker, ., —)</td>\n",
       "      <td>[Charles, Darwin, My, health, keeps, much, as, it, was, ;, I, never, escape, for, a, whole, day, without, much, discomfort, ,, of, course, as, I, grow, older, I, become, much, weaker, ., —]</td>\n",
       "      <td>[Charles, Darwin, -PRON-, health, keep, much, as, -PRON-, be, ;, -PRON-, never, escape, for, a, whole, day, without, much, discomfort, ,, of, course, as, -PRON-, grow, old, -PRON-, become, much, weak, ., —]</td>\n",
       "      <td>[Charles, Darwin, -PRON-, health, keep, much, as, -PRON-, be, -PRON-, never, escape, for, a, whole, day, without, much, discomfort, of, course, as, -PRON-, grow, old, -PRON-, become, much, weak]</td>\n",
       "    </tr>\n",
       "    <tr>\n",
       "      <th>1</th>\n",
       "      <td>DCP-LETT-10515F.xml</td>\n",
       "      <td>1876</td>\n",
       "      <td>Darwin, C. R.</td>\n",
       "      <td>Zincke, F. B.</td>\n",
       "      <td>I am very much obliged for your interesting letter. The case of the white chickens surprises me much, but nothing can be more perplexing than the ‘laws causes of variability inheritance. I am glad that any of my books should have at all interested you, as some return for the pleasure which I have derived from yours. I am writing this away from home, which I have left for some rest, so I beg you to excuse brevity. — Dear Sir | Yours faithfully | Ch. Darwin</td>\n",
       "      <td>(I, am, very, much, obliged, for, your, interesting, letter, ., The, case, of, the, white, chickens, surprises, me, much, ,, but, nothing, can, be, more, perplexing, than, the, ‘, laws, causes, of, variability, inheritance, ., I, am, glad, that, any, of, my, books, should, have, at, all, interested, you, ,, as, some, return, for, the, pleasure, which, I, have, derived, from, yours, ., I, am, writing, this, away, from, home, ,, which, I, have, left, for, some, rest, ,, so, I, beg, you, to, excuse, brevity, ., —, Dear, Sir, |, Yours, faithfully, |, Ch, ., Darwin)</td>\n",
       "      <td>[I, am, very, much, obliged, for, your, interesting, letter, ., The, case, of, the, white, chickens, surprises, me, much, ,, but, nothing, can, be, more, perplexing, than, the, ‘, laws, causes, of, variability, inheritance, ., I, am, glad, that, any, of, my, books, should, have, at, all, interested, you, ,, as, some, return, for, the, pleasure, which, I, have, derived, from, yours, ., I, am, writing, this, away, from, home, ,, which, I, have, left, for, some, rest, ,, so, I, beg, you, to, excuse, brevity, ., —, Dear, Sir, |, Yours, faithfully, |, Ch, ., Darwin]</td>\n",
       "      <td>[-PRON-, be, very, much, oblige, for, -PRON-, interesting, letter, ., the, case, of, the, white, chicken, surprise, -PRON-, much, ,, but, nothing, can, be, more, perplexing, than, the, ', law, cause, of, variability, inheritance, ., -PRON-, be, glad, that, any, of, -PRON-, book, should, have, at, all, interest, -PRON-, ,, as, some, return, for, the, pleasure, which, -PRON-, have, derive, from, your, ., -PRON-, be, write, this, away, from, home, ,, which, -PRON-, have, leave, for, some, rest, ,, so, -PRON-, beg, -PRON-, to, excuse, brevity, ., —, Dear, Sir, |, Yours, faithfully, |, Ch, ., Darwin]</td>\n",
       "      <td>[-PRON-, be, very, much, oblige, for, -PRON-, interesting, letter, the, case, of, the, white, chicken, surprise, -PRON-, much, but, nothing, can, be, more, perplexing, than, the, law, cause, of, variability, inheritance, -PRON-, be, glad, that, any, of, -PRON-, book, should, have, at, all, interest, -PRON-, as, some, return, for, the, pleasure, which, -PRON-, have, derive, from, your, -PRON-, be, write, this, away, from, home, which, -PRON-, have, leave, for, some, rest, so, -PRON-, beg, -PRON-, to, excuse, brevity, Dear, Sir, Yours, faithfully, Ch, Darwin]</td>\n",
       "    </tr>\n",
       "    <tr>\n",
       "      <th>2</th>\n",
       "      <td>DCP-LETT-5961.xml</td>\n",
       "      <td>1868</td>\n",
       "      <td>Darwin, C. R.</td>\n",
       "      <td>Bush, John</td>\n",
       "      <td>Mr Buckland has told me that you would excuse the liberty which I take in writing to you. — I am anxious for any information in regard to the proportional numbers of males females born to any animals; but this can hardly be told except with domestic or semi-domestic animals. — Mr. B. says that you have bred many rats, if you have kept any Memoranda, or have a decided impression on the relative numbers of the two sexes, I shd be grateful for information. — Perhaps you can also tell me whether male rats fight for the possession of the female, whether an old powerful rat is polygamous will keep several wifes. — Hoping that you will excuse my troubling you, I remain | Dear Sir | Yours very faithfully | Ch. Darwin My address for next 3 or 4 weeks will be 6. Queen Anne St Cavendish Sqe London W.</td>\n",
       "      <td>(Mr, Buckland, has, told, me, that, you, would, excuse, the, liberty, which, I, take, in, writing, to, you, ., —, I, am, anxious, for, any, information, in, regard, to, the, proportional, numbers, of, males, females, born, to, any, animals, ;, but, this, can, hardly, be, told, except, with, domestic, or, semi, -, domestic, animals, ., —, Mr., B.,  , says, that, you, have, bred, many, rats, ,, if, you, have, kept, any, Memoranda, ,, or, have, a, decided, impression, on, the, relative, numbers, of, the, two, sexes, ,, I, shd, be, grateful, for, information, ., —, Perhaps, you, can, also, ...)</td>\n",
       "      <td>[Mr, Buckland, has, told, me, that, you, would, excuse, the, liberty, which, I, take, in, writing, to, you, ., —, I, am, anxious, for, any, information, in, regard, to, the, proportional, numbers, of, males, females, born, to, any, animals, ;, but, this, can, hardly, be, told, except, with, domestic, or, semi, -, domestic, animals, ., —, Mr., B.,  , says, that, you, have, bred, many, rats, ,, if, you, have, kept, any, Memoranda, ,, or, have, a, decided, impression, on, the, relative, numbers, of, the, two, sexes, ,, I, shd, be, grateful, for, information, ., —, Perhaps, you, can, also, ...]</td>\n",
       "      <td>[Mr, Buckland, have, tell, -PRON-, that, -PRON-, would, excuse, the, liberty, which, -PRON-, take, in, write, to, -PRON-, ., —, -PRON-, be, anxious, for, any, information, in, regard, to, the, proportional, number, of, male, female, bear, to, any, animal, ;, but, this, can, hardly, be, tell, except, with, domestic, or, semi, -, domestic, animal, ., —, Mr., B.,   , say, that, -PRON-, have, breed, many, rat, ,, if, -PRON-, have, keep, any, Memoranda, ,, or, have, a, decide, impression, on, the, relative, number, of, the, two, sex, ,, -PRON-, shd, be, grateful, for, information, ., —, perhaps, -PRON-, can, also, ...]</td>\n",
       "      <td>[Mr, Buckland, have, tell, -PRON-, that, -PRON-, would, excuse, the, liberty, which, -PRON-, take, in, write, to, -PRON-, -PRON-, be, anxious, for, any, information, in, regard, to, the, proportional, number, of, male, female, bear, to, any, animal, but, this, can, hardly, be, tell, except, with, domestic, or, semi, domestic, animal, Mr., B.,   , say, that, -PRON-, have, breed, many, rat, if, -PRON-, have, keep, any, Memoranda, or, have, a, decide, impression, on, the, relative, number, of, the, two, sex, -PRON-, shd, be, grateful, for, information, perhaps, -PRON-, can, also, tell, -PRON-, whether, male, rat, fight, for, the, possession, of, the, ...]</td>\n",
       "    </tr>\n",
       "    <tr>\n",
       "      <th>3</th>\n",
       "      <td>DCP-LETT-2753F.xml</td>\n",
       "      <td>1860</td>\n",
       "      <td>Darwin, C. R.</td>\n",
       "      <td>Bookseller</td>\n",
       "      <td>Please procure send me by Post, Mr Pat. Matthew’s work on “Naval Timber Arboriculture” 1831. Adam Black Edinburgh Longman London. — Dear Sir, | Yours faithfully | C. Darwin</td>\n",
       "      <td>(Please, procure, send, me, by, Post, ,, Mr, Pat, ., Matthew, ’s, work, on, “, Naval, Timber, Arboriculture, ”, 1831, ., Adam, Black, Edinburgh, Longman, London, ., —, Dear, Sir, ,, |, Yours, faithfully, |, C.,  , Darwin)</td>\n",
       "      <td>[Please, procure, send, me, by, Post, ,, Mr, Pat, ., Matthew, ’s, work, on, “, Naval, Timber, Arboriculture, ”, 1831, ., Adam, Black, Edinburgh, Longman, London, ., —, Dear, Sir, ,, |, Yours, faithfully, |, C.,  , Darwin]</td>\n",
       "      <td>[please, procure, send, -PRON-, by, Post, ,, Mr, Pat, ., Matthew, ’s, work, on, \", Naval, Timber, Arboriculture, \", 1831, ., Adam, Black, Edinburgh, Longman, London, ., —, Dear, Sir, ,, |, Yours, faithfully, |, C.,   , Darwin]</td>\n",
       "      <td>[please, procure, send, -PRON-, by, Post, Mr, Pat, Matthew, ’s, work, on, Naval, Timber, Arboriculture, 1831, Adam, Black, Edinburgh, Longman, London, Dear, Sir, Yours, faithfully, C.,   , Darwin]</td>\n",
       "    </tr>\n",
       "    <tr>\n",
       "      <th>4</th>\n",
       "      <td>DCP-LETT-8607A.xml</td>\n",
       "      <td>1872</td>\n",
       "      <td>Darwin, C. R.</td>\n",
       "      <td>Murray, John (b)</td>\n",
       "      <td>I have by this same post sent off the few trifling errata to Mr Clowes. — Have you given orders about the Heliotypes? I am very glad of your news. — Let me hear sale of all my books, — In Haste | C. Darwin</td>\n",
       "      <td>(I, have, by, this, same, post, sent, off, the, few, trifling, errata, to, Mr, Clowes, ., —, Have, you, given, orders, about, the, Heliotypes, ?, I, am, very, glad, of, your, news, ., —, Let, me, hear, sale, of, all, my, books, ,, —, In, Haste, |, C.,  , Darwin)</td>\n",
       "      <td>[I, have, by, this, same, post, sent, off, the, few, trifling, errata, to, Mr, Clowes, ., —, Have, you, given, orders, about, the, Heliotypes, ?, I, am, very, glad, of, your, news, ., —, Let, me, hear, sale, of, all, my, books, ,, —, In, Haste, |, C.,  , Darwin]</td>\n",
       "      <td>[-PRON-, have, by, this, same, post, send, off, the, few, trifling, erratum, to, Mr, Clowes, ., —, have, -PRON-, give, order, about, the, Heliotypes, ?, -PRON-, be, very, glad, of, -PRON-, news, ., —, let, -PRON-, hear, sale, of, all, -PRON-, book, ,, —, in, Haste, |, C.,   , Darwin]</td>\n",
       "      <td>[-PRON-, have, by, this, same, post, send, off, the, few, trifling, erratum, to, Mr, Clowes, have, -PRON-, give, order, about, the, Heliotypes, -PRON-, be, very, glad, of, -PRON-, news, let, -PRON-, hear, sale, of, all, -PRON-, book, in, Haste, C.,   , Darwin]</td>\n",
       "    </tr>\n",
       "    <tr>\n",
       "      <th>...</th>\n",
       "      <td>...</td>\n",
       "      <td>...</td>\n",
       "      <td>...</td>\n",
       "      <td>...</td>\n",
       "      <td>...</td>\n",
       "      <td>...</td>\n",
       "      <td>...</td>\n",
       "      <td>...</td>\n",
       "      <td>...</td>\n",
       "    </tr>\n",
       "    <tr>\n",
       "      <th>14910</th>\n",
       "      <td>DCP-LETT-10624.xml</td>\n",
       "      <td>1876</td>\n",
       "      <td>Darwin, C. R.</td>\n",
       "      <td>Marshall, W. C.</td>\n",
       "      <td>Mr. L. will meet you here on Tuesday. — You had better write direct to him, appointing hour, address him “Mr. Laslett Builder Farnborough Kent.” We leave home early on Wednesday morning therefore we cannot ask you to sleep here, as you seem so busy I daresay it wd be inconvenient for you to do so. Yours very sincerely | Ch. Darwin</td>\n",
       "      <td>(Mr., L.,  , will, meet, you, here, on, Tuesday, ., —, You, had, better, write, direct, to, him, ,, appointing, hour, ,, address, him, “, Mr., Laslett, Builder, Farnborough, Kent, ., ”, We, leave, home, early, on, Wednesday, morning, therefore, we, can, not, ask, you, to, sleep, here, ,, as, you, seem, so, busy, I, daresay, it, wd, be, inconvenient, for, you, to, do, so, ., Yours, very, sincerely, |, Ch, ., Darwin)</td>\n",
       "      <td>[Mr., L.,  , will, meet, you, here, on, Tuesday, ., —, You, had, better, write, direct, to, him, ,, appointing, hour, ,, address, him, “, Mr., Laslett, Builder, Farnborough, Kent, ., ”, We, leave, home, early, on, Wednesday, morning, therefore, we, can, not, ask, you, to, sleep, here, ,, as, you, seem, so, busy, I, daresay, it, wd, be, inconvenient, for, you, to, do, so, ., Yours, very, sincerely, |, Ch, ., Darwin]</td>\n",
       "      <td>[Mr., L.,   , will, meet, -PRON-, here, on, Tuesday, ., —, -PRON-, have, better, write, direct, to, -PRON-, ,, appoint, hour, ,, address, -PRON-, \", Mr., Laslett, Builder, Farnborough, Kent, ., \", -PRON-, leave, home, early, on, Wednesday, morning, therefore, -PRON-, can, not, ask, -PRON-, to, sleep, here, ,, as, -PRON-, seem, so, busy, -PRON-, daresay, -PRON-, wd, be, inconvenient, for, -PRON-, to, do, so, ., yours, very, sincerely, |, Ch, ., Darwin]</td>\n",
       "      <td>[Mr., L.,   , will, meet, -PRON-, here, on, Tuesday, -PRON-, have, better, write, direct, to, -PRON-, appoint, hour, address, -PRON-, Mr., Laslett, Builder, Farnborough, Kent, -PRON-, leave, home, early, on, Wednesday, morning, therefore, -PRON-, can, not, ask, -PRON-, to, sleep, here, as, -PRON-, seem, so, busy, -PRON-, daresay, -PRON-, wd, be, inconvenient, for, -PRON-, to, do, so, yours, very, sincerely, Ch, Darwin]</td>\n",
       "    </tr>\n",
       "    <tr>\n",
       "      <th>14911</th>\n",
       "      <td>DCP-LETT-10410.xml</td>\n",
       "      <td>1876</td>\n",
       "      <td>Darwin, C. R.</td>\n",
       "      <td>Unidentified</td>\n",
       "      <td>I have the pleasure to send some autographs as you desire Yours very faithfully | Ch. Darwin Charles Darwin | Down Kent | Feb. 25th 1876 | Charles Darwin</td>\n",
       "      <td>(I, have, the, pleasure, to, send, some, autographs, as, you, desire, Yours, very, faithfully, |, Ch, ., Darwin, Charles, Darwin, |, Down, Kent, |, Feb.,  , 25th, 1876, |, Charles, Darwin)</td>\n",
       "      <td>[I, have, the, pleasure, to, send, some, autographs, as, you, desire, Yours, very, faithfully, |, Ch, ., Darwin, Charles, Darwin, |, Down, Kent, |, Feb.,  , 25th, 1876, |, Charles, Darwin]</td>\n",
       "      <td>[-PRON-, have, the, pleasure, to, send, some, autograph, as, -PRON-, desire, -PRON-, very, faithfully, |, Ch, ., Darwin, Charles, Darwin, |, Down, Kent, |, February,   , 25th, 1876, |, Charles, Darwin]</td>\n",
       "      <td>[-PRON-, have, the, pleasure, to, send, some, autograph, as, -PRON-, desire, -PRON-, very, faithfully, Ch, Darwin, Charles, Darwin, Down, Kent, February,   , 25th, 1876, Charles, Darwin]</td>\n",
       "    </tr>\n",
       "    <tr>\n",
       "      <th>14912</th>\n",
       "      <td>DCP-LETT-10604.xml</td>\n",
       "      <td>1876</td>\n",
       "      <td>Darwin, C. R.</td>\n",
       "      <td>Darwin, Francis</td>\n",
       "      <td>I send by this post Chapt IX, but I earnestly beg you not to strain your mind return the sheets marked “uncorrected” if, as I expect, you find it too much for you. — It will give me only a little additional trouble. The figures have not been compared. As I had Chapt VIII almost finished a week ago, I despatched it then to the Printers: it had no figures related to the constitutional vigour of the crossed Plants. Some of the present sheets are so heavily corrected that they will be difficult for you to read. I have put your tools c up-stairs in order so far as not to be injured; but I cannot find your compound microscope to protect from dust. — I have made a few notes on the state of your plants in the Hot-house. My dearest son, your little note yesterday to mother, in which you say that you love me was the greatest possible comfort to me. I have been thinking much about you during your whole life, I am sure that you have deserved the love of your poor dear sweet darling. I am so deeply glad that she did not suffer at last, — it is my only poor consolation. God bless you my dearest son. Give my best love to Mrs. Ruck: I never in my life saw her equal for goodness kindness of heart. I was much affected by Dicky’s letter to George: he was a great comfort to us all. My dear son | Your affectionate Father | C. Darwin</td>\n",
       "      <td>(I, send, by, this, post, Chapt, IX, ,, but, I, earnestly, beg, you, not, to, strain, your, mind, return, the, sheets, marked, “, uncorrected, ”, if, ,, as, I, expect, ,, you, find, it, too, much, for, you, ., —, It, will, give, me, only, a, little, additional, trouble, ., The, figures, have, not, been, compared, ., As, I, had, Chapt, VIII, almost, finished, a, week, ago, ,, I, despatched, it, then, to, the, Printers, :, it, had, no, figures, related, to, the, constitutional, vigour, of, the, crossed, Plants, ., Some, of, the, present, sheets, are, so, heavily, corrected, that, ...)</td>\n",
       "      <td>[I, send, by, this, post, Chapt, IX, ,, but, I, earnestly, beg, you, not, to, strain, your, mind, return, the, sheets, marked, “, uncorrected, ”, if, ,, as, I, expect, ,, you, find, it, too, much, for, you, ., —, It, will, give, me, only, a, little, additional, trouble, ., The, figures, have, not, been, compared, ., As, I, had, Chapt, VIII, almost, finished, a, week, ago, ,, I, despatched, it, then, to, the, Printers, :, it, had, no, figures, related, to, the, constitutional, vigour, of, the, crossed, Plants, ., Some, of, the, present, sheets, are, so, heavily, corrected, that, ...]</td>\n",
       "      <td>[-PRON-, send, by, this, post, Chapt, IX, ,, but, -PRON-, earnestly, beg, -PRON-, not, to, strain, -PRON-, mind, return, the, sheet, mark, \", uncorrected, \", if, ,, as, -PRON-, expect, ,, -PRON-, find, -PRON-, too, much, for, -PRON-, ., —, -PRON-, will, give, -PRON-, only, a, little, additional, trouble, ., the, figure, have, not, be, compare, ., as, -PRON-, have, chapt, VIII, almost, finish, a, week, ago, ,, -PRON-, despatch, -PRON-, then, to, the, Printers, :, -PRON-, have, no, figure, relate, to, the, constitutional, vigour, of, the, cross, plant, ., some, of, the, present, sheet, be, so, heavily, correct, that, ...]</td>\n",
       "      <td>[-PRON-, send, by, this, post, Chapt, IX, but, -PRON-, earnestly, beg, -PRON-, not, to, strain, -PRON-, mind, return, the, sheet, mark, uncorrected, if, as, -PRON-, expect, -PRON-, find, -PRON-, too, much, for, -PRON-, -PRON-, will, give, -PRON-, only, a, little, additional, trouble, the, figure, have, not, be, compare, as, -PRON-, have, chapt, VIII, almost, finish, a, week, ago, -PRON-, despatch, -PRON-, then, to, the, Printers, -PRON-, have, no, figure, relate, to, the, constitutional, vigour, of, the, cross, plant, some, of, the, present, sheet, be, so, heavily, correct, that, -PRON-, will, be, difficult, for, -PRON-, to, read, -PRON-, have, put, -PRON-, ...]</td>\n",
       "    </tr>\n",
       "    <tr>\n",
       "      <th>14913</th>\n",
       "      <td>DCP-LETT-12856.xml</td>\n",
       "      <td>1880</td>\n",
       "      <td>Pfeffer, W. F. P.</td>\n",
       "      <td>Darwin, C. R.</td>\n",
       "      <td>Although I have so far been able merely to leaf through your book “The power of movements etc”, this was still enough to gain an insight into the wealth of observations and ingenious deductions you have again set down here. In any case I feel compelled to immediately express my best thanks to you for sending me your work. I hope I will be able to return the favour in about 12 a year from now, for tomorrow the manuscript of the first volume of a handbook of physiology of metabolism and energy exchange will go to the printers. For the 2d volume, too, all preliminary work is complete to such a degree that I hope to also get this ready for press in 12 a year. Unfortunately, this work left me no time to undertake any other investigations of an extensive nature, but in the not too distant future I hope a collection of physiological works by pupils will appear. Incidentally, I have gradually equipped the botanical institute here, whose rooms are superb, with a most complete physiological apparatus. With the highest respect | Yours | devoted | Dr. W. Pfeffer.</td>\n",
       "      <td>(Although, I, have, so, far, been, able, merely, to, leaf, through, your, book, “, The, power, of, movements, etc, ”, ,, this, was, still, enough, to, gain, an, insight, into, the, wealth, of, observations, and, ingenious, deductions, you, have, again, set, down, here, ., In, any, case, I, feel, compelled, to, immediately, express, my, best, thanks, to, you, for, sending, me, your, work, ., I, hope, I, will, be, able, to, return, the, favour, in, about, 12, a, year, from, now, ,, for, tomorrow, the, manuscript, of, the, first, volume, of, a, handbook, of, physiology, of, metabolism, and, energy, exchange, ...)</td>\n",
       "      <td>[Although, I, have, so, far, been, able, merely, to, leaf, through, your, book, “, The, power, of, movements, etc, ”, ,, this, was, still, enough, to, gain, an, insight, into, the, wealth, of, observations, and, ingenious, deductions, you, have, again, set, down, here, ., In, any, case, I, feel, compelled, to, immediately, express, my, best, thanks, to, you, for, sending, me, your, work, ., I, hope, I, will, be, able, to, return, the, favour, in, about, 12, a, year, from, now, ,, for, tomorrow, the, manuscript, of, the, first, volume, of, a, handbook, of, physiology, of, metabolism, and, energy, exchange, ...]</td>\n",
       "      <td>[although, -PRON-, have, so, far, be, able, merely, to, leaf, through, -PRON-, book, \", the, power, of, movement, etc, \", ,, this, be, still, enough, to, gain, an, insight, into, the, wealth, of, observation, and, ingenious, deduction, -PRON-, have, again, set, down, here, ., in, any, case, -PRON-, feel, compel, to, immediately, express, -PRON-, good, thank, to, -PRON-, for, send, -PRON-, -PRON-, work, ., -PRON-, hope, -PRON-, will, be, able, to, return, the, favour, in, about, 12, a, year, from, now, ,, for, tomorrow, the, manuscript, of, the, first, volume, of, a, handbook, of, physiology, of, metabolism, and, energy, exchange, ...]</td>\n",
       "      <td>[although, -PRON-, have, so, far, be, able, merely, to, leaf, through, -PRON-, book, the, power, of, movement, etc, this, be, still, enough, to, gain, an, insight, into, the, wealth, of, observation, and, ingenious, deduction, -PRON-, have, again, set, down, here, in, any, case, -PRON-, feel, compel, to, immediately, express, -PRON-, good, thank, to, -PRON-, for, send, -PRON-, -PRON-, work, -PRON-, hope, -PRON-, will, be, able, to, return, the, favour, in, about, 12, a, year, from, now, for, tomorrow, the, manuscript, of, the, first, volume, of, a, handbook, of, physiology, of, metabolism, and, energy, exchange, will, go, to, the, printer, for, ...]</td>\n",
       "    </tr>\n",
       "    <tr>\n",
       "      <th>14914</th>\n",
       "      <td>DCP-LETT-12199.xml</td>\n",
       "      <td>1879</td>\n",
       "      <td>Darwin, C. R.</td>\n",
       "      <td>Marshall, V. A. E. G.</td>\n",
       "      <td>I cannot leave tomorrow morning this delightful place without thanking you cordially for all your kindness. Your permission for me to wander over your estate grounds has made all the difference in my enjoyment, in the good which the visit has done me. I can call your garden nothing less than paradise. — We have used your carriage several times your coachman has been most obliging. — We went one very long expedition to Grasmere, home by Ambleside. The three miles between these two places is the most splendid drive which I ever took. Nevertheless I am a staunch Conistonite feel indignant if anyone prefers Grassmere or Ambleside to Coniston. — Pray tell Mrs. Marshall that we disobeyed orders went to Furness; we were punished, for the day was dark gloomy. On our return we said that a walk along your Terrace was worth half-a-dozen Furness Abbeys; in the afternoon I proved the truth of this by taking 2 or 3 turns along the Terrace, though the afternoon was dull they gave me intense pleasure. — Now I am going to be impertinent: when you return I beseech you to look at four clumps of young unhealthy fir-trees ( which I cannot think will ever grow vigorously from not growing on a slope) in the field in front of the verandah of the hotel; they sadly spoil the view, if universal maledictions would have killed them, the poor things would now all stand withered skeletons. Forgive me scribbling at such length. Everyone here joins me in thanking you Mrs. Marshall most truly. When you come to London, if you Mrs. Marshall can spare the time, pray pay us a visit at Down. In case we shd. not hear when you are in London, I hope that you will be so good as to inform us. Believe me my dear Mr. Marshall | Yours sincerely | Charles Darwin</td>\n",
       "      <td>(I, can, not, leave, tomorrow, morning, this, delightful, place, without, thanking, you, cordially, for, all, your, kindness, ., Your, permission, for, me, to, wander, over, your, estate, grounds, has, made, all, the, difference, in, my, enjoyment, ,, in, the, good, which, the, visit, has, done, me, ., I, can, call, your, garden, nothing, less, than, paradise, ., —, We, have, used, your, carriage, several, times, your, coachman, has, been, most, obliging, ., —, We, went, one, very, long, expedition, to, Grasmere, ,, home, by, Ambleside, ., The, three, miles, between, these, two, places, is, the, most, splendid, drive, which, I, ...)</td>\n",
       "      <td>[I, can, not, leave, tomorrow, morning, this, delightful, place, without, thanking, you, cordially, for, all, your, kindness, ., Your, permission, for, me, to, wander, over, your, estate, grounds, has, made, all, the, difference, in, my, enjoyment, ,, in, the, good, which, the, visit, has, done, me, ., I, can, call, your, garden, nothing, less, than, paradise, ., —, We, have, used, your, carriage, several, times, your, coachman, has, been, most, obliging, ., —, We, went, one, very, long, expedition, to, Grasmere, ,, home, by, Ambleside, ., The, three, miles, between, these, two, places, is, the, most, splendid, drive, which, I, ...]</td>\n",
       "      <td>[-PRON-, can, not, leave, tomorrow, morning, this, delightful, place, without, thank, -PRON-, cordially, for, all, -PRON-, kindness, ., -PRON-, permission, for, -PRON-, to, wander, over, -PRON-, estate, ground, have, make, all, the, difference, in, -PRON-, enjoyment, ,, in, the, good, which, the, visit, have, do, -PRON-, ., -PRON-, can, call, -PRON-, garden, nothing, less, than, paradise, ., —, -PRON-, have, use, -PRON-, carriage, several, time, -PRON-, coachman, have, be, most, obliging, ., —, -PRON-, go, one, very, long, expedition, to, Grasmere, ,, home, by, Ambleside, ., the, three, mile, between, these, two, place, be, the, most, splendid, drive, which, -PRON-, ...]</td>\n",
       "      <td>[-PRON-, can, not, leave, tomorrow, morning, this, delightful, place, without, thank, -PRON-, cordially, for, all, -PRON-, kindness, -PRON-, permission, for, -PRON-, to, wander, over, -PRON-, estate, ground, have, make, all, the, difference, in, -PRON-, enjoyment, in, the, good, which, the, visit, have, do, -PRON-, -PRON-, can, call, -PRON-, garden, nothing, less, than, paradise, -PRON-, have, use, -PRON-, carriage, several, time, -PRON-, coachman, have, be, most, obliging, -PRON-, go, one, very, long, expedition, to, Grasmere, home, by, Ambleside, the, three, mile, between, these, two, place, be, the, most, splendid, drive, which, -PRON-, ever, take, nevertheless, -PRON-, be, a, staunch, Conistonite, feel, ...]</td>\n",
       "    </tr>\n",
       "  </tbody>\n",
       "</table>\n",
       "<p>14915 rows × 9 columns</p>\n",
       "</div>"
      ],
      "text/plain": [
       "                      File  ...                                                                                                                                                                                                                                                                                                                                                                                                                                                                                                                                                                                                                                                                                                                                       Lemmas_clean\n",
       "0      DCP-LETT-13876.xml   ...  [Charles, Darwin, -PRON-, health, keep, much, as, -PRON-, be, -PRON-, never, escape, for, a, whole, day, without, much, discomfort, of, course, as, -PRON-, grow, old, -PRON-, become, much, weak]                                                                                                                                                                                                                                                                                                                                                                                                                                                                                                                                               \n",
       "1      DCP-LETT-10515F.xml  ...  [-PRON-, be, very, much, oblige, for, -PRON-, interesting, letter, the, case, of, the, white, chicken, surprise, -PRON-, much, but, nothing, can, be, more, perplexing, than, the, law, cause, of, variability, inheritance, -PRON-, be, glad, that, any, of, -PRON-, book, should, have, at, all, interest, -PRON-, as, some, return, for, the, pleasure, which, -PRON-, have, derive, from, your, -PRON-, be, write, this, away, from, home, which, -PRON-, have, leave, for, some, rest, so, -PRON-, beg, -PRON-, to, excuse, brevity, Dear, Sir, Yours, faithfully, Ch, Darwin]                                                                                                                                                              \n",
       "2      DCP-LETT-5961.xml    ...  [Mr, Buckland, have, tell, -PRON-, that, -PRON-, would, excuse, the, liberty, which, -PRON-, take, in, write, to, -PRON-, -PRON-, be, anxious, for, any, information, in, regard, to, the, proportional, number, of, male, female, bear, to, any, animal, but, this, can, hardly, be, tell, except, with, domestic, or, semi, domestic, animal, Mr., B.,   , say, that, -PRON-, have, breed, many, rat, if, -PRON-, have, keep, any, Memoranda, or, have, a, decide, impression, on, the, relative, number, of, the, two, sex, -PRON-, shd, be, grateful, for, information, perhaps, -PRON-, can, also, tell, -PRON-, whether, male, rat, fight, for, the, possession, of, the, ...]                                                             \n",
       "3      DCP-LETT-2753F.xml   ...  [please, procure, send, -PRON-, by, Post, Mr, Pat, Matthew, ’s, work, on, Naval, Timber, Arboriculture, 1831, Adam, Black, Edinburgh, Longman, London, Dear, Sir, Yours, faithfully, C.,   , Darwin]                                                                                                                                                                                                                                                                                                                                                                                                                                                                                                                                             \n",
       "4      DCP-LETT-8607A.xml   ...  [-PRON-, have, by, this, same, post, send, off, the, few, trifling, erratum, to, Mr, Clowes, have, -PRON-, give, order, about, the, Heliotypes, -PRON-, be, very, glad, of, -PRON-, news, let, -PRON-, hear, sale, of, all, -PRON-, book, in, Haste, C.,   , Darwin]                                                                                                                                                                                                                                                                                                                                                                                                                                                                             \n",
       "...                   ...   ...                                                                                                                                                                                                                                                                   ...                                                                                                                                                                                                                                                                                                                                                                                                                                                                             \n",
       "14910  DCP-LETT-10624.xml   ...  [Mr., L.,   , will, meet, -PRON-, here, on, Tuesday, -PRON-, have, better, write, direct, to, -PRON-, appoint, hour, address, -PRON-, Mr., Laslett, Builder, Farnborough, Kent, -PRON-, leave, home, early, on, Wednesday, morning, therefore, -PRON-, can, not, ask, -PRON-, to, sleep, here, as, -PRON-, seem, so, busy, -PRON-, daresay, -PRON-, wd, be, inconvenient, for, -PRON-, to, do, so, yours, very, sincerely, Ch, Darwin]                                                                                                                                                                                                                                                                                                           \n",
       "14911  DCP-LETT-10410.xml   ...  [-PRON-, have, the, pleasure, to, send, some, autograph, as, -PRON-, desire, -PRON-, very, faithfully, Ch, Darwin, Charles, Darwin, Down, Kent, February,   , 25th, 1876, Charles, Darwin]                                                                                                                                                                                                                                                                                                                                                                                                                                                                                                                                                       \n",
       "14912  DCP-LETT-10604.xml   ...  [-PRON-, send, by, this, post, Chapt, IX, but, -PRON-, earnestly, beg, -PRON-, not, to, strain, -PRON-, mind, return, the, sheet, mark, uncorrected, if, as, -PRON-, expect, -PRON-, find, -PRON-, too, much, for, -PRON-, -PRON-, will, give, -PRON-, only, a, little, additional, trouble, the, figure, have, not, be, compare, as, -PRON-, have, chapt, VIII, almost, finish, a, week, ago, -PRON-, despatch, -PRON-, then, to, the, Printers, -PRON-, have, no, figure, relate, to, the, constitutional, vigour, of, the, cross, plant, some, of, the, present, sheet, be, so, heavily, correct, that, -PRON-, will, be, difficult, for, -PRON-, to, read, -PRON-, have, put, -PRON-, ...]                                                   \n",
       "14913  DCP-LETT-12856.xml   ...  [although, -PRON-, have, so, far, be, able, merely, to, leaf, through, -PRON-, book, the, power, of, movement, etc, this, be, still, enough, to, gain, an, insight, into, the, wealth, of, observation, and, ingenious, deduction, -PRON-, have, again, set, down, here, in, any, case, -PRON-, feel, compel, to, immediately, express, -PRON-, good, thank, to, -PRON-, for, send, -PRON-, -PRON-, work, -PRON-, hope, -PRON-, will, be, able, to, return, the, favour, in, about, 12, a, year, from, now, for, tomorrow, the, manuscript, of, the, first, volume, of, a, handbook, of, physiology, of, metabolism, and, energy, exchange, will, go, to, the, printer, for, ...]                                                                \n",
       "14914  DCP-LETT-12199.xml   ...  [-PRON-, can, not, leave, tomorrow, morning, this, delightful, place, without, thank, -PRON-, cordially, for, all, -PRON-, kindness, -PRON-, permission, for, -PRON-, to, wander, over, -PRON-, estate, ground, have, make, all, the, difference, in, -PRON-, enjoyment, in, the, good, which, the, visit, have, do, -PRON-, -PRON-, can, call, -PRON-, garden, nothing, less, than, paradise, -PRON-, have, use, -PRON-, carriage, several, time, -PRON-, coachman, have, be, most, obliging, -PRON-, go, one, very, long, expedition, to, Grasmere, home, by, Ambleside, the, three, mile, between, these, two, place, be, the, most, splendid, drive, which, -PRON-, ever, take, nevertheless, -PRON-, be, a, staunch, Conistonite, feel, ...]\n",
       "\n",
       "[14915 rows x 9 columns]"
      ]
     },
     "execution_count": 36,
     "metadata": {},
     "output_type": "execute_result"
    }
   ],
   "source": [
    "df[\"Lemmas_clean\"] = ''\n",
    "for i in range(df.shape[0]):\n",
    "  df['Lemmas_clean'].iloc[i] = [t for t in df['Lemmas'].iloc[i] if t not in '''!()-[]{};:\\'\"\\,<>./?@#$%^&*_~\\|–—\\“’`''']# and t.isalpha() ]\n",
    "df"
   ]
  },
  {
   "cell_type": "markdown",
   "metadata": {
    "id": "9gqVJzPH8ZLN"
   },
   "source": [
    "I exclude stop words, although they will be needed for word embedding training:"
   ]
  },
  {
   "cell_type": "code",
   "execution_count": null,
   "metadata": {
    "colab": {
     "base_uri": "https://localhost:8080/",
     "height": 1000
    },
    "id": "5QJIryNe8dr5",
    "outputId": "84f93719-5175-4f85-c122-9423d7e50591"
   },
   "outputs": [
    {
     "name": "stderr",
     "output_type": "stream",
     "text": [
      "/usr/local/lib/python3.7/dist-packages/pandas/core/indexing.py:670: SettingWithCopyWarning: \n",
      "A value is trying to be set on a copy of a slice from a DataFrame\n",
      "\n",
      "See the caveats in the documentation: https://pandas.pydata.org/pandas-docs/stable/user_guide/indexing.html#returning-a-view-versus-a-copy\n",
      "  iloc._setitem_with_indexer(indexer, value)\n"
     ]
    },
    {
     "data": {
      "text/html": [
       "<div>\n",
       "<style scoped>\n",
       "    .dataframe tbody tr th:only-of-type {\n",
       "        vertical-align: middle;\n",
       "    }\n",
       "\n",
       "    .dataframe tbody tr th {\n",
       "        vertical-align: top;\n",
       "    }\n",
       "\n",
       "    .dataframe thead th {\n",
       "        text-align: right;\n",
       "    }\n",
       "</style>\n",
       "<table border=\"1\" class=\"dataframe\">\n",
       "  <thead>\n",
       "    <tr style=\"text-align: right;\">\n",
       "      <th></th>\n",
       "      <th>File</th>\n",
       "      <th>Year</th>\n",
       "      <th>Sender</th>\n",
       "      <th>Receiver</th>\n",
       "      <th>Transcription</th>\n",
       "      <th>Transcription_spacy</th>\n",
       "      <th>Tokens</th>\n",
       "      <th>Lemmas</th>\n",
       "      <th>Lemmas_clean</th>\n",
       "      <th>Lemmas_nostop</th>\n",
       "    </tr>\n",
       "  </thead>\n",
       "  <tbody>\n",
       "    <tr>\n",
       "      <th>0</th>\n",
       "      <td>DCP-LETT-13876.xml</td>\n",
       "      <td>1871</td>\n",
       "      <td>Darwin, C. R.</td>\n",
       "      <td>Unidentified</td>\n",
       "      <td>Charles Darwin My health keeps much as it was; I never escape for a whole day without much discomfort, of course as I grow older I become much weaker. —</td>\n",
       "      <td>(Charles, Darwin, My, health, keeps, much, as, it, was, ;, I, never, escape, for, a, whole, day, without, much, discomfort, ,, of, course, as, I, grow, older, I, become, much, weaker, ., —)</td>\n",
       "      <td>[Charles, Darwin, My, health, keeps, much, as, it, was, ;, I, never, escape, for, a, whole, day, without, much, discomfort, ,, of, course, as, I, grow, older, I, become, much, weaker, ., —]</td>\n",
       "      <td>[Charles, Darwin, -PRON-, health, keep, much, as, -PRON-, be, ;, -PRON-, never, escape, for, a, whole, day, without, much, discomfort, ,, of, course, as, -PRON-, grow, old, -PRON-, become, much, weak, ., —]</td>\n",
       "      <td>[Charles, Darwin, -PRON-, health, keep, much, as, -PRON-, be, -PRON-, never, escape, for, a, whole, day, without, much, discomfort, of, course, as, -PRON-, grow, old, -PRON-, become, much, weak]</td>\n",
       "      <td>[Charles, Darwin, -PRON-, health, keep, much, -PRON-, ;, -PRON-, never, escape, whole, day, without, much, discomfort, ,, course, -PRON-, grow, old, -PRON-, become, much, weak, ., —]</td>\n",
       "    </tr>\n",
       "    <tr>\n",
       "      <th>1</th>\n",
       "      <td>DCP-LETT-10515F.xml</td>\n",
       "      <td>1876</td>\n",
       "      <td>Darwin, C. R.</td>\n",
       "      <td>Zincke, F. B.</td>\n",
       "      <td>I am very much obliged for your interesting letter. The case of the white chickens surprises me much, but nothing can be more perplexing than the ‘laws causes of variability inheritance. I am glad that any of my books should have at all interested you, as some return for the pleasure which I have derived from yours. I am writing this away from home, which I have left for some rest, so I beg you to excuse brevity. — Dear Sir | Yours faithfully | Ch. Darwin</td>\n",
       "      <td>(I, am, very, much, obliged, for, your, interesting, letter, ., The, case, of, the, white, chickens, surprises, me, much, ,, but, nothing, can, be, more, perplexing, than, the, ‘, laws, causes, of, variability, inheritance, ., I, am, glad, that, any, of, my, books, should, have, at, all, interested, you, ,, as, some, return, for, the, pleasure, which, I, have, derived, from, yours, ., I, am, writing, this, away, from, home, ,, which, I, have, left, for, some, rest, ,, so, I, beg, you, to, excuse, brevity, ., —, Dear, Sir, |, Yours, faithfully, |, Ch, ., Darwin)</td>\n",
       "      <td>[I, am, very, much, obliged, for, your, interesting, letter, ., The, case, of, the, white, chickens, surprises, me, much, ,, but, nothing, can, be, more, perplexing, than, the, ‘, laws, causes, of, variability, inheritance, ., I, am, glad, that, any, of, my, books, should, have, at, all, interested, you, ,, as, some, return, for, the, pleasure, which, I, have, derived, from, yours, ., I, am, writing, this, away, from, home, ,, which, I, have, left, for, some, rest, ,, so, I, beg, you, to, excuse, brevity, ., —, Dear, Sir, |, Yours, faithfully, |, Ch, ., Darwin]</td>\n",
       "      <td>[-PRON-, be, very, much, oblige, for, -PRON-, interesting, letter, ., the, case, of, the, white, chicken, surprise, -PRON-, much, ,, but, nothing, can, be, more, perplexing, than, the, ', law, cause, of, variability, inheritance, ., -PRON-, be, glad, that, any, of, -PRON-, book, should, have, at, all, interest, -PRON-, ,, as, some, return, for, the, pleasure, which, -PRON-, have, derive, from, your, ., -PRON-, be, write, this, away, from, home, ,, which, -PRON-, have, leave, for, some, rest, ,, so, -PRON-, beg, -PRON-, to, excuse, brevity, ., —, Dear, Sir, |, Yours, faithfully, |, Ch, ., Darwin]</td>\n",
       "      <td>[-PRON-, be, very, much, oblige, for, -PRON-, interesting, letter, the, case, of, the, white, chicken, surprise, -PRON-, much, but, nothing, can, be, more, perplexing, than, the, law, cause, of, variability, inheritance, -PRON-, be, glad, that, any, of, -PRON-, book, should, have, at, all, interest, -PRON-, as, some, return, for, the, pleasure, which, -PRON-, have, derive, from, your, -PRON-, be, write, this, away, from, home, which, -PRON-, have, leave, for, some, rest, so, -PRON-, beg, -PRON-, to, excuse, brevity, Dear, Sir, Yours, faithfully, Ch, Darwin]</td>\n",
       "      <td>[-PRON-, much, oblige, -PRON-, interesting, letter, ., case, white, chicken, surprise, -PRON-, much, ,, nothing, perplexing, ', law, cause, variability, inheritance, ., -PRON-, glad, -PRON-, book, interest, -PRON-, ,, return, pleasure, -PRON-, derive, ., -PRON-, write, away, home, ,, -PRON-, leave, rest, ,, -PRON-, beg, -PRON-, excuse, brevity, ., —, Dear, Sir, |, Yours, faithfully, |, Ch, ., Darwin]</td>\n",
       "    </tr>\n",
       "    <tr>\n",
       "      <th>2</th>\n",
       "      <td>DCP-LETT-5961.xml</td>\n",
       "      <td>1868</td>\n",
       "      <td>Darwin, C. R.</td>\n",
       "      <td>Bush, John</td>\n",
       "      <td>Mr Buckland has told me that you would excuse the liberty which I take in writing to you. — I am anxious for any information in regard to the proportional numbers of males females born to any animals; but this can hardly be told except with domestic or semi-domestic animals. — Mr. B. says that you have bred many rats, if you have kept any Memoranda, or have a decided impression on the relative numbers of the two sexes, I shd be grateful for information. — Perhaps you can also tell me whether male rats fight for the possession of the female, whether an old powerful rat is polygamous will keep several wifes. — Hoping that you will excuse my troubling you, I remain | Dear Sir | Yours very faithfully | Ch. Darwin My address for next 3 or 4 weeks will be 6. Queen Anne St Cavendish Sqe London W.</td>\n",
       "      <td>(Mr, Buckland, has, told, me, that, you, would, excuse, the, liberty, which, I, take, in, writing, to, you, ., —, I, am, anxious, for, any, information, in, regard, to, the, proportional, numbers, of, males, females, born, to, any, animals, ;, but, this, can, hardly, be, told, except, with, domestic, or, semi, -, domestic, animals, ., —, Mr., B.,  , says, that, you, have, bred, many, rats, ,, if, you, have, kept, any, Memoranda, ,, or, have, a, decided, impression, on, the, relative, numbers, of, the, two, sexes, ,, I, shd, be, grateful, for, information, ., —, Perhaps, you, can, also, ...)</td>\n",
       "      <td>[Mr, Buckland, has, told, me, that, you, would, excuse, the, liberty, which, I, take, in, writing, to, you, ., —, I, am, anxious, for, any, information, in, regard, to, the, proportional, numbers, of, males, females, born, to, any, animals, ;, but, this, can, hardly, be, told, except, with, domestic, or, semi, -, domestic, animals, ., —, Mr., B.,  , says, that, you, have, bred, many, rats, ,, if, you, have, kept, any, Memoranda, ,, or, have, a, decided, impression, on, the, relative, numbers, of, the, two, sexes, ,, I, shd, be, grateful, for, information, ., —, Perhaps, you, can, also, ...]</td>\n",
       "      <td>[Mr, Buckland, have, tell, -PRON-, that, -PRON-, would, excuse, the, liberty, which, -PRON-, take, in, write, to, -PRON-, ., —, -PRON-, be, anxious, for, any, information, in, regard, to, the, proportional, number, of, male, female, bear, to, any, animal, ;, but, this, can, hardly, be, tell, except, with, domestic, or, semi, -, domestic, animal, ., —, Mr., B.,   , say, that, -PRON-, have, breed, many, rat, ,, if, -PRON-, have, keep, any, Memoranda, ,, or, have, a, decide, impression, on, the, relative, number, of, the, two, sex, ,, -PRON-, shd, be, grateful, for, information, ., —, perhaps, -PRON-, can, also, ...]</td>\n",
       "      <td>[Mr, Buckland, have, tell, -PRON-, that, -PRON-, would, excuse, the, liberty, which, -PRON-, take, in, write, to, -PRON-, -PRON-, be, anxious, for, any, information, in, regard, to, the, proportional, number, of, male, female, bear, to, any, animal, but, this, can, hardly, be, tell, except, with, domestic, or, semi, domestic, animal, Mr., B.,   , say, that, -PRON-, have, breed, many, rat, if, -PRON-, have, keep, any, Memoranda, or, have, a, decide, impression, on, the, relative, number, of, the, two, sex, -PRON-, shd, be, grateful, for, information, perhaps, -PRON-, can, also, tell, -PRON-, whether, male, rat, fight, for, the, possession, of, the, ...]</td>\n",
       "      <td>[Mr, Buckland, tell, -PRON-, -PRON-, would, excuse, liberty, -PRON-, take, write, -PRON-, ., —, -PRON-, anxious, information, regard, proportional, number, male, female, bear, animal, ;, hardly, tell, except, domestic, semi, -, domestic, animal, ., —, Mr., B.,   , say, -PRON-, breed, many, rat, ,, -PRON-, keep, Memoranda, ,, decide, impression, relative, number, two, sex, ,, -PRON-, shd, grateful, information, ., —, perhaps, -PRON-, also, tell, -PRON-, whether, male, rat, fight, possession, female, ,, whether, old, powerful, rat, polygamous, keep, several, wife, ., —, hope, -PRON-, excuse, -PRON-, troubling, -PRON-, ,, -PRON-, remain, |, Dear, Sir, |, Yours, faithfully, |, Ch, ...]</td>\n",
       "    </tr>\n",
       "    <tr>\n",
       "      <th>3</th>\n",
       "      <td>DCP-LETT-2753F.xml</td>\n",
       "      <td>1860</td>\n",
       "      <td>Darwin, C. R.</td>\n",
       "      <td>Bookseller</td>\n",
       "      <td>Please procure send me by Post, Mr Pat. Matthew’s work on “Naval Timber Arboriculture” 1831. Adam Black Edinburgh Longman London. — Dear Sir, | Yours faithfully | C. Darwin</td>\n",
       "      <td>(Please, procure, send, me, by, Post, ,, Mr, Pat, ., Matthew, ’s, work, on, “, Naval, Timber, Arboriculture, ”, 1831, ., Adam, Black, Edinburgh, Longman, London, ., —, Dear, Sir, ,, |, Yours, faithfully, |, C.,  , Darwin)</td>\n",
       "      <td>[Please, procure, send, me, by, Post, ,, Mr, Pat, ., Matthew, ’s, work, on, “, Naval, Timber, Arboriculture, ”, 1831, ., Adam, Black, Edinburgh, Longman, London, ., —, Dear, Sir, ,, |, Yours, faithfully, |, C.,  , Darwin]</td>\n",
       "      <td>[please, procure, send, -PRON-, by, Post, ,, Mr, Pat, ., Matthew, ’s, work, on, \", Naval, Timber, Arboriculture, \", 1831, ., Adam, Black, Edinburgh, Longman, London, ., —, Dear, Sir, ,, |, Yours, faithfully, |, C.,   , Darwin]</td>\n",
       "      <td>[please, procure, send, -PRON-, by, Post, Mr, Pat, Matthew, ’s, work, on, Naval, Timber, Arboriculture, 1831, Adam, Black, Edinburgh, Longman, London, Dear, Sir, Yours, faithfully, C.,   , Darwin]</td>\n",
       "      <td>[please, procure, send, -PRON-, Post, ,, Mr, Pat, ., Matthew, ’s, work, \", Naval, Timber, Arboriculture, \", 1831, ., Adam, Black, Edinburgh, Longman, London, ., —, Dear, Sir, ,, |, Yours, faithfully, |, C.,   , Darwin]</td>\n",
       "    </tr>\n",
       "    <tr>\n",
       "      <th>4</th>\n",
       "      <td>DCP-LETT-8607A.xml</td>\n",
       "      <td>1872</td>\n",
       "      <td>Darwin, C. R.</td>\n",
       "      <td>Murray, John (b)</td>\n",
       "      <td>I have by this same post sent off the few trifling errata to Mr Clowes. — Have you given orders about the Heliotypes? I am very glad of your news. — Let me hear sale of all my books, — In Haste | C. Darwin</td>\n",
       "      <td>(I, have, by, this, same, post, sent, off, the, few, trifling, errata, to, Mr, Clowes, ., —, Have, you, given, orders, about, the, Heliotypes, ?, I, am, very, glad, of, your, news, ., —, Let, me, hear, sale, of, all, my, books, ,, —, In, Haste, |, C.,  , Darwin)</td>\n",
       "      <td>[I, have, by, this, same, post, sent, off, the, few, trifling, errata, to, Mr, Clowes, ., —, Have, you, given, orders, about, the, Heliotypes, ?, I, am, very, glad, of, your, news, ., —, Let, me, hear, sale, of, all, my, books, ,, —, In, Haste, |, C.,  , Darwin]</td>\n",
       "      <td>[-PRON-, have, by, this, same, post, send, off, the, few, trifling, erratum, to, Mr, Clowes, ., —, have, -PRON-, give, order, about, the, Heliotypes, ?, -PRON-, be, very, glad, of, -PRON-, news, ., —, let, -PRON-, hear, sale, of, all, -PRON-, book, ,, —, in, Haste, |, C.,   , Darwin]</td>\n",
       "      <td>[-PRON-, have, by, this, same, post, send, off, the, few, trifling, erratum, to, Mr, Clowes, have, -PRON-, give, order, about, the, Heliotypes, -PRON-, be, very, glad, of, -PRON-, news, let, -PRON-, hear, sale, of, all, -PRON-, book, in, Haste, C.,   , Darwin]</td>\n",
       "      <td>[-PRON-, post, send, trifling, erratum, Mr, Clowes, ., —, -PRON-, give, order, Heliotypes, ?, -PRON-, glad, -PRON-, news, ., —, let, -PRON-, hear, sale, -PRON-, book, ,, —, Haste, |, C.,   , Darwin]</td>\n",
       "    </tr>\n",
       "    <tr>\n",
       "      <th>...</th>\n",
       "      <td>...</td>\n",
       "      <td>...</td>\n",
       "      <td>...</td>\n",
       "      <td>...</td>\n",
       "      <td>...</td>\n",
       "      <td>...</td>\n",
       "      <td>...</td>\n",
       "      <td>...</td>\n",
       "      <td>...</td>\n",
       "      <td>...</td>\n",
       "    </tr>\n",
       "    <tr>\n",
       "      <th>14910</th>\n",
       "      <td>DCP-LETT-10624.xml</td>\n",
       "      <td>1876</td>\n",
       "      <td>Darwin, C. R.</td>\n",
       "      <td>Marshall, W. C.</td>\n",
       "      <td>Mr. L. will meet you here on Tuesday. — You had better write direct to him, appointing hour, address him “Mr. Laslett Builder Farnborough Kent.” We leave home early on Wednesday morning therefore we cannot ask you to sleep here, as you seem so busy I daresay it wd be inconvenient for you to do so. Yours very sincerely | Ch. Darwin</td>\n",
       "      <td>(Mr., L.,  , will, meet, you, here, on, Tuesday, ., —, You, had, better, write, direct, to, him, ,, appointing, hour, ,, address, him, “, Mr., Laslett, Builder, Farnborough, Kent, ., ”, We, leave, home, early, on, Wednesday, morning, therefore, we, can, not, ask, you, to, sleep, here, ,, as, you, seem, so, busy, I, daresay, it, wd, be, inconvenient, for, you, to, do, so, ., Yours, very, sincerely, |, Ch, ., Darwin)</td>\n",
       "      <td>[Mr., L.,  , will, meet, you, here, on, Tuesday, ., —, You, had, better, write, direct, to, him, ,, appointing, hour, ,, address, him, “, Mr., Laslett, Builder, Farnborough, Kent, ., ”, We, leave, home, early, on, Wednesday, morning, therefore, we, can, not, ask, you, to, sleep, here, ,, as, you, seem, so, busy, I, daresay, it, wd, be, inconvenient, for, you, to, do, so, ., Yours, very, sincerely, |, Ch, ., Darwin]</td>\n",
       "      <td>[Mr., L.,   , will, meet, -PRON-, here, on, Tuesday, ., —, -PRON-, have, better, write, direct, to, -PRON-, ,, appoint, hour, ,, address, -PRON-, \", Mr., Laslett, Builder, Farnborough, Kent, ., \", -PRON-, leave, home, early, on, Wednesday, morning, therefore, -PRON-, can, not, ask, -PRON-, to, sleep, here, ,, as, -PRON-, seem, so, busy, -PRON-, daresay, -PRON-, wd, be, inconvenient, for, -PRON-, to, do, so, ., yours, very, sincerely, |, Ch, ., Darwin]</td>\n",
       "      <td>[Mr., L.,   , will, meet, -PRON-, here, on, Tuesday, -PRON-, have, better, write, direct, to, -PRON-, appoint, hour, address, -PRON-, Mr., Laslett, Builder, Farnborough, Kent, -PRON-, leave, home, early, on, Wednesday, morning, therefore, -PRON-, can, not, ask, -PRON-, to, sleep, here, as, -PRON-, seem, so, busy, -PRON-, daresay, -PRON-, wd, be, inconvenient, for, -PRON-, to, do, so, yours, very, sincerely, Ch, Darwin]</td>\n",
       "      <td>[Mr., L.,   , meet, -PRON-, Tuesday, ., —, -PRON-, better, write, direct, -PRON-, ,, appoint, hour, ,, address, -PRON-, \", Mr., Laslett, Builder, Farnborough, Kent, ., \", -PRON-, leave, home, early, Wednesday, morning, therefore, -PRON-, ask, -PRON-, sleep, ,, -PRON-, seem, busy, -PRON-, daresay, -PRON-, wd, inconvenient, -PRON-, ., sincerely, |, Ch, ., Darwin]</td>\n",
       "    </tr>\n",
       "    <tr>\n",
       "      <th>14911</th>\n",
       "      <td>DCP-LETT-10410.xml</td>\n",
       "      <td>1876</td>\n",
       "      <td>Darwin, C. R.</td>\n",
       "      <td>Unidentified</td>\n",
       "      <td>I have the pleasure to send some autographs as you desire Yours very faithfully | Ch. Darwin Charles Darwin | Down Kent | Feb. 25th 1876 | Charles Darwin</td>\n",
       "      <td>(I, have, the, pleasure, to, send, some, autographs, as, you, desire, Yours, very, faithfully, |, Ch, ., Darwin, Charles, Darwin, |, Down, Kent, |, Feb.,  , 25th, 1876, |, Charles, Darwin)</td>\n",
       "      <td>[I, have, the, pleasure, to, send, some, autographs, as, you, desire, Yours, very, faithfully, |, Ch, ., Darwin, Charles, Darwin, |, Down, Kent, |, Feb.,  , 25th, 1876, |, Charles, Darwin]</td>\n",
       "      <td>[-PRON-, have, the, pleasure, to, send, some, autograph, as, -PRON-, desire, -PRON-, very, faithfully, |, Ch, ., Darwin, Charles, Darwin, |, Down, Kent, |, February,   , 25th, 1876, |, Charles, Darwin]</td>\n",
       "      <td>[-PRON-, have, the, pleasure, to, send, some, autograph, as, -PRON-, desire, -PRON-, very, faithfully, Ch, Darwin, Charles, Darwin, Down, Kent, February,   , 25th, 1876, Charles, Darwin]</td>\n",
       "      <td>[-PRON-, pleasure, send, autograph, -PRON-, desire, -PRON-, faithfully, |, Ch, ., Darwin, Charles, Darwin, |, Down, Kent, |, February,   , 25th, 1876, |, Charles, Darwin]</td>\n",
       "    </tr>\n",
       "    <tr>\n",
       "      <th>14912</th>\n",
       "      <td>DCP-LETT-10604.xml</td>\n",
       "      <td>1876</td>\n",
       "      <td>Darwin, C. R.</td>\n",
       "      <td>Darwin, Francis</td>\n",
       "      <td>I send by this post Chapt IX, but I earnestly beg you not to strain your mind return the sheets marked “uncorrected” if, as I expect, you find it too much for you. — It will give me only a little additional trouble. The figures have not been compared. As I had Chapt VIII almost finished a week ago, I despatched it then to the Printers: it had no figures related to the constitutional vigour of the crossed Plants. Some of the present sheets are so heavily corrected that they will be difficult for you to read. I have put your tools c up-stairs in order so far as not to be injured; but I cannot find your compound microscope to protect from dust. — I have made a few notes on the state of your plants in the Hot-house. My dearest son, your little note yesterday to mother, in which you say that you love me was the greatest possible comfort to me. I have been thinking much about you during your whole life, I am sure that you have deserved the love of your poor dear sweet darling. I am so deeply glad that she did not suffer at last, — it is my only poor consolation. God bless you my dearest son. Give my best love to Mrs. Ruck: I never in my life saw her equal for goodness kindness of heart. I was much affected by Dicky’s letter to George: he was a great comfort to us all. My dear son | Your affectionate Father | C. Darwin</td>\n",
       "      <td>(I, send, by, this, post, Chapt, IX, ,, but, I, earnestly, beg, you, not, to, strain, your, mind, return, the, sheets, marked, “, uncorrected, ”, if, ,, as, I, expect, ,, you, find, it, too, much, for, you, ., —, It, will, give, me, only, a, little, additional, trouble, ., The, figures, have, not, been, compared, ., As, I, had, Chapt, VIII, almost, finished, a, week, ago, ,, I, despatched, it, then, to, the, Printers, :, it, had, no, figures, related, to, the, constitutional, vigour, of, the, crossed, Plants, ., Some, of, the, present, sheets, are, so, heavily, corrected, that, ...)</td>\n",
       "      <td>[I, send, by, this, post, Chapt, IX, ,, but, I, earnestly, beg, you, not, to, strain, your, mind, return, the, sheets, marked, “, uncorrected, ”, if, ,, as, I, expect, ,, you, find, it, too, much, for, you, ., —, It, will, give, me, only, a, little, additional, trouble, ., The, figures, have, not, been, compared, ., As, I, had, Chapt, VIII, almost, finished, a, week, ago, ,, I, despatched, it, then, to, the, Printers, :, it, had, no, figures, related, to, the, constitutional, vigour, of, the, crossed, Plants, ., Some, of, the, present, sheets, are, so, heavily, corrected, that, ...]</td>\n",
       "      <td>[-PRON-, send, by, this, post, Chapt, IX, ,, but, -PRON-, earnestly, beg, -PRON-, not, to, strain, -PRON-, mind, return, the, sheet, mark, \", uncorrected, \", if, ,, as, -PRON-, expect, ,, -PRON-, find, -PRON-, too, much, for, -PRON-, ., —, -PRON-, will, give, -PRON-, only, a, little, additional, trouble, ., the, figure, have, not, be, compare, ., as, -PRON-, have, chapt, VIII, almost, finish, a, week, ago, ,, -PRON-, despatch, -PRON-, then, to, the, Printers, :, -PRON-, have, no, figure, relate, to, the, constitutional, vigour, of, the, cross, plant, ., some, of, the, present, sheet, be, so, heavily, correct, that, ...]</td>\n",
       "      <td>[-PRON-, send, by, this, post, Chapt, IX, but, -PRON-, earnestly, beg, -PRON-, not, to, strain, -PRON-, mind, return, the, sheet, mark, uncorrected, if, as, -PRON-, expect, -PRON-, find, -PRON-, too, much, for, -PRON-, -PRON-, will, give, -PRON-, only, a, little, additional, trouble, the, figure, have, not, be, compare, as, -PRON-, have, chapt, VIII, almost, finish, a, week, ago, -PRON-, despatch, -PRON-, then, to, the, Printers, -PRON-, have, no, figure, relate, to, the, constitutional, vigour, of, the, cross, plant, some, of, the, present, sheet, be, so, heavily, correct, that, -PRON-, will, be, difficult, for, -PRON-, to, read, -PRON-, have, put, -PRON-, ...]</td>\n",
       "      <td>[-PRON-, send, post, Chapt, IX, ,, -PRON-, earnestly, beg, -PRON-, strain, -PRON-, mind, return, sheet, mark, \", uncorrected, \", ,, -PRON-, expect, ,, -PRON-, find, -PRON-, much, -PRON-, ., —, -PRON-, give, -PRON-, little, additional, trouble, ., figure, compare, ., -PRON-, chapt, VIII, almost, finish, week, ago, ,, -PRON-, despatch, -PRON-, Printers, :, -PRON-, figure, relate, constitutional, vigour, cross, plant, ., present, sheet, heavily, correct, -PRON-, difficult, -PRON-, read, ., -PRON-, put, -PRON-, tool, c, -, stair, order, far, injure, ;, -PRON-, find, -PRON-, compound, microscope, protect, dust, ., —, -PRON-, make, note, state, -PRON-, plant, hot, -, house, ., ...]</td>\n",
       "    </tr>\n",
       "    <tr>\n",
       "      <th>14913</th>\n",
       "      <td>DCP-LETT-12856.xml</td>\n",
       "      <td>1880</td>\n",
       "      <td>Pfeffer, W. F. P.</td>\n",
       "      <td>Darwin, C. R.</td>\n",
       "      <td>Although I have so far been able merely to leaf through your book “The power of movements etc”, this was still enough to gain an insight into the wealth of observations and ingenious deductions you have again set down here. In any case I feel compelled to immediately express my best thanks to you for sending me your work. I hope I will be able to return the favour in about 12 a year from now, for tomorrow the manuscript of the first volume of a handbook of physiology of metabolism and energy exchange will go to the printers. For the 2d volume, too, all preliminary work is complete to such a degree that I hope to also get this ready for press in 12 a year. Unfortunately, this work left me no time to undertake any other investigations of an extensive nature, but in the not too distant future I hope a collection of physiological works by pupils will appear. Incidentally, I have gradually equipped the botanical institute here, whose rooms are superb, with a most complete physiological apparatus. With the highest respect | Yours | devoted | Dr. W. Pfeffer.</td>\n",
       "      <td>(Although, I, have, so, far, been, able, merely, to, leaf, through, your, book, “, The, power, of, movements, etc, ”, ,, this, was, still, enough, to, gain, an, insight, into, the, wealth, of, observations, and, ingenious, deductions, you, have, again, set, down, here, ., In, any, case, I, feel, compelled, to, immediately, express, my, best, thanks, to, you, for, sending, me, your, work, ., I, hope, I, will, be, able, to, return, the, favour, in, about, 12, a, year, from, now, ,, for, tomorrow, the, manuscript, of, the, first, volume, of, a, handbook, of, physiology, of, metabolism, and, energy, exchange, ...)</td>\n",
       "      <td>[Although, I, have, so, far, been, able, merely, to, leaf, through, your, book, “, The, power, of, movements, etc, ”, ,, this, was, still, enough, to, gain, an, insight, into, the, wealth, of, observations, and, ingenious, deductions, you, have, again, set, down, here, ., In, any, case, I, feel, compelled, to, immediately, express, my, best, thanks, to, you, for, sending, me, your, work, ., I, hope, I, will, be, able, to, return, the, favour, in, about, 12, a, year, from, now, ,, for, tomorrow, the, manuscript, of, the, first, volume, of, a, handbook, of, physiology, of, metabolism, and, energy, exchange, ...]</td>\n",
       "      <td>[although, -PRON-, have, so, far, be, able, merely, to, leaf, through, -PRON-, book, \", the, power, of, movement, etc, \", ,, this, be, still, enough, to, gain, an, insight, into, the, wealth, of, observation, and, ingenious, deduction, -PRON-, have, again, set, down, here, ., in, any, case, -PRON-, feel, compel, to, immediately, express, -PRON-, good, thank, to, -PRON-, for, send, -PRON-, -PRON-, work, ., -PRON-, hope, -PRON-, will, be, able, to, return, the, favour, in, about, 12, a, year, from, now, ,, for, tomorrow, the, manuscript, of, the, first, volume, of, a, handbook, of, physiology, of, metabolism, and, energy, exchange, ...]</td>\n",
       "      <td>[although, -PRON-, have, so, far, be, able, merely, to, leaf, through, -PRON-, book, the, power, of, movement, etc, this, be, still, enough, to, gain, an, insight, into, the, wealth, of, observation, and, ingenious, deduction, -PRON-, have, again, set, down, here, in, any, case, -PRON-, feel, compel, to, immediately, express, -PRON-, good, thank, to, -PRON-, for, send, -PRON-, -PRON-, work, -PRON-, hope, -PRON-, will, be, able, to, return, the, favour, in, about, 12, a, year, from, now, for, tomorrow, the, manuscript, of, the, first, volume, of, a, handbook, of, physiology, of, metabolism, and, energy, exchange, will, go, to, the, printer, for, ...]</td>\n",
       "      <td>[although, -PRON-, far, able, merely, leaf, -PRON-, book, \", power, movement, etc, \", ,, still, enough, gain, insight, wealth, observation, ingenious, deduction, -PRON-, set, ., case, -PRON-, feel, compel, immediately, express, -PRON-, good, thank, -PRON-, send, -PRON-, -PRON-, work, ., -PRON-, hope, -PRON-, able, return, favour, 12, year, ,, tomorrow, manuscript, first, volume, handbook, physiology, metabolism, energy, exchange, go, printer, ., 2d, volume, ,, ,, preliminary, work, complete, degree, -PRON-, hope, also, get, ready, press, 12, year, ., unfortunately, ,, work, leave, -PRON-, time, undertake, investigation, extensive, nature, ,, distant, future, -PRON-, hope, collection, physiological, work, pupil, appear, ., incidentally, ...]</td>\n",
       "    </tr>\n",
       "    <tr>\n",
       "      <th>14914</th>\n",
       "      <td>DCP-LETT-12199.xml</td>\n",
       "      <td>1879</td>\n",
       "      <td>Darwin, C. R.</td>\n",
       "      <td>Marshall, V. A. E. G.</td>\n",
       "      <td>I cannot leave tomorrow morning this delightful place without thanking you cordially for all your kindness. Your permission for me to wander over your estate grounds has made all the difference in my enjoyment, in the good which the visit has done me. I can call your garden nothing less than paradise. — We have used your carriage several times your coachman has been most obliging. — We went one very long expedition to Grasmere, home by Ambleside. The three miles between these two places is the most splendid drive which I ever took. Nevertheless I am a staunch Conistonite feel indignant if anyone prefers Grassmere or Ambleside to Coniston. — Pray tell Mrs. Marshall that we disobeyed orders went to Furness; we were punished, for the day was dark gloomy. On our return we said that a walk along your Terrace was worth half-a-dozen Furness Abbeys; in the afternoon I proved the truth of this by taking 2 or 3 turns along the Terrace, though the afternoon was dull they gave me intense pleasure. — Now I am going to be impertinent: when you return I beseech you to look at four clumps of young unhealthy fir-trees ( which I cannot think will ever grow vigorously from not growing on a slope) in the field in front of the verandah of the hotel; they sadly spoil the view, if universal maledictions would have killed them, the poor things would now all stand withered skeletons. Forgive me scribbling at such length. Everyone here joins me in thanking you Mrs. Marshall most truly. When you come to London, if you Mrs. Marshall can spare the time, pray pay us a visit at Down. In case we shd. not hear when you are in London, I hope that you will be so good as to inform us. Believe me my dear Mr. Marshall | Yours sincerely | Charles Darwin</td>\n",
       "      <td>(I, can, not, leave, tomorrow, morning, this, delightful, place, without, thanking, you, cordially, for, all, your, kindness, ., Your, permission, for, me, to, wander, over, your, estate, grounds, has, made, all, the, difference, in, my, enjoyment, ,, in, the, good, which, the, visit, has, done, me, ., I, can, call, your, garden, nothing, less, than, paradise, ., —, We, have, used, your, carriage, several, times, your, coachman, has, been, most, obliging, ., —, We, went, one, very, long, expedition, to, Grasmere, ,, home, by, Ambleside, ., The, three, miles, between, these, two, places, is, the, most, splendid, drive, which, I, ...)</td>\n",
       "      <td>[I, can, not, leave, tomorrow, morning, this, delightful, place, without, thanking, you, cordially, for, all, your, kindness, ., Your, permission, for, me, to, wander, over, your, estate, grounds, has, made, all, the, difference, in, my, enjoyment, ,, in, the, good, which, the, visit, has, done, me, ., I, can, call, your, garden, nothing, less, than, paradise, ., —, We, have, used, your, carriage, several, times, your, coachman, has, been, most, obliging, ., —, We, went, one, very, long, expedition, to, Grasmere, ,, home, by, Ambleside, ., The, three, miles, between, these, two, places, is, the, most, splendid, drive, which, I, ...]</td>\n",
       "      <td>[-PRON-, can, not, leave, tomorrow, morning, this, delightful, place, without, thank, -PRON-, cordially, for, all, -PRON-, kindness, ., -PRON-, permission, for, -PRON-, to, wander, over, -PRON-, estate, ground, have, make, all, the, difference, in, -PRON-, enjoyment, ,, in, the, good, which, the, visit, have, do, -PRON-, ., -PRON-, can, call, -PRON-, garden, nothing, less, than, paradise, ., —, -PRON-, have, use, -PRON-, carriage, several, time, -PRON-, coachman, have, be, most, obliging, ., —, -PRON-, go, one, very, long, expedition, to, Grasmere, ,, home, by, Ambleside, ., the, three, mile, between, these, two, place, be, the, most, splendid, drive, which, -PRON-, ...]</td>\n",
       "      <td>[-PRON-, can, not, leave, tomorrow, morning, this, delightful, place, without, thank, -PRON-, cordially, for, all, -PRON-, kindness, -PRON-, permission, for, -PRON-, to, wander, over, -PRON-, estate, ground, have, make, all, the, difference, in, -PRON-, enjoyment, in, the, good, which, the, visit, have, do, -PRON-, -PRON-, can, call, -PRON-, garden, nothing, less, than, paradise, -PRON-, have, use, -PRON-, carriage, several, time, -PRON-, coachman, have, be, most, obliging, -PRON-, go, one, very, long, expedition, to, Grasmere, home, by, Ambleside, the, three, mile, between, these, two, place, be, the, most, splendid, drive, which, -PRON-, ever, take, nevertheless, -PRON-, be, a, staunch, Conistonite, feel, ...]</td>\n",
       "      <td>[-PRON-, leave, tomorrow, morning, delightful, place, without, thank, -PRON-, cordially, -PRON-, kindness, ., -PRON-, permission, -PRON-, wander, -PRON-, estate, ground, make, difference, -PRON-, enjoyment, ,, good, visit, -PRON-, ., -PRON-, call, -PRON-, garden, nothing, less, paradise, ., —, -PRON-, use, -PRON-, carriage, several, time, -PRON-, coachman, obliging, ., —, -PRON-, go, one, long, expedition, Grasmere, ,, home, Ambleside, ., three, mile, two, place, splendid, drive, -PRON-, ever, take, ., nevertheless, -PRON-, staunch, Conistonite, feel, indignant, anyone, prefer, Grassmere, ambleside, Coniston, ., —, pray, tell, Mrs., Marshall, -PRON-, disobey, order, go, Furness, ;, -PRON-, punish, ,, day, dark, gloomy, ., -PRON-, ...]</td>\n",
       "    </tr>\n",
       "  </tbody>\n",
       "</table>\n",
       "<p>14915 rows × 10 columns</p>\n",
       "</div>"
      ],
      "text/plain": [
       "                      File  ...                                                                                                                                                                                                                                                                                                                                                                                                                                                                                                                                                                                                                                                                                                                                                                   Lemmas_nostop\n",
       "0      DCP-LETT-13876.xml   ...  [Charles, Darwin, -PRON-, health, keep, much, -PRON-, ;, -PRON-, never, escape, whole, day, without, much, discomfort, ,, course, -PRON-, grow, old, -PRON-, become, much, weak, ., —]                                                                                                                                                                                                                                                                                                                                                                                                                                                                                                                                                                                        \n",
       "1      DCP-LETT-10515F.xml  ...  [-PRON-, much, oblige, -PRON-, interesting, letter, ., case, white, chicken, surprise, -PRON-, much, ,, nothing, perplexing, ', law, cause, variability, inheritance, ., -PRON-, glad, -PRON-, book, interest, -PRON-, ,, return, pleasure, -PRON-, derive, ., -PRON-, write, away, home, ,, -PRON-, leave, rest, ,, -PRON-, beg, -PRON-, excuse, brevity, ., —, Dear, Sir, |, Yours, faithfully, |, Ch, ., Darwin]                                                                                                                                                                                                                                                                                                                                                           \n",
       "2      DCP-LETT-5961.xml    ...  [Mr, Buckland, tell, -PRON-, -PRON-, would, excuse, liberty, -PRON-, take, write, -PRON-, ., —, -PRON-, anxious, information, regard, proportional, number, male, female, bear, animal, ;, hardly, tell, except, domestic, semi, -, domestic, animal, ., —, Mr., B.,   , say, -PRON-, breed, many, rat, ,, -PRON-, keep, Memoranda, ,, decide, impression, relative, number, two, sex, ,, -PRON-, shd, grateful, information, ., —, perhaps, -PRON-, also, tell, -PRON-, whether, male, rat, fight, possession, female, ,, whether, old, powerful, rat, polygamous, keep, several, wife, ., —, hope, -PRON-, excuse, -PRON-, troubling, -PRON-, ,, -PRON-, remain, |, Dear, Sir, |, Yours, faithfully, |, Ch, ...]                                                            \n",
       "3      DCP-LETT-2753F.xml   ...  [please, procure, send, -PRON-, Post, ,, Mr, Pat, ., Matthew, ’s, work, \", Naval, Timber, Arboriculture, \", 1831, ., Adam, Black, Edinburgh, Longman, London, ., —, Dear, Sir, ,, |, Yours, faithfully, |, C.,   , Darwin]                                                                                                                                                                                                                                                                                                                                                                                                                                                                                                                                                    \n",
       "4      DCP-LETT-8607A.xml   ...  [-PRON-, post, send, trifling, erratum, Mr, Clowes, ., —, -PRON-, give, order, Heliotypes, ?, -PRON-, glad, -PRON-, news, ., —, let, -PRON-, hear, sale, -PRON-, book, ,, —, Haste, |, C.,   , Darwin]                                                                                                                                                                                                                                                                                                                                                                                                                                                                                                                                                                        \n",
       "...                   ...   ...                                                                                                                                                                                                     ...                                                                                                                                                                                                                                                                                                                                                                                                                                                                                                                                                                        \n",
       "14910  DCP-LETT-10624.xml   ...  [Mr., L.,   , meet, -PRON-, Tuesday, ., —, -PRON-, better, write, direct, -PRON-, ,, appoint, hour, ,, address, -PRON-, \", Mr., Laslett, Builder, Farnborough, Kent, ., \", -PRON-, leave, home, early, Wednesday, morning, therefore, -PRON-, ask, -PRON-, sleep, ,, -PRON-, seem, busy, -PRON-, daresay, -PRON-, wd, inconvenient, -PRON-, ., sincerely, |, Ch, ., Darwin]                                                                                                                                                                                                                                                                                                                                                                                                   \n",
       "14911  DCP-LETT-10410.xml   ...  [-PRON-, pleasure, send, autograph, -PRON-, desire, -PRON-, faithfully, |, Ch, ., Darwin, Charles, Darwin, |, Down, Kent, |, February,   , 25th, 1876, |, Charles, Darwin]                                                                                                                                                                                                                                                                                                                                                                                                                                                                                                                                                                                                    \n",
       "14912  DCP-LETT-10604.xml   ...  [-PRON-, send, post, Chapt, IX, ,, -PRON-, earnestly, beg, -PRON-, strain, -PRON-, mind, return, sheet, mark, \", uncorrected, \", ,, -PRON-, expect, ,, -PRON-, find, -PRON-, much, -PRON-, ., —, -PRON-, give, -PRON-, little, additional, trouble, ., figure, compare, ., -PRON-, chapt, VIII, almost, finish, week, ago, ,, -PRON-, despatch, -PRON-, Printers, :, -PRON-, figure, relate, constitutional, vigour, cross, plant, ., present, sheet, heavily, correct, -PRON-, difficult, -PRON-, read, ., -PRON-, put, -PRON-, tool, c, -, stair, order, far, injure, ;, -PRON-, find, -PRON-, compound, microscope, protect, dust, ., —, -PRON-, make, note, state, -PRON-, plant, hot, -, house, ., ...]                                                                  \n",
       "14913  DCP-LETT-12856.xml   ...  [although, -PRON-, far, able, merely, leaf, -PRON-, book, \", power, movement, etc, \", ,, still, enough, gain, insight, wealth, observation, ingenious, deduction, -PRON-, set, ., case, -PRON-, feel, compel, immediately, express, -PRON-, good, thank, -PRON-, send, -PRON-, -PRON-, work, ., -PRON-, hope, -PRON-, able, return, favour, 12, year, ,, tomorrow, manuscript, first, volume, handbook, physiology, metabolism, energy, exchange, go, printer, ., 2d, volume, ,, ,, preliminary, work, complete, degree, -PRON-, hope, also, get, ready, press, 12, year, ., unfortunately, ,, work, leave, -PRON-, time, undertake, investigation, extensive, nature, ,, distant, future, -PRON-, hope, collection, physiological, work, pupil, appear, ., incidentally, ...]\n",
       "14914  DCP-LETT-12199.xml   ...  [-PRON-, leave, tomorrow, morning, delightful, place, without, thank, -PRON-, cordially, -PRON-, kindness, ., -PRON-, permission, -PRON-, wander, -PRON-, estate, ground, make, difference, -PRON-, enjoyment, ,, good, visit, -PRON-, ., -PRON-, call, -PRON-, garden, nothing, less, paradise, ., —, -PRON-, use, -PRON-, carriage, several, time, -PRON-, coachman, obliging, ., —, -PRON-, go, one, long, expedition, Grasmere, ,, home, Ambleside, ., three, mile, two, place, splendid, drive, -PRON-, ever, take, ., nevertheless, -PRON-, staunch, Conistonite, feel, indignant, anyone, prefer, Grassmere, ambleside, Coniston, ., —, pray, tell, Mrs., Marshall, -PRON-, disobey, order, go, Furness, ;, -PRON-, punish, ,, day, dark, gloomy, ., -PRON-, ...]      \n",
       "\n",
       "[14915 rows x 10 columns]"
      ]
     },
     "execution_count": 37,
     "metadata": {},
     "output_type": "execute_result"
    }
   ],
   "source": [
    "stopWords = set(stopwords.words('english'))\n",
    "df[\"Lemmas_nostop\"] = ''\n",
    "for i in range(df.shape[0]):\n",
    "  df['Lemmas_nostop'].iloc[i] = [t for t in df['Lemmas'].iloc[i] if t not in stopWords]\n",
    "df"
   ]
  },
  {
   "cell_type": "markdown",
   "metadata": {
    "id": "svpLVukaAAC8"
   },
   "source": [
    "I add the language of the letters in an additional column. **NB This takes 2 minutes.**"
   ]
  },
  {
   "cell_type": "code",
   "execution_count": null,
   "metadata": {
    "colab": {
     "background_save": true
    },
    "id": "og_QAVsu7U2h"
   },
   "outputs": [],
   "source": [
    "transcriptions = df[['Transcription']].to_numpy().flatten().tolist()\n",
    "df[['language']] = [detect(x) for x in transcriptions]"
   ]
  },
  {
   "cell_type": "code",
   "execution_count": null,
   "metadata": {
    "colab": {
     "base_uri": "https://localhost:8080/",
     "height": 589
    },
    "id": "NfHOUw1x9RWu",
    "outputId": "de816447-ec3d-4dd7-9bba-8045ea5630fc"
   },
   "outputs": [
    {
     "data": {
      "text/html": [
       "<div>\n",
       "<style scoped>\n",
       "    .dataframe tbody tr th:only-of-type {\n",
       "        vertical-align: middle;\n",
       "    }\n",
       "\n",
       "    .dataframe tbody tr th {\n",
       "        vertical-align: top;\n",
       "    }\n",
       "\n",
       "    .dataframe thead th {\n",
       "        text-align: right;\n",
       "    }\n",
       "</style>\n",
       "<table border=\"1\" class=\"dataframe\">\n",
       "  <thead>\n",
       "    <tr style=\"text-align: right;\">\n",
       "      <th></th>\n",
       "      <th>File</th>\n",
       "      <th>Year</th>\n",
       "      <th>Sender</th>\n",
       "      <th>Receiver</th>\n",
       "      <th>Transcription</th>\n",
       "      <th>Transcription_spacy</th>\n",
       "      <th>Tokens</th>\n",
       "      <th>Lemmas</th>\n",
       "      <th>Lemmas_clean</th>\n",
       "      <th>Lemmas_nostop</th>\n",
       "      <th>language</th>\n",
       "    </tr>\n",
       "  </thead>\n",
       "  <tbody>\n",
       "    <tr>\n",
       "      <th>0</th>\n",
       "      <td>DCP-LETT-13876.xml</td>\n",
       "      <td>1871</td>\n",
       "      <td>Darwin, C. R.</td>\n",
       "      <td>Unidentified</td>\n",
       "      <td>Charles Darwin My health keeps much as it was;...</td>\n",
       "      <td>(Charles, Darwin, My, health, keeps, much, as,...</td>\n",
       "      <td>[Charles, Darwin, My, health, keeps, much, as,...</td>\n",
       "      <td>[Charles, Darwin, -PRON-, health, keep, much, ...</td>\n",
       "      <td>[Charles, Darwin, -PRON-, health, keep, much, ...</td>\n",
       "      <td>[Charles, Darwin, -PRON-, health, keep, much, ...</td>\n",
       "      <td>en</td>\n",
       "    </tr>\n",
       "    <tr>\n",
       "      <th>1</th>\n",
       "      <td>DCP-LETT-10515F.xml</td>\n",
       "      <td>1876</td>\n",
       "      <td>Darwin, C. R.</td>\n",
       "      <td>Zincke, F. B.</td>\n",
       "      <td>I am very much obliged for your interesting le...</td>\n",
       "      <td>(I, am, very, much, obliged, for, your, intere...</td>\n",
       "      <td>[I, am, very, much, obliged, for, your, intere...</td>\n",
       "      <td>[-PRON-, be, very, much, oblige, for, -PRON-, ...</td>\n",
       "      <td>[-PRON-, be, very, much, oblige, for, -PRON-, ...</td>\n",
       "      <td>[-PRON-, much, oblige, -PRON-, interesting, le...</td>\n",
       "      <td>en</td>\n",
       "    </tr>\n",
       "    <tr>\n",
       "      <th>2</th>\n",
       "      <td>DCP-LETT-5961.xml</td>\n",
       "      <td>1868</td>\n",
       "      <td>Darwin, C. R.</td>\n",
       "      <td>Bush, John</td>\n",
       "      <td>Mr Buckland has told me that you would excuse ...</td>\n",
       "      <td>(Mr, Buckland, has, told, me, that, you, would...</td>\n",
       "      <td>[Mr, Buckland, has, told, me, that, you, would...</td>\n",
       "      <td>[Mr, Buckland, have, tell, -PRON-, that, -PRON...</td>\n",
       "      <td>[Mr, Buckland, have, tell, -PRON-, that, -PRON...</td>\n",
       "      <td>[Mr, Buckland, tell, -PRON-, -PRON-, would, ex...</td>\n",
       "      <td>en</td>\n",
       "    </tr>\n",
       "    <tr>\n",
       "      <th>3</th>\n",
       "      <td>DCP-LETT-2753F.xml</td>\n",
       "      <td>1860</td>\n",
       "      <td>Darwin, C. R.</td>\n",
       "      <td>Bookseller</td>\n",
       "      <td>Please procure send me by Post, Mr Pat. Matthe...</td>\n",
       "      <td>(Please, procure, send, me, by, Post, ,, Mr, P...</td>\n",
       "      <td>[Please, procure, send, me, by, Post, ,, Mr, P...</td>\n",
       "      <td>[please, procure, send, -PRON-, by, Post, ,, M...</td>\n",
       "      <td>[please, procure, send, -PRON-, by, Post, Mr, ...</td>\n",
       "      <td>[please, procure, send, -PRON-, Post, ,, Mr, P...</td>\n",
       "      <td>en</td>\n",
       "    </tr>\n",
       "    <tr>\n",
       "      <th>4</th>\n",
       "      <td>DCP-LETT-8607A.xml</td>\n",
       "      <td>1872</td>\n",
       "      <td>Darwin, C. R.</td>\n",
       "      <td>Murray, John (b)</td>\n",
       "      <td>I have by this same post sent off the few trif...</td>\n",
       "      <td>(I, have, by, this, same, post, sent, off, the...</td>\n",
       "      <td>[I, have, by, this, same, post, sent, off, the...</td>\n",
       "      <td>[-PRON-, have, by, this, same, post, send, off...</td>\n",
       "      <td>[-PRON-, have, by, this, same, post, send, off...</td>\n",
       "      <td>[-PRON-, post, send, trifling, erratum, Mr, Cl...</td>\n",
       "      <td>en</td>\n",
       "    </tr>\n",
       "    <tr>\n",
       "      <th>...</th>\n",
       "      <td>...</td>\n",
       "      <td>...</td>\n",
       "      <td>...</td>\n",
       "      <td>...</td>\n",
       "      <td>...</td>\n",
       "      <td>...</td>\n",
       "      <td>...</td>\n",
       "      <td>...</td>\n",
       "      <td>...</td>\n",
       "      <td>...</td>\n",
       "      <td>...</td>\n",
       "    </tr>\n",
       "    <tr>\n",
       "      <th>14910</th>\n",
       "      <td>DCP-LETT-10624.xml</td>\n",
       "      <td>1876</td>\n",
       "      <td>Darwin, C. R.</td>\n",
       "      <td>Marshall, W. C.</td>\n",
       "      <td>Mr. L. will meet you here on Tuesday. — You ha...</td>\n",
       "      <td>(Mr., L.,  , will, meet, you, here, on, Tuesda...</td>\n",
       "      <td>[Mr., L.,  , will, meet, you, here, on, Tuesda...</td>\n",
       "      <td>[Mr., L.,   , will, meet, -PRON-, here, on, Tu...</td>\n",
       "      <td>[Mr., L.,   , will, meet, -PRON-, here, on, Tu...</td>\n",
       "      <td>[Mr., L.,   , meet, -PRON-, Tuesday, ., —, -PR...</td>\n",
       "      <td>en</td>\n",
       "    </tr>\n",
       "    <tr>\n",
       "      <th>14911</th>\n",
       "      <td>DCP-LETT-10410.xml</td>\n",
       "      <td>1876</td>\n",
       "      <td>Darwin, C. R.</td>\n",
       "      <td>Unidentified</td>\n",
       "      <td>I have the pleasure to send some autographs as...</td>\n",
       "      <td>(I, have, the, pleasure, to, send, some, autog...</td>\n",
       "      <td>[I, have, the, pleasure, to, send, some, autog...</td>\n",
       "      <td>[-PRON-, have, the, pleasure, to, send, some, ...</td>\n",
       "      <td>[-PRON-, have, the, pleasure, to, send, some, ...</td>\n",
       "      <td>[-PRON-, pleasure, send, autograph, -PRON-, de...</td>\n",
       "      <td>en</td>\n",
       "    </tr>\n",
       "    <tr>\n",
       "      <th>14912</th>\n",
       "      <td>DCP-LETT-10604.xml</td>\n",
       "      <td>1876</td>\n",
       "      <td>Darwin, C. R.</td>\n",
       "      <td>Darwin, Francis</td>\n",
       "      <td>I send by this post Chapt IX, but I earnestly ...</td>\n",
       "      <td>(I, send, by, this, post, Chapt, IX, ,, but, I...</td>\n",
       "      <td>[I, send, by, this, post, Chapt, IX, ,, but, I...</td>\n",
       "      <td>[-PRON-, send, by, this, post, Chapt, IX, ,, b...</td>\n",
       "      <td>[-PRON-, send, by, this, post, Chapt, IX, but,...</td>\n",
       "      <td>[-PRON-, send, post, Chapt, IX, ,, -PRON-, ear...</td>\n",
       "      <td>en</td>\n",
       "    </tr>\n",
       "    <tr>\n",
       "      <th>14913</th>\n",
       "      <td>DCP-LETT-12856.xml</td>\n",
       "      <td>1880</td>\n",
       "      <td>Pfeffer, W. F. P.</td>\n",
       "      <td>Darwin, C. R.</td>\n",
       "      <td>Although I have so far been able merely to lea...</td>\n",
       "      <td>(Although, I, have, so, far, been, able, merel...</td>\n",
       "      <td>[Although, I, have, so, far, been, able, merel...</td>\n",
       "      <td>[although, -PRON-, have, so, far, be, able, me...</td>\n",
       "      <td>[although, -PRON-, have, so, far, be, able, me...</td>\n",
       "      <td>[although, -PRON-, far, able, merely, leaf, -P...</td>\n",
       "      <td>en</td>\n",
       "    </tr>\n",
       "    <tr>\n",
       "      <th>14914</th>\n",
       "      <td>DCP-LETT-12199.xml</td>\n",
       "      <td>1879</td>\n",
       "      <td>Darwin, C. R.</td>\n",
       "      <td>Marshall, V. A. E. G.</td>\n",
       "      <td>I cannot leave tomorrow morning this delightfu...</td>\n",
       "      <td>(I, can, not, leave, tomorrow, morning, this, ...</td>\n",
       "      <td>[I, can, not, leave, tomorrow, morning, this, ...</td>\n",
       "      <td>[-PRON-, can, not, leave, tomorrow, morning, t...</td>\n",
       "      <td>[-PRON-, can, not, leave, tomorrow, morning, t...</td>\n",
       "      <td>[-PRON-, leave, tomorrow, morning, delightful,...</td>\n",
       "      <td>en</td>\n",
       "    </tr>\n",
       "  </tbody>\n",
       "</table>\n",
       "<p>14915 rows × 11 columns</p>\n",
       "</div>"
      ],
      "text/plain": [
       "                      File  ...  language\n",
       "0       DCP-LETT-13876.xml  ...        en\n",
       "1      DCP-LETT-10515F.xml  ...        en\n",
       "2        DCP-LETT-5961.xml  ...        en\n",
       "3       DCP-LETT-2753F.xml  ...        en\n",
       "4       DCP-LETT-8607A.xml  ...        en\n",
       "...                    ...  ...       ...\n",
       "14910   DCP-LETT-10624.xml  ...        en\n",
       "14911   DCP-LETT-10410.xml  ...        en\n",
       "14912   DCP-LETT-10604.xml  ...        en\n",
       "14913   DCP-LETT-12856.xml  ...        en\n",
       "14914   DCP-LETT-12199.xml  ...        en\n",
       "\n",
       "[14915 rows x 11 columns]"
      ]
     },
     "execution_count": 27,
     "metadata": {},
     "output_type": "execute_result"
    }
   ],
   "source": [
    "df"
   ]
  },
  {
   "cell_type": "markdown",
   "metadata": {
    "id": "sSvRmTop_lgA"
   },
   "source": [
    "How many letters per language?"
   ]
  },
  {
   "cell_type": "code",
   "execution_count": null,
   "metadata": {
    "colab": {
     "base_uri": "https://localhost:8080/"
    },
    "id": "-vTx1lpl_nMJ",
    "outputId": "3e209dba-fd50-4111-b632-51294ac9b922"
   },
   "outputs": [
    {
     "data": {
      "text/plain": [
       "language\n",
       "en          14860\n",
       "de             28\n",
       "fr             11\n",
       "ca              4\n",
       "pt              2\n",
       "no              2\n",
       "vi              1\n",
       "nl              1\n",
       "it              1\n",
       "id              1\n",
       "hu              1\n",
       "et              1\n",
       "es              1\n",
       "af              1\n",
       "dtype: int64"
      ]
     },
     "execution_count": 28,
     "metadata": {},
     "output_type": "execute_result"
    }
   ],
   "source": [
    "df[['language']].value_counts()"
   ]
  },
  {
   "cell_type": "markdown",
   "metadata": {
    "id": "88ofdLMq7M1G"
   },
   "source": [
    "Only keep letters in English:"
   ]
  },
  {
   "cell_type": "code",
   "execution_count": null,
   "metadata": {
    "colab": {
     "base_uri": "https://localhost:8080/"
    },
    "id": "bYUY3iSyAEeS",
    "outputId": "8259ee55-5acc-4b58-e861-fec7fc8cbfc2"
   },
   "outputs": [
    {
     "data": {
      "text/plain": [
       "(14860, 11)"
      ]
     },
     "execution_count": 30,
     "metadata": {},
     "output_type": "execute_result"
    }
   ],
   "source": [
    "#df = df[~df.language.isin(['de', 'fr'])]\n",
    "df = df[df.language.isin(['en'])]\n",
    "df.shape"
   ]
  },
  {
   "cell_type": "markdown",
   "metadata": {
    "id": "wXOJtYH8Yv7r"
   },
   "source": [
    "We only select the letters written by Charles Darwin:"
   ]
  },
  {
   "cell_type": "code",
   "execution_count": null,
   "metadata": {
    "colab": {
     "base_uri": "https://localhost:8080/"
    },
    "id": "eBx_n1u-Yyoy",
    "outputId": "8580b714-161f-417d-e831-12acc7758e60"
   },
   "outputs": [
    {
     "data": {
      "text/plain": [
       "(8148, 11)"
      ]
     },
     "execution_count": 33,
     "metadata": {},
     "output_type": "execute_result"
    }
   ],
   "source": [
    "df1 = df[df['Sender'] == \"Darwin, C. R.\"]\n",
    "df1.shape"
   ]
  },
  {
   "cell_type": "markdown",
   "metadata": {
    "id": "xI2qLxcBN3U4"
   },
   "source": [
    "I save the dataframe to a file:"
   ]
  },
  {
   "cell_type": "code",
   "execution_count": null,
   "metadata": {
    "id": "HIoR-2cBN5aD"
   },
   "outputs": [],
   "source": [
    "df.to_csv(os.path.join(out_folder, 'transcription_tokens.csv'), encoding='utf-8', index = False, sep = \"\\t\", quoting=csv.QUOTE_NONE)\n",
    "df1.to_csv(os.path.join(out_folder, 'transcription_tokens_onlyDarwin.csv'), encoding='utf-8', index = False, sep = \"\\t\", quoting=csv.QUOTE_NONE)"
   ]
  },
  {
   "cell_type": "markdown",
   "metadata": {
    "id": "qs8R0RYgTJid"
   },
   "source": [
    "## 4. Training word embeddings"
   ]
  },
  {
   "cell_type": "markdown",
   "metadata": {
    "id": "MPcAmEUzA1if"
   },
   "source": [
    "I read the dataframe from file:"
   ]
  },
  {
   "cell_type": "code",
   "execution_count": null,
   "metadata": {
    "colab": {
     "base_uri": "https://localhost:8080/",
     "height": 1000
    },
    "id": "vqX-qkXvA3_c",
    "outputId": "9b7b4e5e-a724-41a9-eb50-2cee38db3641"
   },
   "outputs": [
    {
     "data": {
      "text/html": [
       "<div>\n",
       "<style scoped>\n",
       "    .dataframe tbody tr th:only-of-type {\n",
       "        vertical-align: middle;\n",
       "    }\n",
       "\n",
       "    .dataframe tbody tr th {\n",
       "        vertical-align: top;\n",
       "    }\n",
       "\n",
       "    .dataframe thead th {\n",
       "        text-align: right;\n",
       "    }\n",
       "</style>\n",
       "<table border=\"1\" class=\"dataframe\">\n",
       "  <thead>\n",
       "    <tr style=\"text-align: right;\">\n",
       "      <th></th>\n",
       "      <th>File</th>\n",
       "      <th>Year</th>\n",
       "      <th>Sender</th>\n",
       "      <th>Receiver</th>\n",
       "      <th>Transcription</th>\n",
       "      <th>Transcription_spacy</th>\n",
       "      <th>Tokens</th>\n",
       "      <th>Lemmas</th>\n",
       "      <th>Lemmas_clean</th>\n",
       "      <th>Lemmas_nostop</th>\n",
       "      <th>language</th>\n",
       "    </tr>\n",
       "  </thead>\n",
       "  <tbody>\n",
       "    <tr>\n",
       "      <th>0</th>\n",
       "      <td>DCP-LETT-13876.xml</td>\n",
       "      <td>1871</td>\n",
       "      <td>Darwin, C. R.</td>\n",
       "      <td>Unidentified</td>\n",
       "      <td>Charles Darwin My health keeps much as it was; I never escape for a whole day without much discomfort, of course as I grow older I become much weaker. —</td>\n",
       "      <td>Charles Darwin My health keeps much as it was; I never escape for a whole day without much discomfort, of course as I grow older I become much weaker. —</td>\n",
       "      <td>['Charles', 'Darwin', 'My', 'health', 'keeps', 'much', 'as', 'it', 'was', ';', 'I', 'never', 'escape', 'for', 'a', 'whole', 'day', 'without', 'much', 'discomfort', ',', 'of', 'course', 'as', 'I', 'grow', 'older', 'I', 'become', 'much', 'weaker', '.', '—']</td>\n",
       "      <td>['Charles', 'Darwin', '-PRON-', 'health', 'keep', 'much', 'as', '-PRON-', 'be', ';', '-PRON-', 'never', 'escape', 'for', 'a', 'whole', 'day', 'without', 'much', 'discomfort', ',', 'of', 'course', 'as', '-PRON-', 'grow', 'old', '-PRON-', 'become', 'much', 'weak', '.', '—']</td>\n",
       "      <td>['Charles', 'Darwin', '-PRON-', 'health', 'keep', 'much', 'as', '-PRON-', 'be', '-PRON-', 'never', 'escape', 'for', 'a', 'whole', 'day', 'without', 'much', 'discomfort', 'of', 'course', 'as', '-PRON-', 'grow', 'old', '-PRON-', 'become', 'much', 'weak']</td>\n",
       "      <td>['Charles', 'Darwin', '-PRON-', 'health', 'keep', 'much', '-PRON-', ';', '-PRON-', 'never', 'escape', 'whole', 'day', 'without', 'much', 'discomfort', ',', 'course', '-PRON-', 'grow', 'old', '-PRON-', 'become', 'much', 'weak', '.', '—']</td>\n",
       "      <td>en</td>\n",
       "    </tr>\n",
       "    <tr>\n",
       "      <th>1</th>\n",
       "      <td>DCP-LETT-10515F.xml</td>\n",
       "      <td>1876</td>\n",
       "      <td>Darwin, C. R.</td>\n",
       "      <td>Zincke, F. B.</td>\n",
       "      <td>I am very much obliged for your interesting letter. The case of the white chickens surprises me much, but nothing can be more perplexing than the ‘laws causes of variability inheritance. I am glad that any of my books should have at all interested you, as some return for the pleasure which I have derived from yours. I am writing this away from home, which I have left for some rest, so I beg you to excuse brevity. — Dear Sir | Yours faithfully | Ch. Darwin</td>\n",
       "      <td>I am very much obliged for your interesting letter. The case of the white chickens surprises me much, but nothing can be more perplexing than the ‘laws causes of variability inheritance. I am glad that any of my books should have at all interested you, as some return for the pleasure which I have derived from yours. I am writing this away from home, which I have left for some rest, so I beg you to excuse brevity. — Dear Sir | Yours faithfully | Ch. Darwin</td>\n",
       "      <td>['I', 'am', 'very', 'much', 'obliged', 'for', 'your', 'interesting', 'letter', '.', 'The', 'case', 'of', 'the', 'white', 'chickens', 'surprises', 'me', 'much', ',', 'but', 'nothing', 'can', 'be', 'more', 'perplexing', 'than', 'the', '‘', 'laws', 'causes', 'of', 'variability', 'inheritance', '.', 'I', 'am', 'glad', 'that', 'any', 'of', 'my', 'books', 'should', 'have', 'at', 'all', 'interested', 'you', ',', 'as', 'some', 'return', 'for', 'the', 'pleasure', 'which', 'I', 'have', 'derived', 'from', 'yours', '.', 'I', 'am', 'writing', 'this', 'away', 'from', 'home', ',', 'which', 'I', 'have', 'left', 'for', 'some', 'rest', ',', 'so', 'I', 'beg', 'you', 'to', 'excuse', 'brevity', '.', '—', 'Dear', 'Sir', '|', 'Yours', 'faithfully', '|', 'Ch', '.', 'Darwin']</td>\n",
       "      <td>['-PRON-', 'be', 'very', 'much', 'oblige', 'for', '-PRON-', 'interesting', 'letter', '.', 'the', 'case', 'of', 'the', 'white', 'chicken', 'surprise', '-PRON-', 'much', ',', 'but', 'nothing', 'can', 'be', 'more', 'perplexing', 'than', 'the', \"'\", 'law', 'cause', 'of', 'variability', 'inheritance', '.', '-PRON-', 'be', 'glad', 'that', 'any', 'of', '-PRON-', 'book', 'should', 'have', 'at', 'all', 'interest', '-PRON-', ',', 'as', 'some', 'return', 'for', 'the', 'pleasure', 'which', '-PRON-', 'have', 'derive', 'from', 'your', '.', '-PRON-', 'be', 'write', 'this', 'away', 'from', 'home', ',', 'which', '-PRON-', 'have', 'leave', 'for', 'some', 'rest', ',', 'so', '-PRON-', 'beg', '-PRON-', 'to', 'excuse', 'brevity', '.', '—', 'Dear', 'Sir', '|', 'Yours', 'faithfully', '|', 'Ch', '.', 'Darwin']</td>\n",
       "      <td>['-PRON-', 'be', 'very', 'much', 'oblige', 'for', '-PRON-', 'interesting', 'letter', 'the', 'case', 'of', 'the', 'white', 'chicken', 'surprise', '-PRON-', 'much', 'but', 'nothing', 'can', 'be', 'more', 'perplexing', 'than', 'the', 'law', 'cause', 'of', 'variability', 'inheritance', '-PRON-', 'be', 'glad', 'that', 'any', 'of', '-PRON-', 'book', 'should', 'have', 'at', 'all', 'interest', '-PRON-', 'as', 'some', 'return', 'for', 'the', 'pleasure', 'which', '-PRON-', 'have', 'derive', 'from', 'your', '-PRON-', 'be', 'write', 'this', 'away', 'from', 'home', 'which', '-PRON-', 'have', 'leave', 'for', 'some', 'rest', 'so', '-PRON-', 'beg', '-PRON-', 'to', 'excuse', 'brevity', 'Dear', 'Sir', 'Yours', 'faithfully', 'Ch', 'Darwin']</td>\n",
       "      <td>['-PRON-', 'much', 'oblige', '-PRON-', 'interesting', 'letter', '.', 'case', 'white', 'chicken', 'surprise', '-PRON-', 'much', ',', 'nothing', 'perplexing', \"'\", 'law', 'cause', 'variability', 'inheritance', '.', '-PRON-', 'glad', '-PRON-', 'book', 'interest', '-PRON-', ',', 'return', 'pleasure', '-PRON-', 'derive', '.', '-PRON-', 'write', 'away', 'home', ',', '-PRON-', 'leave', 'rest', ',', '-PRON-', 'beg', '-PRON-', 'excuse', 'brevity', '.', '—', 'Dear', 'Sir', '|', 'Yours', 'faithfully', '|', 'Ch', '.', 'Darwin']</td>\n",
       "      <td>en</td>\n",
       "    </tr>\n",
       "    <tr>\n",
       "      <th>2</th>\n",
       "      <td>DCP-LETT-5961.xml</td>\n",
       "      <td>1868</td>\n",
       "      <td>Darwin, C. R.</td>\n",
       "      <td>Bush, John</td>\n",
       "      <td>Mr Buckland has told me that you would excuse the liberty which I take in writing to you. — I am anxious for any information in regard to the proportional numbers of males females born to any animals; but this can hardly be told except with domestic or semi-domestic animals. — Mr. B. says that you have bred many rats, if you have kept any Memoranda, or have a decided impression on the relative numbers of the two sexes, I shd be grateful for information. — Perhaps you can also tell me whether male rats fight for the possession of the female, whether an old powerful rat is polygamous will keep several wifes. — Hoping that you will excuse my troubling you, I remain | Dear Sir | Yours very faithfully | Ch. Darwin My address for next 3 or 4 weeks will be 6. Queen Anne St Cavendish Sqe London W.</td>\n",
       "      <td>Mr Buckland has told me that you would excuse the liberty which I take in writing to you. — I am anxious for any information in regard to the proportional numbers of males females born to any animals; but this can hardly be told except with domestic or semi-domestic animals. — Mr. B. says that you have bred many rats, if you have kept any Memoranda, or have a decided impression on the relative numbers of the two sexes, I shd be grateful for information. — Perhaps you can also tell me whether male rats fight for the possession of the female, whether an old powerful rat is polygamous will keep several wifes. — Hoping that you will excuse my troubling you, I remain | Dear Sir | Yours very faithfully | Ch. Darwin My address for next 3 or 4 weeks will be 6. Queen Anne St Cavendish Sqe London W.</td>\n",
       "      <td>['Mr', 'Buckland', 'has', 'told', 'me', 'that', 'you', 'would', 'excuse', 'the', 'liberty', 'which', 'I', 'take', 'in', 'writing', 'to', 'you', '.', '—', 'I', 'am', 'anxious', 'for', 'any', 'information', 'in', 'regard', 'to', 'the', 'proportional', 'numbers', 'of', 'males', 'females', 'born', 'to', 'any', 'animals', ';', 'but', 'this', 'can', 'hardly', 'be', 'told', 'except', 'with', 'domestic', 'or', 'semi', '-', 'domestic', 'animals', '.', '—', 'Mr.', 'B.', '\\xa0', 'says', 'that', 'you', 'have', 'bred', 'many', 'rats', ',', 'if', 'you', 'have', 'kept', 'any', 'Memoranda', ',', 'or', 'have', 'a', 'decided', 'impression', 'on', 'the', 'relative', 'numbers', 'of', 'the', 'two', 'sexes', ',', 'I', 'shd', 'be', 'grateful', 'for', 'information', '.', '—', 'Perhaps', 'you', 'can', 'also', 'tell', 'me', 'whether', 'male', 'rats', 'fight', 'for', 'the', 'possession', 'of', 'the', 'female', ',', 'whether', 'an', 'old', 'powerful', 'rat', 'is', 'polygamous', 'will', 'keep', 'several', 'wifes', '.', '—', 'Hoping', 'that', 'you', 'will', 'excuse', 'my', 'troubling', 'you', ',', 'I', 'remain', '|', 'Dear', 'Sir', '|', 'Yours', 'very', 'faithfully', '|', 'Ch', '.', 'Darwin', 'My', 'address', 'for', 'next', '3', '\\xa0', 'or', '4', '\\xa0', 'weeks', 'will', 'be', '6', '.', 'Queen', 'Anne', 'St', 'Cavendish', 'Sqe', 'London', 'W.']</td>\n",
       "      <td>['Mr', 'Buckland', 'have', 'tell', '-PRON-', 'that', '-PRON-', 'would', 'excuse', 'the', 'liberty', 'which', '-PRON-', 'take', 'in', 'write', 'to', '-PRON-', '.', '—', '-PRON-', 'be', 'anxious', 'for', 'any', 'information', 'in', 'regard', 'to', 'the', 'proportional', 'number', 'of', 'male', 'female', 'bear', 'to', 'any', 'animal', ';', 'but', 'this', 'can', 'hardly', 'be', 'tell', 'except', 'with', 'domestic', 'or', 'semi', '-', 'domestic', 'animal', '.', '—', 'Mr.', 'B.', '  ', 'say', 'that', '-PRON-', 'have', 'breed', 'many', 'rat', ',', 'if', '-PRON-', 'have', 'keep', 'any', 'Memoranda', ',', 'or', 'have', 'a', 'decide', 'impression', 'on', 'the', 'relative', 'number', 'of', 'the', 'two', 'sex', ',', '-PRON-', 'shd', 'be', 'grateful', 'for', 'information', '.', '—', 'perhaps', '-PRON-', 'can', 'also', 'tell', '-PRON-', 'whether', 'male', 'rat', 'fight', 'for', 'the', 'possession', 'of', 'the', 'female', ',', 'whether', 'an', 'old', 'powerful', 'rat', 'be', 'polygamous', 'will', 'keep', 'several', 'wife', '.', '—', 'hope', 'that', '-PRON-', 'will', 'excuse', '-PRON-', 'troubling', '-PRON-', ',', '-PRON-', 'remain', '|', 'Dear', 'Sir', '|', 'Yours', 'very', 'faithfully', '|', 'Ch', '.', 'Darwin', '-PRON-', 'address', 'for', 'next', '3', '  ', 'or', '4', '  ', 'week', 'will', 'be', '6', '.', 'Queen', 'Anne', 'St', 'Cavendish', 'Sqe', 'London', 'W.']</td>\n",
       "      <td>['Mr', 'Buckland', 'have', 'tell', '-PRON-', 'that', '-PRON-', 'would', 'excuse', 'the', 'liberty', 'which', '-PRON-', 'take', 'in', 'write', 'to', '-PRON-', '-PRON-', 'be', 'anxious', 'for', 'any', 'information', 'in', 'regard', 'to', 'the', 'proportional', 'number', 'of', 'male', 'female', 'bear', 'to', 'any', 'animal', 'but', 'this', 'can', 'hardly', 'be', 'tell', 'except', 'with', 'domestic', 'or', 'semi', 'domestic', 'animal', 'Mr.', 'B.', '  ', 'say', 'that', '-PRON-', 'have', 'breed', 'many', 'rat', 'if', '-PRON-', 'have', 'keep', 'any', 'Memoranda', 'or', 'have', 'a', 'decide', 'impression', 'on', 'the', 'relative', 'number', 'of', 'the', 'two', 'sex', '-PRON-', 'shd', 'be', 'grateful', 'for', 'information', 'perhaps', '-PRON-', 'can', 'also', 'tell', '-PRON-', 'whether', 'male', 'rat', 'fight', 'for', 'the', 'possession', 'of', 'the', 'female', 'whether', 'an', 'old', 'powerful', 'rat', 'be', 'polygamous', 'will', 'keep', 'several', 'wife', 'hope', 'that', '-PRON-', 'will', 'excuse', '-PRON-', 'troubling', '-PRON-', '-PRON-', 'remain', 'Dear', 'Sir', 'Yours', 'very', 'faithfully', 'Ch', 'Darwin', '-PRON-', 'address', 'for', 'next', '3', '  ', 'or', '4', '  ', 'week', 'will', 'be', '6', 'Queen', 'Anne', 'St', 'Cavendish', 'Sqe', 'London', 'W.']</td>\n",
       "      <td>['Mr', 'Buckland', 'tell', '-PRON-', '-PRON-', 'would', 'excuse', 'liberty', '-PRON-', 'take', 'write', '-PRON-', '.', '—', '-PRON-', 'anxious', 'information', 'regard', 'proportional', 'number', 'male', 'female', 'bear', 'animal', ';', 'hardly', 'tell', 'except', 'domestic', 'semi', '-', 'domestic', 'animal', '.', '—', 'Mr.', 'B.', '  ', 'say', '-PRON-', 'breed', 'many', 'rat', ',', '-PRON-', 'keep', 'Memoranda', ',', 'decide', 'impression', 'relative', 'number', 'two', 'sex', ',', '-PRON-', 'shd', 'grateful', 'information', '.', '—', 'perhaps', '-PRON-', 'also', 'tell', '-PRON-', 'whether', 'male', 'rat', 'fight', 'possession', 'female', ',', 'whether', 'old', 'powerful', 'rat', 'polygamous', 'keep', 'several', 'wife', '.', '—', 'hope', '-PRON-', 'excuse', '-PRON-', 'troubling', '-PRON-', ',', '-PRON-', 'remain', '|', 'Dear', 'Sir', '|', 'Yours', 'faithfully', '|', 'Ch', '.', 'Darwin', '-PRON-', 'address', 'next', '3', '  ', '4', '  ', 'week', '6', '.', 'Queen', 'Anne', 'St', 'Cavendish', 'Sqe', 'London', 'W.']</td>\n",
       "      <td>en</td>\n",
       "    </tr>\n",
       "    <tr>\n",
       "      <th>3</th>\n",
       "      <td>DCP-LETT-2753F.xml</td>\n",
       "      <td>1860</td>\n",
       "      <td>Darwin, C. R.</td>\n",
       "      <td>Bookseller</td>\n",
       "      <td>Please procure send me by Post, Mr Pat. Matthew’s work on “Naval Timber Arboriculture” 1831. Adam Black Edinburgh Longman London. — Dear Sir, | Yours faithfully | C. Darwin</td>\n",
       "      <td>Please procure send me by Post, Mr Pat. Matthew’s work on “Naval Timber Arboriculture” 1831. Adam Black Edinburgh Longman London. — Dear Sir, | Yours faithfully | C. Darwin</td>\n",
       "      <td>['Please', 'procure', 'send', 'me', 'by', 'Post', ',', 'Mr', 'Pat', '.', 'Matthew', '’s', 'work', 'on', '“', 'Naval', 'Timber', 'Arboriculture', '”', '1831', '.', 'Adam', 'Black', 'Edinburgh', 'Longman', 'London', '.', '—', 'Dear', 'Sir', ',', '|', 'Yours', 'faithfully', '|', 'C.', '\\xa0', 'Darwin']</td>\n",
       "      <td>['please', 'procure', 'send', '-PRON-', 'by', 'Post', ',', 'Mr', 'Pat', '.', 'Matthew', '’s', 'work', 'on', '\"', 'Naval', 'Timber', 'Arboriculture', '\"', '1831', '.', 'Adam', 'Black', 'Edinburgh', 'Longman', 'London', '.', '—', 'Dear', 'Sir', ',', '|', 'Yours', 'faithfully', '|', 'C.', '  ', 'Darwin']</td>\n",
       "      <td>['please', 'procure', 'send', '-PRON-', 'by', 'Post', 'Mr', 'Pat', 'Matthew', '’s', 'work', 'on', 'Naval', 'Timber', 'Arboriculture', '1831', 'Adam', 'Black', 'Edinburgh', 'Longman', 'London', 'Dear', 'Sir', 'Yours', 'faithfully', 'C.', '  ', 'Darwin']</td>\n",
       "      <td>['please', 'procure', 'send', '-PRON-', 'Post', ',', 'Mr', 'Pat', '.', 'Matthew', '’s', 'work', '\"', 'Naval', 'Timber', 'Arboriculture', '\"', '1831', '.', 'Adam', 'Black', 'Edinburgh', 'Longman', 'London', '.', '—', 'Dear', 'Sir', ',', '|', 'Yours', 'faithfully', '|', 'C.', '  ', 'Darwin']</td>\n",
       "      <td>en</td>\n",
       "    </tr>\n",
       "    <tr>\n",
       "      <th>4</th>\n",
       "      <td>DCP-LETT-8607A.xml</td>\n",
       "      <td>1872</td>\n",
       "      <td>Darwin, C. R.</td>\n",
       "      <td>Murray, John (b)</td>\n",
       "      <td>I have by this same post sent off the few trifling errata to Mr Clowes. — Have you given orders about the Heliotypes? I am very glad of your news. — Let me hear sale of all my books, — In Haste | C. Darwin</td>\n",
       "      <td>I have by this same post sent off the few trifling errata to Mr Clowes. — Have you given orders about the Heliotypes? I am very glad of your news. — Let me hear sale of all my books, — In Haste | C. Darwin</td>\n",
       "      <td>['I', 'have', 'by', 'this', 'same', 'post', 'sent', 'off', 'the', 'few', 'trifling', 'errata', 'to', 'Mr', 'Clowes', '.', '—', 'Have', 'you', 'given', 'orders', 'about', 'the', 'Heliotypes', '?', 'I', 'am', 'very', 'glad', 'of', 'your', 'news', '.', '—', 'Let', 'me', 'hear', 'sale', 'of', 'all', 'my', 'books', ',', '—', 'In', 'Haste', '|', 'C.', '\\xa0', 'Darwin']</td>\n",
       "      <td>['-PRON-', 'have', 'by', 'this', 'same', 'post', 'send', 'off', 'the', 'few', 'trifling', 'erratum', 'to', 'Mr', 'Clowes', '.', '—', 'have', '-PRON-', 'give', 'order', 'about', 'the', 'Heliotypes', '?', '-PRON-', 'be', 'very', 'glad', 'of', '-PRON-', 'news', '.', '—', 'let', '-PRON-', 'hear', 'sale', 'of', 'all', '-PRON-', 'book', ',', '—', 'in', 'Haste', '|', 'C.', '  ', 'Darwin']</td>\n",
       "      <td>['-PRON-', 'have', 'by', 'this', 'same', 'post', 'send', 'off', 'the', 'few', 'trifling', 'erratum', 'to', 'Mr', 'Clowes', 'have', '-PRON-', 'give', 'order', 'about', 'the', 'Heliotypes', '-PRON-', 'be', 'very', 'glad', 'of', '-PRON-', 'news', 'let', '-PRON-', 'hear', 'sale', 'of', 'all', '-PRON-', 'book', 'in', 'Haste', 'C.', '  ', 'Darwin']</td>\n",
       "      <td>['-PRON-', 'post', 'send', 'trifling', 'erratum', 'Mr', 'Clowes', '.', '—', '-PRON-', 'give', 'order', 'Heliotypes', '?', '-PRON-', 'glad', '-PRON-', 'news', '.', '—', 'let', '-PRON-', 'hear', 'sale', '-PRON-', 'book', ',', '—', 'Haste', '|', 'C.', '  ', 'Darwin']</td>\n",
       "      <td>en</td>\n",
       "    </tr>\n",
       "    <tr>\n",
       "      <th>...</th>\n",
       "      <td>...</td>\n",
       "      <td>...</td>\n",
       "      <td>...</td>\n",
       "      <td>...</td>\n",
       "      <td>...</td>\n",
       "      <td>...</td>\n",
       "      <td>...</td>\n",
       "      <td>...</td>\n",
       "      <td>...</td>\n",
       "      <td>...</td>\n",
       "      <td>...</td>\n",
       "    </tr>\n",
       "    <tr>\n",
       "      <th>8143</th>\n",
       "      <td>DCP-LETT-10463.xml</td>\n",
       "      <td>1876</td>\n",
       "      <td>Darwin, C. R.</td>\n",
       "      <td>Torbitt, James</td>\n",
       "      <td>I have received your various communications. I very much dislike my letters being published as advertisements, but I would perhaps submit to this, though extremely disagreeable to me, if I could believe that it would do any good. I hope that you will permit me to speak frankly. It seems to me quite useless to advertise any intended plans, until crowned with success. I am convinced that any one reading your advertisement would consider you a fanatic; and supposing that you succeeded in obtaining a good variety of the plant, which resisted the disease, it would be incomparably more difficult to persuade the public of your success if people thought you a fanatic and consequently would not trust your statements. Whatever weight my name may have you could use to persuade persons privately, to raise seedlings, and this would be amply sufficient. Under these circumstances I return you the MS. and draft; for I am unwilling to aid in what I believe will be a step injurious to your success. With respect to the specimens and seeds which you inform me you have dispatched. I am sorry to say that I am so much out of health and overworked that I cannot undertake the crossing experiments and all the care and difficulty of raising new varieties. I wish I had known of the plan some years ago. Shall I return the specimens to you? There is not the least difficulty in crossing varieties; it is not necessary to remove the anthers of the seed-bearing plant, as the pollen from another variety, if not put on the stigma very late, and especially if applied more than once, has a prepotent influence over the plant’s own pollen. In haste | I remain, dear Sir | Yours faithfully | Charles Darwin James Torbitt, Esqre | Belfast</td>\n",
       "      <td>I have received your various communications. I very much dislike my letters being published as advertisements, but I would perhaps submit to this, though extremely disagreeable to me, if I could believe that it would do any good. I hope that you will permit me to speak frankly. It seems to me quite useless to advertise any intended plans, until crowned with success. I am convinced that any one reading your advertisement would consider you a fanatic; and supposing that you succeeded in obtaining a good variety of the plant, which resisted the disease, it would be incomparably more difficult to persuade the public of your success if people thought you a fanatic and consequently would not trust your statements. Whatever weight my name may have you could use to persuade persons privately, to raise seedlings, and this would be amply sufficient. Under these circumstances I return you the MS. and draft; for I am unwilling to aid in what I believe will be a step injurious to your success. With respect to the specimens and seeds which you inform me you have dispatched. I am sorry to say that I am so much out of health and overworked that I cannot undertake the crossing experiments and all the care and difficulty of raising new varieties. I wish I had known of the plan some years ago. Shall I return the specimens to you? There is not the least difficulty in crossing varieties; it is not necessary to remove the anthers of the seed-bearing plant, as the pollen from another variety, if not put on the stigma very late, and especially if applied more than once, has a prepotent influence over the plant’s own pollen. In haste | I remain, dear Sir | Yours faithfully | Charles Darwin James Torbitt, Esqre | Belfast</td>\n",
       "      <td>['I', 'have', 'received', 'your', 'various', 'communications', '.', 'I', 'very', 'much', 'dislike', 'my', 'letters', 'being', 'published', 'as', 'advertisements', ',', 'but', 'I', 'would', 'perhaps', 'submit', 'to', 'this', ',', 'though', 'extremely', 'disagreeable', 'to', 'me', ',', 'if', 'I', 'could', 'believe', 'that', 'it', 'would', 'do', 'any', 'good', '.', 'I', 'hope', 'that', 'you', 'will', 'permit', 'me', 'to', 'speak', 'frankly', '.', 'It', 'seems', 'to', 'me', 'quite', 'useless', 'to', 'advertise', 'any', 'intended', 'plans', ',', 'until', 'crowned', 'with', 'success', '.', 'I', 'am', 'convinced', 'that', 'any', 'one', 'reading', 'your', 'advertisement', 'would', 'consider', 'you', 'a', 'fanatic', ';', 'and', 'supposing', 'that', 'you', 'succeeded', 'in', 'obtaining', 'a', 'good', 'variety', 'of', 'the', 'plant', ',', 'which', 'resisted', 'the', 'disease', ',', 'it', 'would', 'be', 'incomparably', 'more', 'difficult', 'to', 'persuade', 'the', 'public', 'of', 'your', 'success', 'if', 'people', 'thought', 'you', 'a', 'fanatic', 'and', 'consequently', 'would', 'not', 'trust', 'your', 'statements', '.', 'Whatever', 'weight', 'my', 'name', 'may', 'have', 'you', 'could', 'use', 'to', 'persuade', 'persons', 'privately', ',', 'to', 'raise', 'seedlings', ',', 'and', 'this', 'would', 'be', 'amply', 'sufficient', '.', 'Under', 'these', 'circumstances', 'I', 'return', 'you', 'the', 'MS', '.', '\\xa0', 'and', 'draft', ';', 'for', 'I', 'am', 'unwilling', 'to', 'aid', 'in', 'what', 'I', 'believe', 'will', 'be', 'a', 'step', 'injurious', 'to', 'your', 'success', '.', 'With', 'respect', 'to', 'the', 'specimens', 'and', 'seeds', 'which', 'you', 'inform', 'me', 'you', 'have', 'dispatched', '.', 'I', 'am', 'sorry', 'to', 'say', 'that', 'I', 'am', 'so', 'much', 'out', 'of', 'health', 'and', 'overworked', 'that', 'I', 'can', 'not', 'undertake', 'the', 'crossing', 'experiments', 'and', 'all', 'the', 'care', 'and', 'difficulty', 'of', 'raising', 'new', 'varieties', '.', 'I', 'wish', 'I', 'had', 'known', 'of', 'the', 'plan', 'some', 'years', 'ago', '.', 'Shall', 'I', 'return', 'the', 'specimens', 'to', 'you', '?', 'There', 'is', 'not', 'the', 'least', 'difficulty', 'in', 'crossing', 'varieties', ';', 'it', 'is', 'not', 'necessary', 'to', 'remove', 'the', 'anthers', 'of', 'the', 'seed', '-', 'bearing', 'plant', ',', 'as', 'the', 'pollen', 'from', 'another', 'variety', ',', 'if', 'not', 'put', 'on', 'the', 'stigma', 'very', 'late', ',', 'and', 'especially', 'if', 'applied', 'more', 'than', 'once', ',', 'has', 'a', 'prepotent', 'influence', 'over', 'the', 'plant', '’s', 'own', 'pollen', '.', 'In', 'haste', '|', 'I', 'remain', ',', 'dear', 'Sir', '|', 'Yours', 'faithfully', '|', 'Charles', 'Darwin', 'James', 'Torbitt', ',', 'Esqre', '|', 'Belfast']</td>\n",
       "      <td>['-PRON-', 'have', 'receive', '-PRON-', 'various', 'communication', '.', '-PRON-', 'very', 'much', 'dislike', '-PRON-', 'letter', 'be', 'publish', 'as', 'advertisement', ',', 'but', '-PRON-', 'would', 'perhaps', 'submit', 'to', 'this', ',', 'though', 'extremely', 'disagreeable', 'to', '-PRON-', ',', 'if', '-PRON-', 'could', 'believe', 'that', '-PRON-', 'would', 'do', 'any', 'good', '.', '-PRON-', 'hope', 'that', '-PRON-', 'will', 'permit', '-PRON-', 'to', 'speak', 'frankly', '.', '-PRON-', 'seem', 'to', '-PRON-', 'quite', 'useless', 'to', 'advertise', 'any', 'intend', 'plan', ',', 'until', 'crown', 'with', 'success', '.', '-PRON-', 'be', 'convinced', 'that', 'any', 'one', 'read', '-PRON-', 'advertisement', 'would', 'consider', '-PRON-', 'a', 'fanatic', ';', 'and', 'supposing', 'that', '-PRON-', 'succeed', 'in', 'obtain', 'a', 'good', 'variety', 'of', 'the', 'plant', ',', 'which', 'resist', 'the', 'disease', ',', '-PRON-', 'would', 'be', 'incomparably', 'more', 'difficult', 'to', 'persuade', 'the', 'public', 'of', '-PRON-', 'success', 'if', 'people', 'think', '-PRON-', 'a', 'fanatic', 'and', 'consequently', 'would', 'not', 'trust', '-PRON-', 'statement', '.', 'whatever', 'weight', '-PRON-', 'name', 'may', 'have', '-PRON-', 'could', 'use', 'to', 'persuade', 'person', 'privately', ',', 'to', 'raise', 'seedling', ',', 'and', 'this', 'would', 'be', 'amply', 'sufficient', '.', 'under', 'these', 'circumstance', '-PRON-', 'return', '-PRON-', 'the', 'MS', '.', '  ', 'and', 'draft', ';', 'for', '-PRON-', 'be', 'unwilling', 'to', 'aid', 'in', 'what', '-PRON-', 'believe', 'will', 'be', 'a', 'step', 'injurious', 'to', '-PRON-', 'success', '.', 'with', 'respect', 'to', 'the', 'specimen', 'and', 'seed', 'which', '-PRON-', 'inform', '-PRON-', '-PRON-', 'have', 'dispatch', '.', '-PRON-', 'be', 'sorry', 'to', 'say', 'that', '-PRON-', 'be', 'so', 'much', 'out', 'of', 'health', 'and', 'overwork', 'that', '-PRON-', 'can', 'not', 'undertake', 'the', 'cross', 'experiment', 'and', 'all', 'the', 'care', 'and', 'difficulty', 'of', 'raise', 'new', 'variety', '.', '-PRON-', 'wish', '-PRON-', 'have', 'know', 'of', 'the', 'plan', 'some', 'year', 'ago', '.', 'Shall', '-PRON-', 'return', 'the', 'specimen', 'to', '-PRON-', '?', 'there', 'be', 'not', 'the', 'least', 'difficulty', 'in', 'cross', 'variety', ';', '-PRON-', 'be', 'not', 'necessary', 'to', 'remove', 'the', 'anther', 'of', 'the', 'seed', '-', 'bear', 'plant', ',', 'as', 'the', 'pollen', 'from', 'another', 'variety', ',', 'if', 'not', 'put', 'on', 'the', 'stigma', 'very', 'late', ',', 'and', 'especially', 'if', 'apply', 'more', 'than', 'once', ',', 'have', 'a', 'prepotent', 'influence', 'over', 'the', 'plant', '’s', 'own', 'pollen', '.', 'in', 'haste', '|', '-PRON-', 'remain', ',', 'dear', 'Sir', '|', 'Yours', 'faithfully', '|', 'Charles', 'Darwin', 'James', 'Torbitt', ',', 'Esqre', '|', 'Belfast']</td>\n",
       "      <td>['-PRON-', 'have', 'receive', '-PRON-', 'various', 'communication', '-PRON-', 'very', 'much', 'dislike', '-PRON-', 'letter', 'be', 'publish', 'as', 'advertisement', 'but', '-PRON-', 'would', 'perhaps', 'submit', 'to', 'this', 'though', 'extremely', 'disagreeable', 'to', '-PRON-', 'if', '-PRON-', 'could', 'believe', 'that', '-PRON-', 'would', 'do', 'any', 'good', '-PRON-', 'hope', 'that', '-PRON-', 'will', 'permit', '-PRON-', 'to', 'speak', 'frankly', '-PRON-', 'seem', 'to', '-PRON-', 'quite', 'useless', 'to', 'advertise', 'any', 'intend', 'plan', 'until', 'crown', 'with', 'success', '-PRON-', 'be', 'convinced', 'that', 'any', 'one', 'read', '-PRON-', 'advertisement', 'would', 'consider', '-PRON-', 'a', 'fanatic', 'and', 'supposing', 'that', '-PRON-', 'succeed', 'in', 'obtain', 'a', 'good', 'variety', 'of', 'the', 'plant', 'which', 'resist', 'the', 'disease', '-PRON-', 'would', 'be', 'incomparably', 'more', 'difficult', 'to', 'persuade', 'the', 'public', 'of', '-PRON-', 'success', 'if', 'people', 'think', '-PRON-', 'a', 'fanatic', 'and', 'consequently', 'would', 'not', 'trust', '-PRON-', 'statement', 'whatever', 'weight', '-PRON-', 'name', 'may', 'have', '-PRON-', 'could', 'use', 'to', 'persuade', 'person', 'privately', 'to', 'raise', 'seedling', 'and', 'this', 'would', 'be', 'amply', 'sufficient', 'under', 'these', 'circumstance', '-PRON-', 'return', '-PRON-', 'the', 'MS', '  ', 'and', 'draft', 'for', '-PRON-', 'be', 'unwilling', 'to', 'aid', 'in', 'what', '-PRON-', 'believe', 'will', 'be', 'a', 'step', 'injurious', 'to', '-PRON-', 'success', 'with', 'respect', 'to', 'the', 'specimen', 'and', 'seed', 'which', '-PRON-', 'inform', '-PRON-', '-PRON-', 'have', 'dispatch', '-PRON-', 'be', 'sorry', 'to', 'say', 'that', '-PRON-', 'be', 'so', 'much', 'out', 'of', 'health', 'and', 'overwork', 'that', '-PRON-', 'can', 'not', 'undertake', 'the', 'cross', 'experiment', 'and', 'all', 'the', 'care', 'and', 'difficulty', 'of', 'raise', 'new', 'variety', '-PRON-', 'wish', '-PRON-', 'have', 'know', 'of', 'the', 'plan', 'some', 'year', 'ago', 'Shall', '-PRON-', 'return', 'the', 'specimen', 'to', '-PRON-', 'there', 'be', 'not', 'the', 'least', 'difficulty', 'in', 'cross', 'variety', '-PRON-', 'be', 'not', 'necessary', 'to', 'remove', 'the', 'anther', 'of', 'the', 'seed', 'bear', 'plant', 'as', 'the', 'pollen', 'from', 'another', 'variety', 'if', 'not', 'put', 'on', 'the', 'stigma', 'very', 'late', 'and', 'especially', 'if', 'apply', 'more', 'than', 'once', 'have', 'a', 'prepotent', 'influence', 'over', 'the', 'plant', '’s', 'own', 'pollen', 'in', 'haste', '-PRON-', 'remain', 'dear', 'Sir', 'Yours', 'faithfully', 'Charles', 'Darwin', 'James', 'Torbitt', 'Esqre', 'Belfast']</td>\n",
       "      <td>['-PRON-', 'receive', '-PRON-', 'various', 'communication', '.', '-PRON-', 'much', 'dislike', '-PRON-', 'letter', 'publish', 'advertisement', ',', '-PRON-', 'would', 'perhaps', 'submit', ',', 'though', 'extremely', 'disagreeable', '-PRON-', ',', '-PRON-', 'could', 'believe', '-PRON-', 'would', 'good', '.', '-PRON-', 'hope', '-PRON-', 'permit', '-PRON-', 'speak', 'frankly', '.', '-PRON-', 'seem', '-PRON-', 'quite', 'useless', 'advertise', 'intend', 'plan', ',', 'crown', 'success', '.', '-PRON-', 'convinced', 'one', 'read', '-PRON-', 'advertisement', 'would', 'consider', '-PRON-', 'fanatic', ';', 'supposing', '-PRON-', 'succeed', 'obtain', 'good', 'variety', 'plant', ',', 'resist', 'disease', ',', '-PRON-', 'would', 'incomparably', 'difficult', 'persuade', 'public', '-PRON-', 'success', 'people', 'think', '-PRON-', 'fanatic', 'consequently', 'would', 'trust', '-PRON-', 'statement', '.', 'whatever', 'weight', '-PRON-', 'name', 'may', '-PRON-', 'could', 'use', 'persuade', 'person', 'privately', ',', 'raise', 'seedling', ',', 'would', 'amply', 'sufficient', '.', 'circumstance', '-PRON-', 'return', '-PRON-', 'MS', '.', '  ', 'draft', ';', '-PRON-', 'unwilling', 'aid', '-PRON-', 'believe', 'step', 'injurious', '-PRON-', 'success', '.', 'respect', 'specimen', 'seed', '-PRON-', 'inform', '-PRON-', '-PRON-', 'dispatch', '.', '-PRON-', 'sorry', 'say', '-PRON-', 'much', 'health', 'overwork', '-PRON-', 'undertake', 'cross', 'experiment', 'care', 'difficulty', 'raise', 'new', 'variety', '.', '-PRON-', 'wish', '-PRON-', 'know', 'plan', 'year', 'ago', '.', 'Shall', '-PRON-', 'return', 'specimen', '-PRON-', '?', 'least', 'difficulty', 'cross', 'variety', ';', '-PRON-', 'necessary', 'remove', 'anther', 'seed', '-', 'bear', 'plant', ',', 'pollen', 'another', 'variety', ',', 'put', 'stigma', 'late', ',', 'especially', 'apply', ',', 'prepotent', 'influence', 'plant', '’s', 'pollen', '.', 'haste', '|', '-PRON-', 'remain', ',', 'dear', 'Sir', '|', 'Yours', 'faithfully', '|', 'Charles', 'Darwin', 'James', 'Torbitt', ',', 'Esqre', '|', 'Belfast']</td>\n",
       "      <td>en</td>\n",
       "    </tr>\n",
       "    <tr>\n",
       "      <th>8144</th>\n",
       "      <td>DCP-LETT-10624.xml</td>\n",
       "      <td>1876</td>\n",
       "      <td>Darwin, C. R.</td>\n",
       "      <td>Marshall, W. C.</td>\n",
       "      <td>Mr. L. will meet you here on Tuesday. — You had better write direct to him, appointing hour, address him “Mr. Laslett Builder Farnborough Kent.” We leave home early on Wednesday morning therefore we cannot ask you to sleep here, as you seem so busy I daresay it wd be inconvenient for you to do so. Yours very sincerely | Ch. Darwin</td>\n",
       "      <td>Mr. L. will meet you here on Tuesday. — You had better write direct to him, appointing hour, address him “Mr. Laslett Builder Farnborough Kent.” We leave home early on Wednesday morning therefore we cannot ask you to sleep here, as you seem so busy I daresay it wd be inconvenient for you to do so. Yours very sincerely | Ch. Darwin</td>\n",
       "      <td>['Mr.', 'L.', '\\xa0', 'will', 'meet', 'you', 'here', 'on', 'Tuesday', '.', '—', 'You', 'had', 'better', 'write', 'direct', 'to', 'him', ',', 'appointing', 'hour', ',', 'address', 'him', '“', 'Mr.', 'Laslett', 'Builder', 'Farnborough', 'Kent', '.', '”', 'We', 'leave', 'home', 'early', 'on', 'Wednesday', 'morning', 'therefore', 'we', 'can', 'not', 'ask', 'you', 'to', 'sleep', 'here', ',', 'as', 'you', 'seem', 'so', 'busy', 'I', 'daresay', 'it', 'wd', 'be', 'inconvenient', 'for', 'you', 'to', 'do', 'so', '.', 'Yours', 'very', 'sincerely', '|', 'Ch', '.', 'Darwin']</td>\n",
       "      <td>['Mr.', 'L.', '  ', 'will', 'meet', '-PRON-', 'here', 'on', 'Tuesday', '.', '—', '-PRON-', 'have', 'better', 'write', 'direct', 'to', '-PRON-', ',', 'appoint', 'hour', ',', 'address', '-PRON-', '\"', 'Mr.', 'Laslett', 'Builder', 'Farnborough', 'Kent', '.', '\"', '-PRON-', 'leave', 'home', 'early', 'on', 'Wednesday', 'morning', 'therefore', '-PRON-', 'can', 'not', 'ask', '-PRON-', 'to', 'sleep', 'here', ',', 'as', '-PRON-', 'seem', 'so', 'busy', '-PRON-', 'daresay', '-PRON-', 'wd', 'be', 'inconvenient', 'for', '-PRON-', 'to', 'do', 'so', '.', 'yours', 'very', 'sincerely', '|', 'Ch', '.', 'Darwin']</td>\n",
       "      <td>['Mr.', 'L.', '  ', 'will', 'meet', '-PRON-', 'here', 'on', 'Tuesday', '-PRON-', 'have', 'better', 'write', 'direct', 'to', '-PRON-', 'appoint', 'hour', 'address', '-PRON-', 'Mr.', 'Laslett', 'Builder', 'Farnborough', 'Kent', '-PRON-', 'leave', 'home', 'early', 'on', 'Wednesday', 'morning', 'therefore', '-PRON-', 'can', 'not', 'ask', '-PRON-', 'to', 'sleep', 'here', 'as', '-PRON-', 'seem', 'so', 'busy', '-PRON-', 'daresay', '-PRON-', 'wd', 'be', 'inconvenient', 'for', '-PRON-', 'to', 'do', 'so', 'yours', 'very', 'sincerely', 'Ch', 'Darwin']</td>\n",
       "      <td>['Mr.', 'L.', '  ', 'meet', '-PRON-', 'Tuesday', '.', '—', '-PRON-', 'better', 'write', 'direct', '-PRON-', ',', 'appoint', 'hour', ',', 'address', '-PRON-', '\"', 'Mr.', 'Laslett', 'Builder', 'Farnborough', 'Kent', '.', '\"', '-PRON-', 'leave', 'home', 'early', 'Wednesday', 'morning', 'therefore', '-PRON-', 'ask', '-PRON-', 'sleep', ',', '-PRON-', 'seem', 'busy', '-PRON-', 'daresay', '-PRON-', 'wd', 'inconvenient', '-PRON-', '.', 'sincerely', '|', 'Ch', '.', 'Darwin']</td>\n",
       "      <td>en</td>\n",
       "    </tr>\n",
       "    <tr>\n",
       "      <th>8145</th>\n",
       "      <td>DCP-LETT-10410.xml</td>\n",
       "      <td>1876</td>\n",
       "      <td>Darwin, C. R.</td>\n",
       "      <td>Unidentified</td>\n",
       "      <td>I have the pleasure to send some autographs as you desire Yours very faithfully | Ch. Darwin Charles Darwin | Down Kent | Feb. 25th 1876 | Charles Darwin</td>\n",
       "      <td>I have the pleasure to send some autographs as you desire Yours very faithfully | Ch. Darwin Charles Darwin | Down Kent | Feb. 25th 1876 | Charles Darwin</td>\n",
       "      <td>['I', 'have', 'the', 'pleasure', 'to', 'send', 'some', 'autographs', 'as', 'you', 'desire', 'Yours', 'very', 'faithfully', '|', 'Ch', '.', 'Darwin', 'Charles', 'Darwin', '|', 'Down', 'Kent', '|', 'Feb.', '\\xa0', '25th', '1876', '|', 'Charles', 'Darwin']</td>\n",
       "      <td>['-PRON-', 'have', 'the', 'pleasure', 'to', 'send', 'some', 'autograph', 'as', '-PRON-', 'desire', '-PRON-', 'very', 'faithfully', '|', 'Ch', '.', 'Darwin', 'Charles', 'Darwin', '|', 'Down', 'Kent', '|', 'February', '  ', '25th', '1876', '|', 'Charles', 'Darwin']</td>\n",
       "      <td>['-PRON-', 'have', 'the', 'pleasure', 'to', 'send', 'some', 'autograph', 'as', '-PRON-', 'desire', '-PRON-', 'very', 'faithfully', 'Ch', 'Darwin', 'Charles', 'Darwin', 'Down', 'Kent', 'February', '  ', '25th', '1876', 'Charles', 'Darwin']</td>\n",
       "      <td>['-PRON-', 'pleasure', 'send', 'autograph', '-PRON-', 'desire', '-PRON-', 'faithfully', '|', 'Ch', '.', 'Darwin', 'Charles', 'Darwin', '|', 'Down', 'Kent', '|', 'February', '  ', '25th', '1876', '|', 'Charles', 'Darwin']</td>\n",
       "      <td>en</td>\n",
       "    </tr>\n",
       "    <tr>\n",
       "      <th>8146</th>\n",
       "      <td>DCP-LETT-10604.xml</td>\n",
       "      <td>1876</td>\n",
       "      <td>Darwin, C. R.</td>\n",
       "      <td>Darwin, Francis</td>\n",
       "      <td>I send by this post Chapt IX, but I earnestly beg you not to strain your mind return the sheets marked “uncorrected” if, as I expect, you find it too much for you. — It will give me only a little additional trouble. The figures have not been compared. As I had Chapt VIII almost finished a week ago, I despatched it then to the Printers: it had no figures related to the constitutional vigour of the crossed Plants. Some of the present sheets are so heavily corrected that they will be difficult for you to read. I have put your tools c up-stairs in order so far as not to be injured; but I cannot find your compound microscope to protect from dust. — I have made a few notes on the state of your plants in the Hot-house. My dearest son, your little note yesterday to mother, in which you say that you love me was the greatest possible comfort to me. I have been thinking much about you during your whole life, I am sure that you have deserved the love of your poor dear sweet darling. I am so deeply glad that she did not suffer at last, — it is my only poor consolation. God bless you my dearest son. Give my best love to Mrs. Ruck: I never in my life saw her equal for goodness kindness of heart. I was much affected by Dicky’s letter to George: he was a great comfort to us all. My dear son | Your affectionate Father | C. Darwin</td>\n",
       "      <td>I send by this post Chapt IX, but I earnestly beg you not to strain your mind return the sheets marked “uncorrected” if, as I expect, you find it too much for you. — It will give me only a little additional trouble. The figures have not been compared. As I had Chapt VIII almost finished a week ago, I despatched it then to the Printers: it had no figures related to the constitutional vigour of the crossed Plants. Some of the present sheets are so heavily corrected that they will be difficult for you to read. I have put your tools c up-stairs in order so far as not to be injured; but I cannot find your compound microscope to protect from dust. — I have made a few notes on the state of your plants in the Hot-house. My dearest son, your little note yesterday to mother, in which you say that you love me was the greatest possible comfort to me. I have been thinking much about you during your whole life, I am sure that you have deserved the love of your poor dear sweet darling. I am so deeply glad that she did not suffer at last, — it is my only poor consolation. God bless you my dearest son. Give my best love to Mrs. Ruck: I never in my life saw her equal for goodness kindness of heart. I was much affected by Dicky’s letter to George: he was a great comfort to us all. My dear son | Your affectionate Father | C. Darwin</td>\n",
       "      <td>['I', 'send', 'by', 'this', 'post', 'Chapt', 'IX', ',', 'but', 'I', 'earnestly', 'beg', 'you', 'not', 'to', 'strain', 'your', 'mind', 'return', 'the', 'sheets', 'marked', '“', 'uncorrected', '”', 'if', ',', 'as', 'I', 'expect', ',', 'you', 'find', 'it', 'too', 'much', 'for', 'you', '.', '—', 'It', 'will', 'give', 'me', 'only', 'a', 'little', 'additional', 'trouble', '.', 'The', 'figures', 'have', 'not', 'been', 'compared', '.', 'As', 'I', 'had', 'Chapt', 'VIII', 'almost', 'finished', 'a', 'week', 'ago', ',', 'I', 'despatched', 'it', 'then', 'to', 'the', 'Printers', ':', 'it', 'had', 'no', 'figures', 'related', 'to', 'the', 'constitutional', 'vigour', 'of', 'the', 'crossed', 'Plants', '.', 'Some', 'of', 'the', 'present', 'sheets', 'are', 'so', 'heavily', 'corrected', 'that', 'they', 'will', 'be', 'difficult', 'for', 'you', 'to', 'read', '.', 'I', 'have', 'put', 'your', 'tools', 'c', 'up', '-', 'stairs', 'in', 'order', 'so', 'far', 'as', 'not', 'to', 'be', 'injured', ';', 'but', 'I', 'can', 'not', 'find', 'your', 'compound', 'microscope', 'to', 'protect', 'from', 'dust', '.', '—', 'I', 'have', 'made', 'a', 'few', 'notes', 'on', 'the', 'state', 'of', 'your', 'plants', 'in', 'the', 'Hot', '-', 'house', '.', 'My', 'dearest', 'son', ',', 'your', 'little', 'note', 'yesterday', 'to', 'mother', ',', 'in', 'which', 'you', 'say', 'that', 'you', 'love', 'me', 'was', 'the', 'greatest', 'possible', 'comfort', 'to', 'me', '.', 'I', 'have', 'been', 'thinking', 'much', 'about', 'you', 'during', 'your', 'whole', 'life', ',', 'I', 'am', 'sure', 'that', 'you', 'have', 'deserved', 'the', 'love', 'of', 'your', 'poor', 'dear', 'sweet', 'darling', '.', 'I', 'am', 'so', 'deeply', 'glad', 'that', 'she', 'did', 'not', 'suffer', 'at', 'last', ',', '—', 'it', 'is', 'my', 'only', 'poor', 'consolation', '.', 'God', 'bless', 'you', 'my', 'dearest', 'son', '.', 'Give', 'my', 'best', 'love', 'to', 'Mrs.', 'Ruck', ':', 'I', 'never', 'in', 'my', 'life', 'saw', 'her', 'equal', 'for', 'goodness', 'kindness', 'of', 'heart', '.', 'I', 'was', 'much', 'affected', 'by', 'Dicky', '’s', 'letter', 'to', 'George', ':', 'he', 'was', 'a', 'great', 'comfort', 'to', 'us', 'all', '.', 'My', 'dear', 'son', '|', 'Your', 'affectionate', 'Father', '|', 'C.', '\\xa0', 'Darwin']</td>\n",
       "      <td>['-PRON-', 'send', 'by', 'this', 'post', 'Chapt', 'IX', ',', 'but', '-PRON-', 'earnestly', 'beg', '-PRON-', 'not', 'to', 'strain', '-PRON-', 'mind', 'return', 'the', 'sheet', 'mark', '\"', 'uncorrected', '\"', 'if', ',', 'as', '-PRON-', 'expect', ',', '-PRON-', 'find', '-PRON-', 'too', 'much', 'for', '-PRON-', '.', '—', '-PRON-', 'will', 'give', '-PRON-', 'only', 'a', 'little', 'additional', 'trouble', '.', 'the', 'figure', 'have', 'not', 'be', 'compare', '.', 'as', '-PRON-', 'have', 'chapt', 'VIII', 'almost', 'finish', 'a', 'week', 'ago', ',', '-PRON-', 'despatch', '-PRON-', 'then', 'to', 'the', 'Printers', ':', '-PRON-', 'have', 'no', 'figure', 'relate', 'to', 'the', 'constitutional', 'vigour', 'of', 'the', 'cross', 'plant', '.', 'some', 'of', 'the', 'present', 'sheet', 'be', 'so', 'heavily', 'correct', 'that', '-PRON-', 'will', 'be', 'difficult', 'for', '-PRON-', 'to', 'read', '.', '-PRON-', 'have', 'put', '-PRON-', 'tool', 'c', 'up', '-', 'stair', 'in', 'order', 'so', 'far', 'as', 'not', 'to', 'be', 'injure', ';', 'but', '-PRON-', 'can', 'not', 'find', '-PRON-', 'compound', 'microscope', 'to', 'protect', 'from', 'dust', '.', '—', '-PRON-', 'have', 'make', 'a', 'few', 'note', 'on', 'the', 'state', 'of', '-PRON-', 'plant', 'in', 'the', 'hot', '-', 'house', '.', '-PRON-', 'dear', 'son', ',', '-PRON-', 'little', 'note', 'yesterday', 'to', 'mother', ',', 'in', 'which', '-PRON-', 'say', 'that', '-PRON-', 'love', '-PRON-', 'be', 'the', 'great', 'possible', 'comfort', 'to', '-PRON-', '.', '-PRON-', 'have', 'be', 'think', 'much', 'about', '-PRON-', 'during', '-PRON-', 'whole', 'life', ',', '-PRON-', 'be', 'sure', 'that', '-PRON-', 'have', 'deserve', 'the', 'love', 'of', '-PRON-', 'poor', 'dear', 'sweet', 'darling', '.', '-PRON-', 'be', 'so', 'deeply', 'glad', 'that', '-PRON-', 'do', 'not', 'suffer', 'at', 'last', ',', '—', '-PRON-', 'be', '-PRON-', 'only', 'poor', 'consolation', '.', 'God', 'bless', '-PRON-', '-PRON-', 'dear', 'son', '.', 'give', '-PRON-', 'good', 'love', 'to', 'Mrs.', 'Ruck', ':', '-PRON-', 'never', 'in', '-PRON-', 'life', 'see', '-PRON-', 'equal', 'for', 'goodness', 'kindness', 'of', 'heart', '.', '-PRON-', 'be', 'much', 'affect', 'by', 'Dicky', '’s', 'letter', 'to', 'George', ':', '-PRON-', 'be', 'a', 'great', 'comfort', 'to', '-PRON-', 'all', '.', '-PRON-', 'dear', 'son', '|', '-PRON-', 'affectionate', 'Father', '|', 'C.', '  ', 'Darwin']</td>\n",
       "      <td>['-PRON-', 'send', 'by', 'this', 'post', 'Chapt', 'IX', 'but', '-PRON-', 'earnestly', 'beg', '-PRON-', 'not', 'to', 'strain', '-PRON-', 'mind', 'return', 'the', 'sheet', 'mark', 'uncorrected', 'if', 'as', '-PRON-', 'expect', '-PRON-', 'find', '-PRON-', 'too', 'much', 'for', '-PRON-', '-PRON-', 'will', 'give', '-PRON-', 'only', 'a', 'little', 'additional', 'trouble', 'the', 'figure', 'have', 'not', 'be', 'compare', 'as', '-PRON-', 'have', 'chapt', 'VIII', 'almost', 'finish', 'a', 'week', 'ago', '-PRON-', 'despatch', '-PRON-', 'then', 'to', 'the', 'Printers', '-PRON-', 'have', 'no', 'figure', 'relate', 'to', 'the', 'constitutional', 'vigour', 'of', 'the', 'cross', 'plant', 'some', 'of', 'the', 'present', 'sheet', 'be', 'so', 'heavily', 'correct', 'that', '-PRON-', 'will', 'be', 'difficult', 'for', '-PRON-', 'to', 'read', '-PRON-', 'have', 'put', '-PRON-', 'tool', 'c', 'up', 'stair', 'in', 'order', 'so', 'far', 'as', 'not', 'to', 'be', 'injure', 'but', '-PRON-', 'can', 'not', 'find', '-PRON-', 'compound', 'microscope', 'to', 'protect', 'from', 'dust', '-PRON-', 'have', 'make', 'a', 'few', 'note', 'on', 'the', 'state', 'of', '-PRON-', 'plant', 'in', 'the', 'hot', 'house', '-PRON-', 'dear', 'son', '-PRON-', 'little', 'note', 'yesterday', 'to', 'mother', 'in', 'which', '-PRON-', 'say', 'that', '-PRON-', 'love', '-PRON-', 'be', 'the', 'great', 'possible', 'comfort', 'to', '-PRON-', '-PRON-', 'have', 'be', 'think', 'much', 'about', '-PRON-', 'during', '-PRON-', 'whole', 'life', '-PRON-', 'be', 'sure', 'that', '-PRON-', 'have', 'deserve', 'the', 'love', 'of', '-PRON-', 'poor', 'dear', 'sweet', 'darling', '-PRON-', 'be', 'so', 'deeply', 'glad', 'that', '-PRON-', 'do', 'not', 'suffer', 'at', 'last', '-PRON-', 'be', '-PRON-', 'only', 'poor', 'consolation', 'God', 'bless', '-PRON-', '-PRON-', 'dear', 'son', 'give', '-PRON-', 'good', 'love', 'to', 'Mrs.', 'Ruck', '-PRON-', 'never', 'in', '-PRON-', 'life', 'see', '-PRON-', 'equal', 'for', 'goodness', 'kindness', 'of', 'heart', '-PRON-', 'be', 'much', 'affect', 'by', 'Dicky', '’s', 'letter', 'to', 'George', '-PRON-', 'be', 'a', 'great', 'comfort', 'to', '-PRON-', 'all', '-PRON-', 'dear', 'son', '-PRON-', 'affectionate', 'Father', 'C.', '  ', 'Darwin']</td>\n",
       "      <td>['-PRON-', 'send', 'post', 'Chapt', 'IX', ',', '-PRON-', 'earnestly', 'beg', '-PRON-', 'strain', '-PRON-', 'mind', 'return', 'sheet', 'mark', '\"', 'uncorrected', '\"', ',', '-PRON-', 'expect', ',', '-PRON-', 'find', '-PRON-', 'much', '-PRON-', '.', '—', '-PRON-', 'give', '-PRON-', 'little', 'additional', 'trouble', '.', 'figure', 'compare', '.', '-PRON-', 'chapt', 'VIII', 'almost', 'finish', 'week', 'ago', ',', '-PRON-', 'despatch', '-PRON-', 'Printers', ':', '-PRON-', 'figure', 'relate', 'constitutional', 'vigour', 'cross', 'plant', '.', 'present', 'sheet', 'heavily', 'correct', '-PRON-', 'difficult', '-PRON-', 'read', '.', '-PRON-', 'put', '-PRON-', 'tool', 'c', '-', 'stair', 'order', 'far', 'injure', ';', '-PRON-', 'find', '-PRON-', 'compound', 'microscope', 'protect', 'dust', '.', '—', '-PRON-', 'make', 'note', 'state', '-PRON-', 'plant', 'hot', '-', 'house', '.', '-PRON-', 'dear', 'son', ',', '-PRON-', 'little', 'note', 'yesterday', 'mother', ',', '-PRON-', 'say', '-PRON-', 'love', '-PRON-', 'great', 'possible', 'comfort', '-PRON-', '.', '-PRON-', 'think', 'much', '-PRON-', '-PRON-', 'whole', 'life', ',', '-PRON-', 'sure', '-PRON-', 'deserve', 'love', '-PRON-', 'poor', 'dear', 'sweet', 'darling', '.', '-PRON-', 'deeply', 'glad', '-PRON-', 'suffer', 'last', ',', '—', '-PRON-', '-PRON-', 'poor', 'consolation', '.', 'God', 'bless', '-PRON-', '-PRON-', 'dear', 'son', '.', 'give', '-PRON-', 'good', 'love', 'Mrs.', 'Ruck', ':', '-PRON-', 'never', '-PRON-', 'life', 'see', '-PRON-', 'equal', 'goodness', 'kindness', 'heart', '.', '-PRON-', 'much', 'affect', 'Dicky', '’s', 'letter', 'George', ':', '-PRON-', 'great', 'comfort', '-PRON-', '.', '-PRON-', 'dear', 'son', '|', '-PRON-', 'affectionate', 'Father', '|', 'C.', '  ', 'Darwin']</td>\n",
       "      <td>en</td>\n",
       "    </tr>\n",
       "    <tr>\n",
       "      <th>8147</th>\n",
       "      <td>DCP-LETT-12199.xml</td>\n",
       "      <td>1879</td>\n",
       "      <td>Darwin, C. R.</td>\n",
       "      <td>Marshall, V. A. E. G.</td>\n",
       "      <td>I cannot leave tomorrow morning this delightful place without thanking you cordially for all your kindness. Your permission for me to wander over your estate grounds has made all the difference in my enjoyment, in the good which the visit has done me. I can call your garden nothing less than paradise. — We have used your carriage several times your coachman has been most obliging. — We went one very long expedition to Grasmere, home by Ambleside. The three miles between these two places is the most splendid drive which I ever took. Nevertheless I am a staunch Conistonite feel indignant if anyone prefers Grassmere or Ambleside to Coniston. — Pray tell Mrs. Marshall that we disobeyed orders went to Furness; we were punished, for the day was dark gloomy. On our return we said that a walk along your Terrace was worth half-a-dozen Furness Abbeys; in the afternoon I proved the truth of this by taking 2 or 3 turns along the Terrace, though the afternoon was dull they gave me intense pleasure. — Now I am going to be impertinent: when you return I beseech you to look at four clumps of young unhealthy fir-trees ( which I cannot think will ever grow vigorously from not growing on a slope) in the field in front of the verandah of the hotel; they sadly spoil the view, if universal maledictions would have killed them, the poor things would now all stand withered skeletons. Forgive me scribbling at such length. Everyone here joins me in thanking you Mrs. Marshall most truly. When you come to London, if you Mrs. Marshall can spare the time, pray pay us a visit at Down. In case we shd. not hear when you are in London, I hope that you will be so good as to inform us. Believe me my dear Mr. Marshall | Yours sincerely | Charles Darwin</td>\n",
       "      <td>I cannot leave tomorrow morning this delightful place without thanking you cordially for all your kindness. Your permission for me to wander over your estate grounds has made all the difference in my enjoyment, in the good which the visit has done me. I can call your garden nothing less than paradise. — We have used your carriage several times your coachman has been most obliging. — We went one very long expedition to Grasmere, home by Ambleside. The three miles between these two places is the most splendid drive which I ever took. Nevertheless I am a staunch Conistonite feel indignant if anyone prefers Grassmere or Ambleside to Coniston. — Pray tell Mrs. Marshall that we disobeyed orders went to Furness; we were punished, for the day was dark gloomy. On our return we said that a walk along your Terrace was worth half-a-dozen Furness Abbeys; in the afternoon I proved the truth of this by taking 2 or 3 turns along the Terrace, though the afternoon was dull they gave me intense pleasure. — Now I am going to be impertinent: when you return I beseech you to look at four clumps of young unhealthy fir-trees ( which I cannot think will ever grow vigorously from not growing on a slope) in the field in front of the verandah of the hotel; they sadly spoil the view, if universal maledictions would have killed them, the poor things would now all stand withered skeletons. Forgive me scribbling at such length. Everyone here joins me in thanking you Mrs. Marshall most truly. When you come to London, if you Mrs. Marshall can spare the time, pray pay us a visit at Down. In case we shd. not hear when you are in London, I hope that you will be so good as to inform us. Believe me my dear Mr. Marshall | Yours sincerely | Charles Darwin</td>\n",
       "      <td>['I', 'can', 'not', 'leave', 'tomorrow', 'morning', 'this', 'delightful', 'place', 'without', 'thanking', 'you', 'cordially', 'for', 'all', 'your', 'kindness', '.', 'Your', 'permission', 'for', 'me', 'to', 'wander', 'over', 'your', 'estate', 'grounds', 'has', 'made', 'all', 'the', 'difference', 'in', 'my', 'enjoyment', ',', 'in', 'the', 'good', 'which', 'the', 'visit', 'has', 'done', 'me', '.', 'I', 'can', 'call', 'your', 'garden', 'nothing', 'less', 'than', 'paradise', '.', '—', 'We', 'have', 'used', 'your', 'carriage', 'several', 'times', 'your', 'coachman', 'has', 'been', 'most', 'obliging', '.', '—', 'We', 'went', 'one', 'very', 'long', 'expedition', 'to', 'Grasmere', ',', 'home', 'by', 'Ambleside', '.', 'The', 'three', 'miles', 'between', 'these', 'two', 'places', 'is', 'the', 'most', 'splendid', 'drive', 'which', 'I', 'ever', 'took', '.', 'Nevertheless', 'I', 'am', 'a', 'staunch', 'Conistonite', 'feel', 'indignant', 'if', 'anyone', 'prefers', 'Grassmere', 'or', 'Ambleside', 'to', 'Coniston', '.', '—', 'Pray', 'tell', 'Mrs.', 'Marshall', 'that', 'we', 'disobeyed', 'orders', 'went', 'to', 'Furness', ';', 'we', 'were', 'punished', ',', 'for', 'the', 'day', 'was', 'dark', 'gloomy', '.', 'On', 'our', 'return', 'we', 'said', 'that', 'a', 'walk', 'along', 'your', 'Terrace', 'was', 'worth', 'half', '-', 'a', '-', 'dozen', 'Furness', 'Abbeys', ';', 'in', 'the', 'afternoon', 'I', 'proved', 'the', 'truth', 'of', 'this', 'by', 'taking', '2', '\\xa0', 'or', '3', '\\xa0', 'turns', 'along', 'the', 'Terrace', ',', 'though', 'the', 'afternoon', 'was', 'dull', 'they', 'gave', 'me', 'intense', 'pleasure', '.', '—', 'Now', 'I', 'am', 'going', 'to', 'be', 'impertinent', ':', 'when', 'you', 'return', 'I', 'beseech', 'you', 'to', 'look', 'at', 'four', 'clumps', 'of', 'young', 'unhealthy', 'fir', '-', 'trees', '(', 'which', 'I', 'can', 'not', 'think', 'will', 'ever', 'grow', 'vigorously', 'from', 'not', 'growing', 'on', 'a', 'slope', ')', 'in', 'the', 'field', 'in', 'front', 'of', 'the', 'verandah', 'of', 'the', 'hotel', ';', 'they', 'sadly', 'spoil', 'the', 'view', ',', 'if', 'universal', 'maledictions', 'would', 'have', 'killed', 'them', ',', 'the', 'poor', 'things', 'would', 'now', 'all', 'stand', 'withered', 'skeletons', '.', 'Forgive', 'me', 'scribbling', 'at', 'such', 'length', '.', 'Everyone', 'here', 'joins', 'me', 'in', 'thanking', 'you', 'Mrs.', 'Marshall', 'most', 'truly', '.', 'When', 'you', 'come', 'to', 'London', ',', 'if', 'you', 'Mrs.', 'Marshall', 'can', 'spare', 'the', 'time', ',', 'pray', 'pay', 'us', 'a', 'visit', 'at', 'Down', '.', 'In', 'case', 'we', 'shd', '.', '\\xa0', 'not', 'hear', 'when', 'you', 'are', 'in', 'London', ',', 'I', 'hope', 'that', 'you', 'will', 'be', 'so', 'good', 'as', 'to', 'inform', 'us', '.', 'Believe', 'me', 'my', 'dear', 'Mr.', 'Marshall', '|', 'Yours', 'sincerely', '|', 'Charles', 'Darwin']</td>\n",
       "      <td>['-PRON-', 'can', 'not', 'leave', 'tomorrow', 'morning', 'this', 'delightful', 'place', 'without', 'thank', '-PRON-', 'cordially', 'for', 'all', '-PRON-', 'kindness', '.', '-PRON-', 'permission', 'for', '-PRON-', 'to', 'wander', 'over', '-PRON-', 'estate', 'ground', 'have', 'make', 'all', 'the', 'difference', 'in', '-PRON-', 'enjoyment', ',', 'in', 'the', 'good', 'which', 'the', 'visit', 'have', 'do', '-PRON-', '.', '-PRON-', 'can', 'call', '-PRON-', 'garden', 'nothing', 'less', 'than', 'paradise', '.', '—', '-PRON-', 'have', 'use', '-PRON-', 'carriage', 'several', 'time', '-PRON-', 'coachman', 'have', 'be', 'most', 'obliging', '.', '—', '-PRON-', 'go', 'one', 'very', 'long', 'expedition', 'to', 'Grasmere', ',', 'home', 'by', 'Ambleside', '.', 'the', 'three', 'mile', 'between', 'these', 'two', 'place', 'be', 'the', 'most', 'splendid', 'drive', 'which', '-PRON-', 'ever', 'take', '.', 'nevertheless', '-PRON-', 'be', 'a', 'staunch', 'Conistonite', 'feel', 'indignant', 'if', 'anyone', 'prefer', 'Grassmere', 'or', 'ambleside', 'to', 'Coniston', '.', '—', 'pray', 'tell', 'Mrs.', 'Marshall', 'that', '-PRON-', 'disobey', 'order', 'go', 'to', 'Furness', ';', '-PRON-', 'be', 'punish', ',', 'for', 'the', 'day', 'be', 'dark', 'gloomy', '.', 'on', '-PRON-', 'return', '-PRON-', 'say', 'that', 'a', 'walk', 'along', '-PRON-', 'Terrace', 'be', 'worth', 'half', '-', 'a', '-', 'dozen', 'Furness', 'Abbeys', ';', 'in', 'the', 'afternoon', '-PRON-', 'prove', 'the', 'truth', 'of', 'this', 'by', 'take', '2', '  ', 'or', '3', '  ', 'turn', 'along', 'the', 'Terrace', ',', 'though', 'the', 'afternoon', 'be', 'dull', '-PRON-', 'give', '-PRON-', 'intense', 'pleasure', '.', '—', 'now', '-PRON-', 'be', 'go', 'to', 'be', 'impertinent', ':', 'when', '-PRON-', 'return', '-PRON-', 'beseech', '-PRON-', 'to', 'look', 'at', 'four', 'clump', 'of', 'young', 'unhealthy', 'fir', '-', 'tree', '(', 'which', '-PRON-', 'can', 'not', 'think', 'will', 'ever', 'grow', 'vigorously', 'from', 'not', 'grow', 'on', 'a', 'slope', ')', 'in', 'the', 'field', 'in', 'front', 'of', 'the', 'verandah', 'of', 'the', 'hotel', ';', '-PRON-', 'sadly', 'spoil', 'the', 'view', ',', 'if', 'universal', 'malediction', 'would', 'have', 'kill', '-PRON-', ',', 'the', 'poor', 'thing', 'would', 'now', 'all', 'stand', 'withered', 'skeleton', '.', 'forgive', '-PRON-', 'scribble', 'at', 'such', 'length', '.', 'everyone', 'here', 'join', '-PRON-', 'in', 'thank', '-PRON-', 'Mrs.', 'Marshall', 'most', 'truly', '.', 'when', '-PRON-', 'come', 'to', 'London', ',', 'if', '-PRON-', 'Mrs.', 'Marshall', 'can', 'spare', 'the', 'time', ',', 'pray', 'pay', '-PRON-', 'a', 'visit', 'at', 'Down', '.', 'in', 'case', '-PRON-', 'shd', '.', '  ', 'not', 'hear', 'when', '-PRON-', 'be', 'in', 'London', ',', '-PRON-', 'hope', 'that', '-PRON-', 'will', 'be', 'so', 'good', 'as', 'to', 'inform', '-PRON-', '.', 'believe', '-PRON-', '-PRON-', 'dear', 'Mr.', 'Marshall', '|', 'Yours', 'sincerely', '|', 'Charles', 'Darwin']</td>\n",
       "      <td>['-PRON-', 'can', 'not', 'leave', 'tomorrow', 'morning', 'this', 'delightful', 'place', 'without', 'thank', '-PRON-', 'cordially', 'for', 'all', '-PRON-', 'kindness', '-PRON-', 'permission', 'for', '-PRON-', 'to', 'wander', 'over', '-PRON-', 'estate', 'ground', 'have', 'make', 'all', 'the', 'difference', 'in', '-PRON-', 'enjoyment', 'in', 'the', 'good', 'which', 'the', 'visit', 'have', 'do', '-PRON-', '-PRON-', 'can', 'call', '-PRON-', 'garden', 'nothing', 'less', 'than', 'paradise', '-PRON-', 'have', 'use', '-PRON-', 'carriage', 'several', 'time', '-PRON-', 'coachman', 'have', 'be', 'most', 'obliging', '-PRON-', 'go', 'one', 'very', 'long', 'expedition', 'to', 'Grasmere', 'home', 'by', 'Ambleside', 'the', 'three', 'mile', 'between', 'these', 'two', 'place', 'be', 'the', 'most', 'splendid', 'drive', 'which', '-PRON-', 'ever', 'take', 'nevertheless', '-PRON-', 'be', 'a', 'staunch', 'Conistonite', 'feel', 'indignant', 'if', 'anyone', 'prefer', 'Grassmere', 'or', 'ambleside', 'to', 'Coniston', 'pray', 'tell', 'Mrs.', 'Marshall', 'that', '-PRON-', 'disobey', 'order', 'go', 'to', 'Furness', '-PRON-', 'be', 'punish', 'for', 'the', 'day', 'be', 'dark', 'gloomy', 'on', '-PRON-', 'return', '-PRON-', 'say', 'that', 'a', 'walk', 'along', '-PRON-', 'Terrace', 'be', 'worth', 'half', 'a', 'dozen', 'Furness', 'Abbeys', 'in', 'the', 'afternoon', '-PRON-', 'prove', 'the', 'truth', 'of', 'this', 'by', 'take', '2', '  ', 'or', '3', '  ', 'turn', 'along', 'the', 'Terrace', 'though', 'the', 'afternoon', 'be', 'dull', '-PRON-', 'give', '-PRON-', 'intense', 'pleasure', 'now', '-PRON-', 'be', 'go', 'to', 'be', 'impertinent', 'when', '-PRON-', 'return', '-PRON-', 'beseech', '-PRON-', 'to', 'look', 'at', 'four', 'clump', 'of', 'young', 'unhealthy', 'fir', 'tree', 'which', '-PRON-', 'can', 'not', 'think', 'will', 'ever', 'grow', 'vigorously', 'from', 'not', 'grow', 'on', 'a', 'slope', 'in', 'the', 'field', 'in', 'front', 'of', 'the', 'verandah', 'of', 'the', 'hotel', '-PRON-', 'sadly', 'spoil', 'the', 'view', 'if', 'universal', 'malediction', 'would', 'have', 'kill', '-PRON-', 'the', 'poor', 'thing', 'would', 'now', 'all', 'stand', 'withered', 'skeleton', 'forgive', '-PRON-', 'scribble', 'at', 'such', 'length', 'everyone', 'here', 'join', '-PRON-', 'in', 'thank', '-PRON-', 'Mrs.', 'Marshall', 'most', 'truly', 'when', '-PRON-', 'come', 'to', 'London', 'if', '-PRON-', 'Mrs.', 'Marshall', 'can', 'spare', 'the', 'time', 'pray', 'pay', '-PRON-', 'a', 'visit', 'at', 'Down', 'in', 'case', '-PRON-', 'shd', '  ', 'not', 'hear', 'when', '-PRON-', 'be', 'in', 'London', '-PRON-', 'hope', 'that', '-PRON-', 'will', 'be', 'so', 'good', 'as', 'to', 'inform', '-PRON-', 'believe', '-PRON-', '-PRON-', 'dear', 'Mr.', 'Marshall', 'Yours', 'sincerely', 'Charles', 'Darwin']</td>\n",
       "      <td>['-PRON-', 'leave', 'tomorrow', 'morning', 'delightful', 'place', 'without', 'thank', '-PRON-', 'cordially', '-PRON-', 'kindness', '.', '-PRON-', 'permission', '-PRON-', 'wander', '-PRON-', 'estate', 'ground', 'make', 'difference', '-PRON-', 'enjoyment', ',', 'good', 'visit', '-PRON-', '.', '-PRON-', 'call', '-PRON-', 'garden', 'nothing', 'less', 'paradise', '.', '—', '-PRON-', 'use', '-PRON-', 'carriage', 'several', 'time', '-PRON-', 'coachman', 'obliging', '.', '—', '-PRON-', 'go', 'one', 'long', 'expedition', 'Grasmere', ',', 'home', 'Ambleside', '.', 'three', 'mile', 'two', 'place', 'splendid', 'drive', '-PRON-', 'ever', 'take', '.', 'nevertheless', '-PRON-', 'staunch', 'Conistonite', 'feel', 'indignant', 'anyone', 'prefer', 'Grassmere', 'ambleside', 'Coniston', '.', '—', 'pray', 'tell', 'Mrs.', 'Marshall', '-PRON-', 'disobey', 'order', 'go', 'Furness', ';', '-PRON-', 'punish', ',', 'day', 'dark', 'gloomy', '.', '-PRON-', 'return', '-PRON-', 'say', 'walk', 'along', '-PRON-', 'Terrace', 'worth', 'half', '-', '-', 'dozen', 'Furness', 'Abbeys', ';', 'afternoon', '-PRON-', 'prove', 'truth', 'take', '2', '  ', '3', '  ', 'turn', 'along', 'Terrace', ',', 'though', 'afternoon', 'dull', '-PRON-', 'give', '-PRON-', 'intense', 'pleasure', '.', '—', '-PRON-', 'go', 'impertinent', ':', '-PRON-', 'return', '-PRON-', 'beseech', '-PRON-', 'look', 'four', 'clump', 'young', 'unhealthy', 'fir', '-', 'tree', '(', '-PRON-', 'think', 'ever', 'grow', 'vigorously', 'grow', 'slope', ')', 'field', 'front', 'verandah', 'hotel', ';', '-PRON-', 'sadly', 'spoil', 'view', ',', 'universal', 'malediction', 'would', 'kill', '-PRON-', ',', 'poor', 'thing', 'would', 'stand', 'withered', 'skeleton', '.', 'forgive', '-PRON-', 'scribble', 'length', '.', 'everyone', 'join', '-PRON-', 'thank', '-PRON-', 'Mrs.', 'Marshall', 'truly', '.', '-PRON-', 'come', 'London', ',', '-PRON-', 'Mrs.', 'Marshall', 'spare', 'time', ',', 'pray', 'pay', '-PRON-', 'visit', 'Down', '.', 'case', '-PRON-', 'shd', '.', '  ', 'hear', '-PRON-', 'London', ',', '-PRON-', 'hope', '-PRON-', 'good', 'inform', '-PRON-', '.', 'believe', '-PRON-', '-PRON-', 'dear', 'Mr.', 'Marshall', '|', 'Yours', 'sincerely', '|', 'Charles', 'Darwin']</td>\n",
       "      <td>en</td>\n",
       "    </tr>\n",
       "  </tbody>\n",
       "</table>\n",
       "<p>8148 rows × 11 columns</p>\n",
       "</div>"
      ],
      "text/plain": [
       "                     File  ...  language\n",
       "0     DCP-LETT-13876.xml   ...  en      \n",
       "1     DCP-LETT-10515F.xml  ...  en      \n",
       "2     DCP-LETT-5961.xml    ...  en      \n",
       "3     DCP-LETT-2753F.xml   ...  en      \n",
       "4     DCP-LETT-8607A.xml   ...  en      \n",
       "...                  ...   ...  ..      \n",
       "8143  DCP-LETT-10463.xml   ...  en      \n",
       "8144  DCP-LETT-10624.xml   ...  en      \n",
       "8145  DCP-LETT-10410.xml   ...  en      \n",
       "8146  DCP-LETT-10604.xml   ...  en      \n",
       "8147  DCP-LETT-12199.xml   ...  en      \n",
       "\n",
       "[8148 rows x 11 columns]"
      ]
     },
     "execution_count": 16,
     "metadata": {},
     "output_type": "execute_result"
    }
   ],
   "source": [
    "df1 = pd.read_csv(os.path.join(out_folder, 'transcription_tokens_onlyDarwin.csv'), sep = \"\\t\")\n",
    "df1"
   ]
  },
  {
   "cell_type": "markdown",
   "metadata": {
    "id": "JOVX-oApM02y"
   },
   "source": [
    "Function for printing the vocabulary of a model"
   ]
  },
  {
   "cell_type": "code",
   "execution_count": null,
   "metadata": {
    "id": "ozTBJwmKM2th"
   },
   "outputs": [],
   "source": [
    "def print_vocab(model, top_n = None):\n",
    "  count = 0\n",
    "  if top_n is not None:\n",
    "    for index, word in enumerate(model.wv.index_to_key):\n",
    "      count+= 1\n",
    "      if count < top_n:\n",
    "        print(f\"word #{index}/{len(model.wv.index_to_key)} is {word}\")\n",
    "  else:\n",
    "    for index, word in enumerate(model.wv.index_to_key):\n",
    "      print(f\"word #{index}/{len(model.wv.index_to_key)} is {word}\")"
   ]
  },
  {
   "cell_type": "code",
   "execution_count": null,
   "metadata": {
    "colab": {
     "base_uri": "https://localhost:8080/"
    },
    "id": "NH9459m2LSk7",
    "outputId": "606200ed-bd16-4157-f93b-687d98845524"
   },
   "outputs": [
    {
     "name": "stderr",
     "output_type": "stream",
     "text": [
      "/usr/local/lib/python3.7/dist-packages/ipykernel_launcher.py:1: FutureWarning: Passing a negative integer is deprecated in version 1.0 and will not be supported in future version. Instead, use None to not limit the column width.\n",
      "  \"\"\"Entry point for launching an IPython kernel.\n"
     ]
    },
    {
     "data": {
      "text/plain": [
       "0       ['Charles', 'Darwin', '-PRON-', 'health', 'keep', 'much', 'as', '-PRON-', 'be', '-PRON-', 'never', 'escape', 'for', 'a', 'whole', 'day', 'without', 'much', 'discomfort', 'of', 'course', 'as', '-PRON-', 'grow', 'old', '-PRON-', 'become', 'much', 'weak']                                                                                                                                                                                                                                                                                                                                                                                                                                                                                                                                                                                                                                                                                                                                                                                                                                                                                                                                                                                                                                                                                                                                                                                                                                                                                                                                                                                                                                                                                                                                                                                                                                                                                                                                                                                                                                                                                                                                                                                                                                                                                                                                                                                                                                                                                                                                                                                                                                                                                                                                                                                                                          \n",
       "1       ['-PRON-', 'be', 'very', 'much', 'oblige', 'for', '-PRON-', 'interesting', 'letter', 'the', 'case', 'of', 'the', 'white', 'chicken', 'surprise', '-PRON-', 'much', 'but', 'nothing', 'can', 'be', 'more', 'perplexing', 'than', 'the', 'law', 'cause', 'of', 'variability', 'inheritance', '-PRON-', 'be', 'glad', 'that', 'any', 'of', '-PRON-', 'book', 'should', 'have', 'at', 'all', 'interest', '-PRON-', 'as', 'some', 'return', 'for', 'the', 'pleasure', 'which', '-PRON-', 'have', 'derive', 'from', 'your', '-PRON-', 'be', 'write', 'this', 'away', 'from', 'home', 'which', '-PRON-', 'have', 'leave', 'for', 'some', 'rest', 'so', '-PRON-', 'beg', '-PRON-', 'to', 'excuse', 'brevity', 'Dear', 'Sir', 'Yours', 'faithfully', 'Ch', 'Darwin']                                                                                                                                                                                                                                                                                                                                                                                                                                                                                                                                                                                                                                                                                                                                                                                                                                                                                                                                                                                                                                                                                                                                                                                                                                                                                                                                                                                                                                                                                                                                                                                                                                                                                                                                                                                                                                                                                                                                                                                                                                                                                                                           \n",
       "2       ['Mr', 'Buckland', 'have', 'tell', '-PRON-', 'that', '-PRON-', 'would', 'excuse', 'the', 'liberty', 'which', '-PRON-', 'take', 'in', 'write', 'to', '-PRON-', '-PRON-', 'be', 'anxious', 'for', 'any', 'information', 'in', 'regard', 'to', 'the', 'proportional', 'number', 'of', 'male', 'female', 'bear', 'to', 'any', 'animal', 'but', 'this', 'can', 'hardly', 'be', 'tell', 'except', 'with', 'domestic', 'or', 'semi', 'domestic', 'animal', 'Mr.', 'B.', '  ', 'say', 'that', '-PRON-', 'have', 'breed', 'many', 'rat', 'if', '-PRON-', 'have', 'keep', 'any', 'Memoranda', 'or', 'have', 'a', 'decide', 'impression', 'on', 'the', 'relative', 'number', 'of', 'the', 'two', 'sex', '-PRON-', 'shd', 'be', 'grateful', 'for', 'information', 'perhaps', '-PRON-', 'can', 'also', 'tell', '-PRON-', 'whether', 'male', 'rat', 'fight', 'for', 'the', 'possession', 'of', 'the', 'female', 'whether', 'an', 'old', 'powerful', 'rat', 'be', 'polygamous', 'will', 'keep', 'several', 'wife', 'hope', 'that', '-PRON-', 'will', 'excuse', '-PRON-', 'troubling', '-PRON-', '-PRON-', 'remain', 'Dear', 'Sir', 'Yours', 'very', 'faithfully', 'Ch', 'Darwin', '-PRON-', 'address', 'for', 'next', '3', '  ', 'or', '4', '  ', 'week', 'will', 'be', '6', 'Queen', 'Anne', 'St', 'Cavendish', 'Sqe', 'London', 'W.']                                                                                                                                                                                                                                                                                                                                                                                                                                                                                                                                                                                                                                                                                                                                                                                                                                                                                                                                                                                                                                                                                                                                                                                                                                                                                                                                                                                                                                                                                                                                                              \n",
       "3       ['please', 'procure', 'send', '-PRON-', 'by', 'Post', 'Mr', 'Pat', 'Matthew', '’s', 'work', 'on', 'Naval', 'Timber', 'Arboriculture', '1831', 'Adam', 'Black', 'Edinburgh', 'Longman', 'London', 'Dear', 'Sir', 'Yours', 'faithfully', 'C.', '  ', 'Darwin']                                                                                                                                                                                                                                                                                                                                                                                                                                                                                                                                                                                                                                                                                                                                                                                                                                                                                                                                                                                                                                                                                                                                                                                                                                                                                                                                                                                                                                                                                                                                                                                                                                                                                                                                                                                                                                                                                                                                                                                                                                                                                                                                                                                                                                                                                                                                                                                                                                                                                                                                                                                                                          \n",
       "4       ['-PRON-', 'have', 'by', 'this', 'same', 'post', 'send', 'off', 'the', 'few', 'trifling', 'erratum', 'to', 'Mr', 'Clowes', 'have', '-PRON-', 'give', 'order', 'about', 'the', 'Heliotypes', '-PRON-', 'be', 'very', 'glad', 'of', '-PRON-', 'news', 'let', '-PRON-', 'hear', 'sale', 'of', 'all', '-PRON-', 'book', 'in', 'Haste', 'C.', '  ', 'Darwin']                                                                                                                                                                                                                                                                                                                                                                                                                                                                                                                                                                                                                                                                                                                                                                                                                                                                                                                                                                                                                                                                                                                                                                                                                                                                                                                                                                                                                                                                                                                                                                                                                                                                                                                                                                                                                                                                                                                                                                                                                                                                                                                                                                                                                                                                                                                                                                                                                                                                                                                              \n",
       "                                                                                                                                                                                  ...                                                                                                                                                                                                                                                                                                                                                                                                                                                                                                                                                                                                                                                                                                                                                                                                                                                                                                                                                                                                                                                                                                                                                                                                                                                                                                                                                                                                                                                                                                                                                                                                                                                                                                                                                                                                                                                                                                                                                                                                                                                                                                                                                                                                                                                                                                                                                                                                                                                                                                                                                                                                                                                                                                         \n",
       "8143    ['-PRON-', 'have', 'receive', '-PRON-', 'various', 'communication', '-PRON-', 'very', 'much', 'dislike', '-PRON-', 'letter', 'be', 'publish', 'as', 'advertisement', 'but', '-PRON-', 'would', 'perhaps', 'submit', 'to', 'this', 'though', 'extremely', 'disagreeable', 'to', '-PRON-', 'if', '-PRON-', 'could', 'believe', 'that', '-PRON-', 'would', 'do', 'any', 'good', '-PRON-', 'hope', 'that', '-PRON-', 'will', 'permit', '-PRON-', 'to', 'speak', 'frankly', '-PRON-', 'seem', 'to', '-PRON-', 'quite', 'useless', 'to', 'advertise', 'any', 'intend', 'plan', 'until', 'crown', 'with', 'success', '-PRON-', 'be', 'convinced', 'that', 'any', 'one', 'read', '-PRON-', 'advertisement', 'would', 'consider', '-PRON-', 'a', 'fanatic', 'and', 'supposing', 'that', '-PRON-', 'succeed', 'in', 'obtain', 'a', 'good', 'variety', 'of', 'the', 'plant', 'which', 'resist', 'the', 'disease', '-PRON-', 'would', 'be', 'incomparably', 'more', 'difficult', 'to', 'persuade', 'the', 'public', 'of', '-PRON-', 'success', 'if', 'people', 'think', '-PRON-', 'a', 'fanatic', 'and', 'consequently', 'would', 'not', 'trust', '-PRON-', 'statement', 'whatever', 'weight', '-PRON-', 'name', 'may', 'have', '-PRON-', 'could', 'use', 'to', 'persuade', 'person', 'privately', 'to', 'raise', 'seedling', 'and', 'this', 'would', 'be', 'amply', 'sufficient', 'under', 'these', 'circumstance', '-PRON-', 'return', '-PRON-', 'the', 'MS', '  ', 'and', 'draft', 'for', '-PRON-', 'be', 'unwilling', 'to', 'aid', 'in', 'what', '-PRON-', 'believe', 'will', 'be', 'a', 'step', 'injurious', 'to', '-PRON-', 'success', 'with', 'respect', 'to', 'the', 'specimen', 'and', 'seed', 'which', '-PRON-', 'inform', '-PRON-', '-PRON-', 'have', 'dispatch', '-PRON-', 'be', 'sorry', 'to', 'say', 'that', '-PRON-', 'be', 'so', 'much', 'out', 'of', 'health', 'and', 'overwork', 'that', '-PRON-', 'can', 'not', 'undertake', 'the', 'cross', 'experiment', 'and', 'all', 'the', 'care', 'and', 'difficulty', 'of', 'raise', 'new', 'variety', '-PRON-', 'wish', '-PRON-', 'have', 'know', 'of', 'the', 'plan', 'some', 'year', 'ago', 'Shall', '-PRON-', 'return', 'the', 'specimen', 'to', '-PRON-', 'there', 'be', 'not', 'the', 'least', 'difficulty', 'in', 'cross', 'variety', '-PRON-', 'be', 'not', 'necessary', 'to', 'remove', 'the', 'anther', 'of', 'the', 'seed', 'bear', 'plant', 'as', 'the', 'pollen', 'from', 'another', 'variety', 'if', 'not', 'put', 'on', 'the', 'stigma', 'very', 'late', 'and', 'especially', 'if', 'apply', 'more', 'than', 'once', 'have', 'a', 'prepotent', 'influence', 'over', 'the', 'plant', '’s', 'own', 'pollen', 'in', 'haste', '-PRON-', 'remain', 'dear', 'Sir', 'Yours', 'faithfully', 'Charles', 'Darwin', 'James', 'Torbitt', 'Esqre', 'Belfast']                                                                         \n",
       "8144    ['Mr.', 'L.', '  ', 'will', 'meet', '-PRON-', 'here', 'on', 'Tuesday', '-PRON-', 'have', 'better', 'write', 'direct', 'to', '-PRON-', 'appoint', 'hour', 'address', '-PRON-', 'Mr.', 'Laslett', 'Builder', 'Farnborough', 'Kent', '-PRON-', 'leave', 'home', 'early', 'on', 'Wednesday', 'morning', 'therefore', '-PRON-', 'can', 'not', 'ask', '-PRON-', 'to', 'sleep', 'here', 'as', '-PRON-', 'seem', 'so', 'busy', '-PRON-', 'daresay', '-PRON-', 'wd', 'be', 'inconvenient', 'for', '-PRON-', 'to', 'do', 'so', 'yours', 'very', 'sincerely', 'Ch', 'Darwin']                                                                                                                                                                                                                                                                                                                                                                                                                                                                                                                                                                                                                                                                                                                                                                                                                                                                                                                                                                                                                                                                                                                                                                                                                                                                                                                                                                                                                                                                                                                                                                                                                                                                                                                                                                                                                                                                                                                                                                                                                                                                                                                                                                                                                                                                                                                    \n",
       "8145    ['-PRON-', 'have', 'the', 'pleasure', 'to', 'send', 'some', 'autograph', 'as', '-PRON-', 'desire', '-PRON-', 'very', 'faithfully', 'Ch', 'Darwin', 'Charles', 'Darwin', 'Down', 'Kent', 'February', '  ', '25th', '1876', 'Charles', 'Darwin']                                                                                                                                                                                                                                                                                                                                                                                                                                                                                                                                                                                                                                                                                                                                                                                                                                                                                                                                                                                                                                                                                                                                                                                                                                                                                                                                                                                                                                                                                                                                                                                                                                                                                                                                                                                                                                                                                                                                                                                                                                                                                                                                                                                                                                                                                                                                                                                                                                                                                                                                                                                                                                        \n",
       "8146    ['-PRON-', 'send', 'by', 'this', 'post', 'Chapt', 'IX', 'but', '-PRON-', 'earnestly', 'beg', '-PRON-', 'not', 'to', 'strain', '-PRON-', 'mind', 'return', 'the', 'sheet', 'mark', 'uncorrected', 'if', 'as', '-PRON-', 'expect', '-PRON-', 'find', '-PRON-', 'too', 'much', 'for', '-PRON-', '-PRON-', 'will', 'give', '-PRON-', 'only', 'a', 'little', 'additional', 'trouble', 'the', 'figure', 'have', 'not', 'be', 'compare', 'as', '-PRON-', 'have', 'chapt', 'VIII', 'almost', 'finish', 'a', 'week', 'ago', '-PRON-', 'despatch', '-PRON-', 'then', 'to', 'the', 'Printers', '-PRON-', 'have', 'no', 'figure', 'relate', 'to', 'the', 'constitutional', 'vigour', 'of', 'the', 'cross', 'plant', 'some', 'of', 'the', 'present', 'sheet', 'be', 'so', 'heavily', 'correct', 'that', '-PRON-', 'will', 'be', 'difficult', 'for', '-PRON-', 'to', 'read', '-PRON-', 'have', 'put', '-PRON-', 'tool', 'c', 'up', 'stair', 'in', 'order', 'so', 'far', 'as', 'not', 'to', 'be', 'injure', 'but', '-PRON-', 'can', 'not', 'find', '-PRON-', 'compound', 'microscope', 'to', 'protect', 'from', 'dust', '-PRON-', 'have', 'make', 'a', 'few', 'note', 'on', 'the', 'state', 'of', '-PRON-', 'plant', 'in', 'the', 'hot', 'house', '-PRON-', 'dear', 'son', '-PRON-', 'little', 'note', 'yesterday', 'to', 'mother', 'in', 'which', '-PRON-', 'say', 'that', '-PRON-', 'love', '-PRON-', 'be', 'the', 'great', 'possible', 'comfort', 'to', '-PRON-', '-PRON-', 'have', 'be', 'think', 'much', 'about', '-PRON-', 'during', '-PRON-', 'whole', 'life', '-PRON-', 'be', 'sure', 'that', '-PRON-', 'have', 'deserve', 'the', 'love', 'of', '-PRON-', 'poor', 'dear', 'sweet', 'darling', '-PRON-', 'be', 'so', 'deeply', 'glad', 'that', '-PRON-', 'do', 'not', 'suffer', 'at', 'last', '-PRON-', 'be', '-PRON-', 'only', 'poor', 'consolation', 'God', 'bless', '-PRON-', '-PRON-', 'dear', 'son', 'give', '-PRON-', 'good', 'love', 'to', 'Mrs.', 'Ruck', '-PRON-', 'never', 'in', '-PRON-', 'life', 'see', '-PRON-', 'equal', 'for', 'goodness', 'kindness', 'of', 'heart', '-PRON-', 'be', 'much', 'affect', 'by', 'Dicky', '’s', 'letter', 'to', 'George', '-PRON-', 'be', 'a', 'great', 'comfort', 'to', '-PRON-', 'all', '-PRON-', 'dear', 'son', '-PRON-', 'affectionate', 'Father', 'C.', '  ', 'Darwin']                                                                                                                                                                                                                                                                                                                                                                                                                                                                                                                                                                      \n",
       "8147    ['-PRON-', 'can', 'not', 'leave', 'tomorrow', 'morning', 'this', 'delightful', 'place', 'without', 'thank', '-PRON-', 'cordially', 'for', 'all', '-PRON-', 'kindness', '-PRON-', 'permission', 'for', '-PRON-', 'to', 'wander', 'over', '-PRON-', 'estate', 'ground', 'have', 'make', 'all', 'the', 'difference', 'in', '-PRON-', 'enjoyment', 'in', 'the', 'good', 'which', 'the', 'visit', 'have', 'do', '-PRON-', '-PRON-', 'can', 'call', '-PRON-', 'garden', 'nothing', 'less', 'than', 'paradise', '-PRON-', 'have', 'use', '-PRON-', 'carriage', 'several', 'time', '-PRON-', 'coachman', 'have', 'be', 'most', 'obliging', '-PRON-', 'go', 'one', 'very', 'long', 'expedition', 'to', 'Grasmere', 'home', 'by', 'Ambleside', 'the', 'three', 'mile', 'between', 'these', 'two', 'place', 'be', 'the', 'most', 'splendid', 'drive', 'which', '-PRON-', 'ever', 'take', 'nevertheless', '-PRON-', 'be', 'a', 'staunch', 'Conistonite', 'feel', 'indignant', 'if', 'anyone', 'prefer', 'Grassmere', 'or', 'ambleside', 'to', 'Coniston', 'pray', 'tell', 'Mrs.', 'Marshall', 'that', '-PRON-', 'disobey', 'order', 'go', 'to', 'Furness', '-PRON-', 'be', 'punish', 'for', 'the', 'day', 'be', 'dark', 'gloomy', 'on', '-PRON-', 'return', '-PRON-', 'say', 'that', 'a', 'walk', 'along', '-PRON-', 'Terrace', 'be', 'worth', 'half', 'a', 'dozen', 'Furness', 'Abbeys', 'in', 'the', 'afternoon', '-PRON-', 'prove', 'the', 'truth', 'of', 'this', 'by', 'take', '2', '  ', 'or', '3', '  ', 'turn', 'along', 'the', 'Terrace', 'though', 'the', 'afternoon', 'be', 'dull', '-PRON-', 'give', '-PRON-', 'intense', 'pleasure', 'now', '-PRON-', 'be', 'go', 'to', 'be', 'impertinent', 'when', '-PRON-', 'return', '-PRON-', 'beseech', '-PRON-', 'to', 'look', 'at', 'four', 'clump', 'of', 'young', 'unhealthy', 'fir', 'tree', 'which', '-PRON-', 'can', 'not', 'think', 'will', 'ever', 'grow', 'vigorously', 'from', 'not', 'grow', 'on', 'a', 'slope', 'in', 'the', 'field', 'in', 'front', 'of', 'the', 'verandah', 'of', 'the', 'hotel', '-PRON-', 'sadly', 'spoil', 'the', 'view', 'if', 'universal', 'malediction', 'would', 'have', 'kill', '-PRON-', 'the', 'poor', 'thing', 'would', 'now', 'all', 'stand', 'withered', 'skeleton', 'forgive', '-PRON-', 'scribble', 'at', 'such', 'length', 'everyone', 'here', 'join', '-PRON-', 'in', 'thank', '-PRON-', 'Mrs.', 'Marshall', 'most', 'truly', 'when', '-PRON-', 'come', 'to', 'London', 'if', '-PRON-', 'Mrs.', 'Marshall', 'can', 'spare', 'the', 'time', 'pray', 'pay', '-PRON-', 'a', 'visit', 'at', 'Down', 'in', 'case', '-PRON-', 'shd', '  ', 'not', 'hear', 'when', '-PRON-', 'be', 'in', 'London', '-PRON-', 'hope', 'that', '-PRON-', 'will', 'be', 'so', 'good', 'as', 'to', 'inform', '-PRON-', 'believe', '-PRON-', '-PRON-', 'dear', 'Mr.', 'Marshall', 'Yours', 'sincerely', 'Charles', 'Darwin']\n",
       "Name: Lemmas_clean, Length: 8148, dtype: object"
      ]
     },
     "execution_count": 13,
     "metadata": {},
     "output_type": "execute_result"
    }
   ],
   "source": [
    "pd.set_option('display.max_colwidth', -1)\n",
    "(df1['Lemmas_clean'])"
   ]
  },
  {
   "cell_type": "markdown",
   "metadata": {
    "id": "ZWZPf_3bUe8n"
   },
   "source": [
    "I train Word2Vec embeddings from the letters. **You can skip this cell.**\n",
    "\n",
    "`min_count`: the minimum frequency threshold allowed for a word to be included\n",
    "\n",
    "`vector_size`: the number of dimensions in which we wish to represent our word. This is the size of the word embedding; typically between 100 and 1,000.\n",
    "\n",
    "`window`: The size of the context window determines how many words before and after a given word would be included as context words of the given word.  Typically between 5 and 10.\n",
    "\n",
    "`sg`: – Training algorithm: 1 for skip-gram; otherwise CBOW.\n"
   ]
  },
  {
   "cell_type": "code",
   "execution_count": null,
   "metadata": {
    "colab": {
     "base_uri": "https://localhost:8080/"
    },
    "id": "U7IjvEPpUfTQ",
    "outputId": "90320e7f-1107-4185-9e7e-c8808d04b65d"
   },
   "outputs": [
    {
     "name": "stdout",
     "output_type": "stream",
     "text": [
      "It has taken 43 seconds\n",
      "It has taken 70 seconds\n"
     ]
    }
   ],
   "source": [
    "start = time.time()\n",
    "cbow_w5_f1_300 = gensim.models.Word2Vec(df1['Lemmas_clean'], min_count=1, vector_size=300, window = 5, sg = 0)\n",
    "end = time.time()\n",
    "print(\"It has taken\", round(end - start), \"seconds\")\n",
    "start = time.time()\n",
    "cbow_w5_f1_1000 = gensim.models.Word2Vec(df1['Lemmas_clean'], min_count=1, vector_size=1000, window = 5, sg = 0)\n",
    "end = time.time()\n",
    "print(\"It has taken\", round(end - start), \"seconds\")"
   ]
  },
  {
   "cell_type": "code",
   "execution_count": null,
   "metadata": {
    "colab": {
     "base_uri": "https://localhost:8080/"
    },
    "id": "-SKoa9tdLH62",
    "outputId": "b3d6c08e-79fa-4832-e899-80933ad395d7"
   },
   "outputs": [
    {
     "name": "stdout",
     "output_type": "stream",
     "text": [
      "word #0/142 is '\n",
      "word #1/142 is  \n",
      "word #2/142 is ,\n",
      "word #3/142 is e\n",
      "word #4/142 is t\n",
      "word #5/142 is o\n",
      "word #6/142 is a\n",
      "word #7/142 is r\n",
      "word #8/142 is n\n"
     ]
    }
   ],
   "source": [
    "print_vocab(cbow_w5_f1_300, 10)"
   ]
  },
  {
   "cell_type": "markdown",
   "metadata": {
    "id": "PfgdPZYPTY3J"
   },
   "source": [
    "Different parameters. **You can skip this cell.**"
   ]
  },
  {
   "cell_type": "code",
   "execution_count": null,
   "metadata": {
    "colab": {
     "base_uri": "https://localhost:8080/"
    },
    "id": "m5dqVk1iTK4E",
    "outputId": "fd16688a-2b22-415b-ed33-3e75003166ab"
   },
   "outputs": [
    {
     "name": "stdout",
     "output_type": "stream",
     "text": [
      "cbow_w5_f0_300 has taken 17 seconds\n",
      "sg_w5_f1_300 has taken 54 seconds\n",
      "sg_w5_f0_300 has taken 53 seconds\n",
      "cbow_w10_f1_300 has taken 19 seconds\n",
      "cbow_w10_f0_300 has taken 19 seconds\n",
      "sg_w10_f1_300 has taken 93 seconds\n",
      "sg_w10_f0_300 has taken 94 seconds\n",
      "cbow_w5_f0_1000 has taken 31 seconds\n",
      "sg_w5_f1_1000 has taken 107 seconds\n",
      "sg_w5_f0_1000 has taken 107 seconds\n",
      "cbow_w10_f1_1000 has taken 37 seconds\n",
      "cbow_w10_f0_1000 has taken 37 seconds\n",
      "sg_w10_f1_1000 has taken 190 seconds\n",
      "sg_w10_f0_1000 has taken 191 seconds\n"
     ]
    }
   ],
   "source": [
    "#300 dimensions:\n",
    "start = time.time()\n",
    "cbow_w5_f0_300 = gensim.models.Word2Vec(df1['Lemmas_clean'], min_count=0, vector_size=300, window = 5, sg = 0)\n",
    "end = time.time()\n",
    "print(\"cbow_w5_f0_300 has taken\", round(end - start), \"seconds\")\n",
    "start = time.time()\n",
    "sg_w5_f1_300 = gensim.models.Word2Vec(df1['Lemmas_clean'], min_count=1, vector_size=300, window = 5, sg = 1)\n",
    "end = time.time()\n",
    "print(\"sg_w5_f1_300 has taken\", round(end - start), \"seconds\")\n",
    "start = time.time()\n",
    "sg_w5_f0_300 = gensim.models.Word2Vec(df1['Lemmas_clean'], min_count=0, vector_size=300, window = 5, sg = 1)\n",
    "end = time.time()\n",
    "print(\"sg_w5_f0_300 has taken\", round(end - start), \"seconds\")\n",
    "start = time.time()\n",
    "cbow_w10_f1_300 = gensim.models.Word2Vec(df1['Lemmas_clean'], min_count=1, vector_size=300, window = 10, sg = 0)\n",
    "end = time.time()\n",
    "print(\"cbow_w10_f1_300 has taken\", round(end - start), \"seconds\")\n",
    "start = time.time()\n",
    "cbow_w10_f0_300 = gensim.models.Word2Vec(df1['Lemmas_clean'], min_count=0, vector_size=300, window = 10, sg = 0)\n",
    "end = time.time()\n",
    "print(\"cbow_w10_f0_300 has taken\", round(end - start), \"seconds\")\n",
    "start = time.time()\n",
    "sg_w10_f1_300 = gensim.models.Word2Vec(df1['Lemmas_clean'], min_count=1, vector_size=300, window = 10, sg = 1)\n",
    "end = time.time()\n",
    "print(\"sg_w10_f1_300 has taken\", round(end - start), \"seconds\")\n",
    "start = time.time()\n",
    "sg_w10_f0_300 = gensim.models.Word2Vec(df1['Lemmas_clean'], min_count=0, vector_size=300, window = 10, sg = 1)\n",
    "end = time.time()\n",
    "print(\"sg_w10_f0_300 has taken\", round(end - start), \"seconds\")\n",
    "#1000 dimensions:\n",
    "start = time.time()\n",
    "cbow_w5_f0_1000 = gensim.models.Word2Vec(df1['Lemmas_clean'], min_count=0, vector_size=1000, window = 5, sg = 0)\n",
    "end = time.time()\n",
    "print(\"cbow_w5_f0_1000 has taken\", round(end - start), \"seconds\")\n",
    "start = time.time()\n",
    "sg_w5_f1_1000 = gensim.models.Word2Vec(df1['Lemmas_clean'], min_count=1, vector_size=1000, window = 5, sg = 1)\n",
    "end = time.time()\n",
    "print(\"sg_w5_f1_1000 has taken\", round(end - start), \"seconds\")\n",
    "start = time.time()\n",
    "sg_w5_f0_1000 = gensim.models.Word2Vec(df1['Lemmas_clean'], min_count=0, vector_size=1000, window = 5, sg = 1)\n",
    "end = time.time()\n",
    "print(\"sg_w5_f0_1000 has taken\", round(end - start), \"seconds\")\n",
    "start = time.time()\n",
    "cbow_w10_f1_1000 = gensim.models.Word2Vec(df1['Lemmas_clean'], min_count=1, vector_size=1000, window = 10, sg = 0)\n",
    "end = time.time()\n",
    "print(\"cbow_w10_f1_1000 has taken\", round(end - start), \"seconds\")\n",
    "start = time.time()\n",
    "cbow_w10_f0_1000 = gensim.models.Word2Vec(df1['Lemmas_clean'], min_count=0, vector_size=1000, window = 10, sg = 0)\n",
    "end = time.time()\n",
    "print(\"cbow_w10_f0_1000 has taken\", round(end - start), \"seconds\")\n",
    "start = time.time()\n",
    "sg_w10_f1_1000 = gensim.models.Word2Vec(df1['Lemmas_clean'], min_count=1, vector_size=1000, window = 10, sg = 1)\n",
    "end = time.time()\n",
    "print(\"sg_w10_f1_1000 has taken\", round(end - start), \"seconds\")\n",
    "start = time.time()\n",
    "sg_w10_f0_1000 = gensim.models.Word2Vec(df1['Lemmas_clean'], min_count=0, vector_size=1000, window = 10, sg = 1)\n",
    "end = time.time()\n",
    "print(\"sg_w10_f0_1000 has taken\", round(end - start), \"seconds\")"
   ]
  },
  {
   "cell_type": "markdown",
   "metadata": {
    "id": "zYgX7HkbKSXK"
   },
   "source": [
    "Skip-gram is more computationally expensive, especially with larger window sizes."
   ]
  },
  {
   "cell_type": "markdown",
   "metadata": {
    "id": "NeUTn7BAQh-s"
   },
   "source": [
    "Let's save the models so we can use them later. **You can skip this cell.**"
   ]
  },
  {
   "cell_type": "code",
   "execution_count": null,
   "metadata": {
    "colab": {
     "base_uri": "https://localhost:8080/"
    },
    "id": "x2JUoVz9QkAN",
    "outputId": "f03c9cf9-e69a-497b-c73f-9a7d6d7d9ca3"
   },
   "outputs": [
    {
     "name": "stdout",
     "output_type": "stream",
     "text": [
      "Saving model number 1\n",
      "Saving model number 2\n",
      "Saving model number 3\n",
      "Saving model number 4\n",
      "Saving model number 5\n",
      "Saving model number 6\n",
      "Saving model number 7\n",
      "Saving model number 8\n",
      "Saving model number 9\n",
      "Saving model number 10\n",
      "Saving model number 11\n",
      "Saving model number 12\n",
      "Saving model number 13\n",
      "Saving model number 14\n",
      "Saving model number 15\n",
      "Saving model number 16\n"
     ]
    }
   ],
   "source": [
    "models_folder = '/content/drive/My Drive/2021/Darwin paper/Files/Models'\n",
    "models = [cbow_w5_f1_300, cbow_w5_f1_1000, cbow_w5_f0_300, cbow_w5_f0_1000, sg_w5_f1_300, sg_w5_f1_1000, sg_w5_f0_300, sg_w5_f0_1000, cbow_w10_f1_300, cbow_w10_f1_1000, cbow_w10_f0_300, cbow_w10_f0_1000, sg_w10_f1_300, sg_w10_f1_1000, sg_w10_f0_300, sg_w10_f0_1000]\n",
    "models_names = ['cbow_w5_f1_300', 'cbow_w5_f1_1000', 'cbow_w5_f0_300', 'cbow_w5_f0_1000', 'sg_w5_f1_300', 'sg_w5_f1_1000', 'sg_w5_f0_300', 'sg_w5_f0_1000', 'cbow_w10_f1_300', 'cbow_w10_f1_1000', 'cbow_w10_f0_300', 'cbow_w10_f0_1000', 'sg_w10_f1_300', 'sg_w10_f1_1000', 'sg_w10_f0_300', 'sg_w10_f0_1000']\n",
    "for i in range(len(models)):\n",
    "  print(\"Saving model number\", i+1)\n",
    "  models[i].save(os.path.join(models_folder, models_names[i]))"
   ]
  },
  {
   "cell_type": "markdown",
   "metadata": {
    "id": "1VWQlAzdRa6-"
   },
   "source": [
    "Load the models:"
   ]
  },
  {
   "cell_type": "code",
   "execution_count": null,
   "metadata": {
    "id": "PZZgFLDERZo2"
   },
   "outputs": [],
   "source": [
    "models_folder = '/content/drive/My Drive/2021/Darwin paper/Files/Models'\n",
    "cbow_w5_f1_300 = gensim.models.Word2Vec.load(os.path.join(models_folder, \"cbow_w5_f1_300\"))\n",
    "cbow_w5_f0_300 = gensim.models.Word2Vec.load(os.path.join(models_folder, \"cbow_w5_f0_300\"))\n",
    "sg_w5_f1_300 = gensim.models.Word2Vec.load(os.path.join(models_folder, \"sg_w5_f1_300\"))\n",
    "sg_w5_f0_300 = gensim.models.Word2Vec.load(os.path.join(models_folder, \"sg_w5_f0_300\"))\n",
    "cbow_w10_f1_300 = gensim.models.Word2Vec.load(os.path.join(models_folder, \"cbow_w10_f1_300\"))\n",
    "cbow_w10_f0_300 = gensim.models.Word2Vec.load(os.path.join(models_folder, \"cbow_w10_f0_300\"))\n",
    "sg_w10_f1_300 = gensim.models.Word2Vec.load(os.path.join(models_folder, \"sg_w10_f1_300\"))\n",
    "sg_w10_f0_300 = gensim.models.Word2Vec.load(os.path.join(models_folder, \"sg_w10_f0_300\"))\n",
    "cbow_w5_f1_1000 = gensim.models.Word2Vec.load(os.path.join(models_folder, \"cbow_w5_f1_1000\"))\n",
    "cbow_w5_f0_1000 = gensim.models.Word2Vec.load(os.path.join(models_folder, \"cbow_w5_f0_1000\"))\n",
    "sg_w5_f1_1000 = gensim.models.Word2Vec.load(os.path.join(models_folder, \"sg_w5_f1_1000\"))\n",
    "sg_w5_f0_1000 = gensim.models.Word2Vec.load(os.path.join(models_folder, \"sg_w5_f0_1000\"))\n",
    "cbow_w10_f1_1000 = gensim.models.Word2Vec.load(os.path.join(models_folder, \"cbow_w10_f1_1000\"))\n",
    "cbow_w10_f0_1000 = gensim.models.Word2Vec.load(os.path.join(models_folder, \"cbow_w10_f0_1000\"))\n",
    "sg_w10_f1_1000 = gensim.models.Word2Vec.load(os.path.join(models_folder, \"sg_w10_f1_1000\"))\n",
    "sg_w10_f0_1000 = gensim.models.Word2Vec.load(os.path.join(models_folder, \"sg_w10_f0_1000\"))\n",
    "models = [cbow_w5_f1_300, cbow_w5_f1_1000, cbow_w5_f0_300, cbow_w5_f0_1000, sg_w5_f1_300, sg_w5_f1_1000, sg_w5_f0_300, sg_w5_f0_1000, cbow_w10_f1_300, cbow_w10_f1_1000, cbow_w10_f0_300, cbow_w10_f0_1000, sg_w10_f1_300, sg_w10_f1_1000, sg_w10_f0_300, sg_w10_f0_1000]\n",
    "models_names = ['cbow_w5_f1_300', 'cbow_w5_f1_1000', 'cbow_w5_f0_300', 'cbow_w5_f0_1000', 'sg_w5_f1_300', 'sg_w5_f1_1000', 'sg_w5_f0_300', 'sg_w5_f0_1000', 'cbow_w10_f1_300', 'cbow_w10_f1_1000', 'cbow_w10_f0_300', 'cbow_w10_f0_1000', 'sg_w10_f1_300', 'sg_w10_f1_1000', 'sg_w10_f0_300', 'sg_w10_f0_1000']\n"
   ]
  },
  {
   "cell_type": "markdown",
   "metadata": {
    "id": "3vwHRiEuW9fu"
   },
   "source": [
    "Print the first ten words of the vocabulary of each model"
   ]
  },
  {
   "cell_type": "code",
   "execution_count": null,
   "metadata": {
    "colab": {
     "base_uri": "https://localhost:8080/"
    },
    "id": "O9VoftWYW9NW",
    "outputId": "82993cfc-a86e-456c-f4e0-52c57d8663d7"
   },
   "outputs": [
    {
     "name": "stdout",
     "output_type": "stream",
     "text": [
      "cbow_w5_f1_300\n",
      "word #0/33047 is -PRON-\n",
      "word #1/33047 is the\n",
      "word #2/33047 is be\n",
      "word #3/33047 is to\n",
      "word #4/33047 is of\n",
      "word #5/33047 is have\n",
      "word #6/33047 is in\n",
      "word #7/33047 is a\n",
      "word #8/33047 is that\n",
      "cbow_w5_f1_1000\n",
      "word #0/33047 is -PRON-\n",
      "word #1/33047 is the\n",
      "word #2/33047 is be\n",
      "word #3/33047 is to\n",
      "word #4/33047 is of\n",
      "word #5/33047 is have\n",
      "word #6/33047 is in\n",
      "word #7/33047 is a\n",
      "word #8/33047 is that\n",
      "cbow_w5_f0_300\n",
      "word #0/33047 is -PRON-\n",
      "word #1/33047 is the\n",
      "word #2/33047 is be\n",
      "word #3/33047 is to\n",
      "word #4/33047 is of\n",
      "word #5/33047 is have\n",
      "word #6/33047 is in\n",
      "word #7/33047 is a\n",
      "word #8/33047 is that\n",
      "cbow_w5_f0_1000\n",
      "word #0/33047 is -PRON-\n",
      "word #1/33047 is the\n",
      "word #2/33047 is be\n",
      "word #3/33047 is to\n",
      "word #4/33047 is of\n",
      "word #5/33047 is have\n",
      "word #6/33047 is in\n",
      "word #7/33047 is a\n",
      "word #8/33047 is that\n",
      "sg_w5_f1_300\n",
      "word #0/33047 is -PRON-\n",
      "word #1/33047 is the\n",
      "word #2/33047 is be\n",
      "word #3/33047 is to\n",
      "word #4/33047 is of\n",
      "word #5/33047 is have\n",
      "word #6/33047 is in\n",
      "word #7/33047 is a\n",
      "word #8/33047 is that\n",
      "sg_w5_f1_1000\n",
      "word #0/33047 is -PRON-\n",
      "word #1/33047 is the\n",
      "word #2/33047 is be\n",
      "word #3/33047 is to\n",
      "word #4/33047 is of\n",
      "word #5/33047 is have\n",
      "word #6/33047 is in\n",
      "word #7/33047 is a\n",
      "word #8/33047 is that\n",
      "sg_w5_f0_300\n",
      "word #0/33047 is -PRON-\n",
      "word #1/33047 is the\n",
      "word #2/33047 is be\n",
      "word #3/33047 is to\n",
      "word #4/33047 is of\n",
      "word #5/33047 is have\n",
      "word #6/33047 is in\n",
      "word #7/33047 is a\n",
      "word #8/33047 is that\n",
      "sg_w5_f0_1000\n",
      "word #0/33047 is -PRON-\n",
      "word #1/33047 is the\n",
      "word #2/33047 is be\n",
      "word #3/33047 is to\n",
      "word #4/33047 is of\n",
      "word #5/33047 is have\n",
      "word #6/33047 is in\n",
      "word #7/33047 is a\n",
      "word #8/33047 is that\n",
      "cbow_w10_f1_300\n",
      "word #0/33047 is -PRON-\n",
      "word #1/33047 is the\n",
      "word #2/33047 is be\n",
      "word #3/33047 is to\n",
      "word #4/33047 is of\n",
      "word #5/33047 is have\n",
      "word #6/33047 is in\n",
      "word #7/33047 is a\n",
      "word #8/33047 is that\n",
      "cbow_w10_f1_1000\n",
      "word #0/33047 is -PRON-\n",
      "word #1/33047 is the\n",
      "word #2/33047 is be\n",
      "word #3/33047 is to\n",
      "word #4/33047 is of\n",
      "word #5/33047 is have\n",
      "word #6/33047 is in\n",
      "word #7/33047 is a\n",
      "word #8/33047 is that\n",
      "cbow_w10_f0_300\n",
      "word #0/33047 is -PRON-\n",
      "word #1/33047 is the\n",
      "word #2/33047 is be\n",
      "word #3/33047 is to\n",
      "word #4/33047 is of\n",
      "word #5/33047 is have\n",
      "word #6/33047 is in\n",
      "word #7/33047 is a\n",
      "word #8/33047 is that\n",
      "cbow_w10_f0_1000\n",
      "word #0/33047 is -PRON-\n",
      "word #1/33047 is the\n",
      "word #2/33047 is be\n",
      "word #3/33047 is to\n",
      "word #4/33047 is of\n",
      "word #5/33047 is have\n",
      "word #6/33047 is in\n",
      "word #7/33047 is a\n",
      "word #8/33047 is that\n",
      "sg_w10_f1_300\n",
      "word #0/33047 is -PRON-\n",
      "word #1/33047 is the\n",
      "word #2/33047 is be\n",
      "word #3/33047 is to\n",
      "word #4/33047 is of\n",
      "word #5/33047 is have\n",
      "word #6/33047 is in\n",
      "word #7/33047 is a\n",
      "word #8/33047 is that\n",
      "sg_w10_f1_1000\n",
      "word #0/33047 is -PRON-\n",
      "word #1/33047 is the\n",
      "word #2/33047 is be\n",
      "word #3/33047 is to\n",
      "word #4/33047 is of\n",
      "word #5/33047 is have\n",
      "word #6/33047 is in\n",
      "word #7/33047 is a\n",
      "word #8/33047 is that\n",
      "sg_w10_f0_300\n",
      "word #0/33047 is -PRON-\n",
      "word #1/33047 is the\n",
      "word #2/33047 is be\n",
      "word #3/33047 is to\n",
      "word #4/33047 is of\n",
      "word #5/33047 is have\n",
      "word #6/33047 is in\n",
      "word #7/33047 is a\n",
      "word #8/33047 is that\n",
      "sg_w10_f0_1000\n",
      "word #0/33047 is -PRON-\n",
      "word #1/33047 is the\n",
      "word #2/33047 is be\n",
      "word #3/33047 is to\n",
      "word #4/33047 is of\n",
      "word #5/33047 is have\n",
      "word #6/33047 is in\n",
      "word #7/33047 is a\n",
      "word #8/33047 is that\n"
     ]
    }
   ],
   "source": [
    "for i in range(len(models)):\n",
    "  print(models_names[i])\n",
    "  print_vocab(models[i], 10)"
   ]
  },
  {
   "cell_type": "markdown",
   "metadata": {
    "id": "_MapZ8XHVFZz"
   },
   "source": [
    "Let's look at the most similar words (i.e. neighbours) of *letter*:"
   ]
  },
  {
   "cell_type": "code",
   "execution_count": null,
   "metadata": {
    "colab": {
     "base_uri": "https://localhost:8080/"
    },
    "id": "m0WNH7u_VJxD",
    "outputId": "8967f86d-4717-4bd5-a09c-436bd0749a75"
   },
   "outputs": [
    {
     "name": "stdout",
     "output_type": "stream",
     "text": [
      "cbow_w5_f1_300 [('note', 0.919885516166687), ('pamphlet', 0.652788519859314), ('article', 0.6503540277481079), ('lecture', 0.5711215734481812), ('essay', 0.5618703961372375), ('delay', 0.5527163743972778), ('query', 0.5468353629112244), ('morning', 0.5438441038131714), ('sentence', 0.5436720252037048), ('Review', 0.5423902273178101)]\n",
      "cbow_w5_f1_1000 [('note', 0.9176384806632996), ('article', 0.6700360774993896), ('pamphlet', 0.6432717442512512), ('essay', 0.5991582870483398), ('yolk', 0.5840526819229126), ('paper', 0.5731831192970276), ('sentence', 0.5675064325332642), ('review', 0.5494292378425598), ('query', 0.5489456057548523), ('morning', 0.5475377440452576)]\n",
      "cbow_w5_f0_300 [('note', 0.909917950630188), ('pamphlet', 0.6521785855293274), ('article', 0.6380248069763184), ('paper', 0.5860188007354736), ('essay', 0.5737161040306091), ('message', 0.5564374923706055), ('lecture', 0.5458365082740784), ('sentence', 0.5448291897773743), ('review', 0.5445582866668701), ('query', 0.5400699973106384)]\n",
      "cbow_w5_f0_1000 [('note', 0.9272497296333313), ('article', 0.6602961421012878), ('pamphlet', 0.6467272043228149), ('essay', 0.5944782495498657), ('paper', 0.5919169783592224), ('dictation', 0.5742890238761902), ('delay', 0.5688968896865845), ('review', 0.5587369203567505), ('yesterday', 0.5578113794326782), ('message', 0.5571240186691284)]\n",
      "sg_w5_f1_300 [('note', 0.7670053243637085), ('message', 0.680029034614563), ('dictation', 0.6658414602279663), ('Appletons', 0.6655634641647339), ('considerate', 0.6627944111824036), ('announcement', 0.6597886681556702), ('Memoir', 0.6595286726951599), ('sermon', 0.6560968160629272), ('Photograph', 0.6505666375160217), ('Catalogue', 0.6497859954833984)]\n",
      "sg_w5_f1_1000 [('note', 0.8148543238639832), ('dictation', 0.6902778148651123), ('Report', 0.6860403418540955), ('Memoir', 0.6818052530288696), ('message', 0.6803346872329712), ('Photographs', 0.6689059734344482), ('Appletons', 0.6647549867630005), ('defence', 0.6614562273025513), ('pamphlet', 0.6612796187400818), ('Papers', 0.661259114742279)]\n",
      "sg_w5_f0_300 [('note', 0.7889594435691833), ('Report', 0.6902311444282532), ('message', 0.6831578016281128), ('ere', 0.6749072074890137), ('Memoir', 0.6737276911735535), ('announcement', 0.67091965675354), ('pamphlet', 0.6647948622703552), ('neglectful', 0.6575444936752319), ('dictation', 0.6550957560539246), ('considerate', 0.6542350053787231)]\n",
      "sg_w5_f0_1000 [('note', 0.794464647769928), ('message', 0.6812189221382141), ('Appletons', 0.6788421273231506), ('dictation', 0.673035204410553), ('pamphlet', 0.6729937791824341), ('gossip', 0.6638596653938293), ('Report', 0.6614609956741333), ('sermon', 0.6608235239982605), ('considerate', 0.6606467962265015), ('Catalogue', 0.6589022874832153)]\n",
      "cbow_w10_f1_300 [('note', 0.9008148908615112), ('pamphlet', 0.6119130849838257), ('article', 0.6061126589775085), ('extract', 0.5884266495704651), ('outpoure', 0.5850227475166321), ('essay', 0.5640112161636353), ('Nassa', 0.5626136064529419), ('Masters', 0.5197123885154724), ('Germanique', 0.5170679688453674), ('writing', 0.5133331418037415)]\n",
      "cbow_w10_f1_1000 [('note', 0.9053629040718079), ('article', 0.6111344695091248), ('Pleasure', 0.5823841691017151), ('essay', 0.5742804408073425), ('pamphlet', 0.5638738870620728), ('sincerey', 0.5595307946205139), ('extract', 0.5557091236114502), ('Trochilidæ', 0.545086145401001), ('intercourse', 0.541067898273468), ('query', 0.5406771302223206)]\n",
      "cbow_w10_f0_300 [('note', 0.8901770710945129), ('article', 0.5839009284973145), ('pamphlet', 0.5500277876853943), ('extract', 0.542428731918335), ('dictation', 0.5233393907546997), ('review', 0.5216278433799744), ('edification', 0.5181133151054382), ('schoolach', 0.5155201554298401), ('writing', 0.5098509192466736), ('post', 0.5063523054122925)]\n",
      "cbow_w10_f0_1000 [('note', 0.8977813124656677), ('article', 0.6479542851448059), ('pamphlet', 0.6439527273178101), ('extract', 0.594867467880249), ('lecture', 0.5653786659240723), ('correspondence', 0.5585889220237732), ('essay', 0.5567243695259094), ('Fawn', 0.5496721863746643), ('writing', 0.5408772230148315), ('Masters', 0.525456428527832)]\n",
      "sg_w10_f1_300 [('note', 0.7209372520446777), ('dictation', 0.6859458684921265), ('announcement', 0.673412024974823), ('Telegram', 0.6625561118125916), ('spirited', 0.6553592085838318), ('acknowledgement', 0.6528298854827881), ('miscarry', 0.6523012518882751), ('friendly', 0.6502552628517151), ('considerate', 0.6485422849655151), ('ere', 0.6473757028579712)]\n",
      "sg_w10_f1_1000 [('note', 0.752292275428772), ('dictation', 0.6759907603263855), ('neglectful', 0.6751056909561157), ('considerate', 0.6734530329704285), ('gossip', 0.6637182235717773), ('announcement', 0.6626038551330566), ('friendly', 0.6599124670028687), ('unanswered', 0.6589469313621521), ('juicy', 0.6568362712860107), ('Kinnordy', 0.6559313535690308)]\n",
      "sg_w10_f0_300 [('note', 0.7408036589622498), ('dictation', 0.7000863552093506), ('considerate', 0.6842631697654724), ('Telegram', 0.6792805790901184), ('announcement', 0.6730379462242126), ('pamplet', 0.6662039160728455), ('miscarry', 0.666096568107605), ('Report', 0.6630675196647644), ('sermon', 0.6624040007591248), ('neglectful', 0.660151481628418)]\n",
      "sg_w10_f0_1000 [('note', 0.7371349930763245), ('friendly', 0.6875324249267578), ('dictation', 0.6818726658821106), ('Telegram', 0.6658434867858887), ('stupidity', 0.6618764400482178), ('Tankerville', 0.6604659557342529), ('civilly', 0.6598258018493652), ('miscarry', 0.6585342288017273), ('juicy', 0.6577368378639221), ('message', 0.657736599445343)]\n"
     ]
    }
   ],
   "source": [
    "for i in range(len(models)):\n",
    "  print(models_names[i], models[i].wv.similar_by_word('letter', 10))"
   ]
  },
  {
   "cell_type": "markdown",
   "metadata": {
    "id": "aCaorEPKNEvD"
   },
   "source": [
    "#### Model choice\n",
    "In order to do a systematic evaluation and choose the best model for our purposes, we would need to test them all against some \"gold standard\", e.g. a list of known synonyms for this corpus. This is the list suggested by Liz:\n",
    "superfluous, unnecessary\n",
    "Display, exhibit\n",
    "Mimetic, imitative\n",
    "Disappear, vanish\n",
    "Alike, identical"
   ]
  },
  {
   "cell_type": "code",
   "execution_count": null,
   "metadata": {
    "colab": {
     "base_uri": "https://localhost:8080/"
    },
    "id": "duVcU228iQ82",
    "outputId": "afbc3513-1edd-48d9-ed66-b51afab30e32"
   },
   "outputs": [
    {
     "data": {
      "text/plain": [
       "{'alike': 'identical',\n",
       " 'disappear': 'vanish',\n",
       " 'display': 'exhibit',\n",
       " 'mimetic': 'imitative',\n",
       " 'superfluous': 'unnecessary'}"
      ]
     },
     "execution_count": 51,
     "metadata": {},
     "output_type": "execute_result"
    }
   ],
   "source": [
    "synonyms = dict({\"superfluous\": \"unnecessary\", \"display\": \"exhibit\", \"mimetic\" : \"imitative\", \"disappear\" : \"vanish\", \"alike\" : \"identical\"})\n",
    "synonyms"
   ]
  },
  {
   "cell_type": "markdown",
   "metadata": {
    "id": "m6uwH78oivkF"
   },
   "source": [
    "Check that the synonym pairs are preserved by the models:"
   ]
  },
  {
   "cell_type": "code",
   "execution_count": null,
   "metadata": {
    "colab": {
     "base_uri": "https://localhost:8080/"
    },
    "id": "aVypMJuQivxc",
    "outputId": "5c4d13b5-bff9-4d58-9c96-658c73bbcc47"
   },
   "outputs": [
    {
     "name": "stdout",
     "output_type": "stream",
     "text": [
      "Model cbow_w5_f1_300\n",
      "\tSimilarity between superfluous and unnecessary in cbow_w5_f1_300 0.55233085\n",
      "\tSimilarity between display and exhibit in cbow_w5_f1_300 0.82545084\n",
      "\tSimilarity between mimetic and imitative in cbow_w5_f1_300 0.6644293\n",
      "\tSimilarity between disappear and vanish in cbow_w5_f1_300 0.64242303\n",
      "\tSimilarity between alike and identical in cbow_w5_f1_300 0.79237956\n",
      "0.69540274\n",
      "Model cbow_w5_f1_1000\n",
      "\tSimilarity between superfluous and unnecessary in cbow_w5_f1_1000 0.6457449\n",
      "\tSimilarity between display and exhibit in cbow_w5_f1_1000 0.8573606\n",
      "\tSimilarity between mimetic and imitative in cbow_w5_f1_1000 0.6661758\n",
      "\tSimilarity between disappear and vanish in cbow_w5_f1_1000 0.5796966\n",
      "\tSimilarity between alike and identical in cbow_w5_f1_1000 0.7902135\n",
      "0.7078383\n",
      "Model cbow_w5_f0_300\n",
      "\tSimilarity between superfluous and unnecessary in cbow_w5_f0_300 0.5680306\n",
      "\tSimilarity between display and exhibit in cbow_w5_f0_300 0.86448765\n",
      "\tSimilarity between mimetic and imitative in cbow_w5_f0_300 0.55150056\n",
      "\tSimilarity between disappear and vanish in cbow_w5_f0_300 0.6465473\n",
      "\tSimilarity between alike and identical in cbow_w5_f0_300 0.80509233\n",
      "0.6871317\n",
      "Model cbow_w5_f0_1000\n",
      "\tSimilarity between superfluous and unnecessary in cbow_w5_f0_1000 0.5387824\n",
      "\tSimilarity between display and exhibit in cbow_w5_f0_1000 0.8293399\n",
      "\tSimilarity between mimetic and imitative in cbow_w5_f0_1000 0.38352376\n",
      "\tSimilarity between disappear and vanish in cbow_w5_f0_1000 0.5421981\n",
      "\tSimilarity between alike and identical in cbow_w5_f0_1000 0.7832441\n",
      "0.61541766\n",
      "Model sg_w5_f1_300\n",
      "\tSimilarity between superfluous and unnecessary in sg_w5_f1_300 0.7411754\n",
      "\tSimilarity between display and exhibit in sg_w5_f1_300 0.7417461\n",
      "\tSimilarity between mimetic and imitative in sg_w5_f1_300 0.65516347\n",
      "\tSimilarity between disappear and vanish in sg_w5_f1_300 0.7266142\n",
      "\tSimilarity between alike and identical in sg_w5_f1_300 0.77935725\n",
      "0.72881126\n",
      "Model sg_w5_f1_1000\n",
      "\tSimilarity between superfluous and unnecessary in sg_w5_f1_1000 0.7881996\n",
      "\tSimilarity between display and exhibit in sg_w5_f1_1000 0.76319647\n",
      "\tSimilarity between mimetic and imitative in sg_w5_f1_1000 0.6281335\n",
      "\tSimilarity between disappear and vanish in sg_w5_f1_1000 0.7558085\n",
      "\tSimilarity between alike and identical in sg_w5_f1_1000 0.7931994\n",
      "0.7457075\n",
      "Model sg_w5_f0_300\n",
      "\tSimilarity between superfluous and unnecessary in sg_w5_f0_300 0.7830871\n",
      "\tSimilarity between display and exhibit in sg_w5_f0_300 0.74410236\n",
      "\tSimilarity between mimetic and imitative in sg_w5_f0_300 0.6796055\n",
      "\tSimilarity between disappear and vanish in sg_w5_f0_300 0.73621017\n",
      "\tSimilarity between alike and identical in sg_w5_f0_300 0.7810576\n",
      "0.74481255\n",
      "Model sg_w5_f0_1000\n",
      "\tSimilarity between superfluous and unnecessary in sg_w5_f0_1000 0.79009026\n",
      "\tSimilarity between display and exhibit in sg_w5_f0_1000 0.74007607\n",
      "\tSimilarity between mimetic and imitative in sg_w5_f0_1000 0.6604529\n",
      "\tSimilarity between disappear and vanish in sg_w5_f0_1000 0.731993\n",
      "\tSimilarity between alike and identical in sg_w5_f0_1000 0.79750425\n",
      "0.7440233\n",
      "Model cbow_w10_f1_300\n",
      "\tSimilarity between superfluous and unnecessary in cbow_w10_f1_300 0.33751386\n",
      "\tSimilarity between display and exhibit in cbow_w10_f1_300 0.77603185\n",
      "\tSimilarity between mimetic and imitative in cbow_w10_f1_300 0.33016852\n",
      "\tSimilarity between disappear and vanish in cbow_w10_f1_300 0.5632911\n",
      "\tSimilarity between alike and identical in cbow_w10_f1_300 0.83234555\n",
      "0.56787014\n",
      "Model cbow_w10_f1_1000\n",
      "\tSimilarity between superfluous and unnecessary in cbow_w10_f1_1000 0.5704845\n",
      "\tSimilarity between display and exhibit in cbow_w10_f1_1000 0.85685813\n",
      "\tSimilarity between mimetic and imitative in cbow_w10_f1_1000 0.44030356\n",
      "\tSimilarity between disappear and vanish in cbow_w10_f1_1000 0.501125\n",
      "\tSimilarity between alike and identical in cbow_w10_f1_1000 0.80072457\n",
      "0.63389915\n",
      "Model cbow_w10_f0_300\n",
      "\tSimilarity between superfluous and unnecessary in cbow_w10_f0_300 0.4116001\n",
      "\tSimilarity between display and exhibit in cbow_w10_f0_300 0.7753234\n",
      "\tSimilarity between mimetic and imitative in cbow_w10_f0_300 0.45212072\n",
      "\tSimilarity between disappear and vanish in cbow_w10_f0_300 0.31014735\n",
      "\tSimilarity between alike and identical in cbow_w10_f0_300 0.74665534\n",
      "0.5391694\n",
      "Model cbow_w10_f0_1000\n",
      "\tSimilarity between superfluous and unnecessary in cbow_w10_f0_1000 0.5182881\n",
      "\tSimilarity between display and exhibit in cbow_w10_f0_1000 0.79376644\n",
      "\tSimilarity between mimetic and imitative in cbow_w10_f0_1000 0.60188437\n",
      "\tSimilarity between disappear and vanish in cbow_w10_f0_1000 0.27652085\n",
      "\tSimilarity between alike and identical in cbow_w10_f0_1000 0.7816449\n",
      "0.5944209\n",
      "Model sg_w10_f1_300\n",
      "\tSimilarity between superfluous and unnecessary in sg_w10_f1_300 0.7434338\n",
      "\tSimilarity between display and exhibit in sg_w10_f1_300 0.6753266\n",
      "\tSimilarity between mimetic and imitative in sg_w10_f1_300 0.6643694\n",
      "\tSimilarity between disappear and vanish in sg_w10_f1_300 0.64546406\n",
      "\tSimilarity between alike and identical in sg_w10_f1_300 0.7211615\n",
      "0.68995106\n",
      "Model sg_w10_f1_1000\n",
      "\tSimilarity between superfluous and unnecessary in sg_w10_f1_1000 0.7597494\n",
      "\tSimilarity between display and exhibit in sg_w10_f1_1000 0.7102446\n",
      "\tSimilarity between mimetic and imitative in sg_w10_f1_1000 0.66107726\n",
      "\tSimilarity between disappear and vanish in sg_w10_f1_1000 0.6419867\n",
      "\tSimilarity between alike and identical in sg_w10_f1_1000 0.67565906\n",
      "0.6897434\n",
      "Model sg_w10_f0_300\n",
      "\tSimilarity between superfluous and unnecessary in sg_w10_f0_300 0.7498352\n",
      "\tSimilarity between display and exhibit in sg_w10_f0_300 0.6382602\n",
      "\tSimilarity between mimetic and imitative in sg_w10_f0_300 0.6430756\n",
      "\tSimilarity between disappear and vanish in sg_w10_f0_300 0.62883055\n",
      "\tSimilarity between alike and identical in sg_w10_f0_300 0.67756695\n",
      "0.66751367\n",
      "Model sg_w10_f0_1000\n",
      "\tSimilarity between superfluous and unnecessary in sg_w10_f0_1000 0.74887985\n",
      "\tSimilarity between display and exhibit in sg_w10_f0_1000 0.66774005\n",
      "\tSimilarity between mimetic and imitative in sg_w10_f0_1000 0.6363273\n",
      "\tSimilarity between disappear and vanish in sg_w10_f0_1000 0.6441162\n",
      "\tSimilarity between alike and identical in sg_w10_f0_1000 0.72202724\n",
      "0.68381816\n"
     ]
    },
    {
     "data": {
      "text/plain": [
       "{'cbow_w10_f0_1000': 0.5944209,\n",
       " 'cbow_w10_f0_300': 0.5391694,\n",
       " 'cbow_w10_f1_1000': 0.63389915,\n",
       " 'cbow_w10_f1_300': 0.56787014,\n",
       " 'cbow_w5_f0_1000': 0.61541766,\n",
       " 'cbow_w5_f0_300': 0.6871317,\n",
       " 'cbow_w5_f1_1000': 0.7078383,\n",
       " 'cbow_w5_f1_300': 0.69540274,\n",
       " 'sg_w10_f0_1000': 0.68381816,\n",
       " 'sg_w10_f0_300': 0.66751367,\n",
       " 'sg_w10_f1_1000': 0.6897434,\n",
       " 'sg_w10_f1_300': 0.68995106,\n",
       " 'sg_w5_f0_1000': 0.7440233,\n",
       " 'sg_w5_f0_300': 0.74481255,\n",
       " 'sg_w5_f1_1000': 0.7457075,\n",
       " 'sg_w5_f1_300': 0.72881126}"
      ]
     },
     "execution_count": 52,
     "metadata": {},
     "output_type": "execute_result"
    }
   ],
   "source": [
    "models_synonymity_average = dict()\n",
    "for i in range(len(models)):\n",
    "  print(\"Model\", models_names[i])\n",
    "  average_synonimity = 0\n",
    "  synonymities = list()\n",
    "  for s1 in synonyms:\n",
    "    print(\"\\tSimilarity between\", s1, \"and\", synonyms[s1],  \"in\", models_names[i], models[i].wv.similarity(s1, synonyms[s1]))\n",
    "    synonymities.append(models[i].wv.similarity(s1, synonyms[s1]))\n",
    "  average_synonimity = mean(synonymities)\n",
    "  print(average_synonimity)\n",
    "  models_synonymity_average[models_names[i]] = average_synonimity\n",
    "models_synonymity_average"
   ]
  },
  {
   "cell_type": "markdown",
   "metadata": {
    "id": "kBFN_qqakzQe"
   },
   "source": [
    "I choose the model that maximises the average similarity between synonyms:"
   ]
  },
  {
   "cell_type": "code",
   "execution_count": null,
   "metadata": {
    "colab": {
     "base_uri": "https://localhost:8080/",
     "height": 35
    },
    "id": "HWPWgMNHNKi3",
    "outputId": "25b9ada4-2721-4068-8515-3099331f226c"
   },
   "outputs": [
    {
     "data": {
      "application/vnd.google.colaboratory.intrinsic+json": {
       "type": "string"
      },
      "text/plain": [
       "'sg_w5_f1_1000'"
      ]
     },
     "execution_count": 53,
     "metadata": {},
     "output_type": "execute_result"
    }
   ],
   "source": [
    "model_chosen_name = max(models_synonymity_average, key=models_synonymity_average.get)\n",
    "for i in range(len(models)):\n",
    "  if models_names[i] == model_chosen_name:\n",
    "    models[i].save(os.path.join(models_folder, \"Chosen_model\"))\n",
    "model_chosen_name"
   ]
  },
  {
   "cell_type": "markdown",
   "metadata": {
    "id": "HeSIUxsE8nF7"
   },
   "source": [
    "# 5. Semantic change with cosine similarity"
   ]
  },
  {
   "cell_type": "markdown",
   "metadata": {
    "id": "bUW2Qo0e8rLF"
   },
   "source": [
    "## Step 1: Define two time periods and split the corpus"
   ]
  },
  {
   "cell_type": "code",
   "execution_count": null,
   "metadata": {
    "colab": {
     "base_uri": "https://localhost:8080/"
    },
    "id": "XAJicX9P2-38",
    "outputId": "02845dc5-194d-4af0-e0a4-704e3848421e"
   },
   "outputs": [
    {
     "name": "stdout",
     "output_type": "stream",
     "text": [
      "[1821, 1822, 1823, 1824, 1825, 1826, 1827, 1828, 1829, 1830, 1831, 1832, 1833, 1834, 1835, 1836, 1837, 1838, 1839, 1840, 1841, 1842, 1843, 1844, 1845, 1846, 1847, 1848, 1849, 1850, 1851, 1852, 1853, 1854, 1855, 1856, 1857, 1858, 1859, 1860, 1861, 1862, 1863, 1864, 1865, 1866, 1867, 1868, 1869, 1870] []\n"
     ]
    }
   ],
   "source": [
    "date = 1870\n",
    "time_period_1 = list(range(min(df1['Year']),date+1))\n",
    "time_period_2 = list(range(date+1,max(df1['Year'])+1))\n",
    "print(time_period_1, time_period_2)"
   ]
  },
  {
   "cell_type": "code",
   "execution_count": null,
   "metadata": {
    "colab": {
     "base_uri": "https://localhost:8080/"
    },
    "id": "RMKAzBX13JrU",
    "outputId": "0d48e4a4-4d24-4fe1-b65e-d49537f978ad"
   },
   "outputs": [
    {
     "data": {
      "text/plain": [
       "count    14858.000000\n",
       "mean     1866.687576 \n",
       "std      12.117050   \n",
       "min      1821.000000 \n",
       "25%      1861.000000 \n",
       "50%      1869.000000 \n",
       "75%      1876.000000 \n",
       "max      1882.000000 \n",
       "Name: Year, dtype: float64"
      ]
     },
     "execution_count": 65,
     "metadata": {},
     "output_type": "execute_result"
    }
   ],
   "source": [
    "(df['Year']).describe()"
   ]
  },
  {
   "cell_type": "code",
   "execution_count": null,
   "metadata": {
    "id": "CiUjOTOj3BT4"
   },
   "outputs": [],
   "source": [
    "df_t1 = df1[df1['Year'].isin(time_period_1)]\n",
    "df_t2 = df1[df1['Year'].isin(time_period_2)]"
   ]
  },
  {
   "cell_type": "markdown",
   "metadata": {
    "id": "e8C16y7tgVEp"
   },
   "source": [
    "Check the start and end dates:"
   ]
  },
  {
   "cell_type": "code",
   "execution_count": null,
   "metadata": {
    "colab": {
     "base_uri": "https://localhost:8080/"
    },
    "id": "71szgwcegX8W",
    "outputId": "436ed1ea-c3f9-42e2-9d96-5ebb918bb4b8"
   },
   "outputs": [
    {
     "data": {
      "text/plain": [
       "1870"
      ]
     },
     "execution_count": 60,
     "metadata": {},
     "output_type": "execute_result"
    }
   ],
   "source": [
    "max(df_t1['Year'])"
   ]
  },
  {
   "cell_type": "markdown",
   "metadata": {
    "id": "1q_rMwY7eyjB"
   },
   "source": [
    "Check that I haven't lost any line:"
   ]
  },
  {
   "cell_type": "code",
   "execution_count": null,
   "metadata": {
    "colab": {
     "base_uri": "https://localhost:8080/"
    },
    "id": "z55DqNmvex2F",
    "outputId": "8692a02a-9448-4011-9aef-b15ff23e397e"
   },
   "outputs": [
    {
     "data": {
      "text/plain": [
       "True"
      ]
     },
     "execution_count": 17,
     "metadata": {},
     "output_type": "execute_result"
    }
   ],
   "source": [
    "df.shape[0] == df1.shape[0] + df2.shape[0]"
   ]
  },
  {
   "cell_type": "markdown",
   "metadata": {
    "id": "-RVdJPB8877F"
   },
   "source": [
    "## Step 2. Train word embeddings for the two time periods\n"
   ]
  },
  {
   "cell_type": "markdown",
   "metadata": {
    "id": "rD_hjxyy9AP8"
   },
   "source": [
    "I train two word2vec models, one for each dataframe corresponding to a time period. I choose the parameters that led to the best model. This takes approximately 5 minutes. **You can skip this cell.**"
   ]
  },
  {
   "cell_type": "code",
   "execution_count": null,
   "metadata": {
    "colab": {
     "base_uri": "https://localhost:8080/",
     "height": 324
    },
    "id": "PlsqbLKV9GV0",
    "outputId": "d5a12604-75b3-4ce8-9cb7-67e98ffe612f"
   },
   "outputs": [],
   "source": [
    "model1 = gensim.models.Word2Vec(df1['Lemmas_clean'], min_count=1, vector_size=300, window = 5, sg = 1)\n",
    "model2 = gensim.models.Word2Vec(df2['Lemmas_clean'], min_count=1, vector_size=300, window = 5, sg = 1)"
   ]
  },
  {
   "cell_type": "markdown",
   "metadata": {
    "id": "Ou38w-yl9MfQ"
   },
   "source": [
    "Save the models. **You can skip this cell.**"
   ]
  },
  {
   "cell_type": "code",
   "execution_count": null,
   "metadata": {
    "colab": {
     "base_uri": "https://localhost:8080/"
    },
    "id": "5fKbDNDx9NK4",
    "outputId": "3a75bd27-df60-4cdc-f6ec-562fdb3e17bc"
   },
   "outputs": [
    {
     "name": "stdout",
     "output_type": "stream",
     "text": [
      "Saving model number 1\n",
      "Saving model number 2\n"
     ]
    }
   ],
   "source": [
    "models_folder = '/content/drive/My Drive/2021/Darwin paper/Files/Models'\n",
    "models = [model1, model2]\n",
    "models_names = [\"model1\", \"model2\"]\n",
    "for i in range(len(models)):\n",
    "  print(\"Saving model number\", i+1)\n",
    "  models[i].save(os.path.join(models_folder, models_names[i]))"
   ]
  },
  {
   "cell_type": "markdown",
   "metadata": {
    "id": "Ekxdd56L9Q4n"
   },
   "source": [
    "I load the models:"
   ]
  },
  {
   "cell_type": "code",
   "execution_count": null,
   "metadata": {
    "id": "beokoQ3T9SOy"
   },
   "outputs": [],
   "source": [
    "models_folder = '/content/drive/My Drive/2021/Darwin paper/Files/Models'\n",
    "model1 = gensim.models.Word2Vec.load(os.path.join(models_folder, \"model1\"))\n",
    "model2 = gensim.models.Word2Vec.load(os.path.join(models_folder, \"model2\"))\n",
    "models = [model1, model2]\n",
    "models_names = [\"model1\", \"model2\"]"
   ]
  },
  {
   "cell_type": "markdown",
   "metadata": {
    "id": "EJ0JeUIY9UiQ"
   },
   "source": [
    "What are the vocabularies of these models?"
   ]
  },
  {
   "cell_type": "code",
   "execution_count": null,
   "metadata": {
    "colab": {
     "base_uri": "https://localhost:8080/"
    },
    "id": "LF7BWh-43S0-",
    "outputId": "b8b7e5b2-19d0-4746-f5ed-ef2f46837d61"
   },
   "outputs": [
    {
     "name": "stdout",
     "output_type": "stream",
     "text": [
      "word #0/54516 is -PRON-\n",
      "word #1/54516 is the\n",
      "word #2/54516 is be\n",
      "word #3/54516 is of\n",
      "word #4/54516 is to\n",
      "word #5/54516 is have\n",
      "word #6/54516 is in\n",
      "word #7/54516 is a\n",
      "word #8/54516 is that\n"
     ]
    }
   ],
   "source": [
    "print_vocab(model1, 10)"
   ]
  },
  {
   "cell_type": "code",
   "execution_count": null,
   "metadata": {
    "colab": {
     "base_uri": "https://localhost:8080/"
    },
    "id": "HZWwOnWl3mf4",
    "outputId": "ddfb4633-2249-457a-d92a-227069c2b3fe"
   },
   "outputs": [
    {
     "name": "stdout",
     "output_type": "stream",
     "text": [
      "word #0/42040 is -PRON-\n",
      "word #1/42040 is the\n",
      "word #2/42040 is be\n",
      "word #3/42040 is of\n",
      "word #4/42040 is to\n",
      "word #5/42040 is in\n",
      "word #6/42040 is have\n",
      "word #7/42040 is a\n",
      "word #8/42040 is that\n"
     ]
    }
   ],
   "source": [
    "print_vocab(model2,10)"
   ]
  },
  {
   "cell_type": "code",
   "execution_count": null,
   "metadata": {
    "colab": {
     "base_uri": "https://localhost:8080/"
    },
    "id": "huhIE_-G9bgx",
    "outputId": "fe5f9743-5098-44ee-ac38-9ab26ef2402e"
   },
   "outputs": [
    {
     "name": "stdout",
     "output_type": "stream",
     "text": [
      "54516\n",
      "42040\n"
     ]
    }
   ],
   "source": [
    "print(str(len(list(model1.wv.index_to_key))))\n",
    "print(str(len(list(model2.wv.index_to_key))))"
   ]
  },
  {
   "cell_type": "markdown",
   "metadata": {
    "id": "1eXUKgJ2aLGe"
   },
   "source": [
    "The intersection between the vocabularies of the two models:"
   ]
  },
  {
   "cell_type": "code",
   "execution_count": null,
   "metadata": {
    "colab": {
     "base_uri": "https://localhost:8080/"
    },
    "id": "ljpmd1xbaOeN",
    "outputId": "858c2453-16af-4016-fc66-78d4740d2b5f"
   },
   "outputs": [
    {
     "data": {
      "text/plain": [
       "23323"
      ]
     },
     "execution_count": 23,
     "metadata": {},
     "output_type": "execute_result"
    }
   ],
   "source": [
    "vocab1 = set(list(model1.wv.index_to_key))\n",
    "vocab2 = set(list(model2.wv.index_to_key))\n",
    "len(vocab1.intersection(vocab2))"
   ]
  },
  {
   "cell_type": "markdown",
   "metadata": {
    "id": "S4rjlshWPPkX"
   },
   "source": [
    "## Step 3. Embedding space alignment"
   ]
  },
  {
   "cell_type": "markdown",
   "metadata": {
    "id": "2-ldNIkIP_ew"
   },
   "source": [
    "I will be using code from https://gist.github.com/zhicongchen/9e23d5c3f1e5b1293b16133485cd17d8, ported from HistWords <https://github.com/williamleif/histwords>."
   ]
  },
  {
   "cell_type": "markdown",
   "metadata": {
    "id": "lMCblsx5QZTl"
   },
   "source": [
    "First, I define a function to find the intersection between the vocabularies of two word2vec models:"
   ]
  },
  {
   "cell_type": "code",
   "execution_count": null,
   "metadata": {
    "id": "8OeU87DWPbse"
   },
   "outputs": [],
   "source": [
    "def intersection_align_gensim(m1, m2, words=None):\n",
    "    \"\"\"\n",
    "    Intersect two gensim word2vec models, m1 and m2.\n",
    "    Only the shared vocabulary between them is kept.\n",
    "    If 'words' is set (as list or set), then the vocabulary is intersected with this list as well.\n",
    "    Indices are re-organized from 0..N in order of descending frequency (=sum of counts from both m1 and m2).\n",
    "    These indices correspond to the new syn0 and syn0norm objects in both gensim models:\n",
    "        -- so that Row 0 of m1.syn0 will be for the same word as Row 0 of m2.syn0\n",
    "        -- you can find the index of any word on the .index2word list: model.index2word.index(word) => 2\n",
    "    The .vocab dictionary is also updated for each model, preserving the count but updating the index.\n",
    "    \"\"\"\n",
    "\n",
    "    # Get the vocab for each model\n",
    "    vocab_m1 = set(m1.wv.index_to_key)\n",
    "    vocab_m2 = set(m2.wv.index_to_key)\n",
    "\n",
    "    # Find the common vocabulary\n",
    "    common_vocab = vocab_m1 & vocab_m2\n",
    "    if words: common_vocab &= set(words)\n",
    "\n",
    "    # If no alignment necessary because vocab is identical...\n",
    "    if not vocab_m1 - common_vocab and not vocab_m2 - common_vocab:\n",
    "        return (m1,m2)\n",
    "\n",
    "    # Otherwise sort by frequency (summed for both)\n",
    "    common_vocab = list(common_vocab)\n",
    "    common_vocab.sort(key=lambda w: m1.wv.get_vecattr(w, \"count\") + m2.wv.get_vecattr(w, \"count\"), reverse=True)\n",
    "    # print(len(common_vocab))\n",
    "\n",
    "    # Then for each model...\n",
    "    for m in [m1, m2]:\n",
    "        # Replace old syn0norm array with new one (with common vocab)\n",
    "        indices = [m.wv.key_to_index[w] for w in common_vocab]\n",
    "        old_arr = m.wv.vectors\n",
    "        new_arr = np.array([old_arr[index] for index in indices])\n",
    "        m.wv.vectors = new_arr\n",
    "\n",
    "        # Replace old vocab dictionary with new one (with common vocab)\n",
    "        # and old index2word with new one\n",
    "        new_key_to_index = {}\n",
    "        new_index_to_key = []\n",
    "        for new_index, key in enumerate(common_vocab):\n",
    "            new_key_to_index[key] = new_index\n",
    "            new_index_to_key.append(key)\n",
    "        m.wv.key_to_index = new_key_to_index\n",
    "        m.wv.index_to_key = new_index_to_key\n",
    "        \n",
    "        print(len(m.wv.key_to_index), len(m.wv.vectors))\n",
    "        \n",
    "    return (m1,m2)"
   ]
  },
  {
   "cell_type": "markdown",
   "metadata": {
    "id": "1le410lRPWhz"
   },
   "source": [
    "Then, I define a function for aligning two spaces with [Orthogonal Procrustes](https://simonensemble.github.io/2018-10/orthogonal-procrustes.html):"
   ]
  },
  {
   "cell_type": "code",
   "execution_count": null,
   "metadata": {
    "id": "BQGkiPKjQrus"
   },
   "outputs": [],
   "source": [
    "def smart_procrustes_align_gensim(base_embed, other_embed, words=None):\n",
    "    \"\"\"\n",
    "    Original script: https://gist.github.com/quadrismegistus/09a93e219a6ffc4f216fb85235535faf\n",
    "    Procrustes align two gensim word2vec models (to allow for comparison between same word across models).\n",
    "    Code ported from HistWords <https://github.com/williamleif/histwords> by William Hamilton <wleif@stanford.edu>.\n",
    "        \n",
    "    First, intersect the vocabularies (see `intersection_align_gensim` documentation).\n",
    "    Then do the alignment on the other_embed model.\n",
    "    Replace the other_embed model's syn0 and syn0norm numpy matrices with the aligned version.\n",
    "    Return other_embed.\n",
    "    If `words` is set, intersect the two models' vocabulary with the vocabulary in words (see `intersection_align_gensim` documentation).\n",
    "    \"\"\"\n",
    "\n",
    "    # make sure vocabulary and indices are aligned\n",
    "    in_base_embed, in_other_embed = intersection_align_gensim(base_embed, other_embed, words=words)\n",
    "\n",
    "    # get the (normalized) embedding matrices\n",
    "    base_vecs = in_base_embed.wv.get_normed_vectors()\n",
    "    other_vecs = in_other_embed.wv.get_normed_vectors()\n",
    "\n",
    "    # just a matrix dot product with numpy\n",
    "    m = other_vecs.T.dot(base_vecs) \n",
    "    # SVD method from numpy\n",
    "    u, _, v = np.linalg.svd(m)\n",
    "    # another matrix operation\n",
    "    ortho = u.dot(v) \n",
    "    # Replace original array with modified one, i.e. multiplying the embedding matrix by \"ortho\"\n",
    "    other_embed.wv.vectors = (other_embed.wv.vectors).dot(ortho)    \n",
    "    \n",
    "    return other_embed"
   ]
  },
  {
   "cell_type": "markdown",
   "metadata": {
    "id": "mhvxxR7qQ3Hc"
   },
   "source": [
    "Now I can apply the function to my models:"
   ]
  },
  {
   "cell_type": "code",
   "execution_count": null,
   "metadata": {
    "colab": {
     "base_uri": "https://localhost:8080/"
    },
    "id": "oI3tPmmNRXcU",
    "outputId": "c347bdb8-ad34-4133-fecb-f37416bbcf2f"
   },
   "outputs": [
    {
     "name": "stdout",
     "output_type": "stream",
     "text": [
      "23323 23323\n",
      "23323 23323\n"
     ]
    },
    {
     "data": {
      "text/plain": [
       "<gensim.models.word2vec.Word2Vec at 0x7efc8c2c7510>"
      ]
     },
     "execution_count": 26,
     "metadata": {},
     "output_type": "execute_result"
    }
   ],
   "source": [
    "smart_procrustes_align_gensim(model1, model2, words=None)"
   ]
  },
  {
   "cell_type": "markdown",
   "metadata": {
    "id": "EKGD6NZPbxza"
   },
   "source": [
    "Now the two models have been aligned and have the same vocabulary:"
   ]
  },
  {
   "cell_type": "code",
   "execution_count": null,
   "metadata": {
    "colab": {
     "base_uri": "https://localhost:8080/"
    },
    "id": "drWn32avbcju",
    "outputId": "46b2c80a-9d1c-4ae2-f0df-4b61cc8895ae"
   },
   "outputs": [
    {
     "data": {
      "text/plain": [
       "23323"
      ]
     },
     "execution_count": 27,
     "metadata": {},
     "output_type": "execute_result"
    }
   ],
   "source": [
    "len(model1.wv.index_to_key)"
   ]
  },
  {
   "cell_type": "code",
   "execution_count": null,
   "metadata": {
    "colab": {
     "base_uri": "https://localhost:8080/"
    },
    "id": "HdPZFhTcbtXN",
    "outputId": "67fd1a9b-365b-487c-9cee-1049d65e7b03"
   },
   "outputs": [
    {
     "data": {
      "text/plain": [
       "23323"
      ]
     },
     "execution_count": 28,
     "metadata": {},
     "output_type": "execute_result"
    }
   ],
   "source": [
    "len(model2.wv.index_to_key)"
   ]
  },
  {
   "cell_type": "code",
   "execution_count": null,
   "metadata": {
    "colab": {
     "base_uri": "https://localhost:8080/"
    },
    "id": "Q9zqjWWmb7GE",
    "outputId": "b5c928f6-9734-4de0-f920-986420aabdab"
   },
   "outputs": [
    {
     "data": {
      "text/plain": [
       "True"
      ]
     },
     "execution_count": 29,
     "metadata": {},
     "output_type": "execute_result"
    }
   ],
   "source": [
    "model1.wv.index_to_key == model2.wv.index_to_key"
   ]
  },
  {
   "cell_type": "markdown",
   "metadata": {
    "id": "EZEq7aRCbLiC"
   },
   "source": [
    "I print the vocabulary:"
   ]
  },
  {
   "cell_type": "code",
   "execution_count": null,
   "metadata": {
    "id": "sbcY4CXkcAZ-"
   },
   "outputs": [],
   "source": [
    "model1.wv.index_to_key"
   ]
  },
  {
   "cell_type": "markdown",
   "metadata": {
    "id": "1MKJmJccbO_3"
   },
   "source": [
    "I save the aligned models:"
   ]
  },
  {
   "cell_type": "code",
   "execution_count": null,
   "metadata": {
    "colab": {
     "base_uri": "https://localhost:8080/"
    },
    "id": "tybKgXYj9sHm",
    "outputId": "b62668eb-a747-4f25-847c-b4bc83efd9a9"
   },
   "outputs": [
    {
     "name": "stdout",
     "output_type": "stream",
     "text": [
      "model1\n",
      "model2\n"
     ]
    }
   ],
   "source": [
    "for i in range(len(models)):\n",
    "  print(models_names[i])\n",
    "  models[i].save(os.path.join(models_folder, models_names[i] + \"_aligned\"))"
   ]
  },
  {
   "cell_type": "markdown",
   "metadata": {
    "id": "S1cOEvel_kkD"
   },
   "source": [
    "Let's look at the similarity between two words in the two spaces:"
   ]
  },
  {
   "cell_type": "code",
   "execution_count": null,
   "metadata": {
    "colab": {
     "base_uri": "https://localhost:8080/"
    },
    "id": "HOkOOvUR_cvG",
    "outputId": "8f350bd0-88ff-4916-e427-f09d74a3a089"
   },
   "outputs": [
    {
     "data": {
      "text/plain": [
       "0.7763005"
      ]
     },
     "execution_count": 30,
     "metadata": {},
     "output_type": "execute_result"
    }
   ],
   "source": [
    "model1.wv.similarity(\"letter\", \"note\")"
   ]
  },
  {
   "cell_type": "code",
   "execution_count": null,
   "metadata": {
    "colab": {
     "base_uri": "https://localhost:8080/"
    },
    "id": "5E8vT0c__iJt",
    "outputId": "1c027a0c-78d4-4a02-f125-fd863172a47e"
   },
   "outputs": [
    {
     "data": {
      "text/plain": [
       "0.8022866"
      ]
     },
     "execution_count": 31,
     "metadata": {},
     "output_type": "execute_result"
    }
   ],
   "source": [
    "model2.wv.similarity(\"letter\", \"note\")"
   ]
  },
  {
   "cell_type": "markdown",
   "metadata": {
    "id": "YzRXv3DX-jRn"
   },
   "source": [
    "## Step 4: Measure change"
   ]
  },
  {
   "cell_type": "markdown",
   "metadata": {
    "id": "UoGHlv8M-lje"
   },
   "source": [
    "Now I can measure the cosine similarity between the embedding of a word in the first time period and the embedding of the same word in the second time period. "
   ]
  },
  {
   "cell_type": "markdown",
   "metadata": {
    "id": "j2hcRfD-Bkm0"
   },
   "source": [
    "Let's define a function that calculates the cosine similarity between the embedding of a word in t1 and the embedding of the same word in t2:"
   ]
  },
  {
   "cell_type": "code",
   "execution_count": null,
   "metadata": {
    "id": "qTFtfuLkCUJN"
   },
   "outputs": [],
   "source": [
    "def cosine_similarity(word):\n",
    "  sc = 1-spatial.distance.cosine(model1.wv[word], model2.wv[word])\n",
    "  return sc"
   ]
  },
  {
   "cell_type": "markdown",
   "metadata": {
    "id": "WtrQJ2QwCaZA"
   },
   "source": [
    "Now I calculate the semantic similarity for all words in the vocabulary, and store this in the dataframe cosine_similarity; I also add a column for the frequency of the word in the first space and another one for its frequency in the second space:"
   ]
  },
  {
   "cell_type": "code",
   "execution_count": null,
   "metadata": {
    "colab": {
     "base_uri": "https://localhost:8080/",
     "height": 419
    },
    "id": "usdtS7hxCiDc",
    "outputId": "97b22c9e-c219-4750-84df-5cf7988e168b"
   },
   "outputs": [
    {
     "data": {
      "text/html": [
       "<div>\n",
       "<style scoped>\n",
       "    .dataframe tbody tr th:only-of-type {\n",
       "        vertical-align: middle;\n",
       "    }\n",
       "\n",
       "    .dataframe tbody tr th {\n",
       "        vertical-align: top;\n",
       "    }\n",
       "\n",
       "    .dataframe thead th {\n",
       "        text-align: right;\n",
       "    }\n",
       "</style>\n",
       "<table border=\"1\" class=\"dataframe\">\n",
       "  <thead>\n",
       "    <tr style=\"text-align: right;\">\n",
       "      <th></th>\n",
       "      <th>Word</th>\n",
       "      <th>Cosine_similarity</th>\n",
       "      <th>Frequency_t1</th>\n",
       "      <th>Frequency_t2</th>\n",
       "    </tr>\n",
       "  </thead>\n",
       "  <tbody>\n",
       "    <tr>\n",
       "      <th>0</th>\n",
       "      <td>-PRON-</td>\n",
       "      <td>0.948136</td>\n",
       "      <td>284506</td>\n",
       "      <td>174605</td>\n",
       "    </tr>\n",
       "    <tr>\n",
       "      <th>1</th>\n",
       "      <td>the</td>\n",
       "      <td>0.921887</td>\n",
       "      <td>129459</td>\n",
       "      <td>90613</td>\n",
       "    </tr>\n",
       "    <tr>\n",
       "      <th>2</th>\n",
       "      <td>be</td>\n",
       "      <td>0.936264</td>\n",
       "      <td>102383</td>\n",
       "      <td>62432</td>\n",
       "    </tr>\n",
       "    <tr>\n",
       "      <th>3</th>\n",
       "      <td>of</td>\n",
       "      <td>0.909740</td>\n",
       "      <td>87876</td>\n",
       "      <td>59302</td>\n",
       "    </tr>\n",
       "    <tr>\n",
       "      <th>4</th>\n",
       "      <td>to</td>\n",
       "      <td>0.920282</td>\n",
       "      <td>78925</td>\n",
       "      <td>52600</td>\n",
       "    </tr>\n",
       "    <tr>\n",
       "      <th>...</th>\n",
       "      <td>...</td>\n",
       "      <td>...</td>\n",
       "      <td>...</td>\n",
       "      <td>...</td>\n",
       "    </tr>\n",
       "    <tr>\n",
       "      <th>23318</th>\n",
       "      <td>soreness</td>\n",
       "      <td>0.942521</td>\n",
       "      <td>2</td>\n",
       "      <td>1</td>\n",
       "    </tr>\n",
       "    <tr>\n",
       "      <th>23319</th>\n",
       "      <td>263</td>\n",
       "      <td>0.919004</td>\n",
       "      <td>2</td>\n",
       "      <td>1</td>\n",
       "    </tr>\n",
       "    <tr>\n",
       "      <th>23320</th>\n",
       "      <td>wetness</td>\n",
       "      <td>0.939036</td>\n",
       "      <td>2</td>\n",
       "      <td>1</td>\n",
       "    </tr>\n",
       "    <tr>\n",
       "      <th>23321</th>\n",
       "      <td>xxviii</td>\n",
       "      <td>0.968271</td>\n",
       "      <td>2</td>\n",
       "      <td>1</td>\n",
       "    </tr>\n",
       "    <tr>\n",
       "      <th>23322</th>\n",
       "      <td>Marcy</td>\n",
       "      <td>0.901566</td>\n",
       "      <td>2</td>\n",
       "      <td>1</td>\n",
       "    </tr>\n",
       "  </tbody>\n",
       "</table>\n",
       "<p>23323 rows × 4 columns</p>\n",
       "</div>"
      ],
      "text/plain": [
       "           Word  Cosine_similarity  Frequency_t1  Frequency_t2\n",
       "0      -PRON-    0.948136           284506        174605      \n",
       "1      the       0.921887           129459        90613       \n",
       "2      be        0.936264           102383        62432       \n",
       "3      of        0.909740           87876         59302       \n",
       "4      to        0.920282           78925         52600       \n",
       "...    ..             ...             ...           ...       \n",
       "23318  soreness  0.942521           2             1           \n",
       "23319  263       0.919004           2             1           \n",
       "23320  wetness   0.939036           2             1           \n",
       "23321  xxviii    0.968271           2             1           \n",
       "23322  Marcy     0.901566           2             1           \n",
       "\n",
       "[23323 rows x 4 columns]"
      ]
     },
     "execution_count": 33,
     "metadata": {},
     "output_type": "execute_result"
    }
   ],
   "source": [
    "cosine_similarity_df = pd.DataFrame(([w, cosine_similarity(w), model1.wv.get_vecattr(w, \"count\") , model2.wv.get_vecattr(w, \"count\") ] for w in model1.wv.index_to_key), columns = ('Word', 'Cosine_similarity', \"Frequency_t1\", \"Frequency_t2\"))\n",
    "cosine_similarity_df"
   ]
  },
  {
   "cell_type": "markdown",
   "metadata": {
    "id": "A7ztnymCHzuk"
   },
   "source": [
    "Visualise the distribution of the semantic similarity scores with a histogram:"
   ]
  },
  {
   "cell_type": "code",
   "execution_count": null,
   "metadata": {
    "colab": {
     "base_uri": "https://localhost:8080/",
     "height": 268
    },
    "id": "fXq_oDpmH21j",
    "outputId": "f7facee9-335c-40a6-d832-98f9bd6266e1"
   },
   "outputs": [
    {
     "data": {
      "image/png": "[encoded data removed]",
      "text/plain": [
       "<Figure size 432x288 with 1 Axes>"
      ]
     },
     "metadata": {},
     "output_type": "display_data"
    }
   ],
   "source": [
    "hist = cosine_similarity_df['Cosine_similarity'].hist()"
   ]
  },
  {
   "cell_type": "markdown",
   "metadata": {
    "id": "esWwpTRWFd5E"
   },
   "source": [
    "Now I sort by decreasing semantic change score:"
   ]
  },
  {
   "cell_type": "code",
   "execution_count": null,
   "metadata": {
    "colab": {
     "base_uri": "https://localhost:8080/",
     "height": 204
    },
    "id": "y_Xd7GIZFg37",
    "outputId": "c459088f-5290-4a88-e629-8a290ecc49bf"
   },
   "outputs": [
    {
     "data": {
      "text/html": [
       "<div>\n",
       "<style scoped>\n",
       "    .dataframe tbody tr th:only-of-type {\n",
       "        vertical-align: middle;\n",
       "    }\n",
       "\n",
       "    .dataframe tbody tr th {\n",
       "        vertical-align: top;\n",
       "    }\n",
       "\n",
       "    .dataframe thead th {\n",
       "        text-align: right;\n",
       "    }\n",
       "</style>\n",
       "<table border=\"1\" class=\"dataframe\">\n",
       "  <thead>\n",
       "    <tr style=\"text-align: right;\">\n",
       "      <th></th>\n",
       "      <th>Word</th>\n",
       "      <th>Cosine_similarity</th>\n",
       "      <th>Frequency_t1</th>\n",
       "      <th>Frequency_t2</th>\n",
       "    </tr>\n",
       "  </thead>\n",
       "  <tbody>\n",
       "    <tr>\n",
       "      <th>5352</th>\n",
       "      <td>stud</td>\n",
       "      <td>0.413877</td>\n",
       "      <td>23</td>\n",
       "      <td>14</td>\n",
       "    </tr>\n",
       "    <tr>\n",
       "      <th>4021</th>\n",
       "      <td>1879</td>\n",
       "      <td>0.467864</td>\n",
       "      <td>36</td>\n",
       "      <td>23</td>\n",
       "    </tr>\n",
       "    <tr>\n",
       "      <th>2635</th>\n",
       "      <td>Utricularia</td>\n",
       "      <td>0.468761</td>\n",
       "      <td>68</td>\n",
       "      <td>43</td>\n",
       "    </tr>\n",
       "    <tr>\n",
       "      <th>5501</th>\n",
       "      <td>Caspary</td>\n",
       "      <td>0.471753</td>\n",
       "      <td>22</td>\n",
       "      <td>14</td>\n",
       "    </tr>\n",
       "    <tr>\n",
       "      <th>3717</th>\n",
       "      <td>Sara</td>\n",
       "      <td>0.474424</td>\n",
       "      <td>41</td>\n",
       "      <td>26</td>\n",
       "    </tr>\n",
       "  </tbody>\n",
       "</table>\n",
       "</div>"
      ],
      "text/plain": [
       "             Word  Cosine_similarity  Frequency_t1  Frequency_t2\n",
       "5352  stud         0.413877           23            14          \n",
       "4021  1879         0.467864           36            23          \n",
       "2635  Utricularia  0.468761           68            43          \n",
       "5501  Caspary      0.471753           22            14          \n",
       "3717  Sara         0.474424           41            26          "
      ]
     },
     "execution_count": 35,
     "metadata": {},
     "output_type": "execute_result"
    }
   ],
   "source": [
    "cosine_similarity_df_sorted = cosine_similarity_df.sort_values(by='Cosine_similarity', ascending=True)\n",
    "cosine_similarity_df_sorted.head()"
   ]
  },
  {
   "cell_type": "markdown",
   "metadata": {
    "id": "NsRvkamuUgRd"
   },
   "source": [
    "I add the total frequency:"
   ]
  },
  {
   "cell_type": "code",
   "execution_count": null,
   "metadata": {
    "colab": {
     "base_uri": "https://localhost:8080/",
     "height": 419
    },
    "id": "MzVHc5vWUjN-",
    "outputId": "4f8a9512-6587-4a21-f1aa-ac4ca3e98209"
   },
   "outputs": [
    {
     "data": {
      "text/html": [
       "<div>\n",
       "<style scoped>\n",
       "    .dataframe tbody tr th:only-of-type {\n",
       "        vertical-align: middle;\n",
       "    }\n",
       "\n",
       "    .dataframe tbody tr th {\n",
       "        vertical-align: top;\n",
       "    }\n",
       "\n",
       "    .dataframe thead th {\n",
       "        text-align: right;\n",
       "    }\n",
       "</style>\n",
       "<table border=\"1\" class=\"dataframe\">\n",
       "  <thead>\n",
       "    <tr style=\"text-align: right;\">\n",
       "      <th></th>\n",
       "      <th>Word</th>\n",
       "      <th>Cosine_similarity</th>\n",
       "      <th>Frequency_t1</th>\n",
       "      <th>Frequency_t2</th>\n",
       "      <th>Total_Frequency</th>\n",
       "    </tr>\n",
       "  </thead>\n",
       "  <tbody>\n",
       "    <tr>\n",
       "      <th>5352</th>\n",
       "      <td>stud</td>\n",
       "      <td>0.413877</td>\n",
       "      <td>23</td>\n",
       "      <td>14</td>\n",
       "      <td>37</td>\n",
       "    </tr>\n",
       "    <tr>\n",
       "      <th>4021</th>\n",
       "      <td>1879</td>\n",
       "      <td>0.467864</td>\n",
       "      <td>36</td>\n",
       "      <td>23</td>\n",
       "      <td>59</td>\n",
       "    </tr>\n",
       "    <tr>\n",
       "      <th>2635</th>\n",
       "      <td>Utricularia</td>\n",
       "      <td>0.468761</td>\n",
       "      <td>68</td>\n",
       "      <td>43</td>\n",
       "      <td>111</td>\n",
       "    </tr>\n",
       "    <tr>\n",
       "      <th>5501</th>\n",
       "      <td>Caspary</td>\n",
       "      <td>0.471753</td>\n",
       "      <td>22</td>\n",
       "      <td>14</td>\n",
       "      <td>36</td>\n",
       "    </tr>\n",
       "    <tr>\n",
       "      <th>3717</th>\n",
       "      <td>Sara</td>\n",
       "      <td>0.474424</td>\n",
       "      <td>41</td>\n",
       "      <td>26</td>\n",
       "      <td>67</td>\n",
       "    </tr>\n",
       "    <tr>\n",
       "      <th>...</th>\n",
       "      <td>...</td>\n",
       "      <td>...</td>\n",
       "      <td>...</td>\n",
       "      <td>...</td>\n",
       "      <td>...</td>\n",
       "    </tr>\n",
       "    <tr>\n",
       "      <th>21188</th>\n",
       "      <td>Familie</td>\n",
       "      <td>0.982051</td>\n",
       "      <td>2</td>\n",
       "      <td>2</td>\n",
       "      <td>4</td>\n",
       "    </tr>\n",
       "    <tr>\n",
       "      <th>11439</th>\n",
       "      <td>mit</td>\n",
       "      <td>0.982179</td>\n",
       "      <td>7</td>\n",
       "      <td>4</td>\n",
       "      <td>11</td>\n",
       "    </tr>\n",
       "    <tr>\n",
       "      <th>16029</th>\n",
       "      <td>vom</td>\n",
       "      <td>0.983580</td>\n",
       "      <td>4</td>\n",
       "      <td>2</td>\n",
       "      <td>6</td>\n",
       "    </tr>\n",
       "    <tr>\n",
       "      <th>17034</th>\n",
       "      <td>avec</td>\n",
       "      <td>0.985625</td>\n",
       "      <td>3</td>\n",
       "      <td>2</td>\n",
       "      <td>5</td>\n",
       "    </tr>\n",
       "    <tr>\n",
       "      <th>7990</th>\n",
       "      <td>Boyd</td>\n",
       "      <td>0.986384</td>\n",
       "      <td>12</td>\n",
       "      <td>8</td>\n",
       "      <td>20</td>\n",
       "    </tr>\n",
       "  </tbody>\n",
       "</table>\n",
       "<p>23323 rows × 5 columns</p>\n",
       "</div>"
      ],
      "text/plain": [
       "              Word  Cosine_similarity  ...  Frequency_t2  Total_Frequency\n",
       "5352   stud         0.413877           ...  14            37             \n",
       "4021   1879         0.467864           ...  23            59             \n",
       "2635   Utricularia  0.468761           ...  43            111            \n",
       "5501   Caspary      0.471753           ...  14            36             \n",
       "3717   Sara         0.474424           ...  26            67             \n",
       "...     ...              ...           ...  ..            ..             \n",
       "21188  Familie      0.982051           ...  2             4              \n",
       "11439  mit          0.982179           ...  4             11             \n",
       "16029  vom          0.983580           ...  2             6              \n",
       "17034  avec         0.985625           ...  2             5              \n",
       "7990   Boyd         0.986384           ...  8             20             \n",
       "\n",
       "[23323 rows x 5 columns]"
      ]
     },
     "execution_count": 36,
     "metadata": {},
     "output_type": "execute_result"
    }
   ],
   "source": [
    "cosine_similarity_df_sorted[\"Total_Frequency\"] = cosine_similarity_df_sorted[\"Frequency_t1\"]+cosine_similarity_df_sorted[\"Frequency_t2\"]\n",
    "cosine_similarity_df_sorted"
   ]
  },
  {
   "cell_type": "markdown",
   "metadata": {
    "id": "F8DORQZ2lUWP"
   },
   "source": [
    "I add a column with the category (function word, foreign word, numeral, and proper noun)."
   ]
  },
  {
   "cell_type": "markdown",
   "metadata": {
    "id": "_JPiipUCn9rZ"
   },
   "source": [
    "List of function words (from https://www.eltconcourse.com/training/initial/lexis/function_words.html)"
   ]
  },
  {
   "cell_type": "code",
   "execution_count": null,
   "metadata": {
    "id": "Y0q6J4H2n_gQ"
   },
   "outputs": [],
   "source": [
    "function_words = ['after', 'although', 'and', 'as', 'because', 'before', 'both', 'but', 'either', 'for', 'however', 'if','neither','nor','once','or','since','so','than','that','therefore','though','thus','till','unless','until','when','whenever','where','wherever','whether','while','yet\ta','all','another','any','both','each','either','every','her','his','its','my','neither','no','other','our','per','some','that','the','their','these','this','those','whatever','whichever','your\tabout','above','across','after','against','ahead','along','among','amongst','around','as','at','bar','before','behind','below','beneath','beside','besides','between','beyond','but','by','down','during','except','for','from','in','inside','into','less','like\tnear','of','off','on','onto','opposite','outside','over','past','per','round','save','since','through','till','to','toward','under','underneath','until','up','upon','with','within','without\tall','another','any','anybody','anyone','anything','both','each','either','everybody','everyone','everything','few','he','I','it','many','mine','neither','nobody','none','nothing','one','other','several','she','some','somebody','someone','something','that','these','they\tthis','those','we','what','whatever','which','whichever','who','whoever','whom','whose','you']"
   ]
  },
  {
   "cell_type": "markdown",
   "metadata": {
    "id": "suuoGhkh2hrw"
   },
   "source": [
    "Applying the detect package doesn't work on individual words so I use the NLTK's English dictionary instead:"
   ]
  },
  {
   "cell_type": "code",
   "execution_count": null,
   "metadata": {
    "colab": {
     "base_uri": "https://localhost:8080/"
    },
    "id": "VjAL1Kspxb8Q",
    "outputId": "c31cc6b6-d81b-43f8-ffc0-b2247cdfe70e"
   },
   "outputs": [
    {
     "name": "stdout",
     "output_type": "stream",
     "text": [
      "[nltk_data] Downloading package words to /root/nltk_data...\n",
      "[nltk_data]   Unzipping corpora/words.zip.\n"
     ]
    },
    {
     "data": {
      "text/plain": [
       "234377"
      ]
     },
     "execution_count": 38,
     "metadata": {},
     "output_type": "execute_result"
    }
   ],
   "source": [
    "#semantic_change.df.sorted['Language'] = semantic_change.df.sorted['Word'].apply(detect) \n",
    "import nltk\n",
    "nltk.download('words')\n",
    "english_vocab = set(w.lower() for w in nltk.corpus.words.words())\n",
    "len(english_vocab)"
   ]
  },
  {
   "cell_type": "code",
   "execution_count": null,
   "metadata": {
    "colab": {
     "base_uri": "https://localhost:8080/",
     "height": 419
    },
    "id": "TYLErVYbuK9B",
    "outputId": "f56b6d1f-2b86-48b1-8849-50b8f4aa4859"
   },
   "outputs": [
    {
     "data": {
      "text/html": [
       "<div>\n",
       "<style scoped>\n",
       "    .dataframe tbody tr th:only-of-type {\n",
       "        vertical-align: middle;\n",
       "    }\n",
       "\n",
       "    .dataframe tbody tr th {\n",
       "        vertical-align: top;\n",
       "    }\n",
       "\n",
       "    .dataframe thead th {\n",
       "        text-align: right;\n",
       "    }\n",
       "</style>\n",
       "<table border=\"1\" class=\"dataframe\">\n",
       "  <thead>\n",
       "    <tr style=\"text-align: right;\">\n",
       "      <th></th>\n",
       "      <th>Word</th>\n",
       "      <th>Cosine_similarity</th>\n",
       "      <th>Frequency_t1</th>\n",
       "      <th>Frequency_t2</th>\n",
       "      <th>Total_Frequency</th>\n",
       "      <th>Category_automatic</th>\n",
       "    </tr>\n",
       "  </thead>\n",
       "  <tbody>\n",
       "    <tr>\n",
       "      <th>5352</th>\n",
       "      <td>stud</td>\n",
       "      <td>0.413877</td>\n",
       "      <td>23</td>\n",
       "      <td>14</td>\n",
       "      <td>37</td>\n",
       "      <td></td>\n",
       "    </tr>\n",
       "    <tr>\n",
       "      <th>4021</th>\n",
       "      <td>1879</td>\n",
       "      <td>0.467864</td>\n",
       "      <td>36</td>\n",
       "      <td>23</td>\n",
       "      <td>59</td>\n",
       "      <td>Numeral</td>\n",
       "    </tr>\n",
       "    <tr>\n",
       "      <th>2635</th>\n",
       "      <td>Utricularia</td>\n",
       "      <td>0.468761</td>\n",
       "      <td>68</td>\n",
       "      <td>43</td>\n",
       "      <td>111</td>\n",
       "      <td>Proper noun</td>\n",
       "    </tr>\n",
       "    <tr>\n",
       "      <th>5501</th>\n",
       "      <td>Caspary</td>\n",
       "      <td>0.471753</td>\n",
       "      <td>22</td>\n",
       "      <td>14</td>\n",
       "      <td>36</td>\n",
       "      <td>Proper noun</td>\n",
       "    </tr>\n",
       "    <tr>\n",
       "      <th>3717</th>\n",
       "      <td>Sara</td>\n",
       "      <td>0.474424</td>\n",
       "      <td>41</td>\n",
       "      <td>26</td>\n",
       "      <td>67</td>\n",
       "      <td>Proper noun</td>\n",
       "    </tr>\n",
       "    <tr>\n",
       "      <th>...</th>\n",
       "      <td>...</td>\n",
       "      <td>...</td>\n",
       "      <td>...</td>\n",
       "      <td>...</td>\n",
       "      <td>...</td>\n",
       "      <td>...</td>\n",
       "    </tr>\n",
       "    <tr>\n",
       "      <th>21188</th>\n",
       "      <td>Familie</td>\n",
       "      <td>0.982051</td>\n",
       "      <td>2</td>\n",
       "      <td>2</td>\n",
       "      <td>4</td>\n",
       "      <td>Proper noun</td>\n",
       "    </tr>\n",
       "    <tr>\n",
       "      <th>11439</th>\n",
       "      <td>mit</td>\n",
       "      <td>0.982179</td>\n",
       "      <td>7</td>\n",
       "      <td>4</td>\n",
       "      <td>11</td>\n",
       "      <td>Foreign word</td>\n",
       "    </tr>\n",
       "    <tr>\n",
       "      <th>16029</th>\n",
       "      <td>vom</td>\n",
       "      <td>0.983580</td>\n",
       "      <td>4</td>\n",
       "      <td>2</td>\n",
       "      <td>6</td>\n",
       "      <td>Foreign word</td>\n",
       "    </tr>\n",
       "    <tr>\n",
       "      <th>17034</th>\n",
       "      <td>avec</td>\n",
       "      <td>0.985625</td>\n",
       "      <td>3</td>\n",
       "      <td>2</td>\n",
       "      <td>5</td>\n",
       "      <td>Foreign word</td>\n",
       "    </tr>\n",
       "    <tr>\n",
       "      <th>7990</th>\n",
       "      <td>Boyd</td>\n",
       "      <td>0.986384</td>\n",
       "      <td>12</td>\n",
       "      <td>8</td>\n",
       "      <td>20</td>\n",
       "      <td>Proper noun</td>\n",
       "    </tr>\n",
       "  </tbody>\n",
       "</table>\n",
       "<p>23323 rows × 6 columns</p>\n",
       "</div>"
      ],
      "text/plain": [
       "              Word  Cosine_similarity  ...  Total_Frequency  Category_automatic\n",
       "5352   stud         0.413877           ...  37                                 \n",
       "4021   1879         0.467864           ...  59               Numeral           \n",
       "2635   Utricularia  0.468761           ...  111              Proper noun       \n",
       "5501   Caspary      0.471753           ...  36               Proper noun       \n",
       "3717   Sara         0.474424           ...  67               Proper noun       \n",
       "...     ...              ...           ...  ..                       ...       \n",
       "21188  Familie      0.982051           ...  4                Proper noun       \n",
       "11439  mit          0.982179           ...  11               Foreign word      \n",
       "16029  vom          0.983580           ...  6                Foreign word      \n",
       "17034  avec         0.985625           ...  5                Foreign word      \n",
       "7990   Boyd         0.986384           ...  20               Proper noun       \n",
       "\n",
       "[23323 rows x 6 columns]"
      ]
     },
     "execution_count": 39,
     "metadata": {},
     "output_type": "execute_result"
    }
   ],
   "source": [
    "# create a list of our conditions\n",
    "conditions = [\n",
    "    (cosine_similarity_df_sorted['Word'].isin(function_words)), # function words\n",
    "    ((cosine_similarity_df_sorted.Word.str.isdigit()) | (cosine_similarity_df_sorted['Word'].str.match('^\\d*?1st$')) | (cosine_similarity_df_sorted['Word'].str.match('^\\d*?2nd$')) | (cosine_similarity_df_sorted['Word'].str.match('^\\d*?3rd$')) | (cosine_similarity_df_sorted['Word'].str.match('^\\d*[^123]th$'))), # numbers\n",
    "    (cosine_similarity_df_sorted['Word'].apply(lambda x: x[0].isupper() and x[1:len(x)].islower())), # proper nouns\n",
    "    (np.invert(cosine_similarity_df_sorted['Word'].str.lower().isin(english_vocab))) # foreign words\n",
    "    ]\n",
    "\n",
    "# create a list of the values we want to assign for each condition\n",
    "values = ['Function word','Numeral', 'Proper noun', 'Foreign word']\n",
    "\n",
    "# create a new column and use np.select to assign values to it using our lists as arguments\n",
    "cosine_similarity_df_sorted['Category_automatic'] = np.select(conditions, values, default = \"\")\n",
    "cosine_similarity_df_sorted"
   ]
  },
  {
   "cell_type": "markdown",
   "metadata": {
    "id": "RNghUTXgF6JS"
   },
   "source": [
    "I save this to a file:"
   ]
  },
  {
   "cell_type": "code",
   "execution_count": null,
   "metadata": {
    "id": "neiDlSneF-Nc"
   },
   "outputs": [],
   "source": [
    "output_folder = '/content/drive/MyDrive/2021/Darwin paper/Files/Semantic_change_output/'\n",
    "if not os.path.exists(output_folder):\n",
    "  os.makedirs(output_folder)\n",
    "cosine_similarity_df_sorted.to_csv(os.path.join(output_folder, 'Cosine_similarity_all_words.csv'), encoding='utf-8')"
   ]
  },
  {
   "cell_type": "markdown",
   "metadata": {
    "id": "1qq3y2bLFzEO"
   },
   "source": [
    "The top most changed words:"
   ]
  },
  {
   "cell_type": "code",
   "execution_count": null,
   "metadata": {
    "colab": {
     "base_uri": "https://localhost:8080/",
     "height": 419
    },
    "id": "wdLX3acPFn8g",
    "outputId": "1ca52968-093f-4b5b-ad2c-46ea6f557669"
   },
   "outputs": [
    {
     "data": {
      "text/html": [
       "<div>\n",
       "<style scoped>\n",
       "    .dataframe tbody tr th:only-of-type {\n",
       "        vertical-align: middle;\n",
       "    }\n",
       "\n",
       "    .dataframe tbody tr th {\n",
       "        vertical-align: top;\n",
       "    }\n",
       "\n",
       "    .dataframe thead th {\n",
       "        text-align: right;\n",
       "    }\n",
       "</style>\n",
       "<table border=\"1\" class=\"dataframe\">\n",
       "  <thead>\n",
       "    <tr style=\"text-align: right;\">\n",
       "      <th></th>\n",
       "      <th>Word</th>\n",
       "      <th>Cosine_similarity</th>\n",
       "      <th>Frequency_t1</th>\n",
       "      <th>Frequency_t2</th>\n",
       "      <th>Total_Frequency</th>\n",
       "      <th>Category_automatic</th>\n",
       "    </tr>\n",
       "  </thead>\n",
       "  <tbody>\n",
       "    <tr>\n",
       "      <th>5352</th>\n",
       "      <td>stud</td>\n",
       "      <td>0.413877</td>\n",
       "      <td>23</td>\n",
       "      <td>14</td>\n",
       "      <td>37</td>\n",
       "      <td></td>\n",
       "    </tr>\n",
       "    <tr>\n",
       "      <th>4021</th>\n",
       "      <td>1879</td>\n",
       "      <td>0.467864</td>\n",
       "      <td>36</td>\n",
       "      <td>23</td>\n",
       "      <td>59</td>\n",
       "      <td>Numeral</td>\n",
       "    </tr>\n",
       "    <tr>\n",
       "      <th>2635</th>\n",
       "      <td>Utricularia</td>\n",
       "      <td>0.468761</td>\n",
       "      <td>68</td>\n",
       "      <td>43</td>\n",
       "      <td>111</td>\n",
       "      <td>Proper noun</td>\n",
       "    </tr>\n",
       "    <tr>\n",
       "      <th>5501</th>\n",
       "      <td>Caspary</td>\n",
       "      <td>0.471753</td>\n",
       "      <td>22</td>\n",
       "      <td>14</td>\n",
       "      <td>36</td>\n",
       "      <td>Proper noun</td>\n",
       "    </tr>\n",
       "    <tr>\n",
       "      <th>3717</th>\n",
       "      <td>Sara</td>\n",
       "      <td>0.474424</td>\n",
       "      <td>41</td>\n",
       "      <td>26</td>\n",
       "      <td>67</td>\n",
       "      <td>Proper noun</td>\n",
       "    </tr>\n",
       "    <tr>\n",
       "      <th>...</th>\n",
       "      <td>...</td>\n",
       "      <td>...</td>\n",
       "      <td>...</td>\n",
       "      <td>...</td>\n",
       "      <td>...</td>\n",
       "      <td>...</td>\n",
       "    </tr>\n",
       "    <tr>\n",
       "      <th>2366</th>\n",
       "      <td>Upper</td>\n",
       "      <td>0.589116</td>\n",
       "      <td>78</td>\n",
       "      <td>50</td>\n",
       "      <td>128</td>\n",
       "      <td>Proper noun</td>\n",
       "    </tr>\n",
       "    <tr>\n",
       "      <th>6237</th>\n",
       "      <td>Buckley</td>\n",
       "      <td>0.589188</td>\n",
       "      <td>18</td>\n",
       "      <td>11</td>\n",
       "      <td>29</td>\n",
       "      <td>Proper noun</td>\n",
       "    </tr>\n",
       "    <tr>\n",
       "      <th>5749</th>\n",
       "      <td>Mormodes</td>\n",
       "      <td>0.590913</td>\n",
       "      <td>20</td>\n",
       "      <td>13</td>\n",
       "      <td>33</td>\n",
       "      <td>Proper noun</td>\n",
       "    </tr>\n",
       "    <tr>\n",
       "      <th>2857</th>\n",
       "      <td>Bird</td>\n",
       "      <td>0.591440</td>\n",
       "      <td>60</td>\n",
       "      <td>38</td>\n",
       "      <td>98</td>\n",
       "      <td>Proper noun</td>\n",
       "    </tr>\n",
       "    <tr>\n",
       "      <th>8222</th>\n",
       "      <td>Carruthers</td>\n",
       "      <td>0.592337</td>\n",
       "      <td>12</td>\n",
       "      <td>7</td>\n",
       "      <td>19</td>\n",
       "      <td>Proper noun</td>\n",
       "    </tr>\n",
       "  </tbody>\n",
       "</table>\n",
       "<p>100 rows × 6 columns</p>\n",
       "</div>"
      ],
      "text/plain": [
       "             Word  Cosine_similarity  ...  Total_Frequency  Category_automatic\n",
       "5352  stud         0.413877           ...  37                                 \n",
       "4021  1879         0.467864           ...  59               Numeral           \n",
       "2635  Utricularia  0.468761           ...  111              Proper noun       \n",
       "5501  Caspary      0.471753           ...  36               Proper noun       \n",
       "3717  Sara         0.474424           ...  67               Proper noun       \n",
       "...    ...              ...           ...  ..                       ...       \n",
       "2366  Upper        0.589116           ...  128              Proper noun       \n",
       "6237  Buckley      0.589188           ...  29               Proper noun       \n",
       "5749  Mormodes     0.590913           ...  33               Proper noun       \n",
       "2857  Bird         0.591440           ...  98               Proper noun       \n",
       "8222  Carruthers   0.592337           ...  19               Proper noun       \n",
       "\n",
       "[100 rows x 6 columns]"
      ]
     },
     "execution_count": 41,
     "metadata": {},
     "output_type": "execute_result"
    }
   ],
   "source": [
    "cosine_similarity_df_sorted.head(100)"
   ]
  },
  {
   "cell_type": "code",
   "execution_count": null,
   "metadata": {
    "colab": {
     "base_uri": "https://localhost:8080/",
     "height": 80
    },
    "id": "CtRGJvCmSRPR",
    "outputId": "8ff2b316-1a28-41bf-fdf4-8ce0a6198948"
   },
   "outputs": [
    {
     "data": {
      "text/html": [
       "<div>\n",
       "<style scoped>\n",
       "    .dataframe tbody tr th:only-of-type {\n",
       "        vertical-align: middle;\n",
       "    }\n",
       "\n",
       "    .dataframe tbody tr th {\n",
       "        vertical-align: top;\n",
       "    }\n",
       "\n",
       "    .dataframe thead th {\n",
       "        text-align: right;\n",
       "    }\n",
       "</style>\n",
       "<table border=\"1\" class=\"dataframe\">\n",
       "  <thead>\n",
       "    <tr style=\"text-align: right;\">\n",
       "      <th></th>\n",
       "      <th>Word</th>\n",
       "      <th>Cosine_similarity</th>\n",
       "      <th>Frequency_t1</th>\n",
       "      <th>Frequency_t2</th>\n",
       "      <th>Total_Frequency</th>\n",
       "      <th>Category_automatic</th>\n",
       "    </tr>\n",
       "  </thead>\n",
       "  <tbody>\n",
       "    <tr>\n",
       "      <th>6456</th>\n",
       "      <td>scientist</td>\n",
       "      <td>0.884423</td>\n",
       "      <td>17</td>\n",
       "      <td>11</td>\n",
       "      <td>28</td>\n",
       "      <td></td>\n",
       "    </tr>\n",
       "  </tbody>\n",
       "</table>\n",
       "</div>"
      ],
      "text/plain": [
       "           Word  Cosine_similarity  ...  Total_Frequency  Category_automatic\n",
       "6456  scientist  0.884423           ...  28                                 \n",
       "\n",
       "[1 rows x 6 columns]"
      ]
     },
     "execution_count": 42,
     "metadata": {},
     "output_type": "execute_result"
    }
   ],
   "source": [
    "cosine_similarity_df_sorted[cosine_similarity_df_sorted['Word'] ==\"scientist\"]"
   ]
  },
  {
   "cell_type": "markdown",
   "metadata": {
    "id": "hTaeKriwU1NA"
   },
   "source": [
    "I plot the terms by their total frequency and semantic change score:"
   ]
  },
  {
   "cell_type": "code",
   "execution_count": null,
   "metadata": {
    "colab": {
     "base_uri": "https://localhost:8080/",
     "height": 280
    },
    "id": "UQTXISnnU5JP",
    "outputId": "458ea3b4-bc81-477c-dc85-624dca7dc5bb"
   },
   "outputs": [
    {
     "data": {
      "image/png": "[encoded data removed]",
      "text/plain": [
       "<Figure size 432x288 with 1 Axes>"
      ]
     },
     "metadata": {},
     "output_type": "display_data"
    }
   ],
   "source": [
    "ax = cosine_similarity_df_sorted.set_index('Cosine_similarity')['Total_Frequency'].plot(style='o')"
   ]
  },
  {
   "cell_type": "markdown",
   "metadata": {
    "id": "0HUsnjAgehab"
   },
   "source": [
    "Which words are the outliers? Function words and *Darwin*:"
   ]
  },
  {
   "cell_type": "code",
   "execution_count": null,
   "metadata": {
    "colab": {
     "base_uri": "https://localhost:8080/"
    },
    "id": "13as3ptbek3A",
    "outputId": "fbf8da29-7102-4573-df3d-e86c99cf3ba2"
   },
   "outputs": [
    {
     "data": {
      "text/plain": [
       "['would',\n",
       " 'Darwin',\n",
       " 'by',\n",
       " 'or',\n",
       " 'and',\n",
       " 'from',\n",
       " 'more',\n",
       " 'at',\n",
       " 'an',\n",
       " 'may',\n",
       " 'one',\n",
       " 'see',\n",
       " 'in',\n",
       " 'think',\n",
       " '  ',\n",
       " 'about',\n",
       " 'on',\n",
       " 'with',\n",
       " 'of',\n",
       " 'do',\n",
       " 'any',\n",
       " 'some',\n",
       " 'send',\n",
       " 'much',\n",
       " 'if',\n",
       " 'can',\n",
       " 'this',\n",
       " 'to',\n",
       " 'but',\n",
       " 'have',\n",
       " 'will',\n",
       " 'the',\n",
       " 'for',\n",
       " 'as',\n",
       " 'which',\n",
       " 'so',\n",
       " 'not',\n",
       " 'that',\n",
       " 'a',\n",
       " 'all',\n",
       " 'be',\n",
       " 'very',\n",
       " '-PRON-']"
      ]
     },
     "execution_count": 44,
     "metadata": {},
     "output_type": "execute_result"
    }
   ],
   "source": [
    "cosine_similarity_df_sorted.loc[cosine_similarity_df_sorted['Total_Frequency'] > 10000].Word.tolist()"
   ]
  },
  {
   "cell_type": "markdown",
   "metadata": {
    "id": "N3czF1s6fg6M"
   },
   "source": [
    "I exclude the outliers:"
   ]
  },
  {
   "cell_type": "code",
   "execution_count": null,
   "metadata": {
    "colab": {
     "base_uri": "https://localhost:8080/"
    },
    "id": "iGydr4Vwfmgc",
    "outputId": "37678dde-8017-4990-a494-294fc923ae71"
   },
   "outputs": [
    {
     "data": {
      "text/plain": [
       "(23280, 6)"
      ]
     },
     "execution_count": 45,
     "metadata": {},
     "output_type": "execute_result"
    }
   ],
   "source": [
    "cosine_similarity_df_sorted_nooutliers = cosine_similarity_df_sorted.loc[cosine_similarity_df_sorted['Total_Frequency'] < 10000]\n",
    "cosine_similarity_df_sorted_nooutliers.shape"
   ]
  },
  {
   "cell_type": "markdown",
   "metadata": {
    "id": "pEUKL06P11t0"
   },
   "source": [
    "Plot:"
   ]
  },
  {
   "cell_type": "code",
   "execution_count": null,
   "metadata": {
    "colab": {
     "base_uri": "https://localhost:8080/",
     "height": 280
    },
    "id": "MFgBQ6E0126I",
    "outputId": "6e951096-1876-439f-c9d0-a9e29633af06"
   },
   "outputs": [
    {
     "data": {
      "image/png": "[encoded data removed]",
      "text/plain": [
       "<Figure size 432x288 with 1 Axes>"
      ]
     },
     "metadata": {},
     "output_type": "display_data"
    }
   ],
   "source": [
    "ax = cosine_similarity_df_sorted_nooutliers.set_index('Cosine_similarity')['Total_Frequency'].plot(style='o')"
   ]
  },
  {
   "cell_type": "markdown",
   "metadata": {
    "id": "ecevJ4CO-a9f"
   },
   "source": [
    "What is the semantic change of the words we have chosen?"
   ]
  },
  {
   "cell_type": "code",
   "execution_count": null,
   "metadata": {
    "id": "KJnVV70g59ql"
   },
   "outputs": [],
   "source": [
    "words_chosen = ['protoplasm', 'curious', 'fertilisation', 'fertilise', 'analogy', 'analogous', 'homology', 'homologous', 'cleistogamic', 'physiology', 'physiological', 'ferment', 'science', 'scientist', 'scientific', 'evolution', 'evolutionary', 'evolve']"
   ]
  },
  {
   "cell_type": "code",
   "execution_count": null,
   "metadata": {
    "colab": {
     "base_uri": "https://localhost:8080/",
     "height": 80
    },
    "id": "8VCbOMAc5qv4",
    "outputId": "0f2d8066-05eb-4eef-b9d1-9d3d9e5b85bc"
   },
   "outputs": [
    {
     "data": {
      "text/html": [
       "<div>\n",
       "<style scoped>\n",
       "    .dataframe tbody tr th:only-of-type {\n",
       "        vertical-align: middle;\n",
       "    }\n",
       "\n",
       "    .dataframe tbody tr th {\n",
       "        vertical-align: top;\n",
       "    }\n",
       "\n",
       "    .dataframe thead th {\n",
       "        text-align: right;\n",
       "    }\n",
       "</style>\n",
       "<table border=\"1\" class=\"dataframe\">\n",
       "  <thead>\n",
       "    <tr style=\"text-align: right;\">\n",
       "      <th></th>\n",
       "      <th>Word</th>\n",
       "      <th>Cosine_similarity</th>\n",
       "      <th>Frequency_t1</th>\n",
       "      <th>Frequency_t2</th>\n",
       "      <th>Total_Frequency</th>\n",
       "      <th>Category_automatic</th>\n",
       "    </tr>\n",
       "  </thead>\n",
       "  <tbody>\n",
       "    <tr>\n",
       "      <th>6456</th>\n",
       "      <td>scientist</td>\n",
       "      <td>0.884423</td>\n",
       "      <td>17</td>\n",
       "      <td>11</td>\n",
       "      <td>28</td>\n",
       "      <td></td>\n",
       "    </tr>\n",
       "  </tbody>\n",
       "</table>\n",
       "</div>"
      ],
      "text/plain": [
       "           Word  Cosine_similarity  ...  Total_Frequency  Category_automatic\n",
       "6456  scientist  0.884423           ...  28                                 \n",
       "\n",
       "[1 rows x 6 columns]"
      ]
     },
     "execution_count": 48,
     "metadata": {},
     "output_type": "execute_result"
    }
   ],
   "source": [
    "cosine_similarity_df_sorted[cosine_similarity_df_sorted['Word'] == \"scientist\"]\n"
   ]
  },
  {
   "cell_type": "code",
   "execution_count": null,
   "metadata": {
    "colab": {
     "base_uri": "https://localhost:8080/",
     "height": 545
    },
    "id": "9zn40M5a-4Jv",
    "outputId": "00f6d1f9-c64b-4336-bf8c-b6b2519225d3"
   },
   "outputs": [
    {
     "data": {
      "text/html": [
       "<div>\n",
       "<style scoped>\n",
       "    .dataframe tbody tr th:only-of-type {\n",
       "        vertical-align: middle;\n",
       "    }\n",
       "\n",
       "    .dataframe tbody tr th {\n",
       "        vertical-align: top;\n",
       "    }\n",
       "\n",
       "    .dataframe thead th {\n",
       "        text-align: right;\n",
       "    }\n",
       "</style>\n",
       "<table border=\"1\" class=\"dataframe\">\n",
       "  <thead>\n",
       "    <tr style=\"text-align: right;\">\n",
       "      <th></th>\n",
       "      <th>Word</th>\n",
       "      <th>Cosine_similarity</th>\n",
       "      <th>Frequency_t1</th>\n",
       "      <th>Frequency_t2</th>\n",
       "      <th>Total_Frequency</th>\n",
       "      <th>Category_automatic</th>\n",
       "    </tr>\n",
       "  </thead>\n",
       "  <tbody>\n",
       "    <tr>\n",
       "      <th>2636</th>\n",
       "      <td>protoplasm</td>\n",
       "      <td>0.638491</td>\n",
       "      <td>68</td>\n",
       "      <td>43</td>\n",
       "      <td>111</td>\n",
       "      <td></td>\n",
       "    </tr>\n",
       "    <tr>\n",
       "      <th>5403</th>\n",
       "      <td>ferment</td>\n",
       "      <td>0.801100</td>\n",
       "      <td>22</td>\n",
       "      <td>14</td>\n",
       "      <td>36</td>\n",
       "      <td></td>\n",
       "    </tr>\n",
       "    <tr>\n",
       "      <th>943</th>\n",
       "      <td>fertilisation</td>\n",
       "      <td>0.808386</td>\n",
       "      <td>275</td>\n",
       "      <td>170</td>\n",
       "      <td>445</td>\n",
       "      <td>Foreign word</td>\n",
       "    </tr>\n",
       "    <tr>\n",
       "      <th>941</th>\n",
       "      <td>fertilise</td>\n",
       "      <td>0.818965</td>\n",
       "      <td>277</td>\n",
       "      <td>170</td>\n",
       "      <td>447</td>\n",
       "      <td>Foreign word</td>\n",
       "    </tr>\n",
       "    <tr>\n",
       "      <th>2325</th>\n",
       "      <td>physiology</td>\n",
       "      <td>0.831795</td>\n",
       "      <td>81</td>\n",
       "      <td>52</td>\n",
       "      <td>133</td>\n",
       "      <td></td>\n",
       "    </tr>\n",
       "    <tr>\n",
       "      <th>1984</th>\n",
       "      <td>physiological</td>\n",
       "      <td>0.837908</td>\n",
       "      <td>101</td>\n",
       "      <td>65</td>\n",
       "      <td>166</td>\n",
       "      <td></td>\n",
       "    </tr>\n",
       "    <tr>\n",
       "      <th>421</th>\n",
       "      <td>scientific</td>\n",
       "      <td>0.839232</td>\n",
       "      <td>656</td>\n",
       "      <td>430</td>\n",
       "      <td>1086</td>\n",
       "      <td></td>\n",
       "    </tr>\n",
       "    <tr>\n",
       "      <th>4118</th>\n",
       "      <td>homology</td>\n",
       "      <td>0.842890</td>\n",
       "      <td>35</td>\n",
       "      <td>22</td>\n",
       "      <td>57</td>\n",
       "      <td></td>\n",
       "    </tr>\n",
       "    <tr>\n",
       "      <th>1179</th>\n",
       "      <td>analogous</td>\n",
       "      <td>0.853460</td>\n",
       "      <td>211</td>\n",
       "      <td>133</td>\n",
       "      <td>344</td>\n",
       "      <td></td>\n",
       "    </tr>\n",
       "    <tr>\n",
       "      <th>226</th>\n",
       "      <td>curious</td>\n",
       "      <td>0.864781</td>\n",
       "      <td>1283</td>\n",
       "      <td>840</td>\n",
       "      <td>2123</td>\n",
       "      <td></td>\n",
       "    </tr>\n",
       "    <tr>\n",
       "      <th>1577</th>\n",
       "      <td>evolution</td>\n",
       "      <td>0.867099</td>\n",
       "      <td>144</td>\n",
       "      <td>90</td>\n",
       "      <td>234</td>\n",
       "      <td></td>\n",
       "    </tr>\n",
       "    <tr>\n",
       "      <th>1953</th>\n",
       "      <td>analogy</td>\n",
       "      <td>0.874601</td>\n",
       "      <td>104</td>\n",
       "      <td>66</td>\n",
       "      <td>170</td>\n",
       "      <td></td>\n",
       "    </tr>\n",
       "    <tr>\n",
       "      <th>6456</th>\n",
       "      <td>scientist</td>\n",
       "      <td>0.884423</td>\n",
       "      <td>17</td>\n",
       "      <td>11</td>\n",
       "      <td>28</td>\n",
       "      <td></td>\n",
       "    </tr>\n",
       "    <tr>\n",
       "      <th>418</th>\n",
       "      <td>science</td>\n",
       "      <td>0.890773</td>\n",
       "      <td>672</td>\n",
       "      <td>433</td>\n",
       "      <td>1105</td>\n",
       "      <td></td>\n",
       "    </tr>\n",
       "    <tr>\n",
       "      <th>4798</th>\n",
       "      <td>homologous</td>\n",
       "      <td>0.894817</td>\n",
       "      <td>27</td>\n",
       "      <td>17</td>\n",
       "      <td>44</td>\n",
       "      <td></td>\n",
       "    </tr>\n",
       "    <tr>\n",
       "      <th>5036</th>\n",
       "      <td>evolve</td>\n",
       "      <td>0.920679</td>\n",
       "      <td>26</td>\n",
       "      <td>16</td>\n",
       "      <td>42</td>\n",
       "      <td></td>\n",
       "    </tr>\n",
       "  </tbody>\n",
       "</table>\n",
       "</div>"
      ],
      "text/plain": [
       "               Word  Cosine_similarity  ...  Total_Frequency  Category_automatic\n",
       "2636  protoplasm     0.638491           ...  111                                \n",
       "5403  ferment        0.801100           ...  36                                 \n",
       "943   fertilisation  0.808386           ...  445              Foreign word      \n",
       "941   fertilise      0.818965           ...  447              Foreign word      \n",
       "2325  physiology     0.831795           ...  133                                \n",
       "1984  physiological  0.837908           ...  166                                \n",
       "421   scientific     0.839232           ...  1086                               \n",
       "4118  homology       0.842890           ...  57                                 \n",
       "1179  analogous      0.853460           ...  344                                \n",
       "226   curious        0.864781           ...  2123                               \n",
       "1577  evolution      0.867099           ...  234                                \n",
       "1953  analogy        0.874601           ...  170                                \n",
       "6456  scientist      0.884423           ...  28                                 \n",
       "418   science        0.890773           ...  1105                               \n",
       "4798  homologous     0.894817           ...  44                                 \n",
       "5036  evolve         0.920679           ...  42                                 \n",
       "\n",
       "[16 rows x 6 columns]"
      ]
     },
     "execution_count": 49,
     "metadata": {},
     "output_type": "execute_result"
    }
   ],
   "source": [
    "cosine_similarity_chosen = cosine_similarity_df_sorted[cosine_similarity_df_sorted['Word'].isin(words_chosen)]\n",
    "cosine_similarity_chosen.to_csv(os.path.join(output_folder, 'cosine_similarity_chosen_words.csv'), encoding='utf-8')\n",
    "cosine_similarity_chosen"
   ]
  },
  {
   "cell_type": "code",
   "execution_count": null,
   "metadata": {
    "colab": {
     "base_uri": "https://localhost:8080/"
    },
    "id": "BZZy0Rbk2cqq",
    "outputId": "9b7677d0-490a-461c-9d43-655b77a05553"
   },
   "outputs": [
    {
     "data": {
      "text/plain": [
       "0.6384905576705933"
      ]
     },
     "execution_count": 50,
     "metadata": {},
     "output_type": "execute_result"
    }
   ],
   "source": [
    "min(cosine_similarity_chosen.Cosine_similarity)"
   ]
  },
  {
   "cell_type": "code",
   "execution_count": null,
   "metadata": {
    "colab": {
     "base_uri": "https://localhost:8080/"
    },
    "id": "XKHTQwSF2gys",
    "outputId": "bc2621ca-6fc1-4777-d286-2f49a3b315d5"
   },
   "outputs": [
    {
     "data": {
      "text/plain": [
       "28"
      ]
     },
     "execution_count": 51,
     "metadata": {},
     "output_type": "execute_result"
    }
   ],
   "source": [
    "min(cosine_similarity_chosen.Total_Frequency)"
   ]
  },
  {
   "cell_type": "code",
   "execution_count": null,
   "metadata": {
    "colab": {
     "base_uri": "https://localhost:8080/"
    },
    "id": "6y-EDiyKMamL",
    "outputId": "8f1d3d28-5ff9-4bfa-e434-694cf09f0a7b"
   },
   "outputs": [
    {
     "data": {
      "text/plain": [
       "0.4138766825199127"
      ]
     },
     "execution_count": 52,
     "metadata": {},
     "output_type": "execute_result"
    }
   ],
   "source": [
    "min(cosine_similarity_df_sorted.Cosine_similarity)"
   ]
  },
  {
   "cell_type": "markdown",
   "metadata": {
    "id": "0GuntCYYg7cS"
   },
   "source": [
    "Now I focus on those words that have a frequency higher than min(semantic_change_chosen.Total_Frequency). How many are there?"
   ]
  },
  {
   "cell_type": "code",
   "execution_count": null,
   "metadata": {
    "colab": {
     "base_uri": "https://localhost:8080/"
    },
    "id": "XtCUX_MGhE5H",
    "outputId": "4bce5a86-946c-42e7-8148-95414c726948"
   },
   "outputs": [
    {
     "data": {
      "text/plain": [
       "(6480, 6)"
      ]
     },
     "execution_count": 53,
     "metadata": {},
     "output_type": "execute_result"
    }
   ],
   "source": [
    "cosine_similarity_df_sorted_filtered = cosine_similarity_df_sorted_nooutliers.loc[(cosine_similarity_df_sorted_nooutliers['Total_Frequency'] >= min(cosine_similarity_chosen.Total_Frequency))]\n",
    "cosine_similarity_df_sorted_filtered.shape"
   ]
  },
  {
   "cell_type": "markdown",
   "metadata": {
    "id": "yUnP9qJmhrtk"
   },
   "source": [
    "Which words are these words?"
   ]
  },
  {
   "cell_type": "code",
   "execution_count": null,
   "metadata": {
    "colab": {
     "base_uri": "https://localhost:8080/",
     "height": 419
    },
    "id": "act3DZ6fhtdH",
    "outputId": "c1570d9d-f1d8-48ef-890d-0fdd8e1131de"
   },
   "outputs": [
    {
     "data": {
      "text/html": [
       "<div>\n",
       "<style scoped>\n",
       "    .dataframe tbody tr th:only-of-type {\n",
       "        vertical-align: middle;\n",
       "    }\n",
       "\n",
       "    .dataframe tbody tr th {\n",
       "        vertical-align: top;\n",
       "    }\n",
       "\n",
       "    .dataframe thead th {\n",
       "        text-align: right;\n",
       "    }\n",
       "</style>\n",
       "<table border=\"1\" class=\"dataframe\">\n",
       "  <thead>\n",
       "    <tr style=\"text-align: right;\">\n",
       "      <th></th>\n",
       "      <th>Word</th>\n",
       "      <th>Cosine_similarity</th>\n",
       "      <th>Frequency_t1</th>\n",
       "      <th>Frequency_t2</th>\n",
       "      <th>Total_Frequency</th>\n",
       "      <th>Category_automatic</th>\n",
       "    </tr>\n",
       "  </thead>\n",
       "  <tbody>\n",
       "    <tr>\n",
       "      <th>5352</th>\n",
       "      <td>stud</td>\n",
       "      <td>0.413877</td>\n",
       "      <td>23</td>\n",
       "      <td>14</td>\n",
       "      <td>37</td>\n",
       "      <td></td>\n",
       "    </tr>\n",
       "    <tr>\n",
       "      <th>4021</th>\n",
       "      <td>1879</td>\n",
       "      <td>0.467864</td>\n",
       "      <td>36</td>\n",
       "      <td>23</td>\n",
       "      <td>59</td>\n",
       "      <td>Numeral</td>\n",
       "    </tr>\n",
       "    <tr>\n",
       "      <th>2635</th>\n",
       "      <td>Utricularia</td>\n",
       "      <td>0.468761</td>\n",
       "      <td>68</td>\n",
       "      <td>43</td>\n",
       "      <td>111</td>\n",
       "      <td>Proper noun</td>\n",
       "    </tr>\n",
       "    <tr>\n",
       "      <th>5501</th>\n",
       "      <td>Caspary</td>\n",
       "      <td>0.471753</td>\n",
       "      <td>22</td>\n",
       "      <td>14</td>\n",
       "      <td>36</td>\n",
       "      <td>Proper noun</td>\n",
       "    </tr>\n",
       "    <tr>\n",
       "      <th>3717</th>\n",
       "      <td>Sara</td>\n",
       "      <td>0.474424</td>\n",
       "      <td>41</td>\n",
       "      <td>26</td>\n",
       "      <td>67</td>\n",
       "      <td>Proper noun</td>\n",
       "    </tr>\n",
       "    <tr>\n",
       "      <th>...</th>\n",
       "      <td>...</td>\n",
       "      <td>...</td>\n",
       "      <td>...</td>\n",
       "      <td>...</td>\n",
       "      <td>...</td>\n",
       "      <td>...</td>\n",
       "    </tr>\n",
       "    <tr>\n",
       "      <th>4779</th>\n",
       "      <td>My</td>\n",
       "      <td>0.956321</td>\n",
       "      <td>28</td>\n",
       "      <td>17</td>\n",
       "      <td>45</td>\n",
       "      <td>Proper noun</td>\n",
       "    </tr>\n",
       "    <tr>\n",
       "      <th>5564</th>\n",
       "      <td>F.L.S.</td>\n",
       "      <td>0.956396</td>\n",
       "      <td>21</td>\n",
       "      <td>14</td>\n",
       "      <td>35</td>\n",
       "      <td>Foreign word</td>\n",
       "    </tr>\n",
       "    <tr>\n",
       "      <th>5011</th>\n",
       "      <td>servt</td>\n",
       "      <td>0.956619</td>\n",
       "      <td>26</td>\n",
       "      <td>16</td>\n",
       "      <td>42</td>\n",
       "      <td>Foreign word</td>\n",
       "    </tr>\n",
       "    <tr>\n",
       "      <th>5454</th>\n",
       "      <td>Truly</td>\n",
       "      <td>0.965719</td>\n",
       "      <td>22</td>\n",
       "      <td>14</td>\n",
       "      <td>36</td>\n",
       "      <td>Proper noun</td>\n",
       "    </tr>\n",
       "    <tr>\n",
       "      <th>3618</th>\n",
       "      <td>Servant</td>\n",
       "      <td>0.968065</td>\n",
       "      <td>42</td>\n",
       "      <td>27</td>\n",
       "      <td>69</td>\n",
       "      <td>Proper noun</td>\n",
       "    </tr>\n",
       "  </tbody>\n",
       "</table>\n",
       "<p>6480 rows × 6 columns</p>\n",
       "</div>"
      ],
      "text/plain": [
       "             Word  Cosine_similarity  ...  Total_Frequency  Category_automatic\n",
       "5352  stud         0.413877           ...  37                                 \n",
       "4021  1879         0.467864           ...  59               Numeral           \n",
       "2635  Utricularia  0.468761           ...  111              Proper noun       \n",
       "5501  Caspary      0.471753           ...  36               Proper noun       \n",
       "3717  Sara         0.474424           ...  67               Proper noun       \n",
       "...    ...              ...           ...  ..                       ...       \n",
       "4779  My           0.956321           ...  45               Proper noun       \n",
       "5564  F.L.S.       0.956396           ...  35               Foreign word      \n",
       "5011  servt        0.956619           ...  42               Foreign word      \n",
       "5454  Truly        0.965719           ...  36               Proper noun       \n",
       "3618  Servant      0.968065           ...  69               Proper noun       \n",
       "\n",
       "[6480 rows x 6 columns]"
      ]
     },
     "execution_count": 54,
     "metadata": {},
     "output_type": "execute_result"
    }
   ],
   "source": [
    "cosine_similarity_df_sorted_filtered"
   ]
  },
  {
   "cell_type": "markdown",
   "metadata": {
    "id": "IaQf5AJk2u3A"
   },
   "source": [
    "Neighbours of *fertilisation* in the two time periods:"
   ]
  },
  {
   "cell_type": "code",
   "execution_count": null,
   "metadata": {
    "colab": {
     "base_uri": "https://localhost:8080/",
     "height": 134
    },
    "id": "f4yUdAMp5KBs",
    "outputId": "de6140a9-5c9c-4a43-f434-e4a81eafa880"
   },
   "outputs": [
    {
     "name": "stdout",
     "output_type": "stream",
     "text": [
      "[('fertilization', 0.8758518695831299), ('contrivance', 0.8129968643188477), ('impregnation', 0.8084515333175659), ('Passiflora', 0.8014850616455078), ('agency', 0.7770189046859741), ('orchid', 0.7742666602134705), ('impotence', 0.7644632458686829), ('self', 0.7620887756347656), ('orchis', 0.7603682279586792), ('Catasetum', 0.7582208514213562)]\n",
      "[('fertilization', 0.9029185175895691), ('carnivorous', 0.7927517294883728), ('Alpine', 0.7897111177444458), ('Self', 0.7889798879623413), ('fertilize', 0.7871734499931335), ('alpine', 0.786170482635498), ('cross-', 0.7830774188041687), ('fertilise', 0.7808493971824646), ('contrivance', 0.7806875109672546), ('Lepidoptera', 0.7777403593063354)]\n"
     ]
    },
    {
     "data": {
      "text/html": [
       "<div>\n",
       "<style scoped>\n",
       "    .dataframe tbody tr th:only-of-type {\n",
       "        vertical-align: middle;\n",
       "    }\n",
       "\n",
       "    .dataframe tbody tr th {\n",
       "        vertical-align: top;\n",
       "    }\n",
       "\n",
       "    .dataframe thead th {\n",
       "        text-align: right;\n",
       "    }\n",
       "</style>\n",
       "<table border=\"1\" class=\"dataframe\">\n",
       "  <thead>\n",
       "    <tr style=\"text-align: right;\">\n",
       "      <th></th>\n",
       "      <th>Word</th>\n",
       "      <th>Cosine_similarity</th>\n",
       "      <th>Frequency_t1</th>\n",
       "      <th>Frequency_t2</th>\n",
       "      <th>Total_Frequency</th>\n",
       "      <th>Category_automatic</th>\n",
       "    </tr>\n",
       "  </thead>\n",
       "  <tbody>\n",
       "    <tr>\n",
       "      <th>943</th>\n",
       "      <td>fertilisation</td>\n",
       "      <td>0.808386</td>\n",
       "      <td>275</td>\n",
       "      <td>170</td>\n",
       "      <td>445</td>\n",
       "      <td>Foreign word</td>\n",
       "    </tr>\n",
       "  </tbody>\n",
       "</table>\n",
       "</div>"
      ],
      "text/plain": [
       "              Word  Cosine_similarity  ...  Total_Frequency  Category_automatic\n",
       "943  fertilisation  0.808386           ...  445              Foreign word      \n",
       "\n",
       "[1 rows x 6 columns]"
      ]
     },
     "execution_count": 57,
     "metadata": {},
     "output_type": "execute_result"
    }
   ],
   "source": [
    "print(model1.wv.similar_by_word(\"fertilisation\", 10))\n",
    "print(model2.wv.similar_by_word(\"fertilisation\", 10))\n",
    "cosine_similarity_df_sorted_filtered[cosine_similarity_df_sorted_filtered['Word'] == \"fertilisation\"]"
   ]
  },
  {
   "cell_type": "markdown",
   "metadata": {},
   "source": [
    "_Fertilization_ was initially heavily associated with flowers and beans in Darwin’s correspondence since its first mention in 1854. The context of usage seems to change in the letters over time. This is exemplified by varying neighbours such as Bees, orchids, and contrivance. After 1870, we noticed that the neighbours reflect his interest in plant behaviour, perhaps relating to his work leading up to the publication of \"Cross and Self Fertilisation\" in 1876 and \"The Power of Movement in Plants\" in 1880. "
   ]
  },
  {
   "cell_type": "markdown",
   "metadata": {
    "id": "Djk1QuvMiaRK"
   },
   "source": [
    "I create a list for these words:"
   ]
  },
  {
   "cell_type": "code",
   "execution_count": null,
   "metadata": {
    "colab": {
     "base_uri": "https://localhost:8080/"
    },
    "id": "FeyKOudwicWy",
    "outputId": "bfe82b09-8955-4aeb-d195-48bb9d61a187"
   },
   "outputs": [
    {
     "data": {
      "text/plain": [
       "['stud',\n",
       " '1879',\n",
       " 'Utricularia',\n",
       " 'Caspary',\n",
       " 'Sara',\n",
       " 'Tropics',\n",
       " 'Pheasant',\n",
       " 'Mivart',\n",
       " 'cleavage',\n",
       " 'Self']"
      ]
     },
     "execution_count": 56,
     "metadata": {},
     "output_type": "execute_result"
    }
   ],
   "source": [
    "highfreq_words = cosine_similarity_df_sorted_filtered.Word.tolist()\n",
    "highfreq_words[:10]"
   ]
  },
  {
   "cell_type": "markdown",
   "metadata": {
    "id": "lY2pzonjhFFy"
   },
   "source": [
    "Now I annotate the plot with these:"
   ]
  },
  {
   "cell_type": "code",
   "execution_count": null,
   "metadata": {
    "id": "Yj5Yw5WbaeZC"
   },
   "outputs": [],
   "source": [
    "cosine_similarity_df_sorted_filtered_p = cosine_similarity_df_sorted_filtered[['Word','Cosine_similarity', 'Total_Frequency']]\n",
    "fig, ax = plt.subplots()\n",
    "cosine_similarity_df_sorted_filtered_p.plot('Cosine_similarity', 'Total_Frequency', kind='scatter', ax=ax)\n",
    "for k, v in cosine_similarity_df_sorted_filtered_p.iterrows():\n",
    "  word = v['Word']\n",
    "  sc = v['Cosine_similarity']\n",
    "  f = v['Total_Frequency']\n",
    "  #print(\"w\", v['Word'])\n",
    "  #print(\"sc:\", str(sc))\n",
    "  #print(\"f:\", str(f))\n",
    "  ax.annotate(word, xy=(sc,f))"
   ]
  },
  {
   "cell_type": "markdown",
   "metadata": {
    "id": "51UEstlEiNeJ"
   },
   "source": [
    "What are the neighbours of these words in the two spaces?"
   ]
  },
  {
   "cell_type": "code",
   "execution_count": null,
   "metadata": {
    "id": "6ifSX158iQO3"
   },
   "outputs": [],
   "source": [
    "count = 0\n",
    "for word in highfreq_words:\n",
    "  count += 1\n",
    "  if count < 10:\n",
    "    print(word)\n",
    "    print(\"Neighbours in first space:\")\n",
    "    print(model1.wv.similar_by_word(word, 10))\n",
    "    print(\"Neighbours in second space:\")\n",
    "    print(model2.wv.similar_by_word(word, 10))"
   ]
  },
  {
   "cell_type": "markdown",
   "metadata": {
    "id": "3EgDeP0Qi9aE"
   },
   "source": [
    "I print this to an output file:"
   ]
  },
  {
   "cell_type": "code",
   "execution_count": null,
   "metadata": {
    "id": "MqqyXdujjFVH"
   },
   "outputs": [],
   "source": [
    "outfile = open(os.path.join(output_folder, 'Neighbours_freq_words.csv'), 'w+')\n",
    "\n",
    "# Write header row:\n",
    "outfile.write(\"Word, followed by  neighbours in first space and neighbours in second space\\n\") \n",
    "for word in highfreq_words:\n",
    "  #print(word)\n",
    "  #print(\"Neighbours in first space:\")\n",
    "  #print(model1.wv.similar_by_word(word, 10))\n",
    "  #print(\"Neighbours in second space:\")\n",
    "  #print(model2.wv.similar_by_word(word, 10))\n",
    "  for (w,c) in model1.wv.similar_by_word(word, 10):\n",
    "    outfile.write(word+\"\\t\" + w+\"\\t\"+str(c))\n",
    "  outfile.write(\"\\n\")\n",
    "  for (w,c) in model2.wv.similar_by_word(word, 10):\n",
    "    outfile.write(word+\"\\t\"+w+\"\\t\"+str(c))\n",
    "  outfile.write(\"\\n\")\n",
    "  \n",
    "outfile.close()"
   ]
  },
  {
   "cell_type": "markdown",
   "metadata": {
    "id": "RI6kthbqaEsD"
   },
   "source": [
    "## Semantic change detection using neighbours"
   ]
  },
  {
   "cell_type": "markdown",
   "metadata": {
    "id": "9zi0MzFNaJWy"
   },
   "source": [
    "We're going to implement the method proposed by Gonen, H., Jawahar, G., Seddah, D., & Goldberg, Y. (2020). Simple, Interpretable and Stable Method for Detecting Words with Usage Change across Corpora. In Proceedings of the 58th Annual Meeting of the Association for Computational Linguistics (pp. 538–555). https://doi.org/10.18653/v1/2020.acl-main.51 "
   ]
  },
  {
   "cell_type": "markdown",
   "metadata": {
    "id": "YXfljFwWe0Lc"
   },
   "source": [
    "Print the histogram of the frequency of the words in the corpus:"
   ]
  },
  {
   "cell_type": "code",
   "execution_count": null,
   "metadata": {
    "colab": {
     "base_uri": "https://localhost:8080/",
     "height": 468
    },
    "id": "VbPkhceRfLaj",
    "outputId": "6ee57f65-651b-44f2-e2ee-544dd48a46d6"
   },
   "outputs": [
    {
     "name": "stdout",
     "output_type": "stream",
     "text": [
      "                Freq\n",
      "count  73233.000000 \n",
      "mean   59.930646    \n",
      "std    2254.361411  \n",
      "min    1.000000     \n",
      "25%    1.000000     \n",
      "50%    2.000000     \n",
      "75%    5.000000     \n",
      "max    459111.000000\n"
     ]
    },
    {
     "data": {
      "text/plain": [
       "array([[<matplotlib.axes._subplots.AxesSubplot object at 0x7efc8a42b390>]],\n",
       "      dtype=object)"
      ]
     },
     "execution_count": 112,
     "metadata": {},
     "output_type": "execute_result"
    },
    {
     "data": {
      "image/png": "[encoded data removed]",
      "text/plain": [
       "<Figure size 432x288 with 1 Axes>"
      ]
     },
     "metadata": {},
     "output_type": "display_data"
    }
   ],
   "source": [
    "model = sg_w5_f1\n",
    "vocab = model.wv.index_to_key\n",
    "frequencies = list()\n",
    "for w in vocab:\n",
    "  frequencies.append(model.wv.get_vecattr(w, \"count\"))\n",
    "print(pd.DataFrame({'Word':vocab,'Freq':frequencies}).describe())\n",
    "pd.DataFrame({'Word':vocab,'Freq':frequencies}).hist()"
   ]
  },
  {
   "cell_type": "markdown",
   "metadata": {
    "id": "iqp46rC7aOP8"
   },
   "source": [
    "I exclude all words with frequency lower than min_freq and higher than max_freq:"
   ]
  },
  {
   "cell_type": "code",
   "execution_count": null,
   "metadata": {
    "id": "YJ4EguRYVAjt"
   },
   "outputs": [],
   "source": [
    "def filter_words(model, min_freq, max_freq):\n",
    "  vocab = model.wv.index_to_key\n",
    "  vocab_filtered = []\n",
    "  for w in vocab:\n",
    "    if model.wv.get_vecattr(w, \"count\") <max_freq and model.wv.get_vecattr(w, \"count\")>min_freq:\n",
    "      vocab_filtered.append(w)\n",
    "  return vocab_filtered\n",
    "\n",
    "vocab1_filtered = filter_words(model1,2,50000)\n",
    "vocab2_filtered = filter_words(model2,2,50000)\n",
    "vocab_filtered = list(set(vocab1_filtered) & set(vocab2_filtered))"
   ]
  },
  {
   "cell_type": "markdown",
   "metadata": {
    "id": "_gLjcAvLTk1l"
   },
   "source": [
    "How many words?"
   ]
  },
  {
   "cell_type": "code",
   "execution_count": null,
   "metadata": {
    "colab": {
     "base_uri": "https://localhost:8080/"
    },
    "id": "4WTrJxl6TmiI",
    "outputId": "3c25ac08-95bc-47fb-b2b3-115349dbd58e"
   },
   "outputs": [
    {
     "name": "stdout",
     "output_type": "stream",
     "text": [
      "15877\n"
     ]
    }
   ],
   "source": [
    "print(str(len(vocab_filtered)))"
   ]
  },
  {
   "cell_type": "markdown",
   "metadata": {
    "id": "0PV2tkQPhaBM"
   },
   "source": [
    "Distribution of filtered word frequencies:"
   ]
  },
  {
   "cell_type": "code",
   "execution_count": null,
   "metadata": {
    "colab": {
     "base_uri": "https://localhost:8080/",
     "height": 468
    },
    "id": "6rxKUZOThcNt",
    "outputId": "f813f924-c1f5-4548-8631-329584882666"
   },
   "outputs": [
    {
     "name": "stdout",
     "output_type": "stream",
     "text": [
      "               Freq\n",
      "count  22531.000000\n",
      "mean   141.854689  \n",
      "std    1438.893306 \n",
      "min    4.000000    \n",
      "25%    6.000000    \n",
      "50%    11.000000   \n",
      "75%    34.000000   \n",
      "max    83971.000000\n"
     ]
    },
    {
     "data": {
      "text/plain": [
       "array([[<matplotlib.axes._subplots.AxesSubplot object at 0x7efc77944b90>]],\n",
       "      dtype=object)"
      ]
     },
     "execution_count": 115,
     "metadata": {},
     "output_type": "execute_result"
    },
    {
     "data": {
      "image/png": "[encoded data removed]",
      "text/plain": [
       "<Figure size 432x288 with 1 Axes>"
      ]
     },
     "metadata": {},
     "output_type": "display_data"
    }
   ],
   "source": [
    "word2freq = pd.DataFrame({'Word':vocab,'Freq':frequencies})\n",
    "print(word2freq[(word2freq.Freq<100000) & (word2freq.Freq>3)].describe())\n",
    "word2freq[(word2freq.Freq<50000) & (word2freq.Freq>2)].hist()"
   ]
  },
  {
   "cell_type": "markdown",
   "metadata": {
    "id": "hE4aKzJuTt7M"
   },
   "source": [
    "I extract the top_n neighbours and save them in a dictionary mapping a word to the list of its 100 neighbours:"
   ]
  },
  {
   "cell_type": "code",
   "execution_count": null,
   "metadata": {
    "id": "i4JzSdeyUmrQ"
   },
   "outputs": [],
   "source": [
    "def extract_neighbours(w2vmodel, vocab_list, top_n):\n",
    "  count = 0\n",
    "  word2neighbours = dict()\n",
    "  for w in vocab_list:\n",
    "    count += 1\n",
    "    #if (count % 100) == 0:\n",
    "    #  print(str(count), \"out of\", str(len(vocab_list)), w)\n",
    "    neighbours = w2vmodel.wv.similar_by_word(w, top_n)\n",
    "    #print(str(neighbours))\n",
    "    neighbour_list = list()\n",
    "    for n in neighbours:\n",
    "      neighbour_list.append(n[0])\n",
    "    word2neighbours[w] = neighbour_list\n",
    "  return word2neighbours"
   ]
  },
  {
   "cell_type": "markdown",
   "metadata": {
    "id": "qNlucnnHYTZU"
   },
   "source": [
    "I apply this to model1 and model2 for filtered words:"
   ]
  },
  {
   "cell_type": "code",
   "execution_count": null,
   "metadata": {
    "colab": {
     "base_uri": "https://localhost:8080/"
    },
    "id": "8MyQQOIuYqaq",
    "outputId": "f7ac31ac-e079-4114-dfb4-35b621ea09a3"
   },
   "outputs": [
    {
     "name": "stdout",
     "output_type": "stream",
     "text": [
      "100 out of 20607 ever\n",
      "200 out of 20607 several\n",
      "300 out of 20607 nearly\n",
      "400 out of 20607 genera\n",
      "500 out of 20607 stand\n",
      "600 out of 20607 towards\n",
      "700 out of 20607 easily\n",
      "800 out of 20607 heart\n",
      "900 out of 20607 material\n",
      "1000 out of 20607 daresay\n",
      "1100 out of 20607 unfortunately\n",
      "1200 out of 20607 Edit\n",
      "1300 out of 20607 sleep\n",
      "1400 out of 20607 specific\n",
      "1500 out of 20607 plenty\n",
      "1600 out of 20607 acquaintance\n",
      "1700 out of 20607 wear\n",
      "1800 out of 20607 freely\n",
      "1900 out of 20607 blind\n",
      "2000 out of 20607 strata\n",
      "2100 out of 20607 subscription\n",
      "2200 out of 20607 excessively\n",
      "2300 out of 20607 eight\n",
      "2400 out of 20607 majority\n",
      "2500 out of 20607 Anne\n",
      "2600 out of 20607 Sciences\n",
      "2700 out of 20607 establishment\n",
      "2800 out of 20607 transfer\n",
      "2900 out of 20607 proposition\n",
      "3000 out of 20607 thread\n",
      "3100 out of 20607 breast\n",
      "3200 out of 20607 impregnate\n",
      "3300 out of 20607 peach\n",
      "3400 out of 20607 estate\n",
      "3500 out of 20607 omission\n",
      "3600 out of 20607 eyelid\n",
      "3700 out of 20607 gum\n",
      "3800 out of 20607 encouragement\n",
      "3900 out of 20607 lodging\n",
      "4000 out of 20607 rail\n",
      "4100 out of 20607 cough\n",
      "4200 out of 20607 vapour\n",
      "4300 out of 20607 handle\n",
      "4400 out of 20607 voluntary\n",
      "4500 out of 20607 Brehm\n",
      "4600 out of 20607 Loch\n",
      "4700 out of 20607 productive\n",
      "4800 out of 20607 approximately\n",
      "4900 out of 20607 terror\n",
      "5000 out of 20607 scientifically\n",
      "5100 out of 20607 phosphate\n",
      "5200 out of 20607 discomfort\n",
      "5300 out of 20607 Judd\n",
      "5400 out of 20607 Teneriffe\n",
      "5500 out of 20607 our\n",
      "5600 out of 20607 exterior\n",
      "5700 out of 20607 hood\n",
      "5800 out of 20607 Dorking\n",
      "5900 out of 20607 phthisis\n",
      "6000 out of 20607 tiny\n",
      "6100 out of 20607 sire\n",
      "6200 out of 20607 Cam\n",
      "6300 out of 20607 Cruger\n",
      "6400 out of 20607 belly\n",
      "6500 out of 20607 113\n",
      "6600 out of 20607 homomorphic\n",
      "6700 out of 20607 Martins\n",
      "6800 out of 20607 deliberation\n",
      "6900 out of 20607 intercrossing\n",
      "7000 out of 20607 sucker\n",
      "7100 out of 20607 remit\n",
      "7200 out of 20607 106\n",
      "7300 out of 20607 hopefully\n",
      "7400 out of 20607 amateur\n",
      "7500 out of 20607 unphilosophical\n",
      "7600 out of 20607 Ellen\n",
      "7700 out of 20607 exemplify\n",
      "7800 out of 20607 parthenogenesis\n",
      "7900 out of 20607 statistical\n",
      "8000 out of 20607 59\n",
      "8100 out of 20607 gospel\n",
      "8200 out of 20607 rouse\n",
      "8300 out of 20607 discredit\n",
      "8400 out of 20607 ventral\n",
      "8500 out of 20607 distract\n",
      "8600 out of 20607 complement\n",
      "8700 out of 20607 sporting\n",
      "8800 out of 20607 Cheshire\n",
      "8900 out of 20607 haul\n",
      "9000 out of 20607 Fleming\n",
      "9100 out of 20607 Par\n",
      "9200 out of 20607 cameroon\n",
      "9300 out of 20607 P.O.\n",
      "9400 out of 20607 authenticate\n",
      "9500 out of 20607 taking\n",
      "9600 out of 20607 afterward\n",
      "9700 out of 20607 straighten\n",
      "9800 out of 20607 pendulum\n",
      "9900 out of 20607 clumsy\n",
      "10000 out of 20607 N.S.\n",
      "10100 out of 20607 reciprocally\n",
      "10200 out of 20607 transparency\n",
      "10300 out of 20607 indolence\n",
      "10400 out of 20607 Letters\n",
      "10500 out of 20607 youthful\n",
      "10600 out of 20607 Colchester\n",
      "10700 out of 20607 applaud\n",
      "10800 out of 20607 episode\n",
      "10900 out of 20607 Hylobates\n",
      "11000 out of 20607 Harvard\n",
      "11100 out of 20607 lob\n",
      "11200 out of 20607 aut\n",
      "11300 out of 20607 utricle\n",
      "11400 out of 20607 a.m\n",
      "11500 out of 20607 apprise\n",
      "11600 out of 20607 consignment\n",
      "11700 out of 20607 Vanessa\n",
      "11800 out of 20607 astonishingly\n",
      "11900 out of 20607 calc\n",
      "12000 out of 20607 158\n",
      "12100 out of 20607 Bishops\n",
      "12200 out of 20607 thousandth\n",
      "12300 out of 20607 overboard\n",
      "12400 out of 20607 hazardous\n",
      "12500 out of 20607 empirical\n",
      "12600 out of 20607 Eduard\n",
      "12700 out of 20607 Cyclas\n",
      "12800 out of 20607 unpack\n",
      "12900 out of 20607 Helianthemum\n",
      "13000 out of 20607 divest\n",
      "13100 out of 20607 Correspondence\n",
      "13200 out of 20607 Hammond\n",
      "13300 out of 20607 caucasian\n",
      "13400 out of 20607 barbatus\n",
      "13500 out of 20607 fervour\n",
      "13600 out of 20607 Antipodes\n",
      "13700 out of 20607 Ijkema\n",
      "13800 out of 20607 F.W.\n",
      "13900 out of 20607 Jacq\n",
      "14000 out of 20607 osteology\n",
      "14100 out of 20607 inactive\n",
      "14200 out of 20607 shews\n",
      "14300 out of 20607 lecturing\n",
      "14400 out of 20607 cramp\n",
      "14500 out of 20607 groundwork\n",
      "14600 out of 20607 Desmarest\n",
      "14700 out of 20607 shrinking\n",
      "14800 out of 20607 condemnation\n",
      "14900 out of 20607 rubble\n",
      "15000 out of 20607 celebration\n",
      "15100 out of 20607 ripening\n",
      "15200 out of 20607 Brazilians\n",
      "15300 out of 20607 Lacaze\n",
      "15400 out of 20607 multiplied\n",
      "15500 out of 20607 might\n",
      "15600 out of 20607 Ill\n",
      "15700 out of 20607 transmute\n",
      "15800 out of 20607 meanness\n",
      "15900 out of 20607 Trochus\n",
      "16000 out of 20607 throve\n",
      "16100 out of 20607 indigestible\n",
      "16200 out of 20607 Mimicry\n",
      "16300 out of 20607 Right\n",
      "16400 out of 20607 respectability\n",
      "16500 out of 20607 Talbot\n",
      "16600 out of 20607 abrasion\n",
      "16700 out of 20607 consolatory\n",
      "16800 out of 20607 adjourn\n",
      "16900 out of 20607 differing\n",
      "17000 out of 20607 annular\n",
      "17100 out of 20607 Preservation\n",
      "17200 out of 20607 salamander\n",
      "17300 out of 20607 Leaf\n",
      "17400 out of 20607 Ambleside\n",
      "17500 out of 20607 legislate\n",
      "17600 out of 20607 wholeheartedly\n",
      "17700 out of 20607 manufactory\n",
      "17800 out of 20607 litterature\n",
      "17900 out of 20607 Peruvian\n",
      "18000 out of 20607 excitation\n",
      "18100 out of 20607 Eschscholtz\n",
      "18200 out of 20607 Buckler\n",
      "18300 out of 20607 meatus\n",
      "18400 out of 20607 Colleges\n",
      "18500 out of 20607 on〉\n",
      "18600 out of 20607 colossal\n",
      "18700 out of 20607 vacillate\n",
      "18800 out of 20607 Imaginary\n",
      "18900 out of 20607 Nautical\n",
      "19000 out of 20607 ob’t\n",
      "19100 out of 20607 Agl\n",
      "19200 out of 20607 Ecole\n",
      "19300 out of 20607 mutandis\n",
      "19400 out of 20607 confute\n",
      "19500 out of 20607 inestimably\n",
      "19600 out of 20607 ruby\n",
      "19700 out of 20607 Catal\n",
      "19800 out of 20607 schoolfellow\n",
      "19900 out of 20607 dazzling\n",
      "20000 out of 20607 Corral\n",
      "20100 out of 20607 Darwinists\n",
      "20200 out of 20607 inadvertently\n",
      "20300 out of 20607 quicksilver\n",
      "20400 out of 20607 piety\n",
      "20500 out of 20607 weathering\n",
      "20600 out of 20607 Abbotts\n",
      "100 out of 15878 last\n",
      "200 out of 15878 keep\n",
      "300 out of 15878 £\n",
      "400 out of 15878 generally\n",
      "500 out of 15878 position\n",
      "600 out of 15878 hair\n",
      "700 out of 15878 highly\n",
      "800 out of 15878 parent\n",
      "900 out of 15878 distribution\n",
      "1000 out of 15878 fairly\n",
      "1100 out of 15878 later\n",
      "1200 out of 15878 Lady\n",
      "1300 out of 15878 unable\n",
      "1400 out of 15878 coloured\n",
      "1500 out of 15878 monkey\n",
      "1600 out of 15878 congratulate\n",
      "1700 out of 15878 quickly\n",
      "1800 out of 15878 create\n",
      "1900 out of 15878 U.\n",
      "2000 out of 15878 casting\n",
      "2100 out of 15878 commonly\n",
      "2200 out of 15878 gravel\n",
      "2300 out of 15878 is\n",
      "2400 out of 15878 Association\n",
      "2500 out of 15878 testimonial\n",
      "2600 out of 15878 globe\n",
      "2700 out of 15878 cotyledon\n",
      "2800 out of 15878 multitude\n",
      "2900 out of 15878 translator\n",
      "3000 out of 15878 bitter\n",
      "3100 out of 15878 primary\n",
      "3200 out of 15878 kindest\n",
      "3300 out of 15878 dread\n",
      "3400 out of 15878 admission\n",
      "3500 out of 15878 250\n",
      "3600 out of 15878 superficial\n",
      "3700 out of 15878 Common\n",
      "3800 out of 15878 Scalpellum\n",
      "3900 out of 15878 farmer\n",
      "4000 out of 15878 govern\n",
      "4100 out of 15878 elapse\n",
      "4200 out of 15878 teaching\n",
      "4300 out of 15878 subordinate\n",
      "4400 out of 15878 veneration\n",
      "4500 out of 15878 Norman\n",
      "4600 out of 15878 Belfast\n",
      "4700 out of 15878 State\n",
      "4800 out of 15878 55\n",
      "4900 out of 15878 peacock\n",
      "5000 out of 15878 65\n",
      "5100 out of 15878 backward\n",
      "5200 out of 15878 tough\n",
      "5300 out of 15878 44\n",
      "5400 out of 15878 pointed\n",
      "5500 out of 15878 thy\n",
      "5600 out of 15878 curvature\n",
      "5700 out of 15878 incur\n",
      "5800 out of 15878 gestation\n",
      "5900 out of 15878 reckon\n",
      "6000 out of 15878 develope\n",
      "6100 out of 15878 Fr\n",
      "6200 out of 15878 thigh\n",
      "6300 out of 15878 sexually\n",
      "6400 out of 15878 liberality\n",
      "6500 out of 15878 radish\n",
      "6600 out of 15878 hum\n",
      "6700 out of 15878 distinctness\n",
      "6800 out of 15878 clump\n",
      "6900 out of 15878 MSS\n",
      "7000 out of 15878 gosling\n",
      "7100 out of 15878 1847\n",
      "7200 out of 15878 herbage\n",
      "7300 out of 15878 Porliera\n",
      "7400 out of 15878 notorious\n",
      "7500 out of 15878 132\n",
      "7600 out of 15878 Cope\n",
      "7700 out of 15878 Section\n",
      "7800 out of 15878 Hawks\n",
      "7900 out of 15878 Theology\n",
      "8000 out of 15878 coating\n",
      "8100 out of 15878 implement\n",
      "8200 out of 15878 tibiæ\n",
      "8300 out of 15878 brochure\n",
      "8400 out of 15878 Spitzbergen\n",
      "8500 out of 15878 banish\n",
      "8600 out of 15878 locally\n",
      "8700 out of 15878 Ex\n",
      "8800 out of 15878 serpent\n",
      "8900 out of 15878 Bryanston\n",
      "9000 out of 15878 Plantago\n",
      "9100 out of 15878 carpet\n",
      "9200 out of 15878 shipment\n",
      "9300 out of 15878 bending\n",
      "9400 out of 15878 simplify\n",
      "9500 out of 15878 convict\n",
      "9600 out of 15878 Publisher\n",
      "9700 out of 15878 grasshopper\n",
      "9800 out of 15878 arid\n",
      "9900 out of 15878 inscription\n",
      "10000 out of 15878 density\n",
      "10100 out of 15878 palpitation\n",
      "10200 out of 15878 Students\n",
      "10300 out of 15878 vermiform\n",
      "10400 out of 15878 rigidly\n",
      "10500 out of 15878 Tryfan\n",
      "10600 out of 15878 notoriously\n",
      "10700 out of 15878 reestablish\n",
      "10800 out of 15878 auf\n",
      "10900 out of 15878 consecutively\n",
      "11000 out of 15878 Franks\n",
      "11100 out of 15878 meridional\n",
      "11200 out of 15878 Kutch\n",
      "11300 out of 15878 attached\n",
      "11400 out of 15878 Gardening\n",
      "11500 out of 15878 E.C.\n",
      "11600 out of 15878 editing\n",
      "11700 out of 15878 unaided\n",
      "11800 out of 15878 hedgehog\n",
      "11900 out of 15878 Echinocystis\n",
      "12000 out of 15878 Ptarmigan\n",
      "12100 out of 15878 soup\n",
      "12200 out of 15878 uninterrupted\n",
      "12300 out of 15878 remonstrate\n",
      "12400 out of 15878 recast\n",
      "12500 out of 15878 flexure\n",
      "12600 out of 15878 Reynolds\n",
      "12700 out of 15878 Beak\n",
      "12800 out of 15878 unforeseen\n",
      "12900 out of 15878 desultory\n",
      "13000 out of 15878 wonderfull\n",
      "13100 out of 15878 slur\n",
      "13200 out of 15878 hungarian\n",
      "13300 out of 15878 20o\n",
      "13400 out of 15878 abused\n",
      "13500 out of 15878 Interior\n",
      "13600 out of 15878 overdo\n",
      "13700 out of 15878 Maranta\n",
      "13800 out of 15878 socially\n",
      "13900 out of 15878 metaphysician\n",
      "14000 out of 15878 pulchella\n",
      "14100 out of 15878 G.S.\n",
      "14200 out of 15878 gang\n",
      "14300 out of 15878 misconception\n",
      "14400 out of 15878 cinereu\n",
      "14500 out of 15878 Painted\n",
      "14600 out of 15878 microscopically\n",
      "14700 out of 15878 indurated\n",
      "14800 out of 15878 gloss\n",
      "14900 out of 15878 barkly\n",
      "15000 out of 15878 Method\n",
      "15100 out of 15878 obligingly\n",
      "15200 out of 15878 Mules\n",
      "15300 out of 15878 Viburnum\n",
      "15400 out of 15878 smut\n",
      "15500 out of 15878 hack\n",
      "15600 out of 15878 rendus\n",
      "15700 out of 15878 Everlasting\n",
      "15800 out of 15878 Wasps\n"
     ]
    }
   ],
   "source": [
    "#word2neighbours1 = extract_neighbours(model1, model1.wv.index_to_key)\n",
    "word2neighbours1 = extract_neighbours(model1, vocab1_filtered, 100)\n",
    "#word2neighbours2 = extract_neighbours(model2, model2.wv.index_to_key)\n",
    "word2neighbours2 = extract_neighbours(model2, vocab2_filtered, 100)"
   ]
  },
  {
   "cell_type": "markdown",
   "metadata": {
    "id": "7tPkHAkwYA6J"
   },
   "source": [
    "For every word in the intersection between the two vocabularies, compare its neighbours in t1 and its neighbours in t2; the semantic change score is the number of shared neighbours between the two divided by 100.\n",
    "NB This is different from the formula in Gonen et al. (2020), who take the negative of the overlap."
   ]
  },
  {
   "cell_type": "code",
   "execution_count": null,
   "metadata": {
    "id": "XV4M2cVfYLl2"
   },
   "outputs": [],
   "source": [
    "#vocab_12 = list(set(model1.wv.index_to_key) & set(model2.wv.index_to_key))\n",
    "w2sc = dict()\n",
    "for w in vocab_filtered:\n",
    "  sc = len(list(set(word2neighbours1[w]) & set(word2neighbours2[w])))/100\n",
    "  w2sc[w] = sc"
   ]
  },
  {
   "cell_type": "markdown",
   "metadata": {
    "id": "CweZkNdPag-g"
   },
   "source": [
    "I have saved these scores in the w2sc dictionary. Now I sort it by decreasing score to see which words changed the most:"
   ]
  },
  {
   "cell_type": "code",
   "execution_count": null,
   "metadata": {
    "colab": {
     "base_uri": "https://localhost:8080/"
    },
    "id": "DmvVWTxyaokt",
    "outputId": "8a0ea841-faea-4dd3-e205-4f4e96188a58"
   },
   "outputs": [
    {
     "data": {
      "text/plain": [
       "[('2ndly', 0.0),\n",
       " ('Ohio', 0.0),\n",
       " ('dissolution', 0.0),\n",
       " ('tailless', 0.0),\n",
       " ('debateable', 0.0),\n",
       " ('FD', 0.0),\n",
       " ('opake', 0.0),\n",
       " ('Hampstead', 0.0),\n",
       " ('prohibit', 0.0),\n",
       " ('Saporta', 0.0)]"
      ]
     },
     "execution_count": 119,
     "metadata": {},
     "output_type": "execute_result"
    }
   ],
   "source": [
    "w2sc_sorted = sorted(w2sc.items(), key=lambda kv: kv[1], reverse=False)\n",
    "w2sc_sorted[:10]"
   ]
  },
  {
   "cell_type": "markdown",
   "metadata": {
    "id": "5z2cxTQzbmhh"
   },
   "source": [
    "What are the most changed words?"
   ]
  },
  {
   "cell_type": "code",
   "execution_count": null,
   "metadata": {
    "colab": {
     "base_uri": "https://localhost:8080/"
    },
    "id": "LROKrzxibolH",
    "outputId": "3dd9cf5c-8834-4653-aece-6977d8a13c14"
   },
   "outputs": [
    {
     "data": {
      "text/plain": [
       "['2ndly',\n",
       " 'Ohio',\n",
       " 'dissolution',\n",
       " 'tailless',\n",
       " 'debateable',\n",
       " 'FD',\n",
       " 'opake',\n",
       " 'Hampstead',\n",
       " 'prohibit',\n",
       " 'Saporta',\n",
       " 'Afghanistan',\n",
       " 'Chloride',\n",
       " 'breaking',\n",
       " 'grower',\n",
       " 'Camels',\n",
       " 'aqueous',\n",
       " 'painting',\n",
       " 'Desterro',\n",
       " 'Divinity',\n",
       " 'Monotremata']"
      ]
     },
     "execution_count": 120,
     "metadata": {},
     "output_type": "execute_result"
    }
   ],
   "source": [
    "top_changed = [i[0] for i in w2sc_sorted][:20]\n",
    "top_changed"
   ]
  },
  {
   "cell_type": "markdown",
   "metadata": {
    "id": "3KZlBbEDbj1z"
   },
   "source": [
    "What are their neighbours?"
   ]
  },
  {
   "cell_type": "code",
   "execution_count": null,
   "metadata": {
    "colab": {
     "base_uri": "https://localhost:8080/"
    },
    "id": "caIiP6ESbq1H",
    "outputId": "d84882ff-b6dd-406c-8017-43fa0e7ae2dc"
   },
   "outputs": [
    {
     "name": "stdout",
     "output_type": "stream",
     "text": [
      "2ndly\n",
      "['rigorously', 'compensation', 'Jollofs', 'showing', 'fecundity', 'intercross', 'disproportion', 'armature', 'mating', 'crucial', 'nutation', 'mammæ', 'albinism', 'criterion', 'initially', 'obliteration', 'caprice', 'elongation', 'interbreeding', 'silently', 'degeneration', 'axillary', 'offspre', 'centripetal', 'naturalisation', 'intermarry', 'susceptible', 'comprehensible', 'circumnutation', 'supposed', 'intensify', 'enlargement', 'inferiority', 'paralell', 'tenacity', 'abnormality', 'grouping', 'inappreciable', 'acorn', 'lepidoptera', 'acting', 'producer', 'proportionate', 'marrow', 'compactness', 'sufficiency', 'severest', 'fatten', 'basic', 'locomotive', 'substitution', 'heterogeneous', 'ramification', 'Hermaphrodites', 'extinguish', 'scottish', 'correlated', 'coloring', 'spatial', 'interstice', 'assumed', 'grasshopper', 'supersede', 'geometrical', 'adaptive', 'concealment', 'economic', 'smallness', 'counteract', 'magnitude', 'practicable', 'hooked', 'defensive', 'generalize', 'slighter', 'inflorescence', 'exposed', 'advert', 'spectrum', 'elaboration', 'rake', 'imperceptible', 'malformation', 'complementary', 'powerless', 'Coccus', 'immorality', 'interpolate', 'conventional', 'postulate', 'straggler', 'trimorphism', 'brilliancy', 'collision', 'nutriment', 'alliance', 'scrutinize', 'crossbred', 'unquestionable', 'Malpighiaceæ']\n",
      "['harmonious', 'Brewer', 'caviller', 'tirade', 'buyer', 'oviparous', 'alarmed', 'proposer', 'mortified', 'anglica', 'Superintendent', 'Harpenden', 'empirically', 'parti', 'Evidence', 'whereabouts', 'inveterate', 'turbidity', 'spawning', 'precedence', 'debacle', 'addendum', 'Vincenzi', 'unturned', 'Bedfordshire', 'sprengel', 'innocence', 'Melastomas', 'foliation', 'Barry', 'transcendent', 'Entomologists', 'tactic', 'scriptural', 'discretionary', 'confute', 'Physiologist', 'dogmatism', 'fruition', 'companionship', 'Bohn', 'apartment', 'extraneous', 'Catholic', 'forlorn', 'confounded', 'allegation', 'mu〈ch〉', 'Fisheries', 'loathe', 'portray', 'ilk', 'solo', 'Specimen', 'spectroscope', 'discrepancy', '407', 'creditable', 'nominal', 'conspiracy', 'solubility', 'punctum', 'wider', 'scandal', 'ascent', 'enquirer', 'prof', 'specification', 'dyke', 'despicable', 'Sequard', 'plainer', 'constrictor', 'Exōr', 'gouty', 'stating', 'disincline', 'cue', 'Candidates', 'Bench', 'calmly', 'popularize', 'ovation', 'lithography', 'ado', 'transference', 'astute', 'dishonourable', 'Meek', 'charitable', 'petty', 'wonted', 'nudity', 'Authority', 'ache', 'lameness', 'abridge', '〈he〉', 'reperusal', 'Hicks']\n",
      "Ohio\n",
      "['Rutimeyer', 'Africana', 'flutter', 'Tennessee', 'Squirrel', 'Statute', 'Dante', 'Voice', 'Marcgravia', 'membership', 'bruit', 'pubd', 'Zealanders', 'Cryptorhynchus', 'peafowl', 'cormorant', 'Bonaparte', 'Brongniart', 'biflora', 'Setter', 'denominator', 'Bary', 'gosling', 'Lebens', 'Aristotle', 'revival', 'McCormick', 'prophylactic', 'Bert', '80o', 'overly', 'verbis', 'Angina', 'Passer', 'figd', 'stoat', 'Structural', 'ascertainable', 'savant', 'crucis', 'puppyhood', 'Commencement', 'botte', 'indicator', 'Porcupine', 'Bureau', 'Stahl', 'transformist', 'Chenopodium', 'inseparable', 'tristis', 'Musical', '199', 'Pet', 'clamour', 'grotesquely', 'Creations', 'Tupper', 'Pikermi', 'ungerminate', 'Zonotrichia', 'Buckley', 'Presidente', 'draughtsman', 'misleading', 'Lehrbuch', 'advent', 'fac', '490', 'Prévost', 'morpholog', 'Duthiers', 'univalve', 'Juno', 'Homer', 'Gilia', 'Eliot', 'dutchman', 'dahlias', 'Southwards', 'Schiodte', 'Siphomeris', 'volute', 'Property', 'Amn', 'latran', '1785', 'Acalles', 'orchideæ', 'Belgique', 'Con', 'Elliott', 'Trench', 'jostle', 'Pest', 'italic', 'curry', 'Bignonias', 'Mind', 'Batavia']\n",
      "['Chapel', 'Pluto', 'W.E.Darwin', 'plumper', 'Funeral', 'Boys', 'hebride', 'sock', 'Lawyer', 'Knole', 'fen', 'hospitable', 'yacht', 'reacquire', 'schoolmaster', 'Docent', '8,000', 'Coleopterist', 'Holiday', 'Deposit', 'mournful', 'espy', 'strt', 'bask', 'disqualification', 'footman', 'Malvern', 'monographe', 'sunday', 'Nanna', 'woodcock', 'chequered', 'horseback', 'duel', 'stipend', 'capriciousness', 'caroline', 'Wandsworth', 'upstairs', 'Principal', 'siege', 'Poland', 'Nags', 'snug', '3,000', 'mt', 'sorrowful', 'Market', 'thereabout', 'Nilgiris', 'goodly', 'ornithological', 'stammering', 'Kinnordy', 'settling', 'Funds', 'Shelley', 'buzz', 'honeymoon', 'Lecturing', 'Scarborough', 'Zoo', 'synopsis', 'Esther', 'hire', 'ceremony', 'seeking', 'Eveng', 'dub', 'advert', 'frenchman', 'Ambleside', 'Valentine', 'voting', 'dime', 'Marianne', 'Rhine', 'Octr', 'Butterworth', 'Northern', 'sweedish', 'emaciate', 'pant', 'Greenwich', 'Inverary', 'Publications', 'Sisters', 'cacoethe', 'hypochondriac', 'grotesque', '1825', 'Denudation', 'Zoologica', 'Profession', 'oft', 'lithography', 'mastodon', 'Superintendent', 'Newport', 'isle']\n",
      "dissolution\n",
      "['contortion', 'pellucid', 'involution', 'bowing', 'vermin', 'columnar', 'network', 'laminae', 'rafter', 'flaccidity', 'ovipositor', 'bellowing', 'umbilical', 'sneezing', 'indurated', 'sedentary', 'vegitable', 'downcast', 'embankment', 'translucent', 'rubbing', 'Maranta', 'fibrous', 'consistence', 'sumit', 'antediluvian', 'fractured', 'contiguous', 'Dipsacus', 'reservoir', 'tattere', 'retardation', 'parietal', 'pelvi', 'inert', 'Egyptians', 'corrosion', 'porch', 'shelly', 'Ear', 'salamander', 'gaseous', 'arched', 'reticulate', 'outgrowth', 'dazzle', 'tortuous', 'scattered', 'grinning', 'casing', 'argillaceous', 'subjacent', 'grip', 'on〈e〉', 'papillose', 'orbital', 'splinter', 'semicircular', 'earliness', 'recess', 'disintegrate', 'shone', 'decussate', 'trifid', 'Seine', 'flexuous', 'stocked', 'Catarhine', 'interlock', 'serpentine', 'consolidate', 'gummy', 'Mollusks', 'shifting', 'beckon', 'bricklayer', 'olfactory', 'fringed', 'branchlet', 'spurious', 'overspread', 'upheave', 'periphery', 'sternal', 'twilight', 'pip', 'innervation', 'spacious', 'outstretched', 'corrode', 'interaction', 'seawater', 'auxiliary', 'cradle', 'umbo', 'rhizome', 'Pyrosoma', 'heated', 'spasmodically', 'stretching']\n",
      "['devastation', 'oddest', 'eating', 'Euryale', 'stifle', 'husk', 'Lacerta', 'prodigy', 'bat', 'commoner', 'hybridisation', 'machinery', 'thunder', 'miserably', 'cellar', 'gooseberry', 'canvass', 'Quarry', 'obtaining', 'decoration', 'paralysed', 'lamina', 'no〈t〉', 'had’nt', 'sufficiency', 'prodigious', 'croak', 'hav’nt', 'incongruity', 'infatuation', 'Cumberland', 'Tropæolum', 'sparkle', 'priviledge', 'compulsion', 'deaden', 'bowel', 'mirror', 'deuce', 'divided', 'astronomer', 'companionship', 'disastrous', 'identification', 'fascination', 'anon', 'centipede', 'prediction', 'rhododendron', 'devoid', 'Clovers', 'pier', 'infrequent', 'defeat', 'drawer', 'attest', 'catcher', 'Cirripeds', 'shaken', 'fisherman', 'Peninsula', 'footstep', 'domicile', 'parti', 'havnt', 'blight', 'mountainous', 'gnat', 'improbably', 'Stapelia', 'rattlesnake', 'veitch', 'Establishment', 'Ourang', 'molest', 'assimilation', 'pleasantest', 'bathe', 'urine', 'proportionately', 'Cypripedium', 'Sikkim', 'malvaceous', 'cook', 'fidelity', 'squash', 'entreaty', 'decency', 'splitting', 'outright', 'Poles', 'Papaw', 'encumber', 'roughness', 'ado', 'needs', 'juxta', 'ox', 'luxury', 'casually']\n",
      "tailless\n",
      "['thirteen', 'Reply', 'Acidalia', 'A2', 'beagle', 'Homo', '∴', 'Anagallis', 'siskin', 'Cream', 'naught', 'gambol', 'acclimate', 'Viverra', 'louder', 'Bignoniaceæ', 'Apricots', 'potentially', 'Japanese', 'Pellæa', 'precocity', 'numerously', 'Heterocerous', 'unfruitful', 'conjugal', 'minutia', 'differentiate', 'Veronicas', 'Vidua', 'indelibly', 'copula', 'cooing', 'conspicuousness', 'alienation', 'Palæornis', 'tending', 'varietal', 'Community', 'ferus', 'pant', 'slyness', 'Tenthredinidæ', 'zooid', 'inversion', 'Clarkia', 'Courier', 'hygrometric', 'Confucius', 'Noctua', 'Larvæ', 'irresistible', 'League', 'spirituous', 'Cymatophora', 'nonetheless', 'caricature', 'suitor', 'quadruple', 'irrespectively', 'supernatural', 'viper', 'unmatched', 'conjointly', 'Axolotls', 'Cows', 'gelding', 'chrysalid', 'Vipera', 'Platyrrhine', 'epidemic', 'homing', 'childs', 'Years', 'Coloured', 'Moose', 'disjoint', 'petaliferous', 'undo', 'Strix', 'fugitive', 'dom', 'mutism', 'melanoleuca', 'implant', 'chaste', 'traditional', 'Larus', 'kindred', 'ablest', 'Hordeum', 'ninth', 'Robin', 'monopoly', 'promiscuously', 'threshold', 'annelid', 'mapping', 'gobble', 'Celosia', 'dislikes']\n",
      "['Greyhounds', 'coloring', 'intermix', 'truest', 'Ibla', 'abraded', 'flier', 'precocious', 'gnawing', 'Bread', 'pedicel', 'offspre', 'Vitis', 'symmetrically', 'penchant', 'lineage', 'perishe', 'chaffinch', 'soot', 'poney', 'unborn', 'antedate', 'viscidity', 'fibril', 'freak', 'viviparous', 'admixture', 'rhubarb', 'personage', 'Hindoos', 'walnut', 'intonation', 'duller', 'Clovers', 'cannibal', 'Gall', 'prediction', 'knowing', 'Mildew', 'calve', 'Aroids', 'radish', 'Amadina', 'reindeer', 'unserviceable', 'woody', 'Cruciferæ', 'identically', 'bifurcation', 'opposing', 'Sire', 'indigestible', 'raspberry', 'troop', 'scantily', 'carina', 'wagtail', 'webs', 'beget', 'diffusive', 'Nelumbium', 'vestigial', 'musk', 'oxen', 'improbably', 'spinach', 'beaver', 'skipping', 'Golden', 'afflict', 'ethnologically', 'palæozoic', 'Cockle', 'Malpighiaceæ', 'Classics', 'recurve', 'Conifers', 'blight', 'existance', 'whiteness', 'rectangle', 'Chiloe', 'bruise', 'Hippopotamus', 'chaos', 'plaster', 'generalize', 'obtainable', 'grandparent', 'respiratory', 'needs', 'inconclusive', 'understate', 'unbeliever', 'bitterness', 'blooded', 'dissipate', 'catterpillar', 'indent', 'concretion']\n",
      "debateable\n",
      "['protean', 'polymorphic', 'geographically', 'ration', 'nominal', 'subdivision', 'parasitism', 'converge', 'Epicalia', 'economic', 'Brachiopoda', 'ascidian', 'naturalisation', 'Senecio', 'locally', 'analogue', 'subkingdom', 'molluscan', 'equus', 'Annelids', 'Edentata', 'straggler', 'Echinoderms', 'longicorn', 'restricted', 'Plantago', 'melastomaceous', 'Rubiaceae', 'severest', 'Moths', 'consistently', 'discrimination', 'dubious', 'supposed', 'Crustacean', 'herbaria', 'comp', 'Grantia', 'extirpate', 'Corallines', 'Verbenaceæ', 'nameless', 'mobile', 'Families', 'starfish', 'Local', 'Volc', 'naught', 'Oceania', 'distantly', 'numeral', 'leaved', 'boreal', 'intermingle', 'independant', 'flier', 'inversely', 'Brachycerus', 'separated', 'Conifers', 'composite', 'azorean', 'origination', 'Monera', 'spinous', 'Hermaphrodites', 'conifer', 'crossbred', 'Parrots', 'predominance', 'rudely', 'Silene', 'horticulturist', 'coloring', 'unequally', 'Bog', 'torquatus', 'Euphorbiæ', 'Negros', 'mexican', 'obliteration', 'antagonism', 'neutral', 'Leguminosae', 'Formica', 'Cacteæ', 'Zoophites', 'juxtaposition', 'chime', 'xx', 'substitution', 'Azorean', 'referable', 'unquestionable', 'hairiness', 'intercross', 'lamentably', 'alliance', 'artic', 'Amadina']\n",
      "['bifurcate', 'maze', '75o', 'cargo', 'sheathe', 'streaming', 'revenue', 'infra', 'dependant', 'Oats', 'suffuse', 'metatarsal', 'Bride', 'axial', 'parsnip', 'torrent', 'Mildew', 'purify', 'plaster', 'Banks', 'tranquillity', 'œsophagus', 'Heron', 'compendium', 'Macaw', 'independantly', 'tumuli', 'dampness', 'demeanour', 'askant', 'Asthma', 'filial', 'endlessly', 'prehension', 'Celery', 'vermilion', 'Poems', 'Continuity', 'cower', 'forefoot', 'earthly', 'personage', 'Hammer', 'conjunctiva', 'silvery', 'ruby', 'bustard', 'walker', 'Turk', 'shellac', 'chalaza', 'Sire', 'Mutton', 'opposing', 'chaos', 'inflammatory', 'fleshed', 'auxiliary', 'potentially', 'Cerebellum', 'disproportionately', 'furthest', 'Golden', 'distorted', 'lacrymal', 'spermatozoon', 'bawl', 'sachs', 'inattention', 'Feather', 'superciliary', 'Rouen', 'Brokers', 'seawater', 'transparency', 'darken', 'rufous', 'superabundant', 'Carbon', 'accross', 'leaving', 'abraded', 'beholder', 'monogamous', 'lifeless', 'asian', '1’4', '1812', '〈n〉o', 'paralyze', 'intonation', 'pairing', 'blocking', 'sunless', 'network', 'jag', 'hairyness', 'vestigial', 'dislocate', 'unserviceable']\n",
      "FD\n",
      "['Holyoake', 'Millicent', 'São', 'mauvaise', 'Cologne', 'Waller', 'Stafford', 'Nyanza', 'affte', 'lieutenant', 'er', 'W.E.D', 'Thrushes', 'Pedra', 'Puma', 'Inland', 'Creed', 'fe', 'Jessy', 'preferred', 'chef', 'Evg', 'farrer', 'embarrass', 'fallen', 'Violetta', 'the〈re〉', 'admiring', 'dos', 'Saxons', 'Ballot', 'Molton', 'Fitzmaurice', 'Lea', 'Gerardia', 'dau', 'Burg', 'Coronilla', 'manor', '4.10', 'wicklow', 'Guide', 'Ritchie', 'Prior', 'privacy', 'Wilhelm', 'HW', 'Chiavari', 'Stratiotes', 'Boardman', '1818', 'Jung', 'us〉', 'Oriel', 'k.', 'bowl', 'Executive', 'Willis', 'greenfinche', '〈an〉', 'presidency', 'distemper', 'S.E.R.', 'Rud', 'tanto', 'Erass', 'Vue', 'Thompsons', 'possese', 'Everard', 'Menziesii', 'Side', 'Thorne', 'Sq', 'Dolphin', 'Marks', 'Christs', 'Span', 'Heijs', 'cruelty', 'el', '.30', 'mongolian', 'Bennet', 'Riding', 'Blarney', 'Southwards', 'Monument', 'Hobhouse', 'loll', 'Spottiswoodes', 'Manners', 'Caladium', 'jack', 'Birkbeck', 'passim', 'freehold', 'sametime', 'Chateau', 'Gwyn']\n",
      "['affly', 'affecte', 'affy', 'affecy', 'Conway', 'Thanks', 'g', 'Jos', 'Yr', 'Douglas', 'Jenner', 'h', 'y', 'Cecil', 'G', 'dearest', 'Robertson', 'Charlie', 'aff', 'F', 'Nevill', 'Lauder', 'Maxwell', 'Price', 'Cheshire', 'Voysey', 'Hyacinth', 'Farr', 'Ever', 'faithy', 'Hopkins', 'Ys', 'Pitt', 'Rogers', 'High', 'Pearce', 'Stephen', 'O', 'W.C.', 'affecly', 'Sons', 'Maskelyne', 'Sqre', 'sincerly', 'Roberts', 'damper', 'Cha', 'Though', 'Wedgewood', 'Williamson', 'Beke', 'Trin', 'Dixon', 'Edmund', 'affc', 'Johnson', 'Goodbye', 'Roehampton', 'Baxter', 'Poor', 'Leslie', 'Susan', 'Crotch', 'Wheler', 'Brodie', 'Frances', 'Rayleigh', 'Lushington', 'Waring', 'Hugh', 'Elizth', 'Please', 't', 'Denny', 'smoothly', 'Dorothy', 'Haliburton', 'H', 'Morris', 'Fields', 'Shaw', 'Innes', 'Rosa', 'Mary', 'Day', 'Glaisher', 'Clarke', 'Fletcher', 'Rector', 'Bassett', 'Philip', 'Taylor', 'Naudin', 'affecate', 'Chester', 'Groves', 'compt', 'Tho', 'Strachey', 'Dew']\n",
      "opake\n",
      "['wavering', 'coherence', 'involved', 'asunder', 'elongation', 'suspension', 'moisten', 'pinch', 'axillary', 'aggregation', 'compensation', 'crumple', 'beam', 'drying', 'massive', 'thicket', 'deflect', 'rotational', 'spherical', 'sternum', 'posture', 'broaden', 'enlargement', 'geometrical', 'sullen', 'theorem', 'sprinkle', 'rake', 'bending', 'beckon', 'blade', 'renewal', 'contortion', 'crucial', 'putrefaction', 'prong', 'funnel', 'collision', 'fecundity', 'upturned', 'decomposition', 'irritate', 'bead', 'slend', 'entangle', 'adhesion', 'twisted', 'hyaline', 'steel', 'inflame', 'liquor', 'discolour', 'dingy', 'adhesive', 'concentrate', 'equably', 'paleness', 'powdery', 'specialized', 'protract', 'touching', 'laminae', 'rigidity', 'redness', 'globule', 'limp', 'putrid', 'ramification', 'auditory', 'twisting', 'spectrum', 'compactness', 'atrophy', 'corrode', 'tenacious', 'vegitable', 'interstice', 'interpolate', 'gill', 'grin', 'soluble', 'crystallize', 'saliva', 'strychnine', 'broadly', 'wire', 'bushel', 'defensive', 'overlap', 'nutritive', 'gaseous', 'flatten', 'sideway', 'brittle', 'decompose', 'vertebrata', 'petiole', 'eyeball', 'hooked', 'resinous']\n",
      "['tinctoria', 'intensively', 'stopping', 'Faroe', 'shrubby', 'Moth', 'N.E', 'faintly', 'Veronicas', 'laminæ', 'girth', 'Ichneumon', 'Persica', 'papillæ', 'dwarfish', 'semicircular', 'yew', 'riband', 'intercrossed', 'Leg', 'axial', 'NE', 'parsnip', 'tattere', 'plaster', 'cocoa', 'easterly', 'clinandrum', 'corymb', 'Serra', 'longish', 'snip', 'catterpillar', 'groundsel', 'Ink', 'gauze', 'encompass', 'ruscifolia', 'Muscle', 'Rats', 'majus', 'diminishe', 'α', 'marginalis', 'Mm', 'crevice', 'westward', 'unfed', 'quadrangularis', 'animalcule', 'clam', 'rye', 'sew', 'oolitic', 'Rock', 'barb', 'Flint', 'strap', 'sprinkling', 'silvery', 'Cold', 'rugged', 'timber', 'ful', 'preferred', 'streak', 'unfertilised', 'Hedera', 'shining', 'moister', 'suffuse', 'mercury', 'expanse', 'Cynopithecus', 'Mucuna', 'instep', 'chip', 'hung', 'celle', 'Copper', 'Cudham', 'superficie', 'ashy', 'brine', 'Ampelopsis', 'Coleopterous', 'sulphur', 'complanatus', 'Menziesii', 'Cress', 'vicar', 'thriving', 'cypripedium', 'pinkish', 'Pampean', 'diluvial', 'fibril', 'Convolvuli', 'h〉ave', 'purify']\n",
      "Hampstead\n",
      "['Hart', 'Albans', 'Galtons', 'coll', 'nominate', 'Stanley', 'p.m.', 'france', 'Salop', 'Residence', 'malvern', 'Petersburgh', 'Coutts', 'Holwood', 'exam', 'Wedy', 'Walton', 'Credit', 'Leamington', 'Sisters', 'Afternoon', 'Telegraph', 'Woodds', 'Longmans', 'Yarmouth', 'Barlaston', 'Roberts', 'groom', 'Chiselhurst', 'Elgin', 'Embley', 'Garrod', 'Quarters', 'waggonette', 'Teesdale', 'Nash', 'Stevens', 'postman', 'Medallion', 'Forres', 'Amy', 'Savings', 'Engineer', 'ware', 'Edmund', 'Hammond', 'Railroad', 'housekeeper', 'Salts', 'unpaid', 'Bristol', 'Stamford', 'Camb', 'Physician', 'Northamptonshire', 'Barker', '7o', 'shill', 'Gaskell', 'Manners', 'Sarawak', 'Blackmore', '11o', 'Crescent', 'Newport', 'Hay', 'Opera', 'Mellersh', 'Presidency', 'Pitchford', 'Fs', 'Priory', 'Trin', 'Margaret', 'Day', 'banker', 'Dover', 'Health', 'barkly', 'E.D.', 'Genoa', 'Perth', 'dancing', 'Poste', 'Sandown', 'Barton', 'Deed', 'disengaged', 'Testimonials', 'oClock', 'Hardwick', 'Lettington', 'gardens', 'cogitate', 'seaside', 'Worthing', 'wafer', 'Carnarvon', 'Cumberland', 'Statement']\n",
      "['Marshalls', 'rusticate', 'Shelley', 'crenate', 'dryish', 'Bathurst', 'Tenby', 'sprawl', 'Keys', 'Ribes', 'Wolverhampton', 'exotic', 'honeycomb', 'Hilaires', 'lithographer', '23th', 'Arthurs', 'Corral', 'Menyanthes', 'Strait', 'Blumenbach', 'garment', 'furthest', 'Denudation', 'pilgrimage', 'invertebrata', 'johnian', 'cower', 'Trench', 'Permian', 'brittle', 'ridges', 'mint', 'rung', 'Coffea', 'disappearing', 'lumbago', 'thwart', 'moor', 'prehension', 'shifting', 'Rocks', 'Wandsworth', 'Serra', 'barrow', 'amphioxus', 'twister', 'rug', 'cargo', 'Grass', 'Roxburgh', 'malo', 'glaze', 'overhear', 'Beesby', 'Steamer', 'thay', 'anastomose', 'abject', 'overlying', 'sheer', 'touched', 'Viburnum', 'windy', 'Buckingham', 'Fort', 'chariot', 'Cold', 'prostitute', 'Berwickshire', 'Herbs', 'Flint', 'Lightning', 'Willingham', 'tom', 'Sardinia', 'straggler', 'Heron', 'japonica', 'Chateau', 'deprecate', 'Coombe', '……', 'deflection', 'Materialism', 'maze', 'transversly', 'R.s', 'unequally', 'Dartmoor', 'Celts', 'ungenial', 'sine', 'seeded', 'Lists', 'slippery', 'withal', 'capriciousness', 'acuminate', 'blessed']\n",
      "prohibit\n",
      "['tumbling', 'Confucius', 'Stettiner', 'decoy', 'flaccidity', 'Cockatoo', 'heifer', 'eyelash', 'indistinctly', 'lichens', 'Ferret', 'municipal', 'usurpation', 'socket', 'Greeks', 'fleece', 'varietal', 'Jesuits', 'torquatus', 'suitor', 'consecrate', 'zoea', 'coursing', 'sternal', 'Chinaman', 'independantly', 'yeilde', 'monk', 'numerously', 'colr', 'firearm', 'humerus', 'Courier', 'Antilles', 'traditional', 'Vidua', 'unimpaired', 'Ear', 'tumour', 'maltese', 'comely', 'homestead', 'albinos', 'overleaf', 'interlock', 'walker', 'aberration', 'Monotremata', 'umbilical', 'earwig', 'Swine', 'housefly', 'sep', 'hipparion', 'unmixed', 'twilight', 'Poole', 'diseased', 'caucasian', 'covey', 'fictitious', 'Polecat', 'prairie', 'Falconidæ', 'stickleback', 'syrian', 'Domest', 'whic〈h〉', 'sandpiper', 'unsightly', 'Turf', 'Palæornis', 'aniline', 'mutandis', '\\xa0\\xa0\\xa0\\xa0\\xa0\\xa0\\xa0\\xa0', 'earliness', 'flex', 'anthropoid', 'Hindoos', 'hygroscopic', 'devastate', 'disguised', 'Spitz', 'primate', 'Retriever', 'flea', 'pubd', 'Egyptian', 'nuptial', 'flexuous', 'Smyrna', 'crook', 'Rhynchea', 'Bignoniaceæ', 'Spiza', 'Trousseau', 'riser', 'constriction', 'finer', 'fugitive']\n",
      "['misinterpret', 'accrue', 'palæontology', 'colonization', 'glean', 'undeniable', 'horticultural', 'Eclipse', 'malady', 'accomplishment', 'criminal', 'resumé', 'shun', 'gnat', 'excusable', 'burthen', 'usefulness', 'unsettled', 'cereal', 'penalty', 'glaciation', 'entitled', 'infatuation', 'sublime', 'qualify', 'dental', 'poverty', 'reparation', 'discourage', 'lord', 'flagrant', 'obviate', 'condensed', 'subsist', 'advantageously', 'muddled', 'therefor', 'assumed', 'enforce', 'impart', 'tolerate', 'unforeseen', 'frantic', 'deductive', 'indispensible', 'preferable', 'infamous', 'congenial', 'inconsiderable', 'tackle', 'possesse', 'leading', 'nonetheless', 'hearsay', 'Annelids', 'urgent', 'ethnological', 'standing', 'fallacious', 'gratuitously', 'confession', 'timid', 'nowadays', 'victory', 'completeness', 'feasable', 'disparity', 'conversion', 'expel', 'generalisation', 'unintentional', 'discard', 'rack', 'Giraffe', 'mitigate', 'magnitude', 'unsound', 'license', 'overlay', 'roughness', 'proverb', 'overtake', 'educational', 'forever', 'advertize', 'independant', 'laboriously', 'vitiate', 'riddle', 'persian', 'unphilosophical', 'vehemently', 'concealment', 'unseen', 'hybridity', 'prohibition', 'hybridisation', 'Spanish', 'obtaining', 'jumble']\n",
      "Saporta\n",
      "['Dante', 'Bastian', 'personification', 'Wilberforce', 'Invertebrata', 'Montgomery', 'Mitford', 'parody', 'Jeffrey', 'al', 'Allbutt', 'Brockhaus', 'Bohemian', 'Speech', 'Tübingen', 'ignoring', 'chaplain', 'effectively', 'Tennessee', 'Verhandlungen', 'Brittanica', 'popularize', 'demerit', 'Mind', 'radically', 'fo〈r〉', 'Picture', 'Wrangel', 'revolutionize', 'Bagehot', 'Baillie', 'masterpiece', 'Rayleigh', 'fainthearte', 'Priestley', 'Javan', 'assault', 'Anti', 'ungenerous', 'L’Institut', 't〈o〉', 'Bakerian', 'Maunder', 'Groves', 'Violetta', 'exame', 'basely', 'partisan', 'vestigial', 'Haliburton', 'Natura', 'mover', 'Meckel', 'meanness', 'Asiat', 'Bruno', 'Backhouse', 'Ds', 'herein', 'Advancement', 'transformist', 'resent', 'Ijkema', 'Couthouy', 'Zanichelli', 'acclamation', '1811', 'coup', 'background', 'Hummel', 'Chamber', 'Quenstedt', 'foreboding', 'Large', 'Agriculturists', '1658', 'venial', 'Action', 'obliquity', 'Materia', 'abridge', 'therin', 'Metaphysics', 'Duthiers', 'extenuate', 'Gardiner', 'Bovey', 'Baly', 'linguist', 'distr', '1785', 'Trench', 'assimilation', 'brevis', 'Vorrede', 'indicator', 'Malle', 'Lebens', 'soreness', 'Hugo']\n",
      "['Max', 'Profr', 'Geikie', 'Muller', 'Hermann', 'Fraser', 'Moggridge', 'Candolle', 'Hildebrand', 'Wyville', 'Garrison', 'Mill', 'Nicaragua', 'Moulton', 'Walter', 'Hunter', 'Ball', 'Knowles', 'Blair', 'Heer', 'Lippstadt', 'Allen', 'Wilson', 'Fr', 'Croll', 'Herschel', 'Meehan', 'Forbes', 'Trimen', 'Dana', 'Bell', 'Canby', 'Kingsley', 'Lockyer', 'Mueller', 'Gegenbaur', 'Nicholson', 'Blytt', 'Brown', 'Marsh', 'Mackintosh', 'Donders', 'Nägeli', 'Cohn', 'Student', 'David', 'Blyth', 'Sorby', 'Tylor', 'Karl', 'Lubbocks', 'Martineau', 'Wallis', 'Vogt', 'Carpenter', 'Chauncey', 'Alexander', 'Mantegazza', 'Preyer', 'Mayor', 'Cobbe', 'Ice', 'Roberts', 'Montagu', 'Thwaites', 'Rolleston', 'Lloyd', 'Moseley', 'Delpino', 'Dawson', 'Judd', 'Watson', 'Canestrini', 'Morgan', 'Comte', 'Edwards', 'Vice', 'Monsieur', 'Brace', 'Taylor', 'Henderson', 'Buckley', 'Sclater', 'Naudin', 'Hoffmann', 'Harting', 'Graham', 'Pusey', 'Carus', 'Jesse', 'Badger', 'Price', 'Chapman', 'Paul', 'Büchner', 'Claus', 'Kowalevsky', 'Gentleman', 'Alex', 'Chester']\n",
      "Afghanistan\n",
      "['Malpighiaceae', 'Finland', 'scrofa', 'Scitamineæ', 'customs', 'excelsa', 'Boisduval', 'Arct', 'Eucharis', 'Cardium', 'suffuse', 'states', 'Euphorbias', 'Americana', 'characteristically', 'kerner', 'Fabr', 'Prosopis', 'Eu', 'Frommann', 'Proteus', 'forecast', 'tierra', '139', 'deltoid', 'triplet', 'famed', 'Patagonica', 'Tip', 'vue', 'supercede', 'obliqua', 'ralloide', 'Albermarle', 'sleigh', 'insufficiently', 'anglica', 'lingua', 'Ancylus', 'Cuphea', 'andean', 'Alabama', 'Boas', 'saxifraga', 'no〈t〉', 'Jr.', 'Roxburgh', 'Plains', 'Josef', 'typus', 'Australis', 'subtropical', 'vacillate', 'Onchidium', 'Jourdan', 'Ids', 'Zetterstedt', 'Vancouver', 'shrewdly', 'Normandy', 'Laboratories', 'subgenera', 'Authority', 'Hortl', 'slavic', 'Restio', 'Earthworms', 'acaulis', 'Punjab', 'nurture', 'Vaucluse', 'ilex', 'Wilmington', 'villosus', 'Passenger', 'Coyote', 'Vancouvers', 'Homer', 'Isls', 'Bonaparte', 'remotely', 'Cockburn', 'Tetralix', 'absentee', 'tre', 'petronius', 'Marine', 'Wiener', 'Coleopterous', 'Paradoxurus', 'nativity', 'Condor', 'Colonization', 'Venezuela', 'pellucidus', 'Nichol', 'Swallows', 'mastodon', '619', 'Euplocomus']\n",
      "['nasi', 'Poitiers', 'Noblemen', 'stylosanthe', 'Celts', 'invertebrata', 'larky', 'Rudolph', 'Grisebach', 'Falcons', 'noblest', 'Translator', 'scholarly', 'Exōrs', 'Commissioner', 'Circulation', 'landing', 'Ass', 'disjointed', 'facto', 'quietness', 'Salter', 'whereabouts', 'shure', 'hundredth', 'conditionally', 'mango', 'Dorrell', 'pointless', 'reexamine', 'extenuate', 'Ashanti', 'reconsideration', 'circuitous', 'Aldrovandra', 'unpretende', 'Phryganidae', '〈t〉he', 'Cissampelos', 'Rhinoceros', 'Honor', 'Hepaticæ', 'ultimo', 'Gossip', 'Malaga', 'flattery', 'Jacobs', 'fervently', 'exponent', 'sacculated', 'ilk', 'competence', 'Entomologische', 'Evidence', 'sweetly', 'chamois', 'Community', 'Soho', 'compatriot', 'ravish', 'flippant', 'Lille', 'Elevation', 'Ship', 'politically', 'Cimex', 'F.M.', 'chevaux', 'Carters', 'desultory', 'Savage', 'Economy', 'Swammerdam', 'Cyperaceæ', 'visite', 'Frazer', 'condescend', 'stocked', 'Cantabs', 'Geoffroy', 'simplex', 'Arms', 'scrupulously', 'undeserved', 'impudently', 'predominantly', 'neatness', 'storehouse', 'anchor', 'talon', 'Geologie', 'testis', 'd’Acunha', 'Apterous', 'supervise', 'by〉', '0.40', 'sinecure', 'Gunnery', 'Stettiner']\n",
      "Chloride\n",
      "['Docks', 'Easton', 'mille', 'u.s.w', 'zwischen', 'royalty', 'lettre', 'Cirsium', 'erecta', 'verba', 'Wissenschaftliche', 'habe', 'sind', 'Grammatophora', 'ist', 'Urtica', 'Jahren', 'Thigh', 'Jahreszeiten', 'sie', 'Moral', 'Meissner', 'abyssinica', 'clot', 'pelican', 'oder', 'Liège', 'Bestäubung', 'dos', 'Neues', 'Acræa', 'Mathews', '3.4', 'plante', 'epiphytal', 'aient', 'Sodium', 'derselben', 'mas', 'malo', 'strigosu', 'Culturgeschichte', 'rostratum', '〈is', 'twixt', 'och', 'Mygale', 'vom', 'braun', 'd’une', 'intonation', 'spontanea', 'andere', 'Scoparia', 'slot', 'Fällen', 'sein', '1.20', 'Falle', 'nicht', 'germe', 'hic', 'Familie', 'organisman', 'varietie', 'Scutellaria', 'Maurice', 'Gerardia', 'parker', 'Helianthus', 'arietis', 'nouveau', 'meine', 'sig', 'taille', 'bien', 'hatte', 'luteu', 'Eine', 'Lumbricus', 'vielen', 'Baie', 'Stables', 'Saints', 'Adonis', 'Juni', 'ihren', 'elle', 'Fraxinus', 'sua', 'Roxb', 'mer', 'mein', 'auch', 'pallida', 'chevaux', 'l’expression', 'famille', 'Fuchs', 'mehr']\n",
      "['85o', 'jam', '10′', '0.32', 'Antimony', 'mercury', 'pavonina', 'Tin', 'ejection', 'quicken', 'Clifton', 'viscosity', 'Coleopterous', '48o', 'decaying', 'dependance', 'bay', 'coagulation', 'copse', 'flooding', 'cocoa', 'bowl', 'diff', 'castor', 'biting', 'steepness', 'tropœoloide', 'scour', 'effervesce', 'unconnecte', 'Woodstock', '180,000', 'bountifully', 'apparition', 'Wagtail', 'Indigofera', 'Bears', 'flaccidity', 'Veitchs', 'preferred', 'diminishe', 'viscosa', 'brink', 'sagging', 'foothold', 'Musa', 'Sulphate', 'exite', 'Police', 'Mitcham', 'muriatic', 'litre', 'tinctoria', 'circinate', 'Hipparchia', 'Bovey', 'putrid', '1’4', 'monœcous', 'Bahia', 'Frog', 'pellucid', 'knit', 'limpid', 'Lusitanicum', 'melon', 'endosmose', 'Cob', 'buoy', 'stigmata', 'stopping', 'Vallisneria', 'Clarks', 'bung', 'gar', 'felspar', 'Glen', 'transplantation', 'divest', 'commonest', 'Hammer', 'Fucus', 'superficie', 'Newtons', 'Oats', 'Colias', 'Milk', 'Herefordshire', 'porous', 'mesenteric', 'dahlias', 'pump', '〈', 'streaming', 'silica', 'Fahr', 'vessell', 'palace', 'oolitic', 'cefn']\n",
      "breaking\n",
      "['earn', 'machinery', 'taking', 'impatience', 'whip', 'drudgery', 'wilderness', 'explorer', 'preclude', 'breathe', 'breach', 'amazing', 'seal', 'ghost', 'Sachs', 'jealousy', 'clash', 'whirl', 'swing', 'mathematick', 'disable', 'slavery', 'clerical', 'sweeping', 'abolish', 'pump', 'remedy', 'grub', 'thesis', 'agitation', 'sheer', 'goal', 'ethnological', 'refreshing', 'encrease', 'bubble', 'gardening', 'wake', 'banish', 'falsehood', 'overflow', 'emergency', 'domain', 'roman', 'finding', 'elaboration', 'damned', 'emotional', 'aspiration', 'paralyse', 'lock', 'slowness', 'desiderata', 'machine', 'Lythrums', 'worldly', 'stimulant', 'unfold', 'betray', 'afloat', 'mill', 'convulsion', 'inconsistency', 'radical', 'choke', 'tenderness', 'control', 'ferocity', 'intruder', 'heel', 'unoccupied', 'herbage', 'tumble', 'toss', 'coolness', 'independence', 'incumbent', 'classic', 'mob', 'sigh', 'afresh', 'grind', 'Character', 'theatre', 'rage', 'conversion', 'domesticity', 'forever', 'digestion', 'turmoil', 'surveyor', 'substantial', 'miracle', 'snatch', 'going', 'promote', 'prophesy', 'discipline', 'dumb', 'retirement']\n",
      "['chaos', 'Vegetation', 'perturbation', 'miraculous', 'supercede', 'negros', 'violence', 'unserviceable', 'crux', 'derived', 'abd', 'synonymy', 'streaming', 'summing', 'Echinus', 'Turk', 'sieze', 'Infinite', 'inadvertently', 'aurita', 'discountenance', 'Equator', 'vermilion', 'mandate', 'galvanism', 'definable', 'adventurer', 'arithmetical', 'fatalist', 'congener', 'rascal', 'pathway', 'seawater', 'carination', 'severer', 'Bride', 'genital', 'summum', 'blocking', 'Thigh', 'amore', 'tar', 'theorem', 'politically', 'unoppose', 'anarchy', 'Dorkings', 'Tripos', 'Baculite', 'comely', 'harshness', 'saffron', 'Continuity', 'sought', 'manor', 'jackass', 'exponent', 'supp〈ose〉', 'pachydermatous', 'dying', 'Cetacean', 'Developement', 'Arran', 'Vinca', 'categorical', 'understate', 'oddity', 'ignition', 'Provinces', 'superabundant', 'depressor', 'inhibit', 'axial', 'theism', 'Ranunculaceæ', 'transparency', 'desireable', 'Newtons', 'Zebra', 'network', 'zygomatic', 'inflammatory', 'unaccountably', 'Oats', 'circulatory', 'ravine', 'recorder', '5-ranked', 'barometric', 'beneficence', 'fringed', 'foraminiferous', 'tremulous', 'filtrate', 'mulatto', 'suffuse', 'spiracle', 'nigrican', 'convulse', 'wheeling']\n",
      "grower\n",
      "['pest', 'Potato', 'pairing', 'Axolotl', 'Sethia', 'parrot', 'familiarity', 'Potatoes', 'horticulturist', 'ivory', 'reunion', 'Adenanthera', 'predilection', 'oryzoide', 'Australians', 'martyr', 'Acasta', 'fry', 'oddity', 'Corn', 'exceptionally', 'Entomologists', 'acclimatisation', 'voyager', 'crazy', 'yew', 'giant', 'conchologist', 'observant', 'fermentation', 'fashioned', 'beginner', 'Pontederia', 'Agriculturist', 'fisherman', 'invention', 'Breeding', 'stirling', '〈he〉', 'Heath', 'jackal', 'florist', 'eccentric', 'consistently', 'adami', 'Africans', 'dragon', 'parasitism', 'ophrys', 'refined', 'Leersia', 'wholesome', 'fertiliser', 'reasoner', '〈a〉', 'Legum', 'artistic', 'verification', 'incubus', 'likeness', 'emigration', 'probation', 'aphis', 'Cinchona', 'propensity', 'grandchild', 'colonial', 'Limulus', 'graceful', 'Cirripede', 'worldly', 'Tumbler', 'wrangler', 'gathering', 'washing', 'frenchman', 'Cow', 'criminal', 'Badger', 'showing', 'Frenchman', 'manipulation', 'contributor', 'pickle', 'Acacias', 'wherefore', 'humility', 'sensitiveness', 'Newspapers', 'stove', 'imitation', 'occurence', 'enumeration', 'quickness', 'convulsion', 'knight', 'Asclepiadæ', 'myth', 'Print', 'Lindleys']\n",
      "['Blue', 'Herminium', 'Euryale', 'prematurely', 'habitat', 'hardy', 'indispensible', 'opium', 'malvaceous', 'Triticum', 'Cycas', 'scorpion', 'haulm', 'prodigious', 'Rhododendron', 'hybridise', 'gnat', 'Cacteæ', 'obtaining', 'Welwitschia', 'looking', 'rattlesnake', 'eating', 'Melastomaceæ', 'Opuntia', 'Crustaceans', 'husk', 'subsist', 'tabulate', 'poultry', 'hybridity', 'lifetime', 'montana', 'prosecution', 'Iberis', 'Galaxias', 'advantageously', 'urine', 'poppy', 'herbarium', 'attest', 'hop', 'parish', 'consignment', 'Lacerta', 'Testimonial', 'hybridisation', 'Belladonna', 'aright', 'Azores', 'Cassias', 'terrify', 'Lotus', 'saving', 'nelumbium', 'intercross', 'ashe', 'seaside', 'nurseryman', 'stratum', 'dealbata', 'difft', 'climber', 'Leguminosæ', 'brazilian', 'analyse', 'Stapelia', 'runner', 'republication', 'restoration', 'meagre', 'shortness', 'desmodium', 'advertize', 'Emperor', 'landlord', 'veitch', 'Cactus', 'hothouse', 'experimentally', 'devastation', 'Poles', 'Heteranthera', 'sufficiency', 'spur', 'collector', 'proportionate', 'jar', 'ægilop', 'cereal', 'invasion', 'sovereign', 'casually', 'Linum', 'infertility', 'Aldabra', 'blemish', 'reckon', 'unquestionably', 'maize']\n",
      "Camels\n",
      "['Tapir', 'montanus', 'Anatidæ', 'hymenoptera', 'irrespectively', 'Retriever', 'indicus', 'consecrate', 'Falconidæ', 'xx', 'mimicking', 'albinos', 'Aromia', 'Picus', 'cinereu', 'sandpiper', 'asian', 'Pennatula', 'cancer', 'ocellate', 'Danaidæ', 'moschata', 'hardiness', 'Jesuits', 'Persica', 'Rhynchea', 'Vipera', 'Swine', 'Must', 'Necrophorus', 'absentee', 'condyle', 'sauce', 'albinoe', 'weathering', 'elpenor', 'maltese', 'Virginiana', 'Swallows', 'Veronicas', 'neatness', 'causality', 'elliptic', 'polarization', 'Euphorbiæ', 'unmixed', 'Citrus', 'striatum', 'differentiate', 'Trousseau', 'independantly', 'cristata', 'spotted', 'Hipparchia', 'Cedar', 'numerously', 'celebe', 'Almonds', 'peristome', 'nivalis', 'epidermic', 'Cycas', 'pampered', 'hairyness', 'Ancestor', 'longevity', 'Convolvulus', 'Cornuta', 'Heliconia', 'commingle', 'chrysalid', 'unfrequent', 'Oceania', 'quail', 'traditional', 'specification', 'clouded', 'Vidua', 'Palæornis', 'lax', 'Bustard', 'leaved', 'hornbill', 'afore', 'traditionally', 'distorted', 'e.g', 'livery', 'Cream', 'lineage', 'Turks', 'maritimus', 'Polecat', 'Ptarmigan', 'ceteris', '3rdly', 'fainter', 'guanacos', 'hottentot', 'copula']\n",
      "['d’Acunha', '〈spe〉cie', 'Beetle', 'venus', 'Ship', 'relocate', 'Sig', 'aberration', 'polly', 'Epigæa', 'barn', 'bigotte', 'Cabbage', 'Tristan', 'Ewes', 'orbicularis', 'vacillate', 'sphincter', 'Samoa', 'faintness', 'betting', 'unravel', 'Teratology', 'hateful', 'Eschricht', '〈may〉', 'onlooker', 'Somerset', 'Physician', 'uncontrollable', 'anarchy', 'racing', 'oath', 'congelation', 'Rouse', 'arid', 'discreet', 'Snipes', 'suchlike', 'Africana', 'ulterior', 'Infinite', 'gaily', 'classificatory', 'Jacobs', 'humifusa', 'Lille', 'Malpighiaceae', 'Dynamics', 'Christchurch', 'Families', 'dray', 'Belge', 'credence', 'Zulus', 'shoe', 'Ostriches', 'Peltogaster', 'Epiphytic', 'Prairie', 'dovecot', 'infinitum', 'brachydactyla', 'Example', 'radiatus', 'Simia', 'Zero', 'Trinidad', 'impudently', 'Clock', 'aggressor', 'Redpole', 'natura', 'sp〈ecies〉', 'incontestably', 'wouldst', 'angiospermous', 'Deanery', 'chamois', 'coloration', 'tha〈t〉', 'questioning', 'ungulate', 'inscrutable', 'congener', 'hedgerow', 'imitator', 'Physico', 'semblance', 'dynamic', 'explicate', 'Felis', 'conciseness', 'Parry', 'aught', 'pecularitie', 'Hindustan', 'orchis', 'accountant', 'Aymara']\n",
      "aqueous\n",
      "['onwards', 'retard', 'intercalate', 'notable', 'emergence', 'cycle', 'winding', 'furthest', 'touching', 'pinch', 'resting', 'dislocation', 'envelop', 'shelve', 'renovate', 'revolve', 'cupboard', 'melting', 'thermometer', 'denude', 'dryness', 'drying', 'dormant', 'decomposition', 'freeze', 'unoccupied', 'pampean', 'shoal', 'melt', 'aphelion', 'deflect', 'northerly', 'retirement', 'clothing', 'beam', 'gaseous', 'frozen', 'coating', 'twitch', 'embankment', 'freezing', 'expel', 'adhesion', 'shark', 'zigzag', 'vapour', 'spout', 'Swiss', 'moisten', 'radiation', 'thickening', 'curtain', 'prolong', 'herbage', 'intent', 'shelly', 'unbroken', 'obstruction', 'stubble', 'compression', 'Icebergs', 'stratify', 'buoy', 'sloping', 'strand', 'marl', 'vibration', 'horizon', 'dying', 'drain', 'periodically', 'excavate', 'awake', 'upheave', 'easterly', 'manhood', 'Eastward', 'eastward', 'choke', 'inflame', 'drainage', 'shrink', 'Earths', 'tilt', '2250', 'shortness', 'eminence', 'scramble', 'brook', 'tunnel', 'straighten', 'paralysed', 'relax', 'recede', 'habitable', 'protract', 'depressed', 'running', 'scoop', 'disable']\n",
      "['soot', 'Algæ', 'unconnecte', '1’4', 'perishe', 'raspberry', 'analyze', 'ejection', 'gauze', 'Snake', 'apprehensive', 'handkerchief', 'bellglass', 'fledge', 'subordinately', 'dissipate', '75o', 'unbearable', 'exit', 'walker', 'filtrate', 'conjunctiva', 'Morocco', 'Saliva', 'fac', 'ginger', 'bountifully', 'invalided', 'pouter', 'consensus', 'moister', 'd〈o〉', 'glaze', 'saddle', 'pushing', 'unbeliever', 'transpiration', 'Mildew', 'ignition', 'oxide', 'Phœnix', 'fumarole', 'inattention', 'catterpillar', 'convulse', 'oven', 'boatman', 'jag', 'streaming', 'heterodoxy', 'manipulate', 'recast', 'sham', 'shred', 'asunder', 'shining', 'smack', 'nigrican', 'luxury', 'Ink', 'disproportionately', 'loaf', 'alltogether', 'prussic', 'sword', 'porous', 'chaos', 'tailless', 'theft', 'salivary', 'Fibrin', 'snip', 'amber', 'fang', 'safest', 'Eland', 'dampness', 'deaden', 'silvery', 'axe', 'bruise', 'digital', 'biting', 'explode', 'gnawing', 'understate', 'stopper', 'Asthma', 'judging', 'cumbrous', 'paving', 'reminiscence', 'hardness', 'suddenness', 'compute', 'ravine', 'quickness', 'duct', 'transgress', 'quiver']\n",
      "painting\n",
      "['lap', 'flour', 'herbage', 'cupboard', 'hay', 'Cambridgeshire', 'boom', 'jog', 'gaze', 'tailor', 'Lab', 'scramble', 'Rhine', 'riot', 'pudding', 'treacherous', 'plantation', 'prettiest', 'sweeping', 'coachman', 'seizure', 'Brian', 'sunset', 'lawn', 'planting', 'dive', 'reckoning', 'industriously', 'laughing', 'panic', 'haul', 'overtake', 'bleed', 'trading', 'serpent', 'skating', 'endurable', 'crumble', 'cheerfulness', 'stroll', 'Abbey', 'blanket', 'laboratory', 'wilfully', 'skate', 'Legum', 'indoor', 'captivate', 'disable', 'suburban', 'Luncheon', 'Doctors', 'quieter', 'whip', 'hungry', 'lonely', 'howl', 'passenger', 'veil', 'executor', 'yearn', 'biscuit', 'spark', 'pillar', 'hothouse', 'brighten', 'locate', 'indisposition', 'whereupon', '〈as〉', 'habitable', 'kennel', 'gorilla', 'Reading', 'succede', 'bathe', 'whist', 'walking', 'strangle', 'cramp', 'blushing', 'biting', 'intent', 'Whitehaven', 'Hobby', 'gate', 'exclamation', 'Squire', 'upstairs', 'kindle', 'wake', 'mightily', 'solo', 'tap', 'trot', 'sleeper', 'hateful', 'Dining', 'compassion', 'entice']\n",
      "['collector', 'souvenir', 'version', 'assessment', 'initiative', 'Aristotle', 'forbearance', 'meagre', 'diffidence', 'eagerness', 'restoration', 'reminder', 'maxim', 'fairness', 'profess', 'leading', 'complement', 'god', 'skilled', 'Dog', 'learning', 'conducive', 'Annelids', 'sovereign', 'cursory', 'discourse', 'butcher', 'tabulate', 'candid', 'Testimonial', 'herald', 'inspiration', 'touching', 'likelihood', 'linguist', 'horrible', 'bespeak', 'droll', 'readiness', 'Ascidians', 'occupied', 'industry', 'photography', 'Botanists', 'reasoner', 'industrious', 'sire', 'enterprise', 'frightful', 'agricultural', 'suited', 'incapacity', 'participate', 'belonging', 'partner', 'glow', 'legacy', 'eyesight', 'Jews', 'marvel', 'indulgent', 'spirited', 'hop', 'attentively', 'Institut', 'routine', 'controversial', 'distinctness', 'Brain', 'contemporary', 'politeness', 'beginner', 'cooperation', 'accomplishment', 'animosity', 'citizen', 'tremendously', 'Darwinian', 'Microscope', 'reform', 'console', 'sermon', 'substantial', 'biologist', 'resumé', 'heresy', 'perseverance', 'authentic', 'shamefully', 'thoroughily', 'fruitful', 'truthful', 'rejection', 'Crustacea', 'classical', 'predecessor', 'embryological', 'achievement', 'giant', 'fallacious']\n",
      "Desterro\n",
      "['I.s', 'Martius', 'grandly', 'Newspapers', 'Grisebach', 'Timor', 'Oaks', 'Livingstone', 'Platanthera', 'Blumenau', 'Mission', 'Skull', 'Celebes', 'fortnightly', 'inclosure', 'Berthelot', 'manual', 'Ficus', 'Berkely', 'Davis', 'Wallaces', 'nos', 'Wichura', 'Nice', 'Gay', 'Müllers', 'Heidelberg', 'Toxodon', 'Census', 'Colorado', 'Gardner', 'Keeling', 'Practical', 'penultimate', 'Singapore', 'colonise', 'Planchon', 'paging', 'purport', '1871', 'summarise', 'authorize', 'Claparede', 'Harpers', 'Insects', 'editorship', 'CD', 'shipment', 'Cunningham', 'Gibraltar', 'Alp', 'Scudder', 'Natal', 'provisionally', 'Amazonia', 'unnamed', 'News', 'squalicola', 'Canterbury', 'Superintendent', 'trimorphous', 'naturalize', 'Amsterdam', 'Mammoth', 'humboldt', 'Brewer', 'Lewisii', 'Botan', 'monocot', 'overland', 'Hilaires', 'Encyclop', 'Challenger', 'Examination', 'diploma', 'pedunculata', 'Asclepiadæ', 'Map', 'transact', 'blot', 'Belgium', 'Scrope', 'Parts', 'Dust', 'Encyclopædia', 'Etna', 'Intellectual', 'Papilionidæ', 'unpaid', 'Personal', 'Courant', 'Bombay', 'Agricult', 'cameroon', 'cape', 'Letters', 'Observer', 'Caves', 'Transylvania', 'Equator']\n",
      "['forge', 'foothold', 'groundsel', 'Persian', 'Junonia', 'Banda', 'Felis', 'pratensis', 'mouldy', 'consort', 'Sierra', 'scratched', 'tarsi', 'quadrangularis', 'Oriental', 'Gallus', 'Eschscholtz', 'higer', 'Pochard', 'greenfinche', 'pathway', 'axial', 'bowl', '〈n〉o', 'Oat', 'Hedera', 'transversly', 'Hills', 'marginalis', 'thriving', 'Andamans', 'shovel', 'unilateral', 'clam', 'Burma', 'eared', 'rugged', 'preferred', 'suffuse', 'rufu', 'Rapæ', 'Bahia', 'Coleopterous', 'Malvaceae', 'semicircular', 'hyale', 'foodstuff', 'acuminate', 'quartz', 'Result', 'natura', 'washy', 'plaster', '2/', 'subapical', 'privileged', 'Lawn', 'piebald', 'abraded', 'Persia', 'audible', 'looker', 'Samoa', 'pudde', 'plantation', 'Bog', 'Satyridæ', 'rivulet', 'Horseback', 'yew', 'Sts', 'abut', 'pinkish', 'tri', 'placental', 'Colymbetes', 'lentiscus', 'Leone', 'sprawl', 'carcase', 'crossbred', 'impale', 'maze', 'shrubby', 'radiating', 'pairing', 'Arachnites', 'disproportionately', 'bawl', 'Auckland', 'nettle', 'Jar', 'hooked', 'dipteron', 'quercus', 'corymb', 'fallen', 'gelding', 'Anagallis', 'meridional']\n",
      "Divinity\n",
      "['tolerant', 'arguer', 'Bakerian', 'imaginative', 'stile', 'apathy', 'apprehensive', 'reformation', 'partisan', 'assimilation', 'Boards', 'compt', 'Ye', 'realisation', 'Cerebellum', 'Pest', 'Swedish', 'cleverness', 'functionary', 'reflective', 'Teachers', 'vicar', 'Consciousness', 'litterary', 'accordant', 'enrich', 'futility', 'federal', 'Bitter', 'bawl', 'vagabond', 'ken', 'venial', 'Meehan', 'disarm', 'Chalky', 'cherished', 'innovation', 'Alas', 'revolutionize', 'benth', 'preacher', 'meanness', 'prig', 'absorbing', 'semblance', 'immodest', 'birthplace', 'nightmare', 'clairvoyance', 'unprincipled', 'atonement', 'Days', 'sponsor', 'colossal', 'devout', 'handbuch', 'phraseology', 'weave', 'sovereignty', 'retribution', 'mediation', 'Geoly', 'discernable', 'Amber', 'Highness', 'incog', 'unfolded', 'coccineus', 'medallist', 'writ', 'tonic', 'godlike', 'couplet', 'coma', 'novo', 'philanthropist', 'duel', 'pant', 'fidelity', 'jostle', 'fiat', 'concussion', 'Baillie', 'transcendent', 'prepuce', 'Crossing', 'orthodoxist', 'ruck', 'snarling', 'Rudolf', 'Vegetative', 'Picture', 'Ophrydeæ', 'Rayleigh', 'dormitory', 'pseudonym', 'recovered', 'Athol', 'international']\n",
      "['Crum', 'Metaphysics', 'Linné', 'Emmanuel', 'Gibson', 'Cruger', 'Mohl', 'suburban', 'Napier', 'Séquard', 'Hereditary', 'Kölreuter', 'R.I.', 'Gegenbauer', 'Walden', 'Gill', 'Beale', 'Davidson', 'philology', 'Crüger', 'inaugurate', 'Bain', 'Division', 'Jowett', 'Bonney', 'extenuation', 'Machine', 'Jahrbuch', 'Mallet', 'Kegan', 'Buchanan', 'Scrope', 'Freiburg', 'Entomologist', 'Laplace', 'Ord', 'Kurr', 'Romilly', 'Perceval', 'Peacock', 'Beard', 'Hearne', 'steward', 'Rugby', 'Pen', 'Rutherford', 'Viscount', 'Monk', 'Count', 'Laugel', 'Comb', 'Acland', 'Cave', 'Dawson', 'Kuhn', 'Edinburg', 'Independent', 'Sy', 'plagiarism', 'Hayden', 'Sabine', 'Bohn', 'Hewitt', 'Croydon', 'Lockhardt', 'Daughters', 'Hofmann', 'Wallich', 'Exeter', 'Bateman', 'Argus', 'Hardwicke', 'Bayswater', 'knight', 'Delbœuf', '9/', 'grotesquely', 'Geography', 'Garrod', 'Tr', 'Assist', 'Kippist', 'Elie', 'Alexr', 'Publisher', 'Recht', 'Grt', 'Madrid', 'Elliott', 'leguminosæ', 'M.B.', 'Beal', 'Ticknor', 'Instn', 'Bullar', 'Hutton', 'Labours', 'jenner', 'Andersson', 'Piderit']\n",
      "Monotremata\n",
      "['Tapir', '\\xa0\\xa0\\xa0\\xa0\\xa0\\xa0\\xa0\\xa0', 'Pennatula', 'zoea', 'covey', 'Catarhine', 'trend', 'quiescent', 'Papuans', 'contiguous', 'firearm', 'Cycas', 'Greeks', 'captive', 'reservoir', 'independantly', 'cyclic', 'homestead', 'intermaxillary', 'utricle', 'caucasian', 'asian', 'Weimar', 'montanus', 'gymnosperm', 'condyle', 'Stettiner', 'tumbling', 'Trousseau', 'nauseous', 'semicircular', 'xx', 'traditional', 'triangular', 'residuum', 'Bohemia', 'colr', 'Ancestor', 'ugliest', 'hardiness', 'retardation', 'Hottentot', 'udder', 'intuitive', 'hairyness', 'Egyptian', 'Léberon', 'rhizome', 'coherent', 'vacillate', 'sandpiper', 'suitor', 'umbilical', 'Laboratories', 'chrysalid', 'invader', 'teutonic', 'symbolically', 'secondarily', 'Confervæ', 'beckon', 'flea', 'municipal', 'regrow', 'flaccidity', 'consecrate', 'Thylacinus', 'casing', 'Picus', 'emphasise', 'Continents', 'Jesuits', 'dazzle', 'Lemurs', 'slim', 'temporal', 'constriction', 'differentiate', 'sternal', 'subservience', 'xtent', 'Vidua', 'reformatory', 'antagonism', 'patella', 'Pyrosoma', 'Swallows', 'bile', 'finer', 'utterance', 'severest', 'alledge', 'fearless', 'crustaceans', 'pampered', 'metabolism', 'anastomose', 'malformation', 'Turks', 'inhibitory']\n",
      "['preposition', 'sein', '834', 'Alexis', 'brackish', 'dweller', 'Aymara', 'petit', 'gar', 'vols', 'minutus', 'Tristan', 'sine', 'coloration', 'gild', 'Centigrade', 'Staudinger', 'dependance', 'rivale', 'Samoa', 'navigable', 'comely', 'originating', 'Vide', 'Geologie', 'quail', 'commonest', 'imperative', 'Nest', 'clam', 'Sul', 'sessiliflora', 'Kaup', 'palpitation', 'intermedia', 'Palestine', 'Jacksonville', 'obscenity', 'buch', 'messmate', 'sewer', 'rusticate', 'impudently', 'Kilkenny', 'Words', 'legion', 'Phy', 'Monte', 'Alpaca', 'seychelle', 'Mouth', 'phlox', 'prophetic', 'Wealth', 'Bath', 'Complemental', 'Auckland', 'Cissampelos', 'anarchy', 'enceinte', 'Serbia', 'Services', 'Capetown', 'Lille', 'Bean', 'Trecul', 'Bight', 'behoof', 'Ephemeridae', 'shifting', 'protochloride', 'Domingo', 'Lepidosiren', 'Azorean', 'D1', 'explicate', 'satin', 'pellucidus', 'chirp', 'paniculata', 'Keys', 'Wing', 'Newberry', 'spatial', 'inflamation', 'Herbs', 'cordata', 'Soup', 'Eczema', 'Saharan', 'Region', 'canescen', 'Somerset', 'Grisebach', 'Dianthus', 'Moo', 'disputant', 'Harbor', 'Drury', 'Peltogaster']\n"
     ]
    }
   ],
   "source": [
    "for w in top_changed:\n",
    "  print(w)\n",
    "  print(str(word2neighbours1[w]))\n",
    "  print(str(word2neighbours2[w]))"
   ]
  },
  {
   "cell_type": "code",
   "execution_count": null,
   "metadata": {
    "colab": {
     "base_uri": "https://localhost:8080/",
     "height": 297
    },
    "id": "f5AXTSaoWUPP",
    "outputId": "71aa5041-8c3c-4368-885b-a47607bab27b"
   },
   "outputs": [
    {
     "data": {
      "text/html": [
       "<div>\n",
       "<style scoped>\n",
       "    .dataframe tbody tr th:only-of-type {\n",
       "        vertical-align: middle;\n",
       "    }\n",
       "\n",
       "    .dataframe tbody tr th {\n",
       "        vertical-align: top;\n",
       "    }\n",
       "\n",
       "    .dataframe thead th {\n",
       "        text-align: right;\n",
       "    }\n",
       "</style>\n",
       "<table border=\"1\" class=\"dataframe\">\n",
       "  <thead>\n",
       "    <tr style=\"text-align: right;\">\n",
       "      <th></th>\n",
       "      <th>Neighbour_score</th>\n",
       "      <th>Frequency_t1</th>\n",
       "      <th>Frequency_t2</th>\n",
       "    </tr>\n",
       "  </thead>\n",
       "  <tbody>\n",
       "    <tr>\n",
       "      <th>count</th>\n",
       "      <td>15877.000000</td>\n",
       "      <td>15877.000000</td>\n",
       "      <td>15877.000000</td>\n",
       "    </tr>\n",
       "    <tr>\n",
       "      <th>mean</th>\n",
       "      <td>0.064380</td>\n",
       "      <td>119.614789</td>\n",
       "      <td>75.244505</td>\n",
       "    </tr>\n",
       "    <tr>\n",
       "      <th>std</th>\n",
       "      <td>0.089923</td>\n",
       "      <td>959.505965</td>\n",
       "      <td>620.545063</td>\n",
       "    </tr>\n",
       "    <tr>\n",
       "      <th>min</th>\n",
       "      <td>0.000000</td>\n",
       "      <td>4.000000</td>\n",
       "      <td>3.000000</td>\n",
       "    </tr>\n",
       "    <tr>\n",
       "      <th>25%</th>\n",
       "      <td>0.010000</td>\n",
       "      <td>6.000000</td>\n",
       "      <td>4.000000</td>\n",
       "    </tr>\n",
       "    <tr>\n",
       "      <th>50%</th>\n",
       "      <td>0.020000</td>\n",
       "      <td>12.000000</td>\n",
       "      <td>8.000000</td>\n",
       "    </tr>\n",
       "    <tr>\n",
       "      <th>75%</th>\n",
       "      <td>0.090000</td>\n",
       "      <td>37.000000</td>\n",
       "      <td>23.000000</td>\n",
       "    </tr>\n",
       "    <tr>\n",
       "      <th>max</th>\n",
       "      <td>0.670000</td>\n",
       "      <td>49107.000000</td>\n",
       "      <td>31456.000000</td>\n",
       "    </tr>\n",
       "  </tbody>\n",
       "</table>\n",
       "</div>"
      ],
      "text/plain": [
       "       Neighbour_score  Frequency_t1  Frequency_t2\n",
       "count  15877.000000     15877.000000  15877.000000\n",
       "mean   0.064380         119.614789    75.244505   \n",
       "std    0.089923         959.505965    620.545063  \n",
       "min    0.000000         4.000000      3.000000    \n",
       "25%    0.010000         6.000000      4.000000    \n",
       "50%    0.020000         12.000000     8.000000    \n",
       "75%    0.090000         37.000000     23.000000   \n",
       "max    0.670000         49107.000000  31456.000000"
      ]
     },
     "execution_count": 122,
     "metadata": {},
     "output_type": "execute_result"
    }
   ],
   "source": [
    "neighbours_df = pd.DataFrame(([w, w2sc[w], model1.wv.get_vecattr(w, \"count\") , model2.wv.get_vecattr(w, \"count\") ] for w in vocab_filtered), columns = ('Word', 'Neighbour_score', \"Frequency_t1\", \"Frequency_t2\"))\n",
    "neighbours_df.describe()"
   ]
  },
  {
   "cell_type": "markdown",
   "metadata": {
    "id": "da1Qi0OtWUPV"
   },
   "source": [
    "Visualise the distribution of the semantic change scores with a histogram:"
   ]
  },
  {
   "cell_type": "code",
   "execution_count": null,
   "metadata": {
    "colab": {
     "base_uri": "https://localhost:8080/",
     "height": 265
    },
    "id": "2ghdve2tWUPW",
    "outputId": "4a337b5f-8879-4511-9756-eee598ec6b7e"
   },
   "outputs": [
    {
     "data": {
      "image/png": "[encoded data removed]",
      "text/plain": [
       "<Figure size 432x288 with 1 Axes>"
      ]
     },
     "metadata": {},
     "output_type": "display_data"
    }
   ],
   "source": [
    "hist = neighbours_df['Neighbour_score'].hist()"
   ]
  },
  {
   "cell_type": "markdown",
   "metadata": {
    "id": "YrBABO7pWUPW"
   },
   "source": [
    "Now I sort by increasing neighbour score:"
   ]
  },
  {
   "cell_type": "code",
   "execution_count": null,
   "metadata": {
    "colab": {
     "base_uri": "https://localhost:8080/",
     "height": 1000
    },
    "id": "myMUQACLWUPW",
    "outputId": "c06af804-813f-4761-9d02-dacd4059a388"
   },
   "outputs": [
    {
     "data": {
      "text/html": [
       "<div>\n",
       "<style scoped>\n",
       "    .dataframe tbody tr th:only-of-type {\n",
       "        vertical-align: middle;\n",
       "    }\n",
       "\n",
       "    .dataframe tbody tr th {\n",
       "        vertical-align: top;\n",
       "    }\n",
       "\n",
       "    .dataframe thead th {\n",
       "        text-align: right;\n",
       "    }\n",
       "</style>\n",
       "<table border=\"1\" class=\"dataframe\">\n",
       "  <thead>\n",
       "    <tr style=\"text-align: right;\">\n",
       "      <th></th>\n",
       "      <th>Word</th>\n",
       "      <th>Neighbour_score</th>\n",
       "      <th>Frequency_t1</th>\n",
       "      <th>Frequency_t2</th>\n",
       "    </tr>\n",
       "  </thead>\n",
       "  <tbody>\n",
       "    <tr>\n",
       "      <th>12096</th>\n",
       "      <td>quoad</td>\n",
       "      <td>0.0</td>\n",
       "      <td>6</td>\n",
       "      <td>4</td>\n",
       "    </tr>\n",
       "    <tr>\n",
       "      <th>7091</th>\n",
       "      <td>leak</td>\n",
       "      <td>0.0</td>\n",
       "      <td>5</td>\n",
       "      <td>3</td>\n",
       "    </tr>\n",
       "    <tr>\n",
       "      <th>10971</th>\n",
       "      <td>Langer</td>\n",
       "      <td>0.0</td>\n",
       "      <td>4</td>\n",
       "      <td>3</td>\n",
       "    </tr>\n",
       "    <tr>\n",
       "      <th>7098</th>\n",
       "      <td>collaborator</td>\n",
       "      <td>0.0</td>\n",
       "      <td>8</td>\n",
       "      <td>5</td>\n",
       "    </tr>\n",
       "    <tr>\n",
       "      <th>7099</th>\n",
       "      <td>groom</td>\n",
       "      <td>0.0</td>\n",
       "      <td>7</td>\n",
       "      <td>5</td>\n",
       "    </tr>\n",
       "    <tr>\n",
       "      <th>10966</th>\n",
       "      <td>surprized</td>\n",
       "      <td>0.0</td>\n",
       "      <td>5</td>\n",
       "      <td>3</td>\n",
       "    </tr>\n",
       "    <tr>\n",
       "      <th>4422</th>\n",
       "      <td>Provence</td>\n",
       "      <td>0.0</td>\n",
       "      <td>7</td>\n",
       "      <td>5</td>\n",
       "    </tr>\n",
       "    <tr>\n",
       "      <th>4421</th>\n",
       "      <td>1803</td>\n",
       "      <td>0.0</td>\n",
       "      <td>4</td>\n",
       "      <td>3</td>\n",
       "    </tr>\n",
       "    <tr>\n",
       "      <th>7102</th>\n",
       "      <td>Sequoia</td>\n",
       "      <td>0.0</td>\n",
       "      <td>5</td>\n",
       "      <td>3</td>\n",
       "    </tr>\n",
       "    <tr>\n",
       "      <th>10958</th>\n",
       "      <td>carve</td>\n",
       "      <td>0.0</td>\n",
       "      <td>5</td>\n",
       "      <td>3</td>\n",
       "    </tr>\n",
       "    <tr>\n",
       "      <th>7106</th>\n",
       "      <td>Zoonomia</td>\n",
       "      <td>0.0</td>\n",
       "      <td>19</td>\n",
       "      <td>12</td>\n",
       "    </tr>\n",
       "    <tr>\n",
       "      <th>10951</th>\n",
       "      <td>existance</td>\n",
       "      <td>0.0</td>\n",
       "      <td>5</td>\n",
       "      <td>3</td>\n",
       "    </tr>\n",
       "    <tr>\n",
       "      <th>2510</th>\n",
       "      <td>dullness</td>\n",
       "      <td>0.0</td>\n",
       "      <td>7</td>\n",
       "      <td>5</td>\n",
       "    </tr>\n",
       "    <tr>\n",
       "      <th>2525</th>\n",
       "      <td>aërial</td>\n",
       "      <td>0.0</td>\n",
       "      <td>5</td>\n",
       "      <td>4</td>\n",
       "    </tr>\n",
       "    <tr>\n",
       "      <th>10946</th>\n",
       "      <td>Crust</td>\n",
       "      <td>0.0</td>\n",
       "      <td>5</td>\n",
       "      <td>3</td>\n",
       "    </tr>\n",
       "    <tr>\n",
       "      <th>10944</th>\n",
       "      <td>borne</td>\n",
       "      <td>0.0</td>\n",
       "      <td>9</td>\n",
       "      <td>6</td>\n",
       "    </tr>\n",
       "    <tr>\n",
       "      <th>2530</th>\n",
       "      <td>rabid</td>\n",
       "      <td>0.0</td>\n",
       "      <td>9</td>\n",
       "      <td>5</td>\n",
       "    </tr>\n",
       "    <tr>\n",
       "      <th>10937</th>\n",
       "      <td>Schleiden</td>\n",
       "      <td>0.0</td>\n",
       "      <td>6</td>\n",
       "      <td>4</td>\n",
       "    </tr>\n",
       "    <tr>\n",
       "      <th>10936</th>\n",
       "      <td>Thames</td>\n",
       "      <td>0.0</td>\n",
       "      <td>18</td>\n",
       "      <td>12</td>\n",
       "    </tr>\n",
       "    <tr>\n",
       "      <th>2533</th>\n",
       "      <td>fibrous</td>\n",
       "      <td>0.0</td>\n",
       "      <td>15</td>\n",
       "      <td>9</td>\n",
       "    </tr>\n",
       "    <tr>\n",
       "      <th>10935</th>\n",
       "      <td>Antwerp</td>\n",
       "      <td>0.0</td>\n",
       "      <td>9</td>\n",
       "      <td>6</td>\n",
       "    </tr>\n",
       "    <tr>\n",
       "      <th>2535</th>\n",
       "      <td>reexamine</td>\n",
       "      <td>0.0</td>\n",
       "      <td>6</td>\n",
       "      <td>4</td>\n",
       "    </tr>\n",
       "    <tr>\n",
       "      <th>7109</th>\n",
       "      <td>unsymmetrical</td>\n",
       "      <td>0.0</td>\n",
       "      <td>5</td>\n",
       "      <td>3</td>\n",
       "    </tr>\n",
       "    <tr>\n",
       "      <th>10931</th>\n",
       "      <td>Eczema</td>\n",
       "      <td>0.0</td>\n",
       "      <td>8</td>\n",
       "      <td>5</td>\n",
       "    </tr>\n",
       "    <tr>\n",
       "      <th>2538</th>\n",
       "      <td>Ping</td>\n",
       "      <td>0.0</td>\n",
       "      <td>5</td>\n",
       "      <td>4</td>\n",
       "    </tr>\n",
       "    <tr>\n",
       "      <th>10950</th>\n",
       "      <td>Fresh</td>\n",
       "      <td>0.0</td>\n",
       "      <td>6</td>\n",
       "      <td>4</td>\n",
       "    </tr>\n",
       "    <tr>\n",
       "      <th>4415</th>\n",
       "      <td>car</td>\n",
       "      <td>0.0</td>\n",
       "      <td>6</td>\n",
       "      <td>4</td>\n",
       "    </tr>\n",
       "    <tr>\n",
       "      <th>7090</th>\n",
       "      <td>lense</td>\n",
       "      <td>0.0</td>\n",
       "      <td>6</td>\n",
       "      <td>4</td>\n",
       "    </tr>\n",
       "    <tr>\n",
       "      <th>7087</th>\n",
       "      <td>Valerian</td>\n",
       "      <td>0.0</td>\n",
       "      <td>5</td>\n",
       "      <td>3</td>\n",
       "    </tr>\n",
       "    <tr>\n",
       "      <th>11043</th>\n",
       "      <td>Hector</td>\n",
       "      <td>0.0</td>\n",
       "      <td>21</td>\n",
       "      <td>13</td>\n",
       "    </tr>\n",
       "    <tr>\n",
       "      <th>11042</th>\n",
       "      <td>Cassias</td>\n",
       "      <td>0.0</td>\n",
       "      <td>6</td>\n",
       "      <td>4</td>\n",
       "    </tr>\n",
       "    <tr>\n",
       "      <th>11039</th>\n",
       "      <td>forefoot</td>\n",
       "      <td>0.0</td>\n",
       "      <td>4</td>\n",
       "      <td>3</td>\n",
       "    </tr>\n",
       "    <tr>\n",
       "      <th>2485</th>\n",
       "      <td>Tortoiseshell</td>\n",
       "      <td>0.0</td>\n",
       "      <td>4</td>\n",
       "      <td>3</td>\n",
       "    </tr>\n",
       "    <tr>\n",
       "      <th>11038</th>\n",
       "      <td>Newmarket</td>\n",
       "      <td>0.0</td>\n",
       "      <td>7</td>\n",
       "      <td>4</td>\n",
       "    </tr>\n",
       "    <tr>\n",
       "      <th>7071</th>\n",
       "      <td>specialist</td>\n",
       "      <td>0.0</td>\n",
       "      <td>8</td>\n",
       "      <td>5</td>\n",
       "    </tr>\n",
       "    <tr>\n",
       "      <th>7077</th>\n",
       "      <td>boggy</td>\n",
       "      <td>0.0</td>\n",
       "      <td>6</td>\n",
       "      <td>4</td>\n",
       "    </tr>\n",
       "    <tr>\n",
       "      <th>7080</th>\n",
       "      <td>earthly</td>\n",
       "      <td>0.0</td>\n",
       "      <td>9</td>\n",
       "      <td>6</td>\n",
       "    </tr>\n",
       "    <tr>\n",
       "      <th>7081</th>\n",
       "      <td>immune</td>\n",
       "      <td>0.0</td>\n",
       "      <td>7</td>\n",
       "      <td>5</td>\n",
       "    </tr>\n",
       "    <tr>\n",
       "      <th>4433</th>\n",
       "      <td>vizt</td>\n",
       "      <td>0.0</td>\n",
       "      <td>10</td>\n",
       "      <td>6</td>\n",
       "    </tr>\n",
       "    <tr>\n",
       "      <th>11020</th>\n",
       "      <td></td>\n",
       "      <td>0.0</td>\n",
       "      <td>4</td>\n",
       "      <td>3</td>\n",
       "    </tr>\n",
       "    <tr>\n",
       "      <th>7088</th>\n",
       "      <td>Hemiptera</td>\n",
       "      <td>0.0</td>\n",
       "      <td>7</td>\n",
       "      <td>4</td>\n",
       "    </tr>\n",
       "    <tr>\n",
       "      <th>11018</th>\n",
       "      <td>Martha</td>\n",
       "      <td>0.0</td>\n",
       "      <td>7</td>\n",
       "      <td>4</td>\n",
       "    </tr>\n",
       "    <tr>\n",
       "      <th>11012</th>\n",
       "      <td>animalcule</td>\n",
       "      <td>0.0</td>\n",
       "      <td>4</td>\n",
       "      <td>3</td>\n",
       "    </tr>\n",
       "    <tr>\n",
       "      <th>4432</th>\n",
       "      <td>Records</td>\n",
       "      <td>0.0</td>\n",
       "      <td>4</td>\n",
       "      <td>3</td>\n",
       "    </tr>\n",
       "    <tr>\n",
       "      <th>11005</th>\n",
       "      <td>coughing</td>\n",
       "      <td>0.0</td>\n",
       "      <td>4</td>\n",
       "      <td>3</td>\n",
       "    </tr>\n",
       "    <tr>\n",
       "      <th>2499</th>\n",
       "      <td>listener</td>\n",
       "      <td>0.0</td>\n",
       "      <td>5</td>\n",
       "      <td>3</td>\n",
       "    </tr>\n",
       "    <tr>\n",
       "      <th>11001</th>\n",
       "      <td>Hirst</td>\n",
       "      <td>0.0</td>\n",
       "      <td>5</td>\n",
       "      <td>3</td>\n",
       "    </tr>\n",
       "    <tr>\n",
       "      <th>11000</th>\n",
       "      <td>japanese</td>\n",
       "      <td>0.0</td>\n",
       "      <td>17</td>\n",
       "      <td>11</td>\n",
       "    </tr>\n",
       "    <tr>\n",
       "      <th>10997</th>\n",
       "      <td>Colburn</td>\n",
       "      <td>0.0</td>\n",
       "      <td>26</td>\n",
       "      <td>17</td>\n",
       "    </tr>\n",
       "    <tr>\n",
       "      <th>10996</th>\n",
       "      <td>Amazon</td>\n",
       "      <td>0.0</td>\n",
       "      <td>21</td>\n",
       "      <td>13</td>\n",
       "    </tr>\n",
       "  </tbody>\n",
       "</table>\n",
       "</div>"
      ],
      "text/plain": [
       "                Word  Neighbour_score  Frequency_t1  Frequency_t2\n",
       "12096  quoad          0.0              6             4           \n",
       "7091   leak           0.0              5             3           \n",
       "10971  Langer         0.0              4             3           \n",
       "7098   collaborator   0.0              8             5           \n",
       "7099   groom          0.0              7             5           \n",
       "10966  surprized      0.0              5             3           \n",
       "4422   Provence       0.0              7             5           \n",
       "4421   1803           0.0              4             3           \n",
       "7102   Sequoia        0.0              5             3           \n",
       "10958  carve          0.0              5             3           \n",
       "7106   Zoonomia       0.0              19            12          \n",
       "10951  existance      0.0              5             3           \n",
       "2510   dullness       0.0              7             5           \n",
       "2525   aërial         0.0              5             4           \n",
       "10946  Crust          0.0              5             3           \n",
       "10944  borne          0.0              9             6           \n",
       "2530   rabid          0.0              9             5           \n",
       "10937  Schleiden      0.0              6             4           \n",
       "10936  Thames         0.0              18            12          \n",
       "2533   fibrous        0.0              15            9           \n",
       "10935  Antwerp        0.0              9             6           \n",
       "2535   reexamine      0.0              6             4           \n",
       "7109   unsymmetrical  0.0              5             3           \n",
       "10931  Eczema         0.0              8             5           \n",
       "2538   Ping           0.0              5             4           \n",
       "10950  Fresh          0.0              6             4           \n",
       "4415   car            0.0              6             4           \n",
       "7090   lense          0.0              6             4           \n",
       "7087   Valerian       0.0              5             3           \n",
       "11043  Hector         0.0              21            13          \n",
       "11042  Cassias        0.0              6             4           \n",
       "11039  forefoot       0.0              4             3           \n",
       "2485   Tortoiseshell  0.0              4             3           \n",
       "11038  Newmarket      0.0              7             4           \n",
       "7071   specialist     0.0              8             5           \n",
       "7077   boggy          0.0              6             4           \n",
       "7080   earthly        0.0              9             6           \n",
       "7081   immune         0.0              7             5           \n",
       "4433   vizt           0.0              10            6           \n",
       "11020                 0.0              4             3           \n",
       "7088   Hemiptera      0.0              7             4           \n",
       "11018  Martha         0.0              7             4           \n",
       "11012  animalcule     0.0              4             3           \n",
       "4432   Records        0.0              4             3           \n",
       "11005  coughing       0.0              4             3           \n",
       "2499   listener       0.0              5             3           \n",
       "11001  Hirst          0.0              5             3           \n",
       "11000  japanese       0.0              17            11          \n",
       "10997  Colburn        0.0              26            17          \n",
       "10996  Amazon         0.0              21            13          "
      ]
     },
     "execution_count": 124,
     "metadata": {},
     "output_type": "execute_result"
    }
   ],
   "source": [
    "neighbours_df_sorted = neighbours_df.sort_values(by='Neighbour_score', ascending=True)\n",
    "neighbours_df_sorted.head(50)"
   ]
  },
  {
   "cell_type": "markdown",
   "metadata": {
    "id": "-zG9V-grWUPW"
   },
   "source": [
    "I add the total frequency:"
   ]
  },
  {
   "cell_type": "code",
   "execution_count": null,
   "metadata": {
    "colab": {
     "base_uri": "https://localhost:8080/",
     "height": 419
    },
    "id": "R-SYY-JhWUPW",
    "outputId": "7f2af20d-5b4b-44d8-9e56-c2478b3c1523"
   },
   "outputs": [
    {
     "data": {
      "text/html": [
       "<div>\n",
       "<style scoped>\n",
       "    .dataframe tbody tr th:only-of-type {\n",
       "        vertical-align: middle;\n",
       "    }\n",
       "\n",
       "    .dataframe tbody tr th {\n",
       "        vertical-align: top;\n",
       "    }\n",
       "\n",
       "    .dataframe thead th {\n",
       "        text-align: right;\n",
       "    }\n",
       "</style>\n",
       "<table border=\"1\" class=\"dataframe\">\n",
       "  <thead>\n",
       "    <tr style=\"text-align: right;\">\n",
       "      <th></th>\n",
       "      <th>Word</th>\n",
       "      <th>Neighbour_score</th>\n",
       "      <th>Frequency_t1</th>\n",
       "      <th>Frequency_t2</th>\n",
       "      <th>Total_Frequency</th>\n",
       "    </tr>\n",
       "  </thead>\n",
       "  <tbody>\n",
       "    <tr>\n",
       "      <th>12096</th>\n",
       "      <td>quoad</td>\n",
       "      <td>0.00</td>\n",
       "      <td>6</td>\n",
       "      <td>4</td>\n",
       "      <td>10</td>\n",
       "    </tr>\n",
       "    <tr>\n",
       "      <th>7091</th>\n",
       "      <td>leak</td>\n",
       "      <td>0.00</td>\n",
       "      <td>5</td>\n",
       "      <td>3</td>\n",
       "      <td>8</td>\n",
       "    </tr>\n",
       "    <tr>\n",
       "      <th>10971</th>\n",
       "      <td>Langer</td>\n",
       "      <td>0.00</td>\n",
       "      <td>4</td>\n",
       "      <td>3</td>\n",
       "      <td>7</td>\n",
       "    </tr>\n",
       "    <tr>\n",
       "      <th>7098</th>\n",
       "      <td>collaborator</td>\n",
       "      <td>0.00</td>\n",
       "      <td>8</td>\n",
       "      <td>5</td>\n",
       "      <td>13</td>\n",
       "    </tr>\n",
       "    <tr>\n",
       "      <th>7099</th>\n",
       "      <td>groom</td>\n",
       "      <td>0.00</td>\n",
       "      <td>7</td>\n",
       "      <td>5</td>\n",
       "      <td>12</td>\n",
       "    </tr>\n",
       "    <tr>\n",
       "      <th>...</th>\n",
       "      <td>...</td>\n",
       "      <td>...</td>\n",
       "      <td>...</td>\n",
       "      <td>...</td>\n",
       "      <td>...</td>\n",
       "    </tr>\n",
       "    <tr>\n",
       "      <th>7720</th>\n",
       "      <td>5</td>\n",
       "      <td>0.63</td>\n",
       "      <td>786</td>\n",
       "      <td>492</td>\n",
       "      <td>1278</td>\n",
       "    </tr>\n",
       "    <tr>\n",
       "      <th>8669</th>\n",
       "      <td>December</td>\n",
       "      <td>0.63</td>\n",
       "      <td>137</td>\n",
       "      <td>86</td>\n",
       "      <td>223</td>\n",
       "    </tr>\n",
       "    <tr>\n",
       "      <th>12051</th>\n",
       "      <td>April</td>\n",
       "      <td>0.64</td>\n",
       "      <td>214</td>\n",
       "      <td>136</td>\n",
       "      <td>350</td>\n",
       "    </tr>\n",
       "    <tr>\n",
       "      <th>549</th>\n",
       "      <td>June</td>\n",
       "      <td>0.65</td>\n",
       "      <td>243</td>\n",
       "      <td>153</td>\n",
       "      <td>396</td>\n",
       "    </tr>\n",
       "    <tr>\n",
       "      <th>7072</th>\n",
       "      <td>8</td>\n",
       "      <td>0.67</td>\n",
       "      <td>386</td>\n",
       "      <td>250</td>\n",
       "      <td>636</td>\n",
       "    </tr>\n",
       "  </tbody>\n",
       "</table>\n",
       "<p>15877 rows × 5 columns</p>\n",
       "</div>"
      ],
      "text/plain": [
       "               Word  Neighbour_score  ...  Frequency_t2  Total_Frequency\n",
       "12096  quoad         0.00             ...  4             10             \n",
       "7091   leak          0.00             ...  3             8              \n",
       "10971  Langer        0.00             ...  3             7              \n",
       "7098   collaborator  0.00             ...  5             13             \n",
       "7099   groom         0.00             ...  5             12             \n",
       "...      ...          ...             ... ..             ..             \n",
       "7720   5             0.63             ...  492           1278           \n",
       "8669   December      0.63             ...  86            223            \n",
       "12051  April         0.64             ...  136           350            \n",
       "549    June          0.65             ...  153           396            \n",
       "7072   8             0.67             ...  250           636            \n",
       "\n",
       "[15877 rows x 5 columns]"
      ]
     },
     "execution_count": 125,
     "metadata": {},
     "output_type": "execute_result"
    }
   ],
   "source": [
    "neighbours_df_sorted[\"Total_Frequency\"] = neighbours_df_sorted[\"Frequency_t1\"]+neighbours_df_sorted[\"Frequency_t2\"]\n",
    "neighbours_df_sorted"
   ]
  },
  {
   "cell_type": "markdown",
   "metadata": {
    "id": "EeAEgWOHWUPW"
   },
   "source": [
    "I add a column with the category (function word, foreign word, numeral, and proper noun)."
   ]
  },
  {
   "cell_type": "code",
   "execution_count": null,
   "metadata": {
    "colab": {
     "base_uri": "https://localhost:8080/",
     "height": 419
    },
    "id": "S2Gac0WvWUPX",
    "outputId": "eaae6bf4-e7f6-457c-83c9-a910bf9f80c9"
   },
   "outputs": [
    {
     "data": {
      "text/html": [
       "<div>\n",
       "<style scoped>\n",
       "    .dataframe tbody tr th:only-of-type {\n",
       "        vertical-align: middle;\n",
       "    }\n",
       "\n",
       "    .dataframe tbody tr th {\n",
       "        vertical-align: top;\n",
       "    }\n",
       "\n",
       "    .dataframe thead th {\n",
       "        text-align: right;\n",
       "    }\n",
       "</style>\n",
       "<table border=\"1\" class=\"dataframe\">\n",
       "  <thead>\n",
       "    <tr style=\"text-align: right;\">\n",
       "      <th></th>\n",
       "      <th>Word</th>\n",
       "      <th>Neighbour_score</th>\n",
       "      <th>Frequency_t1</th>\n",
       "      <th>Frequency_t2</th>\n",
       "      <th>Total_Frequency</th>\n",
       "      <th>Category_automatic</th>\n",
       "    </tr>\n",
       "  </thead>\n",
       "  <tbody>\n",
       "    <tr>\n",
       "      <th>12096</th>\n",
       "      <td>quoad</td>\n",
       "      <td>0.00</td>\n",
       "      <td>6</td>\n",
       "      <td>4</td>\n",
       "      <td>10</td>\n",
       "      <td>Foreign word</td>\n",
       "    </tr>\n",
       "    <tr>\n",
       "      <th>7091</th>\n",
       "      <td>leak</td>\n",
       "      <td>0.00</td>\n",
       "      <td>5</td>\n",
       "      <td>3</td>\n",
       "      <td>8</td>\n",
       "      <td></td>\n",
       "    </tr>\n",
       "    <tr>\n",
       "      <th>10971</th>\n",
       "      <td>Langer</td>\n",
       "      <td>0.00</td>\n",
       "      <td>4</td>\n",
       "      <td>3</td>\n",
       "      <td>7</td>\n",
       "      <td>Proper noun</td>\n",
       "    </tr>\n",
       "    <tr>\n",
       "      <th>7098</th>\n",
       "      <td>collaborator</td>\n",
       "      <td>0.00</td>\n",
       "      <td>8</td>\n",
       "      <td>5</td>\n",
       "      <td>13</td>\n",
       "      <td></td>\n",
       "    </tr>\n",
       "    <tr>\n",
       "      <th>7099</th>\n",
       "      <td>groom</td>\n",
       "      <td>0.00</td>\n",
       "      <td>7</td>\n",
       "      <td>5</td>\n",
       "      <td>12</td>\n",
       "      <td></td>\n",
       "    </tr>\n",
       "    <tr>\n",
       "      <th>...</th>\n",
       "      <td>...</td>\n",
       "      <td>...</td>\n",
       "      <td>...</td>\n",
       "      <td>...</td>\n",
       "      <td>...</td>\n",
       "      <td>...</td>\n",
       "    </tr>\n",
       "    <tr>\n",
       "      <th>7720</th>\n",
       "      <td>5</td>\n",
       "      <td>0.63</td>\n",
       "      <td>786</td>\n",
       "      <td>492</td>\n",
       "      <td>1278</td>\n",
       "      <td>Numeral</td>\n",
       "    </tr>\n",
       "    <tr>\n",
       "      <th>8669</th>\n",
       "      <td>December</td>\n",
       "      <td>0.63</td>\n",
       "      <td>137</td>\n",
       "      <td>86</td>\n",
       "      <td>223</td>\n",
       "      <td>Proper noun</td>\n",
       "    </tr>\n",
       "    <tr>\n",
       "      <th>12051</th>\n",
       "      <td>April</td>\n",
       "      <td>0.64</td>\n",
       "      <td>214</td>\n",
       "      <td>136</td>\n",
       "      <td>350</td>\n",
       "      <td>Proper noun</td>\n",
       "    </tr>\n",
       "    <tr>\n",
       "      <th>549</th>\n",
       "      <td>June</td>\n",
       "      <td>0.65</td>\n",
       "      <td>243</td>\n",
       "      <td>153</td>\n",
       "      <td>396</td>\n",
       "      <td>Proper noun</td>\n",
       "    </tr>\n",
       "    <tr>\n",
       "      <th>7072</th>\n",
       "      <td>8</td>\n",
       "      <td>0.67</td>\n",
       "      <td>386</td>\n",
       "      <td>250</td>\n",
       "      <td>636</td>\n",
       "      <td>Numeral</td>\n",
       "    </tr>\n",
       "  </tbody>\n",
       "</table>\n",
       "<p>15877 rows × 6 columns</p>\n",
       "</div>"
      ],
      "text/plain": [
       "               Word  Neighbour_score  ...  Total_Frequency  Category_automatic\n",
       "12096  quoad         0.00             ...  10               Foreign word      \n",
       "7091   leak          0.00             ...  8                                  \n",
       "10971  Langer        0.00             ...  7                Proper noun       \n",
       "7098   collaborator  0.00             ...  13                                 \n",
       "7099   groom         0.00             ...  12                                 \n",
       "...      ...          ...             ...  ..              ..                 \n",
       "7720   5             0.63             ...  1278             Numeral           \n",
       "8669   December      0.63             ...  223              Proper noun       \n",
       "12051  April         0.64             ...  350              Proper noun       \n",
       "549    June          0.65             ...  396              Proper noun       \n",
       "7072   8             0.67             ...  636              Numeral           \n",
       "\n",
       "[15877 rows x 6 columns]"
      ]
     },
     "execution_count": 126,
     "metadata": {},
     "output_type": "execute_result"
    }
   ],
   "source": [
    "# create a list of our conditions\n",
    "conditions = [\n",
    "    (neighbours_df_sorted['Word'].isin(function_words)), # function words\n",
    "    ((neighbours_df_sorted.Word.str.isdigit()) | (neighbours_df_sorted['Word'].str.match('^\\d*?1st$')) | (neighbours_df_sorted['Word'].str.match('^\\d*?2nd$')) | (neighbours_df_sorted['Word'].str.match('^\\d*?3rd$')) | (neighbours_df_sorted['Word'].str.match('^\\d*[^123]th$'))), # numbers\n",
    "    (neighbours_df_sorted['Word'].apply(lambda x: x[0].isupper() and x[1:len(x)].islower())), # proper nouns\n",
    "    (np.invert(neighbours_df_sorted['Word'].str.lower().isin(english_vocab))) # foreign words\n",
    "    ]\n",
    "\n",
    "# create a list of the values we want to assign for each condition\n",
    "values = ['Function word','Numeral', 'Proper noun', 'Foreign word']\n",
    "\n",
    "# create a new column and use np.select to assign values to it using our lists as arguments\n",
    "neighbours_df_sorted['Category_automatic'] = np.select(conditions, values, default = \"\")\n",
    "neighbours_df_sorted"
   ]
  },
  {
   "cell_type": "markdown",
   "metadata": {
    "id": "PFUitkPpWUPX"
   },
   "source": [
    "I save this to a file:"
   ]
  },
  {
   "cell_type": "code",
   "execution_count": null,
   "metadata": {
    "id": "RfRG5TS0WUPX"
   },
   "outputs": [],
   "source": [
    "output_folder = '/content/drive/MyDrive/2021/Darwin paper/Files/Semantic_change_output/'\n",
    "if not os.path.exists(output_folder):\n",
    "  os.makedirs(output_folder)\n",
    "neighbours_df_sorted.to_csv(os.path.join(output_folder, 'all_words_neighbourscore.csv'), encoding='utf-8')"
   ]
  },
  {
   "cell_type": "markdown",
   "metadata": {
    "id": "b2sXbIKoWUPX"
   },
   "source": [
    "## Comparison of the two methods for semantic change detection"
   ]
  },
  {
   "cell_type": "code",
   "execution_count": null,
   "metadata": {
    "colab": {
     "base_uri": "https://localhost:8080/",
     "height": 419
    },
    "id": "lI46M6c5WUPX",
    "outputId": "11834b1f-a660-4b3d-f700-882cb83f8d26"
   },
   "outputs": [
    {
     "data": {
      "text/html": [
       "<div>\n",
       "<style scoped>\n",
       "    .dataframe tbody tr th:only-of-type {\n",
       "        vertical-align: middle;\n",
       "    }\n",
       "\n",
       "    .dataframe tbody tr th {\n",
       "        vertical-align: top;\n",
       "    }\n",
       "\n",
       "    .dataframe thead th {\n",
       "        text-align: right;\n",
       "    }\n",
       "</style>\n",
       "<table border=\"1\" class=\"dataframe\">\n",
       "  <thead>\n",
       "    <tr style=\"text-align: right;\">\n",
       "      <th></th>\n",
       "      <th>Word</th>\n",
       "      <th>Neighbour_score</th>\n",
       "      <th>Frequency_t1</th>\n",
       "      <th>Frequency_t2</th>\n",
       "      <th>Total_Frequency</th>\n",
       "      <th>Category_automatic</th>\n",
       "    </tr>\n",
       "  </thead>\n",
       "  <tbody>\n",
       "    <tr>\n",
       "      <th>3520</th>\n",
       "      <td></td>\n",
       "      <td>0.18</td>\n",
       "      <td>839</td>\n",
       "      <td>519</td>\n",
       "      <td>1358</td>\n",
       "      <td>Foreign word</td>\n",
       "    </tr>\n",
       "    <tr>\n",
       "      <th>7518</th>\n",
       "      <td></td>\n",
       "      <td>0.41</td>\n",
       "      <td>28553</td>\n",
       "      <td>20542</td>\n",
       "      <td>49095</td>\n",
       "      <td>Foreign word</td>\n",
       "    </tr>\n",
       "    <tr>\n",
       "      <th>15365</th>\n",
       "      <td></td>\n",
       "      <td>0.04</td>\n",
       "      <td>13</td>\n",
       "      <td>8</td>\n",
       "      <td>21</td>\n",
       "      <td>Foreign word</td>\n",
       "    </tr>\n",
       "    <tr>\n",
       "      <th>15392</th>\n",
       "      <td></td>\n",
       "      <td>0.00</td>\n",
       "      <td>9</td>\n",
       "      <td>6</td>\n",
       "      <td>15</td>\n",
       "      <td>Foreign word</td>\n",
       "    </tr>\n",
       "    <tr>\n",
       "      <th>11324</th>\n",
       "      <td></td>\n",
       "      <td>0.00</td>\n",
       "      <td>7</td>\n",
       "      <td>4</td>\n",
       "      <td>11</td>\n",
       "      <td>Foreign word</td>\n",
       "    </tr>\n",
       "    <tr>\n",
       "      <th>...</th>\n",
       "      <td>...</td>\n",
       "      <td>...</td>\n",
       "      <td>...</td>\n",
       "      <td>...</td>\n",
       "      <td>...</td>\n",
       "      <td>...</td>\n",
       "    </tr>\n",
       "    <tr>\n",
       "      <th>3626</th>\n",
       "      <td>☞</td>\n",
       "      <td>0.00</td>\n",
       "      <td>4</td>\n",
       "      <td>3</td>\n",
       "      <td>7</td>\n",
       "      <td>Foreign word</td>\n",
       "    </tr>\n",
       "    <tr>\n",
       "      <th>5262</th>\n",
       "      <td>♀</td>\n",
       "      <td>0.05</td>\n",
       "      <td>284</td>\n",
       "      <td>173</td>\n",
       "      <td>457</td>\n",
       "      <td>Foreign word</td>\n",
       "    </tr>\n",
       "    <tr>\n",
       "      <th>15467</th>\n",
       "      <td>♂</td>\n",
       "      <td>0.08</td>\n",
       "      <td>232</td>\n",
       "      <td>146</td>\n",
       "      <td>378</td>\n",
       "      <td>Foreign word</td>\n",
       "    </tr>\n",
       "    <tr>\n",
       "      <th>11229</th>\n",
       "      <td>〈</td>\n",
       "      <td>0.00</td>\n",
       "      <td>22</td>\n",
       "      <td>14</td>\n",
       "      <td>36</td>\n",
       "      <td>Foreign word</td>\n",
       "    </tr>\n",
       "    <tr>\n",
       "      <th>10270</th>\n",
       "      <td>〉</td>\n",
       "      <td>0.01</td>\n",
       "      <td>24</td>\n",
       "      <td>15</td>\n",
       "      <td>39</td>\n",
       "      <td>Foreign word</td>\n",
       "    </tr>\n",
       "  </tbody>\n",
       "</table>\n",
       "<p>15877 rows × 6 columns</p>\n",
       "</div>"
      ],
      "text/plain": [
       "         Word  Neighbour_score  ...  Total_Frequency  Category_automatic\n",
       "3520           0.18             ...  1358             Foreign word      \n",
       "7518           0.41             ...  49095            Foreign word      \n",
       "15365          0.04             ...  21               Foreign word      \n",
       "15392          0.00             ...  15               Foreign word      \n",
       "11324          0.00             ...  11               Foreign word      \n",
       "...       ...   ...             ...  ..                        ...      \n",
       "3626   ☞       0.00             ...  7                Foreign word      \n",
       "5262   ♀       0.05             ...  457              Foreign word      \n",
       "15467  ♂       0.08             ...  378              Foreign word      \n",
       "11229  〈       0.00             ...  36               Foreign word      \n",
       "10270  〉       0.01             ...  39               Foreign word      \n",
       "\n",
       "[15877 rows x 6 columns]"
      ]
     },
     "execution_count": 128,
     "metadata": {},
     "output_type": "execute_result"
    }
   ],
   "source": [
    "neighbours_df_sorted.sort_values(by='Word', ascending=True)"
   ]
  },
  {
   "cell_type": "code",
   "execution_count": null,
   "metadata": {
    "colab": {
     "base_uri": "https://localhost:8080/",
     "height": 419
    },
    "id": "3hIRgbreu-vZ",
    "outputId": "1da303bd-4224-45bb-bd4d-d174d78ac543"
   },
   "outputs": [
    {
     "data": {
      "text/html": [
       "<div>\n",
       "<style scoped>\n",
       "    .dataframe tbody tr th:only-of-type {\n",
       "        vertical-align: middle;\n",
       "    }\n",
       "\n",
       "    .dataframe tbody tr th {\n",
       "        vertical-align: top;\n",
       "    }\n",
       "\n",
       "    .dataframe thead th {\n",
       "        text-align: right;\n",
       "    }\n",
       "</style>\n",
       "<table border=\"1\" class=\"dataframe\">\n",
       "  <thead>\n",
       "    <tr style=\"text-align: right;\">\n",
       "      <th></th>\n",
       "      <th>Word</th>\n",
       "      <th>Cosine_similarity</th>\n",
       "      <th>Frequency_t1</th>\n",
       "      <th>Frequency_t2</th>\n",
       "      <th>Total_Frequency</th>\n",
       "      <th>Category_automatic</th>\n",
       "    </tr>\n",
       "  </thead>\n",
       "  <tbody>\n",
       "    <tr>\n",
       "      <th>337</th>\n",
       "      <td></td>\n",
       "      <td>0.608472</td>\n",
       "      <td>839</td>\n",
       "      <td>519</td>\n",
       "      <td>1358</td>\n",
       "      <td>Foreign word</td>\n",
       "    </tr>\n",
       "    <tr>\n",
       "      <th>9</th>\n",
       "      <td></td>\n",
       "      <td>0.907147</td>\n",
       "      <td>28553</td>\n",
       "      <td>20542</td>\n",
       "      <td>49095</td>\n",
       "      <td>Foreign word</td>\n",
       "    </tr>\n",
       "    <tr>\n",
       "      <th>7694</th>\n",
       "      <td></td>\n",
       "      <td>0.816608</td>\n",
       "      <td>13</td>\n",
       "      <td>8</td>\n",
       "      <td>21</td>\n",
       "      <td>Foreign word</td>\n",
       "    </tr>\n",
       "    <tr>\n",
       "      <th>9397</th>\n",
       "      <td></td>\n",
       "      <td>0.743481</td>\n",
       "      <td>9</td>\n",
       "      <td>6</td>\n",
       "      <td>15</td>\n",
       "      <td>Foreign word</td>\n",
       "    </tr>\n",
       "    <tr>\n",
       "      <th>11189</th>\n",
       "      <td></td>\n",
       "      <td>0.752918</td>\n",
       "      <td>7</td>\n",
       "      <td>4</td>\n",
       "      <td>11</td>\n",
       "      <td>Foreign word</td>\n",
       "    </tr>\n",
       "    <tr>\n",
       "      <th>...</th>\n",
       "      <td>...</td>\n",
       "      <td>...</td>\n",
       "      <td>...</td>\n",
       "      <td>...</td>\n",
       "      <td>...</td>\n",
       "      <td>...</td>\n",
       "    </tr>\n",
       "    <tr>\n",
       "      <th>17650</th>\n",
       "      <td>☿</td>\n",
       "      <td>0.930398</td>\n",
       "      <td>3</td>\n",
       "      <td>2</td>\n",
       "      <td>5</td>\n",
       "      <td>Foreign word</td>\n",
       "    </tr>\n",
       "    <tr>\n",
       "      <th>923</th>\n",
       "      <td>♀</td>\n",
       "      <td>0.657241</td>\n",
       "      <td>284</td>\n",
       "      <td>173</td>\n",
       "      <td>457</td>\n",
       "      <td>Foreign word</td>\n",
       "    </tr>\n",
       "    <tr>\n",
       "      <th>1085</th>\n",
       "      <td>♂</td>\n",
       "      <td>0.699295</td>\n",
       "      <td>232</td>\n",
       "      <td>146</td>\n",
       "      <td>378</td>\n",
       "      <td>Foreign word</td>\n",
       "    </tr>\n",
       "    <tr>\n",
       "      <th>5513</th>\n",
       "      <td>〈</td>\n",
       "      <td>0.627050</td>\n",
       "      <td>22</td>\n",
       "      <td>14</td>\n",
       "      <td>36</td>\n",
       "      <td>Foreign word</td>\n",
       "    </tr>\n",
       "    <tr>\n",
       "      <th>5189</th>\n",
       "      <td>〉</td>\n",
       "      <td>0.616338</td>\n",
       "      <td>24</td>\n",
       "      <td>15</td>\n",
       "      <td>39</td>\n",
       "      <td>Foreign word</td>\n",
       "    </tr>\n",
       "  </tbody>\n",
       "</table>\n",
       "<p>23323 rows × 6 columns</p>\n",
       "</div>"
      ],
      "text/plain": [
       "         Word  Cosine_similarity  ...  Total_Frequency  Category_automatic\n",
       "337            0.608472           ...  1358             Foreign word      \n",
       "9              0.907147           ...  49095            Foreign word      \n",
       "7694           0.816608           ...  21               Foreign word      \n",
       "9397           0.743481           ...  15               Foreign word      \n",
       "11189          0.752918           ...  11               Foreign word      \n",
       "...       ...       ...           ...  ..                        ...      \n",
       "17650  ☿       0.930398           ...  5                Foreign word      \n",
       "923    ♀       0.657241           ...  457              Foreign word      \n",
       "1085   ♂       0.699295           ...  378              Foreign word      \n",
       "5513   〈       0.627050           ...  36               Foreign word      \n",
       "5189   〉       0.616338           ...  39               Foreign word      \n",
       "\n",
       "[23323 rows x 6 columns]"
      ]
     },
     "execution_count": 129,
     "metadata": {},
     "output_type": "execute_result"
    }
   ],
   "source": [
    "cosine_similarity_df_sorted.sort_values(by='Word', ascending=True)"
   ]
  },
  {
   "cell_type": "code",
   "execution_count": null,
   "metadata": {
    "colab": {
     "base_uri": "https://localhost:8080/",
     "height": 419
    },
    "id": "v-SNmOddvgCq",
    "outputId": "7a6f0cde-6465-4347-ec4c-c8881cde6f6e"
   },
   "outputs": [
    {
     "data": {
      "text/html": [
       "<div>\n",
       "<style scoped>\n",
       "    .dataframe tbody tr th:only-of-type {\n",
       "        vertical-align: middle;\n",
       "    }\n",
       "\n",
       "    .dataframe tbody tr th {\n",
       "        vertical-align: top;\n",
       "    }\n",
       "\n",
       "    .dataframe thead th {\n",
       "        text-align: right;\n",
       "    }\n",
       "</style>\n",
       "<table border=\"1\" class=\"dataframe\">\n",
       "  <thead>\n",
       "    <tr style=\"text-align: right;\">\n",
       "      <th></th>\n",
       "      <th>Word</th>\n",
       "      <th>Cosine_similarity</th>\n",
       "      <th>Frequency_t1</th>\n",
       "      <th>Frequency_t2</th>\n",
       "      <th>Total_Frequency</th>\n",
       "      <th>Category_automatic</th>\n",
       "      <th>Neighbour_score</th>\n",
       "    </tr>\n",
       "  </thead>\n",
       "  <tbody>\n",
       "    <tr>\n",
       "      <th>0</th>\n",
       "      <td>stud</td>\n",
       "      <td>0.413877</td>\n",
       "      <td>23</td>\n",
       "      <td>14</td>\n",
       "      <td>37</td>\n",
       "      <td></td>\n",
       "      <td>0.00</td>\n",
       "    </tr>\n",
       "    <tr>\n",
       "      <th>1</th>\n",
       "      <td>1879</td>\n",
       "      <td>0.467864</td>\n",
       "      <td>36</td>\n",
       "      <td>23</td>\n",
       "      <td>59</td>\n",
       "      <td>Numeral</td>\n",
       "      <td>0.00</td>\n",
       "    </tr>\n",
       "    <tr>\n",
       "      <th>2</th>\n",
       "      <td>Utricularia</td>\n",
       "      <td>0.468761</td>\n",
       "      <td>68</td>\n",
       "      <td>43</td>\n",
       "      <td>111</td>\n",
       "      <td>Proper noun</td>\n",
       "      <td>0.00</td>\n",
       "    </tr>\n",
       "    <tr>\n",
       "      <th>3</th>\n",
       "      <td>Caspary</td>\n",
       "      <td>0.471753</td>\n",
       "      <td>22</td>\n",
       "      <td>14</td>\n",
       "      <td>36</td>\n",
       "      <td>Proper noun</td>\n",
       "      <td>0.00</td>\n",
       "    </tr>\n",
       "    <tr>\n",
       "      <th>4</th>\n",
       "      <td>Sara</td>\n",
       "      <td>0.474424</td>\n",
       "      <td>41</td>\n",
       "      <td>26</td>\n",
       "      <td>67</td>\n",
       "      <td>Proper noun</td>\n",
       "      <td>0.00</td>\n",
       "    </tr>\n",
       "    <tr>\n",
       "      <th>...</th>\n",
       "      <td>...</td>\n",
       "      <td>...</td>\n",
       "      <td>...</td>\n",
       "      <td>...</td>\n",
       "      <td>...</td>\n",
       "      <td>...</td>\n",
       "      <td>...</td>\n",
       "    </tr>\n",
       "    <tr>\n",
       "      <th>15872</th>\n",
       "      <td>516</td>\n",
       "      <td>0.981149</td>\n",
       "      <td>5</td>\n",
       "      <td>3</td>\n",
       "      <td>8</td>\n",
       "      <td>Numeral</td>\n",
       "      <td>0.09</td>\n",
       "    </tr>\n",
       "    <tr>\n",
       "      <th>15873</th>\n",
       "      <td>dawkin</td>\n",
       "      <td>0.981757</td>\n",
       "      <td>9</td>\n",
       "      <td>6</td>\n",
       "      <td>15</td>\n",
       "      <td></td>\n",
       "      <td>0.24</td>\n",
       "    </tr>\n",
       "    <tr>\n",
       "      <th>15874</th>\n",
       "      <td>nach</td>\n",
       "      <td>0.981983</td>\n",
       "      <td>8</td>\n",
       "      <td>5</td>\n",
       "      <td>13</td>\n",
       "      <td></td>\n",
       "      <td>0.37</td>\n",
       "    </tr>\n",
       "    <tr>\n",
       "      <th>15875</th>\n",
       "      <td>mit</td>\n",
       "      <td>0.982179</td>\n",
       "      <td>7</td>\n",
       "      <td>4</td>\n",
       "      <td>11</td>\n",
       "      <td>Foreign word</td>\n",
       "      <td>0.34</td>\n",
       "    </tr>\n",
       "    <tr>\n",
       "      <th>15876</th>\n",
       "      <td>Boyd</td>\n",
       "      <td>0.986384</td>\n",
       "      <td>12</td>\n",
       "      <td>8</td>\n",
       "      <td>20</td>\n",
       "      <td>Proper noun</td>\n",
       "      <td>0.31</td>\n",
       "    </tr>\n",
       "  </tbody>\n",
       "</table>\n",
       "<p>15877 rows × 7 columns</p>\n",
       "</div>"
      ],
      "text/plain": [
       "              Word  Cosine_similarity  ...  Category_automatic  Neighbour_score\n",
       "0      stud         0.413877           ...                      0.00           \n",
       "1      1879         0.467864           ...  Numeral             0.00           \n",
       "2      Utricularia  0.468761           ...  Proper noun         0.00           \n",
       "3      Caspary      0.471753           ...  Proper noun         0.00           \n",
       "4      Sara         0.474424           ...  Proper noun         0.00           \n",
       "...     ...              ...           ...          ...          ...           \n",
       "15872  516          0.981149           ...  Numeral             0.09           \n",
       "15873  dawkin       0.981757           ...                      0.24           \n",
       "15874  nach         0.981983           ...                      0.37           \n",
       "15875  mit          0.982179           ...  Foreign word        0.34           \n",
       "15876  Boyd         0.986384           ...  Proper noun         0.31           \n",
       "\n",
       "[15877 rows x 7 columns]"
      ]
     },
     "execution_count": 130,
     "metadata": {},
     "output_type": "execute_result"
    }
   ],
   "source": [
    "semantic_change_2methods = cosine_similarity_df_sorted.merge(neighbours_df_sorted, how = 'inner')\n",
    "semantic_change_2methods"
   ]
  },
  {
   "cell_type": "markdown",
   "metadata": {
    "id": "BbsY3voMxGXN"
   },
   "source": [
    "I integrate the neighbour score in the file:"
   ]
  },
  {
   "cell_type": "code",
   "execution_count": null,
   "metadata": {
    "colab": {
     "base_uri": "https://localhost:8080/",
     "height": 419
    },
    "id": "1uD7-CCdxK9V",
    "outputId": "fa7bbf81-ad9d-4edf-f319-161a876145f6"
   },
   "outputs": [
    {
     "data": {
      "text/html": [
       "<div>\n",
       "<style scoped>\n",
       "    .dataframe tbody tr th:only-of-type {\n",
       "        vertical-align: middle;\n",
       "    }\n",
       "\n",
       "    .dataframe tbody tr th {\n",
       "        vertical-align: top;\n",
       "    }\n",
       "\n",
       "    .dataframe thead th {\n",
       "        text-align: right;\n",
       "    }\n",
       "</style>\n",
       "<table border=\"1\" class=\"dataframe\">\n",
       "  <thead>\n",
       "    <tr style=\"text-align: right;\">\n",
       "      <th></th>\n",
       "      <th>Word</th>\n",
       "      <th>Cosine_similarity</th>\n",
       "      <th>Frequency_t1</th>\n",
       "      <th>Frequency_t2</th>\n",
       "      <th>Total_Frequency</th>\n",
       "      <th>Category_automatic</th>\n",
       "      <th>Neighbour_score</th>\n",
       "    </tr>\n",
       "  </thead>\n",
       "  <tbody>\n",
       "    <tr>\n",
       "      <th>0</th>\n",
       "      <td>stud</td>\n",
       "      <td>0.413877</td>\n",
       "      <td>23</td>\n",
       "      <td>14</td>\n",
       "      <td>37</td>\n",
       "      <td></td>\n",
       "      <td>0.00</td>\n",
       "    </tr>\n",
       "    <tr>\n",
       "      <th>1</th>\n",
       "      <td>1879</td>\n",
       "      <td>0.467864</td>\n",
       "      <td>36</td>\n",
       "      <td>23</td>\n",
       "      <td>59</td>\n",
       "      <td>Numeral</td>\n",
       "      <td>0.00</td>\n",
       "    </tr>\n",
       "    <tr>\n",
       "      <th>2</th>\n",
       "      <td>Utricularia</td>\n",
       "      <td>0.468761</td>\n",
       "      <td>68</td>\n",
       "      <td>43</td>\n",
       "      <td>111</td>\n",
       "      <td>Proper noun</td>\n",
       "      <td>0.00</td>\n",
       "    </tr>\n",
       "    <tr>\n",
       "      <th>3</th>\n",
       "      <td>Caspary</td>\n",
       "      <td>0.471753</td>\n",
       "      <td>22</td>\n",
       "      <td>14</td>\n",
       "      <td>36</td>\n",
       "      <td>Proper noun</td>\n",
       "      <td>0.00</td>\n",
       "    </tr>\n",
       "    <tr>\n",
       "      <th>4</th>\n",
       "      <td>Sara</td>\n",
       "      <td>0.474424</td>\n",
       "      <td>41</td>\n",
       "      <td>26</td>\n",
       "      <td>67</td>\n",
       "      <td>Proper noun</td>\n",
       "      <td>0.00</td>\n",
       "    </tr>\n",
       "    <tr>\n",
       "      <th>...</th>\n",
       "      <td>...</td>\n",
       "      <td>...</td>\n",
       "      <td>...</td>\n",
       "      <td>...</td>\n",
       "      <td>...</td>\n",
       "      <td>...</td>\n",
       "      <td>...</td>\n",
       "    </tr>\n",
       "    <tr>\n",
       "      <th>23318</th>\n",
       "      <td>Familie</td>\n",
       "      <td>0.982051</td>\n",
       "      <td>2</td>\n",
       "      <td>2</td>\n",
       "      <td>4</td>\n",
       "      <td>Proper noun</td>\n",
       "      <td>NaN</td>\n",
       "    </tr>\n",
       "    <tr>\n",
       "      <th>23319</th>\n",
       "      <td>mit</td>\n",
       "      <td>0.982179</td>\n",
       "      <td>7</td>\n",
       "      <td>4</td>\n",
       "      <td>11</td>\n",
       "      <td>Foreign word</td>\n",
       "      <td>0.34</td>\n",
       "    </tr>\n",
       "    <tr>\n",
       "      <th>23320</th>\n",
       "      <td>vom</td>\n",
       "      <td>0.983580</td>\n",
       "      <td>4</td>\n",
       "      <td>2</td>\n",
       "      <td>6</td>\n",
       "      <td>Foreign word</td>\n",
       "      <td>NaN</td>\n",
       "    </tr>\n",
       "    <tr>\n",
       "      <th>23321</th>\n",
       "      <td>avec</td>\n",
       "      <td>0.985625</td>\n",
       "      <td>3</td>\n",
       "      <td>2</td>\n",
       "      <td>5</td>\n",
       "      <td>Foreign word</td>\n",
       "      <td>NaN</td>\n",
       "    </tr>\n",
       "    <tr>\n",
       "      <th>23322</th>\n",
       "      <td>Boyd</td>\n",
       "      <td>0.986384</td>\n",
       "      <td>12</td>\n",
       "      <td>8</td>\n",
       "      <td>20</td>\n",
       "      <td>Proper noun</td>\n",
       "      <td>0.31</td>\n",
       "    </tr>\n",
       "  </tbody>\n",
       "</table>\n",
       "<p>23323 rows × 7 columns</p>\n",
       "</div>"
      ],
      "text/plain": [
       "              Word  Cosine_similarity  ...  Category_automatic  Neighbour_score\n",
       "0      stud         0.413877           ...                      0.00           \n",
       "1      1879         0.467864           ...  Numeral             0.00           \n",
       "2      Utricularia  0.468761           ...  Proper noun         0.00           \n",
       "3      Caspary      0.471753           ...  Proper noun         0.00           \n",
       "4      Sara         0.474424           ...  Proper noun         0.00           \n",
       "...     ...              ...           ...          ...          ...           \n",
       "23318  Familie      0.982051           ...  Proper noun        NaN             \n",
       "23319  mit          0.982179           ...  Foreign word        0.34           \n",
       "23320  vom          0.983580           ...  Foreign word       NaN             \n",
       "23321  avec         0.985625           ...  Foreign word       NaN             \n",
       "23322  Boyd         0.986384           ...  Proper noun         0.31           \n",
       "\n",
       "[23323 rows x 7 columns]"
      ]
     },
     "execution_count": 131,
     "metadata": {},
     "output_type": "execute_result"
    }
   ],
   "source": [
    "semantic_change_2methods_all = cosine_similarity_df_sorted.merge(neighbours_df_sorted, how = 'outer')\n",
    "semantic_change_2methods_all.to_csv(os.path.join(output_folder, 'all_words_2scores.csv'), encoding='utf-8')\n",
    "semantic_change_2methods_all"
   ]
  },
  {
   "cell_type": "code",
   "execution_count": null,
   "metadata": {
    "colab": {
     "base_uri": "https://localhost:8080/",
     "height": 80
    },
    "id": "zpQp4qRCRe4I",
    "outputId": "cdb5c822-4077-463c-9a9c-aecd31f2e7af"
   },
   "outputs": [
    {
     "data": {
      "text/html": [
       "<div>\n",
       "<style scoped>\n",
       "    .dataframe tbody tr th:only-of-type {\n",
       "        vertical-align: middle;\n",
       "    }\n",
       "\n",
       "    .dataframe tbody tr th {\n",
       "        vertical-align: top;\n",
       "    }\n",
       "\n",
       "    .dataframe thead th {\n",
       "        text-align: right;\n",
       "    }\n",
       "</style>\n",
       "<table border=\"1\" class=\"dataframe\">\n",
       "  <thead>\n",
       "    <tr style=\"text-align: right;\">\n",
       "      <th></th>\n",
       "      <th>Word</th>\n",
       "      <th>Cosine_similarity</th>\n",
       "      <th>Frequency_t1</th>\n",
       "      <th>Frequency_t2</th>\n",
       "      <th>Total_Frequency</th>\n",
       "      <th>Category_automatic</th>\n",
       "      <th>Neighbour_score</th>\n",
       "    </tr>\n",
       "  </thead>\n",
       "  <tbody>\n",
       "    <tr>\n",
       "      <th>10055</th>\n",
       "      <td>scientist</td>\n",
       "      <td>0.884423</td>\n",
       "      <td>17</td>\n",
       "      <td>11</td>\n",
       "      <td>28</td>\n",
       "      <td></td>\n",
       "      <td>0.07</td>\n",
       "    </tr>\n",
       "  </tbody>\n",
       "</table>\n",
       "</div>"
      ],
      "text/plain": [
       "            Word  Cosine_similarity  ...  Category_automatic  Neighbour_score\n",
       "10055  scientist  0.884423           ...                      0.07           \n",
       "\n",
       "[1 rows x 7 columns]"
      ]
     },
     "execution_count": 132,
     "metadata": {},
     "output_type": "execute_result"
    }
   ],
   "source": [
    "semantic_change_2methods_all[semantic_change_2methods_all['Word'] ==\"scientist\"]"
   ]
  },
  {
   "cell_type": "markdown",
   "metadata": {
    "id": "KfJlUJRpWUPX"
   },
   "source": [
    "I plot the terms by two semantic change scores:"
   ]
  },
  {
   "cell_type": "code",
   "execution_count": null,
   "metadata": {
    "colab": {
     "base_uri": "https://localhost:8080/",
     "height": 283
    },
    "id": "5P8PptneWUPY",
    "outputId": "3ba5b231-de1a-438c-a471-9f4c13d7756e"
   },
   "outputs": [
    {
     "data": {
      "image/png": "[encoded data removed]",
      "text/plain": [
       "<Figure size 432x288 with 1 Axes>"
      ]
     },
     "metadata": {},
     "output_type": "display_data"
    }
   ],
   "source": [
    "ax = semantic_change_2methods.set_index('Cosine_similarity')['Neighbour_score'].plot(style='o')"
   ]
  },
  {
   "cell_type": "code",
   "execution_count": null,
   "metadata": {
    "colab": {
     "base_uri": "https://localhost:8080/",
     "height": 204
    },
    "id": "r4gfyTtuYB0r",
    "outputId": "55584f69-6cc5-4ef7-8850-b37e85756a11"
   },
   "outputs": [
    {
     "data": {
      "text/html": [
       "<div>\n",
       "<style scoped>\n",
       "    .dataframe tbody tr th:only-of-type {\n",
       "        vertical-align: middle;\n",
       "    }\n",
       "\n",
       "    .dataframe tbody tr th {\n",
       "        vertical-align: top;\n",
       "    }\n",
       "\n",
       "    .dataframe thead th {\n",
       "        text-align: right;\n",
       "    }\n",
       "</style>\n",
       "<table border=\"1\" class=\"dataframe\">\n",
       "  <thead>\n",
       "    <tr style=\"text-align: right;\">\n",
       "      <th></th>\n",
       "      <th>Cosine_similarity</th>\n",
       "      <th>Frequency_t1</th>\n",
       "      <th>Frequency_t2</th>\n",
       "      <th>Total_Frequency</th>\n",
       "      <th>Neighbour_score</th>\n",
       "    </tr>\n",
       "  </thead>\n",
       "  <tbody>\n",
       "    <tr>\n",
       "      <th>Cosine_similarity</th>\n",
       "      <td>1.000000</td>\n",
       "      <td>-0.642626</td>\n",
       "      <td>-0.639241</td>\n",
       "      <td>-0.642509</td>\n",
       "      <td>0.086991</td>\n",
       "    </tr>\n",
       "    <tr>\n",
       "      <th>Frequency_t1</th>\n",
       "      <td>-0.642626</td>\n",
       "      <td>1.000000</td>\n",
       "      <td>0.988534</td>\n",
       "      <td>0.999005</td>\n",
       "      <td>0.669929</td>\n",
       "    </tr>\n",
       "    <tr>\n",
       "      <th>Frequency_t2</th>\n",
       "      <td>-0.639241</td>\n",
       "      <td>0.988534</td>\n",
       "      <td>1.000000</td>\n",
       "      <td>0.993780</td>\n",
       "      <td>0.669938</td>\n",
       "    </tr>\n",
       "    <tr>\n",
       "      <th>Total_Frequency</th>\n",
       "      <td>-0.642509</td>\n",
       "      <td>0.999005</td>\n",
       "      <td>0.993780</td>\n",
       "      <td>1.000000</td>\n",
       "      <td>0.669454</td>\n",
       "    </tr>\n",
       "    <tr>\n",
       "      <th>Neighbour_score</th>\n",
       "      <td>0.086991</td>\n",
       "      <td>0.669929</td>\n",
       "      <td>0.669938</td>\n",
       "      <td>0.669454</td>\n",
       "      <td>1.000000</td>\n",
       "    </tr>\n",
       "  </tbody>\n",
       "</table>\n",
       "</div>"
      ],
      "text/plain": [
       "                   Cosine_similarity  ...  Neighbour_score\n",
       "Cosine_similarity  1.000000           ...  0.086991       \n",
       "Frequency_t1      -0.642626           ...  0.669929       \n",
       "Frequency_t2      -0.639241           ...  0.669938       \n",
       "Total_Frequency   -0.642509           ...  0.669454       \n",
       "Neighbour_score    0.086991           ...  1.000000       \n",
       "\n",
       "[5 rows x 5 columns]"
      ]
     },
     "execution_count": 134,
     "metadata": {},
     "output_type": "execute_result"
    }
   ],
   "source": [
    "semantic_change_2methods_all.corr(method=\"spearman\")"
   ]
  },
  {
   "cell_type": "markdown",
   "metadata": {
    "id": "LqEt1d3_wUSC"
   },
   "source": [
    "There seems to be a positive correlation: the higher the cosine similarity the higher the neighbour similarity.\n",
    "\n"
   ]
  },
  {
   "cell_type": "code",
   "execution_count": null,
   "metadata": {
    "colab": {
     "base_uri": "https://localhost:8080/",
     "height": 297
    },
    "id": "X6GBffxgUnVi",
    "outputId": "36647ba3-5301-41f5-9e74-1d9749e28926"
   },
   "outputs": [
    {
     "data": {
      "text/html": [
       "<div>\n",
       "<style scoped>\n",
       "    .dataframe tbody tr th:only-of-type {\n",
       "        vertical-align: middle;\n",
       "    }\n",
       "\n",
       "    .dataframe tbody tr th {\n",
       "        vertical-align: top;\n",
       "    }\n",
       "\n",
       "    .dataframe thead th {\n",
       "        text-align: right;\n",
       "    }\n",
       "</style>\n",
       "<table border=\"1\" class=\"dataframe\">\n",
       "  <thead>\n",
       "    <tr style=\"text-align: right;\">\n",
       "      <th></th>\n",
       "      <th>Cosine_similarity</th>\n",
       "      <th>Frequency_t1</th>\n",
       "      <th>Frequency_t2</th>\n",
       "      <th>Total_Frequency</th>\n",
       "      <th>Neighbour_score</th>\n",
       "    </tr>\n",
       "  </thead>\n",
       "  <tbody>\n",
       "    <tr>\n",
       "      <th>count</th>\n",
       "      <td>23323.000000</td>\n",
       "      <td>23323.000000</td>\n",
       "      <td>23323.000000</td>\n",
       "      <td>23323.000000</td>\n",
       "      <td>15877.000000</td>\n",
       "    </tr>\n",
       "    <tr>\n",
       "      <th>mean</th>\n",
       "      <td>0.878470</td>\n",
       "      <td>113.853664</td>\n",
       "      <td>71.983321</td>\n",
       "      <td>185.836985</td>\n",
       "      <td>0.064380</td>\n",
       "    </tr>\n",
       "    <tr>\n",
       "      <th>std</th>\n",
       "      <td>0.066656</td>\n",
       "      <td>2445.143893</td>\n",
       "      <td>1548.956199</td>\n",
       "      <td>3992.675708</td>\n",
       "      <td>0.089923</td>\n",
       "    </tr>\n",
       "    <tr>\n",
       "      <th>min</th>\n",
       "      <td>0.413877</td>\n",
       "      <td>2.000000</td>\n",
       "      <td>1.000000</td>\n",
       "      <td>3.000000</td>\n",
       "      <td>0.000000</td>\n",
       "    </tr>\n",
       "    <tr>\n",
       "      <th>25%</th>\n",
       "      <td>0.847949</td>\n",
       "      <td>3.000000</td>\n",
       "      <td>2.000000</td>\n",
       "      <td>5.000000</td>\n",
       "      <td>0.010000</td>\n",
       "    </tr>\n",
       "    <tr>\n",
       "      <th>50%</th>\n",
       "      <td>0.894638</td>\n",
       "      <td>7.000000</td>\n",
       "      <td>4.000000</td>\n",
       "      <td>11.000000</td>\n",
       "      <td>0.020000</td>\n",
       "    </tr>\n",
       "    <tr>\n",
       "      <th>75%</th>\n",
       "      <td>0.926540</td>\n",
       "      <td>20.000000</td>\n",
       "      <td>13.000000</td>\n",
       "      <td>33.000000</td>\n",
       "      <td>0.090000</td>\n",
       "    </tr>\n",
       "    <tr>\n",
       "      <th>max</th>\n",
       "      <td>0.986384</td>\n",
       "      <td>284506.000000</td>\n",
       "      <td>174605.000000</td>\n",
       "      <td>459111.000000</td>\n",
       "      <td>0.670000</td>\n",
       "    </tr>\n",
       "  </tbody>\n",
       "</table>\n",
       "</div>"
      ],
      "text/plain": [
       "       Cosine_similarity   Frequency_t1  ...  Total_Frequency  Neighbour_score\n",
       "count  23323.000000       23323.000000   ...  23323.000000     15877.000000   \n",
       "mean   0.878470           113.853664     ...  185.836985       0.064380       \n",
       "std    0.066656           2445.143893    ...  3992.675708      0.089923       \n",
       "min    0.413877           2.000000       ...  3.000000         0.000000       \n",
       "25%    0.847949           3.000000       ...  5.000000         0.010000       \n",
       "50%    0.894638           7.000000       ...  11.000000        0.020000       \n",
       "75%    0.926540           20.000000      ...  33.000000        0.090000       \n",
       "max    0.986384           284506.000000  ...  459111.000000    0.670000       \n",
       "\n",
       "[8 rows x 5 columns]"
      ]
     },
     "execution_count": 135,
     "metadata": {},
     "output_type": "execute_result"
    }
   ],
   "source": [
    "semantic_change_2methods_all.describe()"
   ]
  },
  {
   "cell_type": "markdown",
   "metadata": {
    "id": "SGxWm1xdZ9OB"
   },
   "source": [
    "Scores for chosen words:"
   ]
  },
  {
   "cell_type": "code",
   "execution_count": null,
   "metadata": {
    "colab": {
     "base_uri": "https://localhost:8080/",
     "height": 297
    },
    "id": "82sgdmrjZRky",
    "outputId": "b7f7e822-aa15-451e-84ff-cc39832cf490"
   },
   "outputs": [
    {
     "data": {
      "text/html": [
       "<div>\n",
       "<style scoped>\n",
       "    .dataframe tbody tr th:only-of-type {\n",
       "        vertical-align: middle;\n",
       "    }\n",
       "\n",
       "    .dataframe tbody tr th {\n",
       "        vertical-align: top;\n",
       "    }\n",
       "\n",
       "    .dataframe thead th {\n",
       "        text-align: right;\n",
       "    }\n",
       "</style>\n",
       "<table border=\"1\" class=\"dataframe\">\n",
       "  <thead>\n",
       "    <tr style=\"text-align: right;\">\n",
       "      <th></th>\n",
       "      <th>Cosine_similarity</th>\n",
       "      <th>Frequency_t1</th>\n",
       "      <th>Frequency_t2</th>\n",
       "      <th>Total_Frequency</th>\n",
       "      <th>Neighbour_score</th>\n",
       "    </tr>\n",
       "  </thead>\n",
       "  <tbody>\n",
       "    <tr>\n",
       "      <th>count</th>\n",
       "      <td>16.000000</td>\n",
       "      <td>16.000000</td>\n",
       "      <td>16.000000</td>\n",
       "      <td>16.000000</td>\n",
       "      <td>16.000000</td>\n",
       "    </tr>\n",
       "    <tr>\n",
       "      <th>mean</th>\n",
       "      <td>0.841837</td>\n",
       "      <td>249.937500</td>\n",
       "      <td>160.750000</td>\n",
       "      <td>410.687500</td>\n",
       "      <td>0.156250</td>\n",
       "    </tr>\n",
       "    <tr>\n",
       "      <th>std</th>\n",
       "      <td>0.063446</td>\n",
       "      <td>344.647157</td>\n",
       "      <td>225.478602</td>\n",
       "      <td>570.107793</td>\n",
       "      <td>0.110144</td>\n",
       "    </tr>\n",
       "    <tr>\n",
       "      <th>min</th>\n",
       "      <td>0.638491</td>\n",
       "      <td>17.000000</td>\n",
       "      <td>11.000000</td>\n",
       "      <td>28.000000</td>\n",
       "      <td>0.010000</td>\n",
       "    </tr>\n",
       "    <tr>\n",
       "      <th>25%</th>\n",
       "      <td>0.828587</td>\n",
       "      <td>33.000000</td>\n",
       "      <td>20.750000</td>\n",
       "      <td>53.750000</td>\n",
       "      <td>0.065000</td>\n",
       "    </tr>\n",
       "    <tr>\n",
       "      <th>50%</th>\n",
       "      <td>0.848175</td>\n",
       "      <td>102.500000</td>\n",
       "      <td>65.500000</td>\n",
       "      <td>168.000000</td>\n",
       "      <td>0.145000</td>\n",
       "    </tr>\n",
       "    <tr>\n",
       "      <th>75%</th>\n",
       "      <td>0.877057</td>\n",
       "      <td>275.500000</td>\n",
       "      <td>170.000000</td>\n",
       "      <td>445.500000</td>\n",
       "      <td>0.220000</td>\n",
       "    </tr>\n",
       "    <tr>\n",
       "      <th>max</th>\n",
       "      <td>0.920679</td>\n",
       "      <td>1283.000000</td>\n",
       "      <td>840.000000</td>\n",
       "      <td>2123.000000</td>\n",
       "      <td>0.370000</td>\n",
       "    </tr>\n",
       "  </tbody>\n",
       "</table>\n",
       "</div>"
      ],
      "text/plain": [
       "       Cosine_similarity  Frequency_t1  ...  Total_Frequency  Neighbour_score\n",
       "count  16.000000          16.000000     ...  16.000000        16.000000      \n",
       "mean   0.841837           249.937500    ...  410.687500       0.156250       \n",
       "std    0.063446           344.647157    ...  570.107793       0.110144       \n",
       "min    0.638491           17.000000     ...  28.000000        0.010000       \n",
       "25%    0.828587           33.000000     ...  53.750000        0.065000       \n",
       "50%    0.848175           102.500000    ...  168.000000       0.145000       \n",
       "75%    0.877057           275.500000    ...  445.500000       0.220000       \n",
       "max    0.920679           1283.000000   ...  2123.000000      0.370000       \n",
       "\n",
       "[8 rows x 5 columns]"
      ]
     },
     "execution_count": 136,
     "metadata": {},
     "output_type": "execute_result"
    }
   ],
   "source": [
    "semantic_change_2methods_all[semantic_change_2methods_all['Word'].isin(words_chosen)].describe()"
   ]
  },
  {
   "cell_type": "markdown",
   "metadata": {
    "id": "pFcjuQrsaBrS"
   },
   "source": [
    "Scores for not chosen words:"
   ]
  },
  {
   "cell_type": "code",
   "execution_count": null,
   "metadata": {
    "colab": {
     "base_uri": "https://localhost:8080/",
     "height": 297
    },
    "id": "aax2tQleZmup",
    "outputId": "4ceb4761-0f62-4237-d9eb-4500a36d4957"
   },
   "outputs": [
    {
     "data": {
      "text/html": [
       "<div>\n",
       "<style scoped>\n",
       "    .dataframe tbody tr th:only-of-type {\n",
       "        vertical-align: middle;\n",
       "    }\n",
       "\n",
       "    .dataframe tbody tr th {\n",
       "        vertical-align: top;\n",
       "    }\n",
       "\n",
       "    .dataframe thead th {\n",
       "        text-align: right;\n",
       "    }\n",
       "</style>\n",
       "<table border=\"1\" class=\"dataframe\">\n",
       "  <thead>\n",
       "    <tr style=\"text-align: right;\">\n",
       "      <th></th>\n",
       "      <th>Cosine_similarity</th>\n",
       "      <th>Frequency_t1</th>\n",
       "      <th>Frequency_t2</th>\n",
       "      <th>Total_Frequency</th>\n",
       "      <th>Neighbour_score</th>\n",
       "    </tr>\n",
       "  </thead>\n",
       "  <tbody>\n",
       "    <tr>\n",
       "      <th>count</th>\n",
       "      <td>23307.000000</td>\n",
       "      <td>23307.000000</td>\n",
       "      <td>23307.000000</td>\n",
       "      <td>23307.000000</td>\n",
       "      <td>15861.000000</td>\n",
       "    </tr>\n",
       "    <tr>\n",
       "      <th>mean</th>\n",
       "      <td>0.878495</td>\n",
       "      <td>113.760244</td>\n",
       "      <td>71.922384</td>\n",
       "      <td>185.682628</td>\n",
       "      <td>0.064287</td>\n",
       "    </tr>\n",
       "    <tr>\n",
       "      <th>std</th>\n",
       "      <td>0.066652</td>\n",
       "      <td>2445.964839</td>\n",
       "      <td>1549.475495</td>\n",
       "      <td>3994.015460</td>\n",
       "      <td>0.089858</td>\n",
       "    </tr>\n",
       "    <tr>\n",
       "      <th>min</th>\n",
       "      <td>0.413877</td>\n",
       "      <td>2.000000</td>\n",
       "      <td>1.000000</td>\n",
       "      <td>3.000000</td>\n",
       "      <td>0.000000</td>\n",
       "    </tr>\n",
       "    <tr>\n",
       "      <th>25%</th>\n",
       "      <td>0.847980</td>\n",
       "      <td>3.000000</td>\n",
       "      <td>2.000000</td>\n",
       "      <td>5.000000</td>\n",
       "      <td>0.010000</td>\n",
       "    </tr>\n",
       "    <tr>\n",
       "      <th>50%</th>\n",
       "      <td>0.894681</td>\n",
       "      <td>7.000000</td>\n",
       "      <td>4.000000</td>\n",
       "      <td>11.000000</td>\n",
       "      <td>0.020000</td>\n",
       "    </tr>\n",
       "    <tr>\n",
       "      <th>75%</th>\n",
       "      <td>0.926564</td>\n",
       "      <td>20.000000</td>\n",
       "      <td>13.000000</td>\n",
       "      <td>33.000000</td>\n",
       "      <td>0.090000</td>\n",
       "    </tr>\n",
       "    <tr>\n",
       "      <th>max</th>\n",
       "      <td>0.986384</td>\n",
       "      <td>284506.000000</td>\n",
       "      <td>174605.000000</td>\n",
       "      <td>459111.000000</td>\n",
       "      <td>0.670000</td>\n",
       "    </tr>\n",
       "  </tbody>\n",
       "</table>\n",
       "</div>"
      ],
      "text/plain": [
       "       Cosine_similarity   Frequency_t1  ...  Total_Frequency  Neighbour_score\n",
       "count  23307.000000       23307.000000   ...  23307.000000     15861.000000   \n",
       "mean   0.878495           113.760244     ...  185.682628       0.064287       \n",
       "std    0.066652           2445.964839    ...  3994.015460      0.089858       \n",
       "min    0.413877           2.000000       ...  3.000000         0.000000       \n",
       "25%    0.847980           3.000000       ...  5.000000         0.010000       \n",
       "50%    0.894681           7.000000       ...  11.000000        0.020000       \n",
       "75%    0.926564           20.000000      ...  33.000000        0.090000       \n",
       "max    0.986384           284506.000000  ...  459111.000000    0.670000       \n",
       "\n",
       "[8 rows x 5 columns]"
      ]
     },
     "execution_count": 137,
     "metadata": {},
     "output_type": "execute_result"
    }
   ],
   "source": [
    "semantic_change_2methods_all[~semantic_change_2methods_all['Word'].isin(words_chosen)].describe()"
   ]
  },
  {
   "cell_type": "markdown",
   "metadata": {
    "id": "NrCpoqBCfAsv"
   },
   "source": [
    "Compare the two means:"
   ]
  },
  {
   "cell_type": "code",
   "execution_count": null,
   "metadata": {
    "colab": {
     "base_uri": "https://localhost:8080/"
    },
    "id": "nCoun2yPajJa",
    "outputId": "36df6afa-69c3-40b9-f733-d363b45127c4"
   },
   "outputs": [
    {
     "data": {
      "text/plain": [
       "0.8418374210596085"
      ]
     },
     "execution_count": 200,
     "metadata": {},
     "output_type": "execute_result"
    }
   ],
   "source": [
    "semantic_change_2methods_all[semantic_change_2methods_all['Word'].isin(words_chosen)].mean()[[0,4]]"
   ]
  },
  {
   "cell_type": "markdown",
   "metadata": {
    "id": "WvLL11EzmUiJ"
   },
   "source": [
    "I define a list of words that I expect did not change:"
   ]
  },
  {
   "cell_type": "code",
   "execution_count": null,
   "metadata": {
    "id": "w8akuJ_cmhZ8"
   },
   "outputs": [],
   "source": [
    "not_changed = ['the', 'it', 'for', 'a', 'at', 'in', 'be', 'of', 'on', 'over', 'under']"
   ]
  },
  {
   "cell_type": "markdown",
   "metadata": {
    "id": "xCjs9t3Rmjo7"
   },
   "source": [
    "Then I look at their scores:"
   ]
  },
  {
   "cell_type": "code",
   "execution_count": null,
   "metadata": {
    "colab": {
     "base_uri": "https://localhost:8080/",
     "height": 359
    },
    "id": "JfRqMw43mnSj",
    "outputId": "eb577620-ee20-45c9-91ff-6008dfe9d106"
   },
   "outputs": [
    {
     "data": {
      "text/html": [
       "<div>\n",
       "<style scoped>\n",
       "    .dataframe tbody tr th:only-of-type {\n",
       "        vertical-align: middle;\n",
       "    }\n",
       "\n",
       "    .dataframe tbody tr th {\n",
       "        vertical-align: top;\n",
       "    }\n",
       "\n",
       "    .dataframe thead th {\n",
       "        text-align: right;\n",
       "    }\n",
       "</style>\n",
       "<table border=\"1\" class=\"dataframe\">\n",
       "  <thead>\n",
       "    <tr style=\"text-align: right;\">\n",
       "      <th></th>\n",
       "      <th>Word</th>\n",
       "      <th>Cosine_similarity</th>\n",
       "      <th>Frequency_t1</th>\n",
       "      <th>Frequency_t2</th>\n",
       "      <th>Total_Frequency</th>\n",
       "      <th>Category_automatic</th>\n",
       "      <th>Neighbour_score</th>\n",
       "    </tr>\n",
       "  </thead>\n",
       "  <tbody>\n",
       "    <tr>\n",
       "      <th>3219</th>\n",
       "      <td>under</td>\n",
       "      <td>0.810521</td>\n",
       "      <td>1602</td>\n",
       "      <td>1013</td>\n",
       "      <td>2615</td>\n",
       "      <td>Function word</td>\n",
       "      <td>0.10</td>\n",
       "    </tr>\n",
       "    <tr>\n",
       "      <th>7586</th>\n",
       "      <td>over</td>\n",
       "      <td>0.864803</td>\n",
       "      <td>2174</td>\n",
       "      <td>1361</td>\n",
       "      <td>3535</td>\n",
       "      <td>Function word</td>\n",
       "      <td>0.16</td>\n",
       "    </tr>\n",
       "    <tr>\n",
       "      <th>12799</th>\n",
       "      <td>at</td>\n",
       "      <td>0.901483</td>\n",
       "      <td>14449</td>\n",
       "      <td>8417</td>\n",
       "      <td>22866</td>\n",
       "      <td>Function word</td>\n",
       "      <td>0.07</td>\n",
       "    </tr>\n",
       "    <tr>\n",
       "      <th>13366</th>\n",
       "      <td>in</td>\n",
       "      <td>0.904911</td>\n",
       "      <td>49107</td>\n",
       "      <td>31456</td>\n",
       "      <td>80563</td>\n",
       "      <td>Function word</td>\n",
       "      <td>0.04</td>\n",
       "    </tr>\n",
       "    <tr>\n",
       "      <th>14199</th>\n",
       "      <td>on</td>\n",
       "      <td>0.909373</td>\n",
       "      <td>19810</td>\n",
       "      <td>12670</td>\n",
       "      <td>32480</td>\n",
       "      <td>Function word</td>\n",
       "      <td>0.16</td>\n",
       "    </tr>\n",
       "    <tr>\n",
       "      <th>14254</th>\n",
       "      <td>of</td>\n",
       "      <td>0.909740</td>\n",
       "      <td>87876</td>\n",
       "      <td>59302</td>\n",
       "      <td>147178</td>\n",
       "      <td>Function word</td>\n",
       "      <td>NaN</td>\n",
       "    </tr>\n",
       "    <tr>\n",
       "      <th>16570</th>\n",
       "      <td>the</td>\n",
       "      <td>0.921887</td>\n",
       "      <td>129459</td>\n",
       "      <td>90613</td>\n",
       "      <td>220072</td>\n",
       "      <td>Function word</td>\n",
       "      <td>NaN</td>\n",
       "    </tr>\n",
       "    <tr>\n",
       "      <th>16746</th>\n",
       "      <td>for</td>\n",
       "      <td>0.922878</td>\n",
       "      <td>23843</td>\n",
       "      <td>15529</td>\n",
       "      <td>39372</td>\n",
       "      <td>Function word</td>\n",
       "      <td>0.12</td>\n",
       "    </tr>\n",
       "    <tr>\n",
       "      <th>18361</th>\n",
       "      <td>a</td>\n",
       "      <td>0.930757</td>\n",
       "      <td>46715</td>\n",
       "      <td>29808</td>\n",
       "      <td>76523</td>\n",
       "      <td></td>\n",
       "      <td>0.06</td>\n",
       "    </tr>\n",
       "    <tr>\n",
       "      <th>19488</th>\n",
       "      <td>be</td>\n",
       "      <td>0.936264</td>\n",
       "      <td>102383</td>\n",
       "      <td>62432</td>\n",
       "      <td>164815</td>\n",
       "      <td></td>\n",
       "      <td>NaN</td>\n",
       "    </tr>\n",
       "  </tbody>\n",
       "</table>\n",
       "</div>"
      ],
      "text/plain": [
       "        Word  Cosine_similarity  ...  Category_automatic  Neighbour_score\n",
       "3219   under  0.810521           ...  Function word       0.10           \n",
       "7586   over   0.864803           ...  Function word       0.16           \n",
       "12799  at     0.901483           ...  Function word       0.07           \n",
       "13366  in     0.904911           ...  Function word       0.04           \n",
       "14199  on     0.909373           ...  Function word       0.16           \n",
       "14254  of     0.909740           ...  Function word      NaN             \n",
       "16570  the    0.921887           ...  Function word      NaN             \n",
       "16746  for    0.922878           ...  Function word       0.12           \n",
       "18361  a      0.930757           ...                      0.06           \n",
       "19488  be     0.936264           ...                     NaN             \n",
       "\n",
       "[10 rows x 7 columns]"
      ]
     },
     "execution_count": 140,
     "metadata": {},
     "output_type": "execute_result"
    }
   ],
   "source": [
    "semantic_change_2methods_all[semantic_change_2methods_all['Word'].isin(not_changed)]"
   ]
  },
  {
   "cell_type": "code",
   "execution_count": null,
   "metadata": {
    "colab": {
     "base_uri": "https://localhost:8080/",
     "height": 297
    },
    "id": "kTUZ4d0dnXvd",
    "outputId": "154a3eb3-bb2c-4ddc-e4b9-a8eb71298ac7"
   },
   "outputs": [
    {
     "data": {
      "text/html": [
       "<div>\n",
       "<style scoped>\n",
       "    .dataframe tbody tr th:only-of-type {\n",
       "        vertical-align: middle;\n",
       "    }\n",
       "\n",
       "    .dataframe tbody tr th {\n",
       "        vertical-align: top;\n",
       "    }\n",
       "\n",
       "    .dataframe thead th {\n",
       "        text-align: right;\n",
       "    }\n",
       "</style>\n",
       "<table border=\"1\" class=\"dataframe\">\n",
       "  <thead>\n",
       "    <tr style=\"text-align: right;\">\n",
       "      <th></th>\n",
       "      <th>Cosine_similarity</th>\n",
       "      <th>Frequency_t1</th>\n",
       "      <th>Frequency_t2</th>\n",
       "      <th>Total_Frequency</th>\n",
       "      <th>Neighbour_score</th>\n",
       "    </tr>\n",
       "  </thead>\n",
       "  <tbody>\n",
       "    <tr>\n",
       "      <th>count</th>\n",
       "      <td>10.000000</td>\n",
       "      <td>10.000000</td>\n",
       "      <td>10.000000</td>\n",
       "      <td>10.000000</td>\n",
       "      <td>7.000000</td>\n",
       "    </tr>\n",
       "    <tr>\n",
       "      <th>mean</th>\n",
       "      <td>0.901262</td>\n",
       "      <td>47741.800000</td>\n",
       "      <td>31260.100000</td>\n",
       "      <td>79001.900000</td>\n",
       "      <td>0.101429</td>\n",
       "    </tr>\n",
       "    <tr>\n",
       "      <th>std</th>\n",
       "      <td>0.037568</td>\n",
       "      <td>44649.359554</td>\n",
       "      <td>30196.870693</td>\n",
       "      <td>74786.726945</td>\n",
       "      <td>0.047759</td>\n",
       "    </tr>\n",
       "    <tr>\n",
       "      <th>min</th>\n",
       "      <td>0.810521</td>\n",
       "      <td>1602.000000</td>\n",
       "      <td>1013.000000</td>\n",
       "      <td>2615.000000</td>\n",
       "      <td>0.040000</td>\n",
       "    </tr>\n",
       "    <tr>\n",
       "      <th>25%</th>\n",
       "      <td>0.902340</td>\n",
       "      <td>15789.250000</td>\n",
       "      <td>9480.250000</td>\n",
       "      <td>25269.500000</td>\n",
       "      <td>0.065000</td>\n",
       "    </tr>\n",
       "    <tr>\n",
       "      <th>50%</th>\n",
       "      <td>0.909556</td>\n",
       "      <td>35279.000000</td>\n",
       "      <td>22668.500000</td>\n",
       "      <td>57947.500000</td>\n",
       "      <td>0.100000</td>\n",
       "    </tr>\n",
       "    <tr>\n",
       "      <th>75%</th>\n",
       "      <td>0.922630</td>\n",
       "      <td>78183.750000</td>\n",
       "      <td>52340.500000</td>\n",
       "      <td>130524.250000</td>\n",
       "      <td>0.140000</td>\n",
       "    </tr>\n",
       "    <tr>\n",
       "      <th>max</th>\n",
       "      <td>0.936264</td>\n",
       "      <td>129459.000000</td>\n",
       "      <td>90613.000000</td>\n",
       "      <td>220072.000000</td>\n",
       "      <td>0.160000</td>\n",
       "    </tr>\n",
       "  </tbody>\n",
       "</table>\n",
       "</div>"
      ],
      "text/plain": [
       "       Cosine_similarity   Frequency_t1  ...  Total_Frequency  Neighbour_score\n",
       "count  10.000000          10.000000      ...  10.000000        7.000000       \n",
       "mean   0.901262           47741.800000   ...  79001.900000     0.101429       \n",
       "std    0.037568           44649.359554   ...  74786.726945     0.047759       \n",
       "min    0.810521           1602.000000    ...  2615.000000      0.040000       \n",
       "25%    0.902340           15789.250000   ...  25269.500000     0.065000       \n",
       "50%    0.909556           35279.000000   ...  57947.500000     0.100000       \n",
       "75%    0.922630           78183.750000   ...  130524.250000    0.140000       \n",
       "max    0.936264           129459.000000  ...  220072.000000    0.160000       \n",
       "\n",
       "[8 rows x 5 columns]"
      ]
     },
     "execution_count": 141,
     "metadata": {},
     "output_type": "execute_result"
    }
   ],
   "source": [
    "semantic_change_2methods_all[semantic_change_2methods_all['Word'].isin(not_changed)].describe()"
   ]
  },
  {
   "cell_type": "code",
   "execution_count": null,
   "metadata": {
    "colab": {
     "base_uri": "https://localhost:8080/",
     "height": 297
    },
    "id": "LoB9mxn5naBu",
    "outputId": "dddc2cfa-405d-4533-d009-a2ffb7adedba"
   },
   "outputs": [
    {
     "data": {
      "text/html": [
       "<div>\n",
       "<style scoped>\n",
       "    .dataframe tbody tr th:only-of-type {\n",
       "        vertical-align: middle;\n",
       "    }\n",
       "\n",
       "    .dataframe tbody tr th {\n",
       "        vertical-align: top;\n",
       "    }\n",
       "\n",
       "    .dataframe thead th {\n",
       "        text-align: right;\n",
       "    }\n",
       "</style>\n",
       "<table border=\"1\" class=\"dataframe\">\n",
       "  <thead>\n",
       "    <tr style=\"text-align: right;\">\n",
       "      <th></th>\n",
       "      <th>Cosine_similarity</th>\n",
       "      <th>Frequency_t1</th>\n",
       "      <th>Frequency_t2</th>\n",
       "      <th>Total_Frequency</th>\n",
       "      <th>Neighbour_score</th>\n",
       "    </tr>\n",
       "  </thead>\n",
       "  <tbody>\n",
       "    <tr>\n",
       "      <th>count</th>\n",
       "      <td>16.000000</td>\n",
       "      <td>16.000000</td>\n",
       "      <td>16.000000</td>\n",
       "      <td>16.000000</td>\n",
       "      <td>16.000000</td>\n",
       "    </tr>\n",
       "    <tr>\n",
       "      <th>mean</th>\n",
       "      <td>0.841837</td>\n",
       "      <td>249.937500</td>\n",
       "      <td>160.750000</td>\n",
       "      <td>410.687500</td>\n",
       "      <td>0.156250</td>\n",
       "    </tr>\n",
       "    <tr>\n",
       "      <th>std</th>\n",
       "      <td>0.063446</td>\n",
       "      <td>344.647157</td>\n",
       "      <td>225.478602</td>\n",
       "      <td>570.107793</td>\n",
       "      <td>0.110144</td>\n",
       "    </tr>\n",
       "    <tr>\n",
       "      <th>min</th>\n",
       "      <td>0.638491</td>\n",
       "      <td>17.000000</td>\n",
       "      <td>11.000000</td>\n",
       "      <td>28.000000</td>\n",
       "      <td>0.010000</td>\n",
       "    </tr>\n",
       "    <tr>\n",
       "      <th>25%</th>\n",
       "      <td>0.828587</td>\n",
       "      <td>33.000000</td>\n",
       "      <td>20.750000</td>\n",
       "      <td>53.750000</td>\n",
       "      <td>0.065000</td>\n",
       "    </tr>\n",
       "    <tr>\n",
       "      <th>50%</th>\n",
       "      <td>0.848175</td>\n",
       "      <td>102.500000</td>\n",
       "      <td>65.500000</td>\n",
       "      <td>168.000000</td>\n",
       "      <td>0.145000</td>\n",
       "    </tr>\n",
       "    <tr>\n",
       "      <th>75%</th>\n",
       "      <td>0.877057</td>\n",
       "      <td>275.500000</td>\n",
       "      <td>170.000000</td>\n",
       "      <td>445.500000</td>\n",
       "      <td>0.220000</td>\n",
       "    </tr>\n",
       "    <tr>\n",
       "      <th>max</th>\n",
       "      <td>0.920679</td>\n",
       "      <td>1283.000000</td>\n",
       "      <td>840.000000</td>\n",
       "      <td>2123.000000</td>\n",
       "      <td>0.370000</td>\n",
       "    </tr>\n",
       "  </tbody>\n",
       "</table>\n",
       "</div>"
      ],
      "text/plain": [
       "       Cosine_similarity  Frequency_t1  ...  Total_Frequency  Neighbour_score\n",
       "count  16.000000          16.000000     ...  16.000000        16.000000      \n",
       "mean   0.841837           249.937500    ...  410.687500       0.156250       \n",
       "std    0.063446           344.647157    ...  570.107793       0.110144       \n",
       "min    0.638491           17.000000     ...  28.000000        0.010000       \n",
       "25%    0.828587           33.000000     ...  53.750000        0.065000       \n",
       "50%    0.848175           102.500000    ...  168.000000       0.145000       \n",
       "75%    0.877057           275.500000    ...  445.500000       0.220000       \n",
       "max    0.920679           1283.000000   ...  2123.000000      0.370000       \n",
       "\n",
       "[8 rows x 5 columns]"
      ]
     },
     "execution_count": 142,
     "metadata": {},
     "output_type": "execute_result"
    }
   ],
   "source": [
    "semantic_change_2methods_all[semantic_change_2methods_all['Word'].isin(words_chosen)].describe()"
   ]
  },
  {
   "cell_type": "markdown",
   "metadata": {
    "id": "Vo_ETdUtn5Ee"
   },
   "source": [
    "Let's look at species:"
   ]
  },
  {
   "cell_type": "code",
   "execution_count": null,
   "metadata": {
    "colab": {
     "base_uri": "https://localhost:8080/",
     "height": 80
    },
    "id": "S2idTOrWn8Gu",
    "outputId": "c05462b7-914f-4662-f8d4-c6d6c836231c"
   },
   "outputs": [
    {
     "data": {
      "text/html": [
       "<div>\n",
       "<style scoped>\n",
       "    .dataframe tbody tr th:only-of-type {\n",
       "        vertical-align: middle;\n",
       "    }\n",
       "\n",
       "    .dataframe tbody tr th {\n",
       "        vertical-align: top;\n",
       "    }\n",
       "\n",
       "    .dataframe thead th {\n",
       "        text-align: right;\n",
       "    }\n",
       "</style>\n",
       "<table border=\"1\" class=\"dataframe\">\n",
       "  <thead>\n",
       "    <tr style=\"text-align: right;\">\n",
       "      <th></th>\n",
       "      <th>Word</th>\n",
       "      <th>Cosine_similarity</th>\n",
       "      <th>Frequency_t1</th>\n",
       "      <th>Frequency_t2</th>\n",
       "      <th>Total_Frequency</th>\n",
       "      <th>Category_automatic</th>\n",
       "      <th>Neighbour_score</th>\n",
       "    </tr>\n",
       "  </thead>\n",
       "  <tbody>\n",
       "    <tr>\n",
       "      <th>3753</th>\n",
       "      <td>species</td>\n",
       "      <td>0.820366</td>\n",
       "      <td>311</td>\n",
       "      <td>190</td>\n",
       "      <td>501</td>\n",
       "      <td></td>\n",
       "      <td>0.13</td>\n",
       "    </tr>\n",
       "  </tbody>\n",
       "</table>\n",
       "</div>"
      ],
      "text/plain": [
       "         Word  Cosine_similarity  ...  Category_automatic  Neighbour_score\n",
       "3753  species  0.820366           ...                      0.13           \n",
       "\n",
       "[1 rows x 7 columns]"
      ]
     },
     "execution_count": 143,
     "metadata": {},
     "output_type": "execute_result"
    }
   ],
   "source": [
    "semantic_change_2methods_all[semantic_change_2methods_all['Word']=='species']"
   ]
  },
  {
   "cell_type": "code",
   "execution_count": null,
   "metadata": {
    "colab": {
     "base_uri": "https://localhost:8080/",
     "height": 80
    },
    "id": "OafnIIwDoI5v",
    "outputId": "ada11751-919a-4190-a0d8-298572c99207"
   },
   "outputs": [
    {
     "data": {
      "text/html": [
       "<div>\n",
       "<style scoped>\n",
       "    .dataframe tbody tr th:only-of-type {\n",
       "        vertical-align: middle;\n",
       "    }\n",
       "\n",
       "    .dataframe tbody tr th {\n",
       "        vertical-align: top;\n",
       "    }\n",
       "\n",
       "    .dataframe thead th {\n",
       "        text-align: right;\n",
       "    }\n",
       "</style>\n",
       "<table border=\"1\" class=\"dataframe\">\n",
       "  <thead>\n",
       "    <tr style=\"text-align: right;\">\n",
       "      <th></th>\n",
       "      <th>Word</th>\n",
       "      <th>Cosine_similarity</th>\n",
       "      <th>Frequency_t1</th>\n",
       "      <th>Frequency_t2</th>\n",
       "      <th>Total_Frequency</th>\n",
       "      <th>Category_automatic</th>\n",
       "      <th>Neighbour_score</th>\n",
       "    </tr>\n",
       "  </thead>\n",
       "  <tbody>\n",
       "    <tr>\n",
       "      <th>3059</th>\n",
       "      <td>descent</td>\n",
       "      <td>0.807972</td>\n",
       "      <td>176</td>\n",
       "      <td>110</td>\n",
       "      <td>286</td>\n",
       "      <td></td>\n",
       "      <td>0.08</td>\n",
       "    </tr>\n",
       "  </tbody>\n",
       "</table>\n",
       "</div>"
      ],
      "text/plain": [
       "         Word  Cosine_similarity  ...  Category_automatic  Neighbour_score\n",
       "3059  descent  0.807972           ...                      0.08           \n",
       "\n",
       "[1 rows x 7 columns]"
      ]
     },
     "execution_count": 144,
     "metadata": {},
     "output_type": "execute_result"
    }
   ],
   "source": [
    "semantic_change_2methods_all[semantic_change_2methods_all['Word']=='descent']"
   ]
  },
  {
   "cell_type": "markdown",
   "metadata": {
    "id": "rXE6sNn5fppq"
   },
   "source": [
    "I compare the means:"
   ]
  },
  {
   "cell_type": "code",
   "execution_count": null,
   "metadata": {
    "colab": {
     "base_uri": "https://localhost:8080/"
    },
    "id": "zjE2usQSfq06",
    "outputId": "38b5fbf8-e9c8-4944-9f2c-8559cc23f2f2"
   },
   "outputs": [
    {
     "data": {
      "text/plain": [
       "Cosine_similarity    0.901262\n",
       "Neighbour_score      0.101429\n",
       "dtype: float64"
      ]
     },
     "execution_count": 145,
     "metadata": {},
     "output_type": "execute_result"
    }
   ],
   "source": [
    "semantic_change_2methods_all[semantic_change_2methods_all['Word'].isin(not_changed)].mean()[[0,4]]"
   ]
  },
  {
   "cell_type": "markdown",
   "metadata": {
    "id": "VNeosLSdf0sn"
   },
   "source": [
    "### Systematic comparison of cosine similarity and neighbour similarity by different values of parameters"
   ]
  },
  {
   "cell_type": "markdown",
   "metadata": {
    "id": "MWhQSZofnM9F"
   },
   "source": [
    "This is the list of non-scientific words currently analysed in the article:"
   ]
  },
  {
   "cell_type": "code",
   "execution_count": null,
   "metadata": {
    "id": "Ib-fraEdnQx4"
   },
   "outputs": [],
   "source": [
    "nonsci_analysed = ['lunch', 'presentation', 'herewith', 'heartfelt', 'presentation', 'inconvenient']"
   ]
  },
  {
   "cell_type": "markdown",
   "metadata": {
    "id": "SqIbprHinXkL"
   },
   "source": [
    "This is the list of scientific words currently analysed in the article:"
   ]
  },
  {
   "cell_type": "code",
   "execution_count": null,
   "metadata": {
    "id": "OtwKi0bznaBx"
   },
   "outputs": [],
   "source": [
    "sci_analysed = ['molecule', 'fundamental', 'spiritual', 'latent', 'wriggle', 'sediment']"
   ]
  },
  {
   "cell_type": "markdown",
   "metadata": {
    "id": "7jdvk25Ii4J1"
   },
   "source": [
    "I define a function that, given a minimum frequency, a maximum frequency and the number of top neighbours, does the following: filter the vocabularies, apply this to model1 and model2 for filtered words, calculates the neghbour similarity score, define a dataframe with this score, save to a file, combine the dataframe with the cosine similarity score, I plot the terms by two semantic change scores, calculate Spearman correlation between the two scores, compares the means of the two scores for the chosen words (gold standard), the words that did not change, the words that were not in the gold standard, the non-scientific words currently analysed in the article and the scientific words currently analysed in the article."
   ]
  },
  {
   "cell_type": "code",
   "execution_count": null,
   "metadata": {
    "id": "uq771BgogctR"
   },
   "outputs": [],
   "source": [
    "def compare_two_methods(min_freq, max_freq, top_n):\n",
    "  vocab1_filtered = filter_words(model1,min_freq, max_freq)\n",
    "  vocab2_filtered = filter_words(model2,min_freq, max_freq)\n",
    "  #print(\"Vocabulary 1 filtered: \"+str(len(vocab1_filtered)))\n",
    "  #print(\"Vocabulary 2 filtered: \"+str(len(vocab2_filtered)))\n",
    "  vocab_filtered = list(set(vocab1_filtered) & set(vocab2_filtered))\n",
    "  #print(\"1\")\n",
    "  word2neighbours1 = extract_neighbours(model1, vocab1_filtered, top_n)\n",
    "  #print(\"2\")\n",
    "  word2neighbours2 = extract_neighbours(model2, vocab2_filtered, top_n)\n",
    "  #print(\"3\")\n",
    "  w2sc = dict()\n",
    "  for w in vocab_filtered:\n",
    "    sc = len(list(set(word2neighbours1[w]) & set(word2neighbours2[w])))/100\n",
    "    w2sc[w] = sc\n",
    "  #print(\"4\")\n",
    "  w2sc_sorted = sorted(w2sc.items(), key=lambda kv: kv[1], reverse=False)\n",
    "  neighbours_df = pd.DataFrame(([w, w2sc[w], model1.wv.get_vecattr(w, \"count\") , model2.wv.get_vecattr(w, \"count\") ] for w in vocab_filtered), columns = ('Word', 'Neighbour_score', \"Frequency_t1\", \"Frequency_t2\"))\n",
    "  #print(\"5\")\n",
    "  #print(\"6\")\n",
    "  neighbours_df_sorted = neighbours_df.sort_values(by='Neighbour_score', ascending=True)\n",
    "  #print(\"7\")\n",
    "  neighbours_df_sorted[\"Total_Frequency\"] = neighbours_df_sorted[\"Frequency_t1\"]+neighbours_df_sorted[\"Frequency_t2\"]\n",
    "  #print(\"8\")\n",
    "  conditions = [\n",
    "    (neighbours_df_sorted['Word'].isin(function_words)), # function words\n",
    "    ((neighbours_df_sorted.Word.str.isdigit()) | (neighbours_df_sorted['Word'].str.match('^\\d*?1st$')) | (neighbours_df_sorted['Word'].str.match('^\\d*?2nd$')) | (neighbours_df_sorted['Word'].str.match('^\\d*?3rd$')) | (neighbours_df_sorted['Word'].str.match('^\\d*[^123]th$'))), # numbers\n",
    "    (neighbours_df_sorted['Word'].apply(lambda x: x[0].isupper() and x[1:len(x)].islower())), # proper nouns\n",
    "    (np.invert(neighbours_df_sorted['Word'].str.lower().isin(english_vocab))) # foreign words\n",
    "    ]\n",
    "  # create a list of the values we want to assign for each condition\n",
    "  values = ['Function word','Numeral', 'Proper noun', 'Foreign word']\n",
    "  neighbours_df_sorted['Category_automatic'] = np.select(conditions, values, default = \"\")\n",
    "  #print(\"9\")\n",
    "  neighbours_df_sorted.to_csv(os.path.join(output_folder, 'all_words_neighbourscore'+str(min_freq)+'-'+str(max_freq)+'-'+str(top_n)+'.csv'), encoding='utf-8')\n",
    "  #print(\"10\")\n",
    "  semantic_change_2methods = cosine_similarity_df_sorted.merge(neighbours_df_sorted, how = 'inner')\n",
    "  #print(\"11\")\n",
    "  semantic_change_2methods_all = cosine_similarity_df_sorted.merge(neighbours_df_sorted, how = 'outer')\n",
    "  #print(\"12\")\n",
    "  semantic_change_2methods_all.to_csv(os.path.join(output_folder, 'all_words_2scores'+str(min_freq)+'-'+str(max_freq)+'-'+str(top_n)+'.csv'), encoding='utf-8')\n",
    "  #print(\"13\")\n",
    "  ax = semantic_change_2methods.set_index('Cosine_similarity')['Neighbour_score'].plot(style='o')\n",
    "  #print(\"14\")\n",
    "  corr = (semantic_change_2methods_all.corr(method=\"spearman\")).Neighbour_score[0]\n",
    "  #print(\"Correlation:\",corr)\n",
    "  #print(\"Means of chosen words:\")\n",
    "  mean_cos_chosen = semantic_change_2methods_all[semantic_change_2methods_all['Word'].isin(words_chosen)].mean()[[0]][0]\n",
    "  mean_nei_chosen = semantic_change_2methods_all[semantic_change_2methods_all['Word'].isin(words_chosen)].mean()[[4]][0]\n",
    "  median_cos_chosen = semantic_change_2methods_all[semantic_change_2methods_all['Word'].isin(words_chosen)].median()[[0]][0]\n",
    "  median_nei_chosen = semantic_change_2methods_all[semantic_change_2methods_all['Word'].isin(words_chosen)].median()[[4]][0]\n",
    "  #print(semantic_change_2methods_all[semantic_change_2methods_all['Word'].isin(words_chosen)].mean()[[0,4]])\n",
    "  #print(\"Means of all other words:\")\n",
    "  mean_cos_other = semantic_change_2methods_all[~semantic_change_2methods_all['Word'].isin(words_chosen)].mean()[[0]][0]\n",
    "  mean_nei_other = semantic_change_2methods_all[~semantic_change_2methods_all['Word'].isin(words_chosen)].mean()[[4]][0]\n",
    "  median_cos_other = semantic_change_2methods_all[~semantic_change_2methods_all['Word'].isin(words_chosen)].median()[[0]][0]\n",
    "  median_nei_other = semantic_change_2methods_all[~semantic_change_2methods_all['Word'].isin(words_chosen)].median()[[4]][0]\n",
    "  #print(semantic_change_2methods_all[~semantic_change_2methods_all['Word'].isin(words_chosen)].mean()[[0,4]])\n",
    "  #print(\"Means of not changed words:\")\n",
    "  mean_cos_unchanged = semantic_change_2methods_all[~semantic_change_2methods_all['Word'].isin(not_changed)].mean()[[0]][0]\n",
    "  mean_nei_unchanged = semantic_change_2methods_all[~semantic_change_2methods_all['Word'].isin(not_changed)].mean()[[4]][0]\n",
    "  median_cos_unchanged = semantic_change_2methods_all[~semantic_change_2methods_all['Word'].isin(not_changed)].median()[[0]][0]\n",
    "  median_nei_unchanged = semantic_change_2methods_all[~semantic_change_2methods_all['Word'].isin(not_changed)].median()[[4]][0]\n",
    "  #print(semantic_change_2methods_all[semantic_change_2methods_all['Word'].isin(not_changed)].mean()[[0,4]])\n",
    "  #print(\"Means of non-scientific words currently analysed in the article:\")\n",
    "  mean_cos_nonscian = semantic_change_2methods_all[~semantic_change_2methods_all['Word'].isin(nonsci_analysed)].mean()[[0]][0]\n",
    "  mean_nei_nonscian = semantic_change_2methods_all[~semantic_change_2methods_all['Word'].isin(nonsci_analysed)].mean()[[4]][0]\n",
    "  median_cos_nonscian = semantic_change_2methods_all[~semantic_change_2methods_all['Word'].isin(nonsci_analysed)].median()[[0]][0]\n",
    "  median_nei_nonscian = semantic_change_2methods_all[~semantic_change_2methods_all['Word'].isin(nonsci_analysed)].median()[[4]][0]\n",
    "  #print(semantic_change_2methods_all[semantic_change_2methods_all['Word'].isin(nonsci_analysed)].mean()[[0,4]])\n",
    "  #print(\"Means of scientific words currently analysed in the article:\")\n",
    "  mean_cos_scian = semantic_change_2methods_all[~semantic_change_2methods_all['Word'].isin(sci_analysed)].mean()[[0]][0]\n",
    "  mean_nei_scian = semantic_change_2methods_all[~semantic_change_2methods_all['Word'].isin(sci_analysed)].mean()[[4]][0]\n",
    "  median_cos_scian = semantic_change_2methods_all[~semantic_change_2methods_all['Word'].isin(sci_analysed)].median()[[0]][0]\n",
    "  median_nei_scian = semantic_change_2methods_all[~semantic_change_2methods_all['Word'].isin(sci_analysed)].median()[[4]][0]\n",
    "  #print(semantic_change_2methods_all[semantic_change_2methods_all['Word'].isin(sci_analysed)].mean()[[0,4]])\n",
    "  return [vocab1_filtered, vocab2_filtered, vocab_filtered, corr, \n",
    "          mean_cos_chosen, mean_nei_chosen, mean_cos_other, mean_nei_other, mean_cos_unchanged, mean_nei_unchanged, mean_cos_nonscian, mean_nei_nonscian, mean_cos_scian, mean_nei_scian, \n",
    "          median_cos_chosen, median_nei_chosen, median_cos_other, median_nei_other, median_cos_unchanged, median_nei_unchanged, median_cos_nonscian, median_nei_nonscian, median_cos_scian,median_nei_scian]"
   ]
  },
  {
   "cell_type": "markdown",
   "metadata": {
    "id": "wGgmduVklhg2"
   },
   "source": [
    "I try different parameters:"
   ]
  },
  {
   "cell_type": "code",
   "execution_count": null,
   "metadata": {
    "colab": {
     "background_save": true,
     "base_uri": "https://localhost:8080/"
    },
    "id": "SNA_uH89ljRv",
    "outputId": "37608f86-bd93-4a6d-d749-907962a1926d"
   },
   "outputs": [
    {
     "name": "stdout",
     "output_type": "stream",
     "text": [
      "0 10000 10\n",
      "0 10000 50\n",
      "0 10000 100\n",
      "0 10000 1000\n",
      "0 100000 10\n",
      "0 100000 50\n",
      "0 100000 100\n",
      "0 100000 1000\n",
      "0 200000 10\n",
      "0 200000 50\n",
      "0 200000 100\n",
      "0 200000 1000\n",
      "1 10000 10\n",
      "1 10000 50\n",
      "1 10000 100\n",
      "1 10000 1000\n",
      "1 100000 10\n",
      "1 100000 50\n",
      "1 100000 100\n",
      "1 100000 1000\n",
      "1 200000 10\n",
      "1 200000 50\n",
      "1 200000 100\n",
      "1 200000 1000\n",
      "5 10000 10\n",
      "5 10000 50\n",
      "5 10000 100\n",
      "5 10000 1000\n",
      "5 100000 10\n",
      "5 100000 50\n",
      "5 100000 100\n",
      "5 100000 1000\n",
      "5 200000 10\n",
      "5 200000 50\n",
      "5 200000 100\n",
      "5 200000 1000\n",
      "10 10000 10\n",
      "10 10000 50\n",
      "10 10000 100\n",
      "10 10000 1000\n",
      "10 100000 10\n",
      "10 100000 50\n",
      "10 100000 100\n",
      "10 100000 1000\n",
      "10 200000 10\n",
      "10 200000 50\n",
      "10 200000 100\n",
      "10 200000 1000\n",
      "50 10000 10\n",
      "50 10000 50\n",
      "50 10000 100\n",
      "50 10000 1000\n",
      "50 100000 10\n",
      "50 100000 50\n",
      "50 100000 100\n",
      "50 100000 1000\n",
      "50 200000 10\n",
      "50 200000 50\n",
      "50 200000 100\n",
      "50 200000 1000\n"
     ]
    },
    {
     "data": {
      "image/png": "[encoded data removed]",
      "text/plain": [
       "<Figure size 432x288 with 1 Axes>"
      ]
     },
     "metadata": {},
     "output_type": "display_data"
    }
   ],
   "source": [
    "summary = open(os.path.join(output_folder, 'summary_results.csv'), 'w+')\n",
    "writer = csv.writer(summary, delimiter=',', quotechar='|', quoting=csv.QUOTE_MINIMAL)\n",
    "writer.writerow(['min_freq','max_freq', 'top_n', 'vocab1_filtered', 'vocab2_filtered', \n",
    "                 'Spearman correlation cosine_sim-neighbour_sim', \n",
    "                 'mean_neighbourscore_chosen_words','mean_cosinescore_chosen_words',\n",
    "                 'mean_neighbourscore_other_words','mean_cosinescore_other_words',\n",
    "                 'mean_neighbourscore_unchanged_words','mean_cosinescore_unchanged_words',\n",
    "                 'mean_neighbourscore_non_sci_words_analysed','mean_cosinescore_non_sci_words_analysed',\n",
    "                 'mean_neighbourscore_sci_words_analysed','mean_cosinescore_sci_words_analysed',\n",
    "                 'median_neighbourscore_chosen_words','median_cosinescore_chosen_words',\n",
    "                 'median_neighbourscore_other_words','median_cosinescore_other_words',\n",
    "                 'median_neighbourscore_unchanged_words','median_cosinescore_unchanged_words',\n",
    "                 'median_neighbourscore_non_sci_words_analysed','median_cosinescore_non_sci_words_analysed',\n",
    "                 'median_neighbourscore_sci_words_analysed','median_cosinescore_sci_words_analysed'])\n",
    "min_freq_values = [0,1,5,10,50]\n",
    "max_freq_values = [10000,100000,200000]\n",
    "top_n_values = [10,50,100,1000]\n",
    "for min_freq in min_freq_values:\n",
    "  for max_freq in max_freq_values:\n",
    "    for top_n in top_n_values:\n",
    "      print(min_freq, max_freq, top_n)\n",
    "      [vocab1_filtered, vocab2_filtered, vocab_filtered, corr, \n",
    "       mean_cos_chosen, mean_nei_chosen, mean_cos_other, mean_nei_other, mean_cos_unchanged, mean_nei_unchanged, mean_cos_nonscian, mean_nei_nonscian, mean_cos_scian, mean_nei_scian, \n",
    "       median_cos_chosen, median_nei_chosen, median_cos_other, median_nei_other, median_cos_unchanged, median_nei_unchanged, median_cos_nonscian, median_nei_nonscian, median_cos_scian, median_nei_scian] = compare_two_methods(min_freq, max_freq, top_n)\n",
    "      writer.writerow([min_freq, max_freq, top_n, len(vocab1_filtered), len(vocab2_filtered), corr,\n",
    "                 mean_cos_chosen,mean_nei_chosen,mean_cos_other,mean_nei_other,mean_cos_unchanged,mean_nei_unchanged, mean_cos_nonscian, mean_nei_nonscian,mean_cos_scian,mean_nei_scian,\n",
    "                 median_cos_chosen,median_nei_chosen,median_cos_other,median_nei_other,median_cos_unchanged,median_nei_unchanged, median_cos_nonscian, median_nei_nonscian,median_cos_scian,median_nei_scian])\n",
    "summary.close()"
   ]
  },
  {
   "cell_type": "code",
   "execution_count": null,
   "metadata": {
    "id": "1FZ-HjxvQEqI"
   },
   "outputs": [],
   "source": [
    "\n",
    "\n"
   ]
  }
 ],
 "metadata": {
  "colab": {
   "collapsed_sections": [],
   "include_colab_link": true,
   "name": "Semantic_change_Darwin_BMcG.ipynb",
   "provenance": []
  },
  "kernelspec": {
   "display_name": "Python 3",
   "language": "python",
   "name": "python3"
  },
  "language_info": {
   "codemirror_mode": {
    "name": "ipython",
    "version": 3
   },
   "file_extension": ".py",
   "mimetype": "text/x-python",
   "name": "python",
   "nbconvert_exporter": "python",
   "pygments_lexer": "ipython3",
   "version": "3.8.8"
  }
 },
 "nbformat": 4,
 "nbformat_minor": 1
}
